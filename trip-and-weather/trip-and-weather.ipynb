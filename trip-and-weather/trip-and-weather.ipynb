{
 "cells": [
  {
   "cell_type": "markdown",
   "metadata": {},
   "source": [
    "# Perjalanan dan Kondisi Cuaca"
   ]
  },
  {
   "cell_type": "markdown",
   "metadata": {},
   "source": [
    "Zuber adalah sebuah perusahaan berbagi tumpangan (ride-sharing) baru yang diluncurkan di Chicago.\n",
    "\n",
    "Kita ingin memahami preferensi penumpang dan dampak faktor eksternal terhadap perjalanan, sehingga kita perlu menemukan pola pada informasi yang tersedia.\n",
    "\n",
    "Kita akan mempelajari basis data, menganalisis data dari kompetitor, dan menguji hipotesis tentang pengaruh cuaca terhadap frekuensi perjalanan."
   ]
  },
  {
   "cell_type": "markdown",
   "metadata": {},
   "source": [
    "**KONTEN**\n",
    "\n",
    "* [Pendahuluan]\n",
    "* [Tahap 1. Eksplorasi Data]\n",
    "    * [1.1 Inisialisasi]\n",
    "    * [1.2 Memuat Data]\n",
    "    * [1.3 Mempersiapkan Data]\n",
    "    * [1.4 Kesimpulan dan Langkah-Langkah Selanjutnya]\n",
    "* [Tahap 2. Pra-pemrosesan Data]   \n",
    "    * [2.1 Mengatasi Duplikat]\n",
    "    * [2.2 Memperbaiki Tipe Data]\n",
    "    * [2.3 Kesimpulan dan Langkah-Langkah Selanjutnya]\n",
    "* [Tahap 3. Analisa Data]\n",
    "    * [3.1 10 Wilayah Teratas yang Dijadikan Sebagai Titik Pengantaran]\n",
    "    * [3.2 10 Perusahaan Teratas Berdasarkan Jumlah Pengantaran]\n",
    "    * [3.3 Kesimpulan dan Langkah Selanjutnya] \n",
    "* [Tahap 4. Menguji Hipotesis]\n",
    "    * [4.1 Durasi rata-rata perjalanan dari Loop ke Bandara Internasional O'Hare berubah pada hari-hari Sabtu yang hujan]\n",
    "* [Kesimpulan Umum]"
   ]
  },
  {
   "cell_type": "markdown",
   "metadata": {},
   "source": [
    "## Pendahuluan \n",
    "\n",
    "Dalam proyek kali ini, kita akan mempelajari basis data, menganalisis data dari kompetitor, dan menguji hipotesis tentang pengaruh cuaca terhadap frekuensi perjalanan, pada sebuah perusahaan berbagi tumpangan (ride-sharing) baru yang diluncurkan di Chicago, yaitu Zuber.\n",
    "\n",
    "### Tujuan:\n",
    "\n",
    "Mempelajari preferensi penumpang dan dampak faktor eksternal terhadap sebuah perjalanan.\n",
    "\n",
    "Menguji hipotesis:\n",
    "\n",
    "Durasi rata-rata perjalanan dari Loop ke Bandara Internasional O'Hare berubah pada hari-hari Sabtu yang hujan.\n",
    "\n",
    "### Tahapan\n",
    "Tahap pertama, kita memerlukan informasi mengenai informasi perjalanan dan juga data mengenai cuaca.\n",
    "Basis data yang memuat informasi perjalanan taksi di Chicago terbagi dalam beberapa tabel:\n",
    "\n",
    "    * Tabel `neighborhoods`: data terkait wilayah di kota Chicago\n",
    "    * Tabel `cabs`: data terkait taksi\n",
    "    * Tabel `trips`: data terkait perjalanan\n",
    "    * Tabel `weather_records`: data terkait cuaca\n",
    "\n",
    "Karena kita tidak memiliki informasi mengenai data cuaca, maka kita perlu melakukan *scraping* data. Informasi data cuaca di Chicago pada bulan November 2017 berasal dari situs web: https://practicum-content.s3.us-west-1.amazonaws.com/data-analyst-eng/moved_chicago_weather_2017.html.\n",
    "\n",
    "Tahap selanjutnya, kita perlu mempelajari data yang berasal dari situs web, mengimpor file, dan mempelajari isi datanya. Kita perlu memeriksa data tersebut terlebih dahulu sebelum menguji hipotesis. Kita akan mengevaluasi kualitas data dan melihat apakah masalahnya signifikan. Kemudian, selama pra-pemrosesan data, kita akan mencoba mengatasi masalah yang muncul pada data tersebut, seperti nilai yang hilang, duplikasi, dan sebagainya. Terakhir, kita akan menguji hipotesis dan menarik kesimpulan berdasarkan data yang sudah diproses.\n",
    " \n",
    "Proyek ini akan terdiri dari empat tahap:\n",
    " 1. Ikhtisar Data\n",
    " 2. Pra-pemrosesan Data\n",
    " 3. Analisa Data\n",
    " 4. Pengujian hipotesis"
   ]
  },
  {
   "cell_type": "markdown",
   "metadata": {},
   "source": [
    "## Eksplorasi Data"
   ]
  },
  {
   "cell_type": "markdown",
   "metadata": {},
   "source": [
    "### Inisialisasi "
   ]
  },
  {
   "cell_type": "code",
   "execution_count": 1,
   "metadata": {},
   "outputs": [],
   "source": [
    "from scipy import stats as st\n",
    "import pandas as pd\n",
    "import seaborn as sns\n",
    "import matplotlib.pyplot as plt\n",
    "import math\n",
    "import numpy as np"
   ]
  },
  {
   "cell_type": "markdown",
   "metadata": {},
   "source": [
    "### Memuat Data "
   ]
  },
  {
   "cell_type": "markdown",
   "metadata": {},
   "source": [
    "Kita sudah melakukan pengumpulan sebagian data di tahap pertama, dimana terdapat informasi perjalanan taksi dan juga data mengenai cuaca di kota Chicago pada bulan November 2017. Sehingga saat ini, kita memiliki dua dataset."
   ]
  },
  {
   "cell_type": "code",
   "execution_count": 2,
   "metadata": {},
   "outputs": [],
   "source": [
    "company_df = pd.read_csv('/datasets/project_sql_result_01.csv')"
   ]
  },
  {
   "cell_type": "code",
   "execution_count": 3,
   "metadata": {},
   "outputs": [],
   "source": [
    "trip_df = pd.read_csv('/datasets/project_sql_result_04.csv')"
   ]
  },
  {
   "cell_type": "markdown",
   "metadata": {},
   "source": [
    "### Mempersiapkan Data"
   ]
  },
  {
   "cell_type": "markdown",
   "metadata": {},
   "source": [
    "Basis data yang memuat informasi perjalanan taksi di Chicago:\n",
    "\n",
    "**Tabel neighborhoods: data terkait wilayah di kota Chicago**\n",
    "\n",
    "name: nama wilayah\n",
    "\n",
    "neighborhood_id: kode wilayah\n",
    "\n",
    "\n",
    "**Tabel cabs: data terkait taksi**\n",
    "\n",
    "cab_id: kode kendaraan\n",
    "\n",
    "vehicle_id: ID teknis kendaraan\n",
    "\n",
    "company_name: nama perusahaan yang memiliki kendaraan\n",
    "\n",
    "\n",
    "**Tabel trips: data terkait perjalanan**\n",
    "\n",
    "trip_id: kode perjalanan\n",
    "\n",
    "cab_id: kode kendaraan yang beroperasi\n",
    "\n",
    "start_ts: tanggal dan waktu perjalanan dimulai (waktu dibulatkan dalam satuan jam)\n",
    "\n",
    "end_ts: tanggal dan waktu perjalanan berakhir (waktu dibulatkan dalam satuan jam)\n",
    "\n",
    "duration_seconds: durasi perjalanan dalam satuan detik\n",
    "\n",
    "distance_miles: jarak perjalanan dalam satuan mil\n",
    "\n",
    "pickup_location_id: kode wilayah penjemputan\n",
    "\n",
    "dropoff_location_id: kode wilayah pengantaran\n",
    "\n",
    "\n",
    "\n",
    "**Tabel weather_records: data terkait cuaca**\n",
    "\n",
    "record_id: kode pencatatan cuaca\n",
    "\n",
    "ts: tanggal dan waktu saat pencatatan cuaca dilakukan (waktu dibulatkan dalam satuan jam)\n",
    "\n",
    "temperature: suhu saat pencatatan cuaca dilakukan\n",
    "\n",
    "description: deskripsi singkat tentang kondisi cuaca, seperti \"light rain\" (hujan ringan) atau \"scattered clouds\" (berawan)."
   ]
  },
  {
   "cell_type": "markdown",
   "metadata": {},
   "source": [
    "Deskripsi data untuk kedua dataset yang kita miliki adalah:\n",
    "\n",
    "**Dataset pertama: `project_sql_result_01.csv.`**\n",
    "\n",
    "File ini memuat data berikut:\n",
    "\n",
    "company_name: nama perusahaan taksi\n",
    "\n",
    "trips_amount: jumlah perjalanan untuk setiap perusahaan taksi pada tanggal 15-16 November 2017.\n",
    "\n",
    "**Dataset kedua: `project_sql_result_04.csv.`**\n",
    "\n",
    "File ini memuat data berikut:\n",
    "\n",
    "dropoff_location_name: nama wilayah di Chicago tempat perjalanan berakhir\n",
    "\n",
    "average_trips: jumlah rata-rata perjalanan yang berakhir di setiap wilayah pada bulan November 2017."
   ]
  },
  {
   "cell_type": "code",
   "execution_count": 4,
   "metadata": {},
   "outputs": [
    {
     "data": {
      "text/html": [
       "<div>\n",
       "<style scoped>\n",
       "    .dataframe tbody tr th:only-of-type {\n",
       "        vertical-align: middle;\n",
       "    }\n",
       "\n",
       "    .dataframe tbody tr th {\n",
       "        vertical-align: top;\n",
       "    }\n",
       "\n",
       "    .dataframe thead th {\n",
       "        text-align: right;\n",
       "    }\n",
       "</style>\n",
       "<table border=\"1\" class=\"dataframe\">\n",
       "  <thead>\n",
       "    <tr style=\"text-align: right;\">\n",
       "      <th></th>\n",
       "      <th>company_name</th>\n",
       "      <th>trips_amount</th>\n",
       "    </tr>\n",
       "  </thead>\n",
       "  <tbody>\n",
       "    <tr>\n",
       "      <th>0</th>\n",
       "      <td>Flash Cab</td>\n",
       "      <td>19558</td>\n",
       "    </tr>\n",
       "    <tr>\n",
       "      <th>1</th>\n",
       "      <td>Taxi Affiliation Services</td>\n",
       "      <td>11422</td>\n",
       "    </tr>\n",
       "    <tr>\n",
       "      <th>2</th>\n",
       "      <td>Medallion Leasing</td>\n",
       "      <td>10367</td>\n",
       "    </tr>\n",
       "    <tr>\n",
       "      <th>3</th>\n",
       "      <td>Yellow Cab</td>\n",
       "      <td>9888</td>\n",
       "    </tr>\n",
       "    <tr>\n",
       "      <th>4</th>\n",
       "      <td>Taxi Affiliation Service Yellow</td>\n",
       "      <td>9299</td>\n",
       "    </tr>\n",
       "  </tbody>\n",
       "</table>\n",
       "</div>"
      ],
      "text/plain": [
       "                      company_name  trips_amount\n",
       "0                        Flash Cab         19558\n",
       "1        Taxi Affiliation Services         11422\n",
       "2                Medallion Leasing         10367\n",
       "3                       Yellow Cab          9888\n",
       "4  Taxi Affiliation Service Yellow          9299"
      ]
     },
     "execution_count": 4,
     "metadata": {},
     "output_type": "execute_result"
    }
   ],
   "source": [
    "company_df.head()"
   ]
  },
  {
   "cell_type": "code",
   "execution_count": 5,
   "metadata": {},
   "outputs": [
    {
     "name": "stdout",
     "output_type": "stream",
     "text": [
      "<class 'pandas.core.frame.DataFrame'>\n",
      "RangeIndex: 64 entries, 0 to 63\n",
      "Data columns (total 2 columns):\n",
      " #   Column        Non-Null Count  Dtype \n",
      "---  ------        --------------  ----- \n",
      " 0   company_name  64 non-null     object\n",
      " 1   trips_amount  64 non-null     int64 \n",
      "dtypes: int64(1), object(1)\n",
      "memory usage: 1.1+ KB\n"
     ]
    }
   ],
   "source": [
    "company_df.info()"
   ]
  },
  {
   "cell_type": "code",
   "execution_count": 6,
   "metadata": {},
   "outputs": [
    {
     "data": {
      "text/plain": [
       "(64, 2)"
      ]
     },
     "execution_count": 6,
     "metadata": {},
     "output_type": "execute_result"
    }
   ],
   "source": [
    "company_df.shape"
   ]
  },
  {
   "cell_type": "code",
   "execution_count": 7,
   "metadata": {},
   "outputs": [
    {
     "data": {
      "text/plain": [
       "company_name    0\n",
       "trips_amount    0\n",
       "dtype: int64"
      ]
     },
     "execution_count": 7,
     "metadata": {},
     "output_type": "execute_result"
    }
   ],
   "source": [
    "company_df.isna().sum()"
   ]
  },
  {
   "cell_type": "markdown",
   "metadata": {},
   "source": [
    "Dataset pertama, memiliki 64 baris dan 2 kolom. "
   ]
  },
  {
   "cell_type": "code",
   "execution_count": 8,
   "metadata": {},
   "outputs": [
    {
     "data": {
      "text/html": [
       "<div>\n",
       "<style scoped>\n",
       "    .dataframe tbody tr th:only-of-type {\n",
       "        vertical-align: middle;\n",
       "    }\n",
       "\n",
       "    .dataframe tbody tr th {\n",
       "        vertical-align: top;\n",
       "    }\n",
       "\n",
       "    .dataframe thead th {\n",
       "        text-align: right;\n",
       "    }\n",
       "</style>\n",
       "<table border=\"1\" class=\"dataframe\">\n",
       "  <thead>\n",
       "    <tr style=\"text-align: right;\">\n",
       "      <th></th>\n",
       "      <th>dropoff_location_name</th>\n",
       "      <th>average_trips</th>\n",
       "    </tr>\n",
       "  </thead>\n",
       "  <tbody>\n",
       "    <tr>\n",
       "      <th>0</th>\n",
       "      <td>Loop</td>\n",
       "      <td>10727.466667</td>\n",
       "    </tr>\n",
       "    <tr>\n",
       "      <th>1</th>\n",
       "      <td>River North</td>\n",
       "      <td>9523.666667</td>\n",
       "    </tr>\n",
       "    <tr>\n",
       "      <th>2</th>\n",
       "      <td>Streeterville</td>\n",
       "      <td>6664.666667</td>\n",
       "    </tr>\n",
       "    <tr>\n",
       "      <th>3</th>\n",
       "      <td>West Loop</td>\n",
       "      <td>5163.666667</td>\n",
       "    </tr>\n",
       "    <tr>\n",
       "      <th>4</th>\n",
       "      <td>O'Hare</td>\n",
       "      <td>2546.900000</td>\n",
       "    </tr>\n",
       "  </tbody>\n",
       "</table>\n",
       "</div>"
      ],
      "text/plain": [
       "  dropoff_location_name  average_trips\n",
       "0                  Loop   10727.466667\n",
       "1           River North    9523.666667\n",
       "2         Streeterville    6664.666667\n",
       "3             West Loop    5163.666667\n",
       "4                O'Hare    2546.900000"
      ]
     },
     "execution_count": 8,
     "metadata": {},
     "output_type": "execute_result"
    }
   ],
   "source": [
    "trip_df.head()"
   ]
  },
  {
   "cell_type": "code",
   "execution_count": 9,
   "metadata": {},
   "outputs": [
    {
     "name": "stdout",
     "output_type": "stream",
     "text": [
      "<class 'pandas.core.frame.DataFrame'>\n",
      "RangeIndex: 94 entries, 0 to 93\n",
      "Data columns (total 2 columns):\n",
      " #   Column                 Non-Null Count  Dtype  \n",
      "---  ------                 --------------  -----  \n",
      " 0   dropoff_location_name  94 non-null     object \n",
      " 1   average_trips          94 non-null     float64\n",
      "dtypes: float64(1), object(1)\n",
      "memory usage: 1.6+ KB\n"
     ]
    }
   ],
   "source": [
    "trip_df.info()"
   ]
  },
  {
   "cell_type": "code",
   "execution_count": 10,
   "metadata": {},
   "outputs": [
    {
     "data": {
      "text/plain": [
       "(94, 2)"
      ]
     },
     "execution_count": 10,
     "metadata": {},
     "output_type": "execute_result"
    }
   ],
   "source": [
    "trip_df.shape"
   ]
  },
  {
   "cell_type": "code",
   "execution_count": 11,
   "metadata": {},
   "outputs": [
    {
     "data": {
      "text/plain": [
       "dropoff_location_name    0\n",
       "average_trips            0\n",
       "dtype: int64"
      ]
     },
     "execution_count": 11,
     "metadata": {},
     "output_type": "execute_result"
    }
   ],
   "source": [
    "trip_df.isna().sum()"
   ]
  },
  {
   "cell_type": "markdown",
   "metadata": {},
   "source": [
    "Dataset kedua memiliki 94 baris dan 2 kolom."
   ]
  },
  {
   "cell_type": "markdown",
   "metadata": {},
   "source": [
    "### Kesimpulan dan Langkah Selanjutnya"
   ]
  },
  {
   "cell_type": "markdown",
   "metadata": {},
   "source": [
    "Kita memiliki 2 dataset dengan format file csv, dimana dataset pertama memiliki 64 baris dan 2 kolom, sedangkan dataset kedua memiliki 94 baris dan 2 kolom.\n",
    "\n",
    "Dataset pertama berisi informasi mengenai perjalanan dari perusahaan taksi dan dataset kedua berisi informasi rata-rata jumlah perjalanan yang berakhir di setiap wilayah tertentu.\n",
    "\n",
    "Dataset pertama tidak memiliki masalah, tidak ada nilai yang hilang dan tipe data kolom sudah sesuai, namun perlu dilakukan pengecekan apakah terdapat duplikasi data atau tidak.\n",
    "\n",
    "Dataset kedua juga tidak memiliki nilai yang hilang, namun sepertinya tipe data untuk kolom `average_trips` sebaiknya dirubah menjadi integer, mengingat kolom tersebut berisi rata-rata jumlah perjalanan yang tidak mungkin bernilai float.\n",
    "\n",
    "Langkah yang akan dilakukan pada tahap pra-pemrosesan data:\n",
    "\n",
    "1. Mengecek apakah ada data duplikat pada kedua dataset.\n",
    "2. Mengganti tipe data kolom `average_trips` pada dataset kedua, dari float menjadi integer dengan pembulatan nilai ke atas.\n"
   ]
  },
  {
   "cell_type": "markdown",
   "metadata": {},
   "source": [
    "## Pra-Pemrosesan Data"
   ]
  },
  {
   "cell_type": "markdown",
   "metadata": {},
   "source": [
    "Pada tahap sebelumnya, kita sudah melihat bahwa masih terdapat masalah pada dataset yang kita miliki. Melalui tahap pra-pemrosesan data, kita akan coba mengatasi masalah tersebut."
   ]
  },
  {
   "cell_type": "markdown",
   "metadata": {},
   "source": [
    "### Mengatasi duplikat"
   ]
  },
  {
   "cell_type": "code",
   "execution_count": 12,
   "metadata": {},
   "outputs": [
    {
     "data": {
      "text/plain": [
       "0"
      ]
     },
     "execution_count": 12,
     "metadata": {},
     "output_type": "execute_result"
    }
   ],
   "source": [
    "company_df.duplicated().sum()"
   ]
  },
  {
   "cell_type": "code",
   "execution_count": 13,
   "metadata": {},
   "outputs": [
    {
     "data": {
      "text/plain": [
       "0"
      ]
     },
     "execution_count": 13,
     "metadata": {},
     "output_type": "execute_result"
    }
   ],
   "source": [
    "trip_df.duplicated().sum()"
   ]
  },
  {
   "cell_type": "markdown",
   "metadata": {},
   "source": [
    "Tidak terdapat data yang terduplikasi pada kedua dataset yang kita miliki."
   ]
  },
  {
   "cell_type": "markdown",
   "metadata": {},
   "source": [
    "### Memperbaiki Tipe Data"
   ]
  },
  {
   "cell_type": "markdown",
   "metadata": {},
   "source": [
    "Seperti dijelaskan sebelumnya, pada dataset kedua, kita mendapati salah satu kolomnya, yaitu `average_trips` tipe datanya adalah float. Sebaiknya tipe data kolom tersebut adalah integer, karena jumlah rata-rata perjalanan tidak mungkin bernilai float."
   ]
  },
  {
   "cell_type": "code",
   "execution_count": 14,
   "metadata": {},
   "outputs": [],
   "source": [
    "trip_df['average_trips'] = trip_df['average_trips'].apply(np.ceil).astype('int')"
   ]
  },
  {
   "cell_type": "code",
   "execution_count": 15,
   "metadata": {},
   "outputs": [
    {
     "name": "stdout",
     "output_type": "stream",
     "text": [
      "<class 'pandas.core.frame.DataFrame'>\n",
      "RangeIndex: 94 entries, 0 to 93\n",
      "Data columns (total 2 columns):\n",
      " #   Column                 Non-Null Count  Dtype \n",
      "---  ------                 --------------  ----- \n",
      " 0   dropoff_location_name  94 non-null     object\n",
      " 1   average_trips          94 non-null     int64 \n",
      "dtypes: int64(1), object(1)\n",
      "memory usage: 1.6+ KB\n"
     ]
    }
   ],
   "source": [
    "trip_df.info()"
   ]
  },
  {
   "cell_type": "code",
   "execution_count": 16,
   "metadata": {},
   "outputs": [
    {
     "data": {
      "text/html": [
       "<div>\n",
       "<style scoped>\n",
       "    .dataframe tbody tr th:only-of-type {\n",
       "        vertical-align: middle;\n",
       "    }\n",
       "\n",
       "    .dataframe tbody tr th {\n",
       "        vertical-align: top;\n",
       "    }\n",
       "\n",
       "    .dataframe thead th {\n",
       "        text-align: right;\n",
       "    }\n",
       "</style>\n",
       "<table border=\"1\" class=\"dataframe\">\n",
       "  <thead>\n",
       "    <tr style=\"text-align: right;\">\n",
       "      <th></th>\n",
       "      <th>dropoff_location_name</th>\n",
       "      <th>average_trips</th>\n",
       "    </tr>\n",
       "  </thead>\n",
       "  <tbody>\n",
       "    <tr>\n",
       "      <th>0</th>\n",
       "      <td>Loop</td>\n",
       "      <td>10728</td>\n",
       "    </tr>\n",
       "    <tr>\n",
       "      <th>1</th>\n",
       "      <td>River North</td>\n",
       "      <td>9524</td>\n",
       "    </tr>\n",
       "    <tr>\n",
       "      <th>2</th>\n",
       "      <td>Streeterville</td>\n",
       "      <td>6665</td>\n",
       "    </tr>\n",
       "    <tr>\n",
       "      <th>3</th>\n",
       "      <td>West Loop</td>\n",
       "      <td>5164</td>\n",
       "    </tr>\n",
       "    <tr>\n",
       "      <th>4</th>\n",
       "      <td>O'Hare</td>\n",
       "      <td>2547</td>\n",
       "    </tr>\n",
       "  </tbody>\n",
       "</table>\n",
       "</div>"
      ],
      "text/plain": [
       "  dropoff_location_name  average_trips\n",
       "0                  Loop          10728\n",
       "1           River North           9524\n",
       "2         Streeterville           6665\n",
       "3             West Loop           5164\n",
       "4                O'Hare           2547"
      ]
     },
     "execution_count": 16,
     "metadata": {},
     "output_type": "execute_result"
    }
   ],
   "source": [
    "trip_df.head()"
   ]
  },
  {
   "cell_type": "markdown",
   "metadata": {},
   "source": [
    "Tipe data kolom `average_trips` sudah kita perbaiki."
   ]
  },
  {
   "cell_type": "markdown",
   "metadata": {},
   "source": [
    "### Kesimpulan dan Langkah Selanjutnya"
   ]
  },
  {
   "cell_type": "markdown",
   "metadata": {},
   "source": [
    "Pada tahap pra-pemrosesan data, kita sudah mencoba mengatasi masalah yang ada, sehingga didapatkan kesimpulan:\n",
    "\n",
    "1. Tidak ada data duplikat pada kedua dataset yang kita miliki.\n",
    "\n",
    "2. Tipe data kolom `average_trips` pada dataset kedua yang sebelumnya berupa float, sudah diperbaiki menjadi integer.\n",
    "\n",
    "Dengan demikian, dataset yang kita miliki sudah bersih dan siap dianalisa ke tahap selanjutnya."
   ]
  },
  {
   "cell_type": "markdown",
   "metadata": {},
   "source": [
    "## Analisa Data"
   ]
  },
  {
   "cell_type": "markdown",
   "metadata": {},
   "source": [
    "Setelah tahap pra-pemrosesan data selesai, kita siap untuk mulai menganalisis data yang kita miliki.\n",
    "\n",
    "Pertama, kita akan mengidentifikasi 10 wilayah teratas yang dijadikan sebagai titik pengantaran dan juga perusahaan taksi dan jumlah perjalanannya. \n",
    "Kemudian, kita akan menarik kesimpulan berdasarkan analisa data yang kita lakukan."
   ]
  },
  {
   "cell_type": "markdown",
   "metadata": {},
   "source": [
    "### 10 Wilayah Teratas yang Dijadikan Sebagai Titik Pengantaran"
   ]
  },
  {
   "cell_type": "code",
   "execution_count": 17,
   "metadata": {},
   "outputs": [
    {
     "data": {
      "text/html": [
       "<div>\n",
       "<style scoped>\n",
       "    .dataframe tbody tr th:only-of-type {\n",
       "        vertical-align: middle;\n",
       "    }\n",
       "\n",
       "    .dataframe tbody tr th {\n",
       "        vertical-align: top;\n",
       "    }\n",
       "\n",
       "    .dataframe thead th {\n",
       "        text-align: right;\n",
       "    }\n",
       "</style>\n",
       "<table border=\"1\" class=\"dataframe\">\n",
       "  <thead>\n",
       "    <tr style=\"text-align: right;\">\n",
       "      <th></th>\n",
       "      <th>dropoff_location_name</th>\n",
       "      <th>average_trips</th>\n",
       "    </tr>\n",
       "  </thead>\n",
       "  <tbody>\n",
       "    <tr>\n",
       "      <th>0</th>\n",
       "      <td>Loop</td>\n",
       "      <td>10728</td>\n",
       "    </tr>\n",
       "    <tr>\n",
       "      <th>1</th>\n",
       "      <td>River North</td>\n",
       "      <td>9524</td>\n",
       "    </tr>\n",
       "    <tr>\n",
       "      <th>2</th>\n",
       "      <td>Streeterville</td>\n",
       "      <td>6665</td>\n",
       "    </tr>\n",
       "    <tr>\n",
       "      <th>3</th>\n",
       "      <td>West Loop</td>\n",
       "      <td>5164</td>\n",
       "    </tr>\n",
       "    <tr>\n",
       "      <th>4</th>\n",
       "      <td>O'Hare</td>\n",
       "      <td>2547</td>\n",
       "    </tr>\n",
       "    <tr>\n",
       "      <th>5</th>\n",
       "      <td>Lake View</td>\n",
       "      <td>2421</td>\n",
       "    </tr>\n",
       "    <tr>\n",
       "      <th>6</th>\n",
       "      <td>Grant Park</td>\n",
       "      <td>2069</td>\n",
       "    </tr>\n",
       "    <tr>\n",
       "      <th>7</th>\n",
       "      <td>Museum Campus</td>\n",
       "      <td>1510</td>\n",
       "    </tr>\n",
       "    <tr>\n",
       "      <th>8</th>\n",
       "      <td>Gold Coast</td>\n",
       "      <td>1365</td>\n",
       "    </tr>\n",
       "    <tr>\n",
       "      <th>9</th>\n",
       "      <td>Sheffield &amp; DePaul</td>\n",
       "      <td>1260</td>\n",
       "    </tr>\n",
       "  </tbody>\n",
       "</table>\n",
       "</div>"
      ],
      "text/plain": [
       "  dropoff_location_name  average_trips\n",
       "0                  Loop          10728\n",
       "1           River North           9524\n",
       "2         Streeterville           6665\n",
       "3             West Loop           5164\n",
       "4                O'Hare           2547\n",
       "5             Lake View           2421\n",
       "6            Grant Park           2069\n",
       "7         Museum Campus           1510\n",
       "8            Gold Coast           1365\n",
       "9    Sheffield & DePaul           1260"
      ]
     },
     "execution_count": 17,
     "metadata": {},
     "output_type": "execute_result"
    }
   ],
   "source": [
    "top_ten_area = trip_df.sort_values('average_trips', ascending=False).head(10)\n",
    "top_ten_area"
   ]
  },
  {
   "cell_type": "code",
   "execution_count": 18,
   "metadata": {},
   "outputs": [
    {
     "data": {
      "image/png": "[encoded data removed]",
      "text/plain": [
       "<Figure size 1080x360 with 1 Axes>"
      ]
     },
     "metadata": {
      "needs_background": "light"
     },
     "output_type": "display_data"
    }
   ],
   "source": [
    "plt.figure(figsize = (15,5))\n",
    "plt.subplots_adjust(wspace=35)\n",
    "ax = sns.barplot(data = top_ten_area, x = 'dropoff_location_name', y = 'average_trips')\n",
    "plt.xticks(rotation = 45)\n",
    "\n",
    "for i, v in enumerate(top_ten_area.sort_values(by='average_trips', ascending=False)['average_trips']):\n",
    "    ax.annotate(str(v), xy=(i, v), ha='center', va='bottom')"
   ]
  },
  {
   "cell_type": "markdown",
   "metadata": {},
   "source": [
    "Grafik di atas menunjukkan kepada kita 10 wilayah teratas yang dijadikan sebagai titik pengantaran (dropoff location) dan wilayah yang paling banyak dijadikan sebagai titik pengantaran adalah **Loop** dengan rata-rata jumlah pengantaran sebanyak 10.728.\n",
    "Mungkin karena wilayah ini berada di pusat kota Chicago dan merupakan salah satu area yang ramai, sehingga banyak orang yang menuju kesana dengan menggunakan taksi."
   ]
  },
  {
   "cell_type": "markdown",
   "metadata": {},
   "source": [
    "### 10 Perusahaan Teratas Berdasarkan Jumlah Pengantaran"
   ]
  },
  {
   "cell_type": "code",
   "execution_count": 19,
   "metadata": {},
   "outputs": [
    {
     "data": {
      "text/html": [
       "<div>\n",
       "<style scoped>\n",
       "    .dataframe tbody tr th:only-of-type {\n",
       "        vertical-align: middle;\n",
       "    }\n",
       "\n",
       "    .dataframe tbody tr th {\n",
       "        vertical-align: top;\n",
       "    }\n",
       "\n",
       "    .dataframe thead th {\n",
       "        text-align: right;\n",
       "    }\n",
       "</style>\n",
       "<table border=\"1\" class=\"dataframe\">\n",
       "  <thead>\n",
       "    <tr style=\"text-align: right;\">\n",
       "      <th></th>\n",
       "      <th>company_name</th>\n",
       "      <th>trips_amount</th>\n",
       "    </tr>\n",
       "  </thead>\n",
       "  <tbody>\n",
       "    <tr>\n",
       "      <th>0</th>\n",
       "      <td>Flash Cab</td>\n",
       "      <td>19558</td>\n",
       "    </tr>\n",
       "    <tr>\n",
       "      <th>1</th>\n",
       "      <td>Taxi Affiliation Services</td>\n",
       "      <td>11422</td>\n",
       "    </tr>\n",
       "    <tr>\n",
       "      <th>2</th>\n",
       "      <td>Medallion Leasing</td>\n",
       "      <td>10367</td>\n",
       "    </tr>\n",
       "    <tr>\n",
       "      <th>3</th>\n",
       "      <td>Yellow Cab</td>\n",
       "      <td>9888</td>\n",
       "    </tr>\n",
       "    <tr>\n",
       "      <th>4</th>\n",
       "      <td>Taxi Affiliation Service Yellow</td>\n",
       "      <td>9299</td>\n",
       "    </tr>\n",
       "    <tr>\n",
       "      <th>5</th>\n",
       "      <td>Chicago Carriage Cab Corp</td>\n",
       "      <td>9181</td>\n",
       "    </tr>\n",
       "    <tr>\n",
       "      <th>6</th>\n",
       "      <td>City Service</td>\n",
       "      <td>8448</td>\n",
       "    </tr>\n",
       "    <tr>\n",
       "      <th>7</th>\n",
       "      <td>Sun Taxi</td>\n",
       "      <td>7701</td>\n",
       "    </tr>\n",
       "    <tr>\n",
       "      <th>8</th>\n",
       "      <td>Star North Management LLC</td>\n",
       "      <td>7455</td>\n",
       "    </tr>\n",
       "    <tr>\n",
       "      <th>9</th>\n",
       "      <td>Blue Ribbon Taxi Association Inc.</td>\n",
       "      <td>5953</td>\n",
       "    </tr>\n",
       "  </tbody>\n",
       "</table>\n",
       "</div>"
      ],
      "text/plain": [
       "                        company_name  trips_amount\n",
       "0                          Flash Cab         19558\n",
       "1          Taxi Affiliation Services         11422\n",
       "2                  Medallion Leasing         10367\n",
       "3                         Yellow Cab          9888\n",
       "4    Taxi Affiliation Service Yellow          9299\n",
       "5          Chicago Carriage Cab Corp          9181\n",
       "6                       City Service          8448\n",
       "7                           Sun Taxi          7701\n",
       "8          Star North Management LLC          7455\n",
       "9  Blue Ribbon Taxi Association Inc.          5953"
      ]
     },
     "execution_count": 19,
     "metadata": {},
     "output_type": "execute_result"
    }
   ],
   "source": [
    "top_ten_company = company_df.sort_values('trips_amount', ascending=False).head(10)\n",
    "top_ten_company"
   ]
  },
  {
   "cell_type": "code",
   "execution_count": 20,
   "metadata": {},
   "outputs": [
    {
     "data": {
      "image/png": "[encoded data removed]",
      "text/plain": [
       "<Figure size 1080x360 with 1 Axes>"
      ]
     },
     "metadata": {
      "needs_background": "light"
     },
     "output_type": "display_data"
    }
   ],
   "source": [
    "plt.figure(figsize = (15,5))\n",
    "plt.subplots_adjust(wspace=35)\n",
    "ax = sns.barplot(data = top_ten_company, x = 'company_name', y = 'trips_amount')\n",
    "plt.xticks(rotation = 45)\n",
    "\n",
    "for i, v in enumerate(top_ten_company.sort_values(by='trips_amount', ascending=False)['trips_amount']):\n",
    "    ax.annotate(str(v), xy=(i, v), ha='center', va='bottom')"
   ]
  },
  {
   "cell_type": "markdown",
   "metadata": {},
   "source": [
    "Grafik di atas menunjukkan kepada kita 10 perusahaan taksi teratas berdasarkan jumlah pengantaran dan perusahaan yang paling banyak memiliki jumlah pengantaran adalah **Flash Cab** dengan jumlah pengantaran sebanyak 19.558.\n",
    "\n",
    "Sepertinya perusahaan taksi ini menjadi salah satu taksi favorit di Chicago karena mereka memiliki jumlah pengantaran yang cukup tinggi dibandingkan 9 perusahaan teratas lainnya. Mungkin harga argo perjalanannya cukup murah? Atau mereka dapat mengantar penumpang dengan waktu yang sangat cepat dan efisien sesuai namanya."
   ]
  },
  {
   "cell_type": "markdown",
   "metadata": {},
   "source": [
    "### Kesimpulan dan Langkah Selanjutnya"
   ]
  },
  {
   "cell_type": "markdown",
   "metadata": {},
   "source": [
    "Setelah melakukan analisa data pada kedua dataset yang kita miliki, maka dapat ditarik kesimpulan:\n",
    "\n",
    "1. Wilayah **Loop** menjadi wilayah yang paling sering dijadikan sebagai titik pengantaran terakhir di Chicago dengan jumlah rata-rata pengantaran sebanyak 10.728. Sedangkan posisi kedua ditempati oleh wilayah **River North** dengan jumlah rata-rata pengantaran sebanyak 9.524. Sepertinya, wilayah - wilayah teratas tersebut merupakan area pusat kota Chicago yang ramai. Hal ini dapat dilihat melalui grafik dimana kita sudah mengurutkan 10 wilayah teratas berdasarkan titik pengantaran.\n",
    "\n",
    "2. Perusahaan taksi **Flash Cab** merupakan perusahaan taksi yang paling banyak jumlah pengantarannya dalam rentang waktu tanggal 15-16 November 2017, dengan total jumlah 19.558. Perusahaan taksi ini memang cukup populer, apalagi, mereka juga menawarkan layanan yang beragam, harga yang bersaing dan memberikan banyak kemudahan termasuk pengantaran ke bandara.\n",
    "\n",
    "Dengan demikian, kita dapat melihat bahwa preferensi penumpang terhadap perjalanan adalah mereka membutuhkan perusahaan taksi yang memberikan kenyamanan bagi penumpang dengan harga yang kompetitif untuk menuju daerah - daerah pusat kota Chicago yang ramai."
   ]
  },
  {
   "cell_type": "markdown",
   "metadata": {},
   "source": [
    "## Menguji Hipotesis"
   ]
  },
  {
   "cell_type": "markdown",
   "metadata": {},
   "source": [
    "Kita telah mencoba melihat wilayah teratas di Chicago yang dijadikan titik pengantaran dan juga perusahaan taksi yang teratas berdasarkan jumlah perjalanannya.\n",
    "\n",
    "Selanjutnya, kita akan menguji hipotesis:\n",
    "\n",
    "Durasi rata-rata perjalanan dari Loop ke Bandara Internasional O'Hare berubah pada hari-hari Sabtu yang hujan."
   ]
  },
  {
   "cell_type": "markdown",
   "metadata": {},
   "source": [
    "**Mempersiapkan Data**"
   ]
  },
  {
   "cell_type": "markdown",
   "metadata": {},
   "source": [
    "Untuk menguji hipotesis tersebut, pertama, kita memerlukan dataset baru yang telah kita kumpulkan datanya melalui situs web. Kita akan mengambil data semua perjalanan yang dimulai di **Loop** pada hari Sabtu dan berakhir di **O'Hare (bandara)** dengan kondisi cuaca untuk setiap perjalanannya."
   ]
  },
  {
   "cell_type": "code",
   "execution_count": 21,
   "metadata": {},
   "outputs": [],
   "source": [
    "new_df = pd.read_csv('/datasets/project_sql_result_07.csv')"
   ]
  },
  {
   "cell_type": "code",
   "execution_count": 22,
   "metadata": {},
   "outputs": [
    {
     "data": {
      "text/html": [
       "<div>\n",
       "<style scoped>\n",
       "    .dataframe tbody tr th:only-of-type {\n",
       "        vertical-align: middle;\n",
       "    }\n",
       "\n",
       "    .dataframe tbody tr th {\n",
       "        vertical-align: top;\n",
       "    }\n",
       "\n",
       "    .dataframe thead th {\n",
       "        text-align: right;\n",
       "    }\n",
       "</style>\n",
       "<table border=\"1\" class=\"dataframe\">\n",
       "  <thead>\n",
       "    <tr style=\"text-align: right;\">\n",
       "      <th></th>\n",
       "      <th>start_ts</th>\n",
       "      <th>weather_conditions</th>\n",
       "      <th>duration_seconds</th>\n",
       "    </tr>\n",
       "  </thead>\n",
       "  <tbody>\n",
       "    <tr>\n",
       "      <th>0</th>\n",
       "      <td>2017-11-25 16:00:00</td>\n",
       "      <td>Good</td>\n",
       "      <td>2410.0</td>\n",
       "    </tr>\n",
       "    <tr>\n",
       "      <th>1</th>\n",
       "      <td>2017-11-25 14:00:00</td>\n",
       "      <td>Good</td>\n",
       "      <td>1920.0</td>\n",
       "    </tr>\n",
       "    <tr>\n",
       "      <th>2</th>\n",
       "      <td>2017-11-25 12:00:00</td>\n",
       "      <td>Good</td>\n",
       "      <td>1543.0</td>\n",
       "    </tr>\n",
       "    <tr>\n",
       "      <th>3</th>\n",
       "      <td>2017-11-04 10:00:00</td>\n",
       "      <td>Good</td>\n",
       "      <td>2512.0</td>\n",
       "    </tr>\n",
       "    <tr>\n",
       "      <th>4</th>\n",
       "      <td>2017-11-11 07:00:00</td>\n",
       "      <td>Good</td>\n",
       "      <td>1440.0</td>\n",
       "    </tr>\n",
       "    <tr>\n",
       "      <th>...</th>\n",
       "      <td>...</td>\n",
       "      <td>...</td>\n",
       "      <td>...</td>\n",
       "    </tr>\n",
       "    <tr>\n",
       "      <th>1063</th>\n",
       "      <td>2017-11-25 11:00:00</td>\n",
       "      <td>Good</td>\n",
       "      <td>0.0</td>\n",
       "    </tr>\n",
       "    <tr>\n",
       "      <th>1064</th>\n",
       "      <td>2017-11-11 10:00:00</td>\n",
       "      <td>Good</td>\n",
       "      <td>1318.0</td>\n",
       "    </tr>\n",
       "    <tr>\n",
       "      <th>1065</th>\n",
       "      <td>2017-11-11 13:00:00</td>\n",
       "      <td>Good</td>\n",
       "      <td>2100.0</td>\n",
       "    </tr>\n",
       "    <tr>\n",
       "      <th>1066</th>\n",
       "      <td>2017-11-11 08:00:00</td>\n",
       "      <td>Good</td>\n",
       "      <td>1380.0</td>\n",
       "    </tr>\n",
       "    <tr>\n",
       "      <th>1067</th>\n",
       "      <td>2017-11-04 16:00:00</td>\n",
       "      <td>Bad</td>\n",
       "      <td>2834.0</td>\n",
       "    </tr>\n",
       "  </tbody>\n",
       "</table>\n",
       "<p>1068 rows × 3 columns</p>\n",
       "</div>"
      ],
      "text/plain": [
       "                 start_ts weather_conditions  duration_seconds\n",
       "0     2017-11-25 16:00:00               Good            2410.0\n",
       "1     2017-11-25 14:00:00               Good            1920.0\n",
       "2     2017-11-25 12:00:00               Good            1543.0\n",
       "3     2017-11-04 10:00:00               Good            2512.0\n",
       "4     2017-11-11 07:00:00               Good            1440.0\n",
       "...                   ...                ...               ...\n",
       "1063  2017-11-25 11:00:00               Good               0.0\n",
       "1064  2017-11-11 10:00:00               Good            1318.0\n",
       "1065  2017-11-11 13:00:00               Good            2100.0\n",
       "1066  2017-11-11 08:00:00               Good            1380.0\n",
       "1067  2017-11-04 16:00:00                Bad            2834.0\n",
       "\n",
       "[1068 rows x 3 columns]"
      ]
     },
     "execution_count": 22,
     "metadata": {},
     "output_type": "execute_result"
    }
   ],
   "source": [
    "new_df"
   ]
  },
  {
   "cell_type": "code",
   "execution_count": 23,
   "metadata": {},
   "outputs": [
    {
     "name": "stdout",
     "output_type": "stream",
     "text": [
      "<class 'pandas.core.frame.DataFrame'>\n",
      "RangeIndex: 1068 entries, 0 to 1067\n",
      "Data columns (total 3 columns):\n",
      " #   Column              Non-Null Count  Dtype  \n",
      "---  ------              --------------  -----  \n",
      " 0   start_ts            1068 non-null   object \n",
      " 1   weather_conditions  1068 non-null   object \n",
      " 2   duration_seconds    1068 non-null   float64\n",
      "dtypes: float64(1), object(2)\n",
      "memory usage: 25.2+ KB\n"
     ]
    }
   ],
   "source": [
    "new_df.info()"
   ]
  },
  {
   "cell_type": "code",
   "execution_count": 24,
   "metadata": {},
   "outputs": [
    {
     "data": {
      "text/plain": [
       "start_ts              0\n",
       "weather_conditions    0\n",
       "duration_seconds      0\n",
       "dtype: int64"
      ]
     },
     "execution_count": 24,
     "metadata": {},
     "output_type": "execute_result"
    }
   ],
   "source": [
    "new_df.isna().sum()"
   ]
  },
  {
   "cell_type": "code",
   "execution_count": 25,
   "metadata": {},
   "outputs": [
    {
     "data": {
      "text/html": [
       "<div>\n",
       "<style scoped>\n",
       "    .dataframe tbody tr th:only-of-type {\n",
       "        vertical-align: middle;\n",
       "    }\n",
       "\n",
       "    .dataframe tbody tr th {\n",
       "        vertical-align: top;\n",
       "    }\n",
       "\n",
       "    .dataframe thead th {\n",
       "        text-align: right;\n",
       "    }\n",
       "</style>\n",
       "<table border=\"1\" class=\"dataframe\">\n",
       "  <thead>\n",
       "    <tr style=\"text-align: right;\">\n",
       "      <th></th>\n",
       "      <th>duration_seconds</th>\n",
       "    </tr>\n",
       "  </thead>\n",
       "  <tbody>\n",
       "    <tr>\n",
       "      <th>count</th>\n",
       "      <td>1068.000000</td>\n",
       "    </tr>\n",
       "    <tr>\n",
       "      <th>mean</th>\n",
       "      <td>2071.731273</td>\n",
       "    </tr>\n",
       "    <tr>\n",
       "      <th>std</th>\n",
       "      <td>769.461125</td>\n",
       "    </tr>\n",
       "    <tr>\n",
       "      <th>min</th>\n",
       "      <td>0.000000</td>\n",
       "    </tr>\n",
       "    <tr>\n",
       "      <th>25%</th>\n",
       "      <td>1438.250000</td>\n",
       "    </tr>\n",
       "    <tr>\n",
       "      <th>50%</th>\n",
       "      <td>1980.000000</td>\n",
       "    </tr>\n",
       "    <tr>\n",
       "      <th>75%</th>\n",
       "      <td>2580.000000</td>\n",
       "    </tr>\n",
       "    <tr>\n",
       "      <th>max</th>\n",
       "      <td>7440.000000</td>\n",
       "    </tr>\n",
       "  </tbody>\n",
       "</table>\n",
       "</div>"
      ],
      "text/plain": [
       "       duration_seconds\n",
       "count       1068.000000\n",
       "mean        2071.731273\n",
       "std          769.461125\n",
       "min            0.000000\n",
       "25%         1438.250000\n",
       "50%         1980.000000\n",
       "75%         2580.000000\n",
       "max         7440.000000"
      ]
     },
     "execution_count": 25,
     "metadata": {},
     "output_type": "execute_result"
    }
   ],
   "source": [
    "new_df.describe()"
   ]
  },
  {
   "cell_type": "markdown",
   "metadata": {},
   "source": [
    "Dataset yang kita miliki saat ini mempunyai 1068 baris dan 3 kolom dengan deskripsi sebagai berikut:\n",
    "\n",
    "start_ts: tanggal dan waktu penjemputan\n",
    "\n",
    "weather_conditions: kondisi cuaca saat perjalanan dimulai\n",
    "\n",
    "duration_seconds: durasi perjalanan dalam satuan detik\n",
    "\n",
    "Tidak ada masalah pada datasetnya, namun distribusi data kita terlihat sangat bervariatif dan memiliki banyak *outlier*. Untuk itu, sebelum melanjutkan menguji hipotesis, kita perlu membuang *outlier* tersebut terlebih dahulu."
   ]
  },
  {
   "cell_type": "code",
   "execution_count": 26,
   "metadata": {},
   "outputs": [
    {
     "data": {
      "text/plain": [
       "<AxesSubplot:xlabel='weather_conditions', ylabel='duration_seconds'>"
      ]
     },
     "execution_count": 26,
     "metadata": {},
     "output_type": "execute_result"
    },
    {
     "data": {
      "image/png": "[encoded data removed]",
      "text/plain": [
       "<Figure size 360x576 with 1 Axes>"
      ]
     },
     "metadata": {
      "needs_background": "light"
     },
     "output_type": "display_data"
    }
   ],
   "source": [
    "plt.figure(figsize = (5, 8))\n",
    "sns.boxplot(data = new_df, x = 'weather_conditions', y = 'duration_seconds')"
   ]
  },
  {
   "cell_type": "code",
   "execution_count": 27,
   "metadata": {},
   "outputs": [],
   "source": [
    "Q1 = new_df['duration_seconds'].quantile(0.25)\n",
    "Q3 = new_df['duration_seconds'].quantile(0.75)\n",
    "IQR = Q3 - Q1\n",
    "lower_whisker = Q1 - 1.5 * IQR\n",
    "upper_whisker = Q3 + 1.5 * IQR\n",
    "\n",
    "if lower_whisker < 0:\n",
    "    lower_whisker = 0    "
   ]
  },
  {
   "cell_type": "code",
   "execution_count": 28,
   "metadata": {},
   "outputs": [
    {
     "data": {
      "text/plain": [
       "1438.25"
      ]
     },
     "execution_count": 28,
     "metadata": {},
     "output_type": "execute_result"
    }
   ],
   "source": [
    "Q1"
   ]
  },
  {
   "cell_type": "code",
   "execution_count": 29,
   "metadata": {},
   "outputs": [
    {
     "data": {
      "text/plain": [
       "2580.0"
      ]
     },
     "execution_count": 29,
     "metadata": {},
     "output_type": "execute_result"
    }
   ],
   "source": [
    "Q3"
   ]
  },
  {
   "cell_type": "code",
   "execution_count": 30,
   "metadata": {},
   "outputs": [
    {
     "data": {
      "text/plain": [
       "1141.75"
      ]
     },
     "execution_count": 30,
     "metadata": {},
     "output_type": "execute_result"
    }
   ],
   "source": [
    "IQR"
   ]
  },
  {
   "cell_type": "code",
   "execution_count": 31,
   "metadata": {},
   "outputs": [
    {
     "data": {
      "text/plain": [
       "0"
      ]
     },
     "execution_count": 31,
     "metadata": {},
     "output_type": "execute_result"
    }
   ],
   "source": [
    "lower_whisker"
   ]
  },
  {
   "cell_type": "code",
   "execution_count": 32,
   "metadata": {},
   "outputs": [
    {
     "data": {
      "text/plain": [
       "4292.625"
      ]
     },
     "execution_count": 32,
     "metadata": {},
     "output_type": "execute_result"
    }
   ],
   "source": [
    "upper_whisker"
   ]
  },
  {
   "cell_type": "code",
   "execution_count": 33,
   "metadata": {},
   "outputs": [],
   "source": [
    "new_df_no_outlier = new_df.loc[(new_df['duration_seconds'] > lower_whisker) & \n",
    "                               (new_df['duration_seconds'] < upper_whisker)]"
   ]
  },
  {
   "cell_type": "code",
   "execution_count": 34,
   "metadata": {},
   "outputs": [
    {
     "data": {
      "text/html": [
       "<div>\n",
       "<style scoped>\n",
       "    .dataframe tbody tr th:only-of-type {\n",
       "        vertical-align: middle;\n",
       "    }\n",
       "\n",
       "    .dataframe tbody tr th {\n",
       "        vertical-align: top;\n",
       "    }\n",
       "\n",
       "    .dataframe thead th {\n",
       "        text-align: right;\n",
       "    }\n",
       "</style>\n",
       "<table border=\"1\" class=\"dataframe\">\n",
       "  <thead>\n",
       "    <tr style=\"text-align: right;\">\n",
       "      <th></th>\n",
       "      <th>start_ts</th>\n",
       "      <th>weather_conditions</th>\n",
       "      <th>duration_seconds</th>\n",
       "    </tr>\n",
       "  </thead>\n",
       "  <tbody>\n",
       "    <tr>\n",
       "      <th>0</th>\n",
       "      <td>2017-11-25 16:00:00</td>\n",
       "      <td>Good</td>\n",
       "      <td>2410.0</td>\n",
       "    </tr>\n",
       "    <tr>\n",
       "      <th>1</th>\n",
       "      <td>2017-11-25 14:00:00</td>\n",
       "      <td>Good</td>\n",
       "      <td>1920.0</td>\n",
       "    </tr>\n",
       "    <tr>\n",
       "      <th>2</th>\n",
       "      <td>2017-11-25 12:00:00</td>\n",
       "      <td>Good</td>\n",
       "      <td>1543.0</td>\n",
       "    </tr>\n",
       "    <tr>\n",
       "      <th>3</th>\n",
       "      <td>2017-11-04 10:00:00</td>\n",
       "      <td>Good</td>\n",
       "      <td>2512.0</td>\n",
       "    </tr>\n",
       "    <tr>\n",
       "      <th>4</th>\n",
       "      <td>2017-11-11 07:00:00</td>\n",
       "      <td>Good</td>\n",
       "      <td>1440.0</td>\n",
       "    </tr>\n",
       "    <tr>\n",
       "      <th>...</th>\n",
       "      <td>...</td>\n",
       "      <td>...</td>\n",
       "      <td>...</td>\n",
       "    </tr>\n",
       "    <tr>\n",
       "      <th>1062</th>\n",
       "      <td>2017-11-11 06:00:00</td>\n",
       "      <td>Good</td>\n",
       "      <td>1500.0</td>\n",
       "    </tr>\n",
       "    <tr>\n",
       "      <th>1064</th>\n",
       "      <td>2017-11-11 10:00:00</td>\n",
       "      <td>Good</td>\n",
       "      <td>1318.0</td>\n",
       "    </tr>\n",
       "    <tr>\n",
       "      <th>1065</th>\n",
       "      <td>2017-11-11 13:00:00</td>\n",
       "      <td>Good</td>\n",
       "      <td>2100.0</td>\n",
       "    </tr>\n",
       "    <tr>\n",
       "      <th>1066</th>\n",
       "      <td>2017-11-11 08:00:00</td>\n",
       "      <td>Good</td>\n",
       "      <td>1380.0</td>\n",
       "    </tr>\n",
       "    <tr>\n",
       "      <th>1067</th>\n",
       "      <td>2017-11-04 16:00:00</td>\n",
       "      <td>Bad</td>\n",
       "      <td>2834.0</td>\n",
       "    </tr>\n",
       "  </tbody>\n",
       "</table>\n",
       "<p>1056 rows × 3 columns</p>\n",
       "</div>"
      ],
      "text/plain": [
       "                 start_ts weather_conditions  duration_seconds\n",
       "0     2017-11-25 16:00:00               Good            2410.0\n",
       "1     2017-11-25 14:00:00               Good            1920.0\n",
       "2     2017-11-25 12:00:00               Good            1543.0\n",
       "3     2017-11-04 10:00:00               Good            2512.0\n",
       "4     2017-11-11 07:00:00               Good            1440.0\n",
       "...                   ...                ...               ...\n",
       "1062  2017-11-11 06:00:00               Good            1500.0\n",
       "1064  2017-11-11 10:00:00               Good            1318.0\n",
       "1065  2017-11-11 13:00:00               Good            2100.0\n",
       "1066  2017-11-11 08:00:00               Good            1380.0\n",
       "1067  2017-11-04 16:00:00                Bad            2834.0\n",
       "\n",
       "[1056 rows x 3 columns]"
      ]
     },
     "execution_count": 34,
     "metadata": {},
     "output_type": "execute_result"
    }
   ],
   "source": [
    "new_df_no_outlier"
   ]
  },
  {
   "cell_type": "code",
   "execution_count": 35,
   "metadata": {},
   "outputs": [
    {
     "data": {
      "text/plain": [
       "<AxesSubplot:xlabel='weather_conditions', ylabel='duration_seconds'>"
      ]
     },
     "execution_count": 35,
     "metadata": {},
     "output_type": "execute_result"
    },
    {
     "data": {
      "image/png": "[encoded data removed]",
      "text/plain": [
       "<Figure size 360x576 with 1 Axes>"
      ]
     },
     "metadata": {
      "needs_background": "light"
     },
     "output_type": "display_data"
    }
   ],
   "source": [
    "plt.figure(figsize = (5, 8))\n",
    "sns.boxplot(data = new_df_no_outlier, x = 'weather_conditions', y = 'duration_seconds')"
   ]
  },
  {
   "cell_type": "markdown",
   "metadata": {},
   "source": [
    "Saat ini, dataset baru yang kita miliki sudah lebih baik, masih terdapat *outlier* tetapi jumlahnya sangat sedikit, jadi dapat kita abaikan. Jika diperhatikan, durasi rata-rata perjalanan saat kondisi hujan jauh lebih tinggi dibandingkan jika kondisi cuaca cerah. Apakah memang kondisi cuaca berpengaruh terhadap frekuensi perjalanan?\n",
    "\n",
    "Selanjutnya, kita akan menggunakan dataset ini untuk menguji hipotesis."
   ]
  },
  {
   "cell_type": "markdown",
   "metadata": {},
   "source": [
    "**Menguji Hipotesis**"
   ]
  },
  {
   "cell_type": "markdown",
   "metadata": {},
   "source": [
    "Untuk menguji hipotesis, kita akan mencoba melakukan *ttest_ind(sample_1, sample_2)* dari paket modul *scipy.stats* dan bandingkan hasil nilai p dengan \"alpha\".\n",
    "Nilai \"alpha\" atau tingkat signifikansi yang dipilih adalah sebesar 5%. Angka ini dipilih karena mempertimbangkan tujuan pengujian hipotesis dan juga konteks pengujian yaitu untuk keperluan industri transportasi yang tidak memerlukan tingkat signifikansi yang sangat rendah (seperti 0.001 atau bahkan 0.0001).\n",
    "Kita akan mengasumsikan bahwa terdapat kemungkinan sebesar 5% kesalahan dalam menolak H0.\n",
    "\n",
    "H0 : Durasi rata-rata perjalanan dari Loop ke Bandara Internasional O'Hare pada hari-hari Sabtu yang hujan dan tidak hujan adalah sama.\n",
    "\n",
    "H1 : Durasi rata-rata perjalanan dari Loop ke Bandara Internasional O'Hare pada hari-hari Sabtu yang hujan dan tidak hujan berbeda. "
   ]
  },
  {
   "cell_type": "code",
   "execution_count": 36,
   "metadata": {},
   "outputs": [],
   "source": [
    "sample_1 = new_df_no_outlier.loc[new_df_no_outlier['weather_conditions'] == 'Bad', 'duration_seconds']\n",
    "sample_2 = new_df_no_outlier.loc[new_df_no_outlier['weather_conditions'] != 'Bad', 'duration_seconds']"
   ]
  },
  {
   "cell_type": "code",
   "execution_count": 37,
   "metadata": {},
   "outputs": [
    {
     "data": {
      "text/plain": [
       "2412.9441340782123"
      ]
     },
     "execution_count": 37,
     "metadata": {},
     "output_type": "execute_result"
    }
   ],
   "source": [
    "sample_1.mean()"
   ]
  },
  {
   "cell_type": "code",
   "execution_count": 38,
   "metadata": {},
   "outputs": [
    {
     "data": {
      "text/plain": [
       "1992.8072976054732"
      ]
     },
     "execution_count": 38,
     "metadata": {},
     "output_type": "execute_result"
    }
   ],
   "source": [
    "sample_2.mean()"
   ]
  },
  {
   "cell_type": "code",
   "execution_count": 39,
   "metadata": {},
   "outputs": [
    {
     "data": {
      "text/plain": [
       "2.5498530513320922e-12"
      ]
     },
     "execution_count": 39,
     "metadata": {},
     "output_type": "execute_result"
    }
   ],
   "source": [
    "alpha = 0.05\n",
    "results = st.ttest_ind(sample_1, sample_2, equal_var=False)\n",
    "results.pvalue"
   ]
  },
  {
   "cell_type": "code",
   "execution_count": 40,
   "metadata": {},
   "outputs": [
    {
     "name": "stdout",
     "output_type": "stream",
     "text": [
      "Tolak null hipotesis\n"
     ]
    }
   ],
   "source": [
    "if (results.pvalue < alpha):\n",
    "    print('Tolak null hipotesis')\n",
    "else:\n",
    "    print('Kita gagal menolak null hipotesis')"
   ]
  },
  {
   "cell_type": "markdown",
   "metadata": {},
   "source": [
    "Setelah melakukan ttest_ind, hasil uji statistik menunjukkan bahwa p-value < alpha, dan hasil uji hipotesis menyatakan \"Tolak null hipotesis,\" maka kita dapat menyimpulkan bahwa ada bukti yang cukup kuat untuk menolak hipotesis nol (H0) dan menerima hipotesis alternatif (H1) pada tingkat signifikansi yang telah ditentukan (nilai alpha = 0.05).\n",
    "\n",
    "Sehingga bisa dikatakan bahwa terdapat perbedaan pada durasi rata-rata perjalanan dari Loop ke Bandara Internasional O'Hare pada hari-hari Sabtu yang hujan dan yang tidak hujan.\n",
    "\n",
    "Maka dari itu, hipotesis awal kita yang menyatakan bahwa durasi rata-rata perjalanan dari Loop ke Bandara Internasional O'Hare berubah pada hari-hari Sabtu yang hujan, dapat diterima sepenuhnya.\n",
    "\n",
    "Dengan kata lain, kondisi cuaca dapat mempengaruhi frekuensi perjalanan, karena jika terdapat perbedaan durasi rata-rata perjalanan, berarti dapat dikatakan juga terdapat perubahan durasi antara hari-hari Sabtu yang hujan dan tidak hujan.\n"
   ]
  },
  {
   "cell_type": "markdown",
   "metadata": {},
   "source": [
    "## Kesimpulan Umum"
   ]
  },
  {
   "cell_type": "markdown",
   "metadata": {},
   "source": [
    "Kita telah mencoba untuk mengolah data dan membuktikan hipotesis kita dapat diterima atau tidak.\n",
    "\n",
    "Kumpulan data awal yang memuat informasi perjalanan taksi di Chicago terdapat pada basis data dengan terbagi dalam 5 tabel, yaitu:\n",
    "\n",
    "    * Tabel `neighborhoods`: data terkait wilayah di kota Chicago\n",
    "    * Tabel `cabs`: data terkait taksi\n",
    "    * Tabel `trips`: data terkait perjalanan\n",
    "    * Tabel `weather_records`: data terkait cuaca\n",
    "\n",
    "Karena kita tidak memiliki informasi mengenai data cuaca, maka kita perlu mendapatkan informasi data cuaca di Chicago pada bulan November 2017 dari situs web: https://practicum-content.s3.us-west-1.amazonaws.com/data-analyst-eng/moved_chicago_weather_2017.html.\n",
    "\n",
    "Selanjutnya, kita memiliki tiga dataset yang akan digunakan selama penelitian ini. Ketiga dataset tersebut adalah:\n",
    "\n",
    "    * Dataset pertama: `project_sql_result_01.csv.`\n",
    "    * Dataset kedua: `project_sql_result_04.csv.`\n",
    "    * Dataset ketiga: `project_sql_result_07.csv` \n",
    "\n",
    "\n",
    "Dataset pertama dan kedua digunakan untuk memahami preferensi penumpang, sedangkan dataset ketiga digunakan untuk menguji hipotesis dimana dampak faktor eksternal seperti cuaca dapat mempengaruhi frekuensi perjalanan.\n",
    "\n",
    "Dari tahap pra-pemrosesan data, kita mendapat kesimpulan, bahwa:\n",
    "\n",
    "1. Dataset pertama berisi informasi mengenai perjalanan dari perusahaan taksi dan dataset kedua berisi informasi rata-rata jumlah perjalanan yang berakhir di setiap wilayah tertentu.\n",
    "\n",
    "2. Dataset pertama tidak memiliki masalah, tidak ada nilai yang hilang dan tipe data kolom sudah sesuai, namun perlu dilakukan pengecekan apakah terdapat duplikasi data atau tidak.\n",
    "\n",
    "3. Dataset kedua juga tidak memiliki nilai yang hilang, namun tipe data untuk kolom `average_trips` tidak sesuai, sehingga diputuskan untuk diubah menjadi integer, mengingat kolom tersebut berisi rata-rata jumlah perjalanan yang tidak mungkin bernilai float.\n",
    "\n",
    "4. Tidak ada data yang terduplikasi.\n",
    "\n",
    "5. Dataset ketiga tidak memiliki masalah yang signifikan, namun ketika dilakukan pra-pemrosesan data pada tahap pengujian hipotesis, ditemukan banyak *outlier*, sehingga diputuskan untuk membuang *outlier* tersebut dan menggunakan data tanpa *outlier* untuk menguji hipotesis.\n",
    "\n",
    "Setelah selesai memperbaiki data yang bermasalah, kita mencoba menganalisa data dengan melakukan beberapa langkah, yaitu:\n",
    "\n",
    "1. Mengidentifikasi 10 wilayah teratas yang dijadikan sebagai titik pengantaran dan juga 10 perusahaan taksi teratas dan jumlah perjalanannya. \n",
    "\n",
    "2. Setelah dilakukan analisa dan melihat grafik dari 10 wilayah teratas, wilayah **Loop** menjadi wilayah yang paling sering dijadikan sebagai titik pengantaran terakhir di Chicago dengan jumlah rata-rata pengantaran sebanyak 10.728. Wilayah - wilayah teratas tersebut merupakan area pusat kota Chicago yang ramai. Hal ini dapat dilihat melalui grafik dimana kita sudah mengurutkan 10 wilayah teratas berdasarkan titik pengantaran.\n",
    "\n",
    "3. Melalui grafik 10 perusahaan taksi teratas, didapatkan kesimpulan bahwa perusahaan taksi **Flash Cab** merupakan perusahaan taksi yang paling banyak jumlah pengantarannya dalam rentang waktu tanggal 15-16 November 2017, dengan total jumlah 19.558. Perusahaan taksi ini sepertinya cukup populer dibandingkan perusahaan taksi lainnya.\n",
    "\n",
    "Dengan demikian, kita dapat melihat bahwa preferensi penumpang terhadap perjalanan adalah mereka membutuhkan perusahaan taksi yang memberikan kenyamanan bagi penumpang dengan harga yang kompetitif selama perjalanan untuk menuju daerah - daerah pusat kota Chicago yang ramai.\n",
    "\n",
    "Pada awal proyek, kita juga telah merumuskan hipotesis sebagai berikut:\n",
    "\n",
    "*Durasi rata-rata perjalanan dari Loop ke Bandara Internasional O'Hare berubah pada hari-hari Sabtu yang hujan.*\n",
    "\n",
    "Setelah menganalisis data dan melakukan uji hipotesis statistik dengan merumuskan hipotesis nol dan alternatif dan melakukan pengujian t-test, kita mendapatkan kesimpulan bahwa: terdapat perbedaan pada durasi rata-rata perjalanan dari Loop ke Bandara Internasional O'Hare pada hari-hari Sabtu yang hujan dan yang tidak hujan.\n",
    "\n",
    "Sehingga, dengan kata lain, hipotesis awal kita yang menyatakan bahwa durasi rata-rata perjalanan dari Loop ke Bandara Internasional O'Hare berubah pada hari-hari Sabtu yang hujan, dapat diterima sepenuhnya. Karena jika terdapat perbedaan, maka sama artinya dengan adanya perubahan durasi rata-rata perjalanan yang dipengaruhi oleh kondisi cuaca, baik saat hujan maupun tidak hujan.\n",
    "\n",
    "Dengan demikian, kita sudah menguji hipotesis kita dan menarik kesimpulan. Perusahaan Zuber dapat mempertimbangkan beberapa preferensi penumpang seperti pemilihan perusahaan taksi yang populer dan wilayah tujuan akhir yang paling banyak dituju, serta pola dimana kondisi cuaca dapat mempengaruhi frekuensi suatu perjalanan.\n"
   ]
  },
  {
   "cell_type": "code",
   "execution_count": null,
   "metadata": {},
   "outputs": [],
   "source": []
  }
 ],
 "metadata": {
  "kernelspec": {
   "display_name": "Python 3 (ipykernel)",
   "language": "python",
   "name": "python3"
  },
  "language_info": {
   "codemirror_mode": {
    "name": "ipython",
    "version": 3
   },
   "file_extension": ".py",
   "mimetype": "text/x-python",
   "name": "python",
   "nbconvert_exporter": "python",
   "pygments_lexer": "ipython3",
   "version": "3.9.5"
  },
  "toc": {
   "base_numbering": 1,
   "nav_menu": {},
   "number_sections": true,
   "sideBar": true,
   "skip_h1_title": true,
   "title_cell": "Table of Contents",
   "title_sidebar": "Contents",
   "toc_cell": false,
   "toc_position": {},
   "toc_section_display": true,
   "toc_window_display": false
  }
 },
 "nbformat": 4,
 "nbformat_minor": 2
}
