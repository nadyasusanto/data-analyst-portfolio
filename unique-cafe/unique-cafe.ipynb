{
 "cells": [
  {
   "cell_type": "markdown",
   "metadata": {},
   "source": [
    "# Bagaimana Peluang Usaha Cafe Unik di Los Angeles?"
   ]
  },
  {
   "cell_type": "markdown",
   "metadata": {},
   "source": [
    "Saat ini, kita memiliki sebuah kafe kecil yang unik di Los Angeles (LA). Mengapa disebut unik? Karena kita \"memperkerjakan\" robot sebagai pelayan atau pramusaji. Proyek ini memang menjanjikan, namun membutuhkan modal yang besar.\n",
    "\n",
    "Oleh karena itu, kita bersama para mitra memutuskan untuk menarik minat investor. Mereka tertarik dengan kondisi pasar saat ini—namun, apakah kita mampu mempertahankan kesuksesan saat daya tarik sang robot mulai pudar?\n",
    "\n",
    "Para mitra pun meminta kita yang berprofesi sebagai pakar analisis untuk mempersiapkan sejumlah riset pasar. Kita memiliki data dari sumber terbuka (*open source*) terkait jenis-jenis usaha tempat makan di LA."
   ]
  },
  {
   "cell_type": "markdown",
   "metadata": {},
   "source": [
    "**KONTEN**\n",
    "\n",
    "* [Pendahuluan]\n",
    "* [Tahap 1. Eksplorasi Data]\n",
    "    * [1.1 Inisialisasi]\n",
    "    * [1.2 Memuat Data]\n",
    "    * [1.3 Mempersiapkan Data]\n",
    "    * [1.4 Kesimpulan dan Langkah Selanjutnya]\n",
    "* [Tahap 2. Pra-pemrosesan Data]   \n",
    "    * [2.1 Nilai yang Hilang]\n",
    "    * [2.2 Mengatasi Duplikat]\n",
    "    * [2.3 Memperbaiki Tipe Data]\n",
    "    * [2.4 Kesimpulan dan Langkah Selanjutnya]\n",
    "* [Tahap 3. Analisa Data]\n",
    "    * [3.1 Jenis Usaha]\n",
    "    * [3.2 Basis Usaha]\n",
    "    * [3.3 Jenis Usaha Bersadarkan Basisnya]\n",
    "    * [3.4 Ciri-ciri Jenis Usaha Berbasis Waralaba]\n",
    "    * [3.5 Jumlah Kursi Terbanyak]\n",
    "    * [3.6 Data Nama Jalan]\n",
    "    * [3.7 Sepuluh Nama Jalan Teratas Berdasarkan Jumlah Usaha]\n",
    "    * [3.8 Jalan yang Hanya Memiliki Satu Usaha]\n",
    "    * [3.9 Distribusi Jumlah Kursi Tempat Makan di Jalan Paling Populer]\n",
    "    * [3.10 Kesimpulan dan Langkah Selanjutnya] \n",
    "* [Kesimpulan Umum]"
   ]
  },
  {
   "cell_type": "markdown",
   "metadata": {},
   "source": [
    "## Pendahuluan\n",
    "\n",
    "Dalam proyek kali ini, kita akan mempelajari dan menganalisis data mengenai berbagai jenis usaha tempat makan di Los Angeles untuk menjawab pertanyaan para investor: apakah cafe unik yang menggunakan robot sebagai pramusaji seperti yang kita miliki ini akan dapat bertahan? \n",
    "\n",
    "### Tujuan\n",
    "\n",
    "Mengetahui tren dari berbagai jenis usaha agar dapat menentukan apakah cafe unik yang menggunakan robot sebagai pramusaji seperti yang kita miliki ini akan dapat bertahan atau tidak.\n",
    "\n",
    "### Tahapan\n",
    "\n",
    "Kumpulan data terkait berbagai jenis usaha tempat makan di LA disimpan dalam file berikut `/datasets/rest_data_us.csv`. \n",
    "\n",
    "Pertama, karena tidak ada informasi terkait kualitas data tersebut, kita perlu memeriksanya terlebih dahulu. Kita akan melakukan pra-pemrosesan data, dan mencoba mengatasi masalah yang muncul pada data tersebut, seperti nilai yang hilang, duplikasi, dan sebagainya. Kemudian, kita akan melakukan analisa data dan terakhir menarik kesimpulan.\n",
    " \n",
    "Proyek ini akan terdiri dari 3 tahap:\n",
    " 1. Ikhtisar Data\n",
    " 2. Pra-pemrosesan Data\n",
    " 3. Analisa Data"
   ]
  },
  {
   "cell_type": "markdown",
   "metadata": {},
   "source": [
    "## Eksplorasi Data"
   ]
  },
  {
   "cell_type": "markdown",
   "metadata": {},
   "source": [
    "### Inisialisasi"
   ]
  },
  {
   "cell_type": "code",
   "execution_count": 135,
   "metadata": {},
   "outputs": [],
   "source": [
    "from scipy import stats as st\n",
    "import pandas as pd\n",
    "import seaborn as sns\n",
    "import matplotlib.pyplot as plt\n",
    "import plotly.express as px\n",
    "import math\n",
    "import numpy as np"
   ]
  },
  {
   "cell_type": "markdown",
   "metadata": {},
   "source": [
    "### Memuat Data"
   ]
  },
  {
   "cell_type": "code",
   "execution_count": 136,
   "metadata": {},
   "outputs": [],
   "source": [
    "df = pd.read_csv('/datasets/rest_data_us.csv')"
   ]
  },
  {
   "cell_type": "markdown",
   "metadata": {},
   "source": [
    "### Mempersiapkan Data"
   ]
  },
  {
   "cell_type": "markdown",
   "metadata": {},
   "source": [
    "Tabel `rest_data` berisi informasi:\n",
    "\n",
    " * object_name — nama usaha\n",
    " * chain — usaha berbasis waralaba (TRUE/FALSE)\n",
    " * object_type — jenis usaha\n",
    " * address — alamat\n",
    " * number — jumlah kursi"
   ]
  },
  {
   "cell_type": "code",
   "execution_count": 137,
   "metadata": {},
   "outputs": [
    {
     "data": {
      "text/html": [
       "<div>\n",
       "<style scoped>\n",
       "    .dataframe tbody tr th:only-of-type {\n",
       "        vertical-align: middle;\n",
       "    }\n",
       "\n",
       "    .dataframe tbody tr th {\n",
       "        vertical-align: top;\n",
       "    }\n",
       "\n",
       "    .dataframe thead th {\n",
       "        text-align: right;\n",
       "    }\n",
       "</style>\n",
       "<table border=\"1\" class=\"dataframe\">\n",
       "  <thead>\n",
       "    <tr style=\"text-align: right;\">\n",
       "      <th></th>\n",
       "      <th>id</th>\n",
       "      <th>object_name</th>\n",
       "      <th>address</th>\n",
       "      <th>chain</th>\n",
       "      <th>object_type</th>\n",
       "      <th>number</th>\n",
       "    </tr>\n",
       "  </thead>\n",
       "  <tbody>\n",
       "    <tr>\n",
       "      <th>0</th>\n",
       "      <td>11786</td>\n",
       "      <td>HABITAT COFFEE SHOP</td>\n",
       "      <td>3708 N EAGLE ROCK BLVD</td>\n",
       "      <td>False</td>\n",
       "      <td>Cafe</td>\n",
       "      <td>26</td>\n",
       "    </tr>\n",
       "    <tr>\n",
       "      <th>1</th>\n",
       "      <td>11787</td>\n",
       "      <td>REILLY'S</td>\n",
       "      <td>100 WORLD WAY # 120</td>\n",
       "      <td>False</td>\n",
       "      <td>Restaurant</td>\n",
       "      <td>9</td>\n",
       "    </tr>\n",
       "    <tr>\n",
       "      <th>2</th>\n",
       "      <td>11788</td>\n",
       "      <td>STREET CHURROS</td>\n",
       "      <td>6801 HOLLYWOOD BLVD # 253</td>\n",
       "      <td>False</td>\n",
       "      <td>Fast Food</td>\n",
       "      <td>20</td>\n",
       "    </tr>\n",
       "    <tr>\n",
       "      <th>3</th>\n",
       "      <td>11789</td>\n",
       "      <td>TRINITI ECHO PARK</td>\n",
       "      <td>1814 W SUNSET BLVD</td>\n",
       "      <td>False</td>\n",
       "      <td>Restaurant</td>\n",
       "      <td>22</td>\n",
       "    </tr>\n",
       "    <tr>\n",
       "      <th>4</th>\n",
       "      <td>11790</td>\n",
       "      <td>POLLEN</td>\n",
       "      <td>2100 ECHO PARK AVE</td>\n",
       "      <td>False</td>\n",
       "      <td>Restaurant</td>\n",
       "      <td>20</td>\n",
       "    </tr>\n",
       "    <tr>\n",
       "      <th>...</th>\n",
       "      <td>...</td>\n",
       "      <td>...</td>\n",
       "      <td>...</td>\n",
       "      <td>...</td>\n",
       "      <td>...</td>\n",
       "      <td>...</td>\n",
       "    </tr>\n",
       "    <tr>\n",
       "      <th>9646</th>\n",
       "      <td>21432</td>\n",
       "      <td>HALL OF JUSTICE</td>\n",
       "      <td>217 W TEMPLE AVE</td>\n",
       "      <td>False</td>\n",
       "      <td>Restaurant</td>\n",
       "      <td>122</td>\n",
       "    </tr>\n",
       "    <tr>\n",
       "      <th>9647</th>\n",
       "      <td>21433</td>\n",
       "      <td>FIN-MELROSE</td>\n",
       "      <td>5750 MELROSE AVE</td>\n",
       "      <td>False</td>\n",
       "      <td>Restaurant</td>\n",
       "      <td>93</td>\n",
       "    </tr>\n",
       "    <tr>\n",
       "      <th>9648</th>\n",
       "      <td>21434</td>\n",
       "      <td>JUICY WINGZ</td>\n",
       "      <td>6741 HOLLYWOOD BLVD</td>\n",
       "      <td>True</td>\n",
       "      <td>Fast Food</td>\n",
       "      <td>15</td>\n",
       "    </tr>\n",
       "    <tr>\n",
       "      <th>9649</th>\n",
       "      <td>21435</td>\n",
       "      <td>MEDIDATE COFFEE</td>\n",
       "      <td>548 S SPRING ST STE 100</td>\n",
       "      <td>False</td>\n",
       "      <td>Cafe</td>\n",
       "      <td>6</td>\n",
       "    </tr>\n",
       "    <tr>\n",
       "      <th>9650</th>\n",
       "      <td>21436</td>\n",
       "      <td>CAFE SPROUTS</td>\n",
       "      <td>1300 S SAN PEDRO ST STE 111</td>\n",
       "      <td>True</td>\n",
       "      <td>Restaurant</td>\n",
       "      <td>19</td>\n",
       "    </tr>\n",
       "  </tbody>\n",
       "</table>\n",
       "<p>9651 rows × 6 columns</p>\n",
       "</div>"
      ],
      "text/plain": [
       "         id          object_name                      address  chain  \\\n",
       "0     11786  HABITAT COFFEE SHOP       3708 N EAGLE ROCK BLVD  False   \n",
       "1     11787             REILLY'S          100 WORLD WAY # 120  False   \n",
       "2     11788       STREET CHURROS    6801 HOLLYWOOD BLVD # 253  False   \n",
       "3     11789    TRINITI ECHO PARK           1814 W SUNSET BLVD  False   \n",
       "4     11790               POLLEN           2100 ECHO PARK AVE  False   \n",
       "...     ...                  ...                          ...    ...   \n",
       "9646  21432      HALL OF JUSTICE             217 W TEMPLE AVE  False   \n",
       "9647  21433          FIN-MELROSE             5750 MELROSE AVE  False   \n",
       "9648  21434          JUICY WINGZ          6741 HOLLYWOOD BLVD   True   \n",
       "9649  21435      MEDIDATE COFFEE      548 S SPRING ST STE 100  False   \n",
       "9650  21436         CAFE SPROUTS  1300 S SAN PEDRO ST STE 111   True   \n",
       "\n",
       "     object_type  number  \n",
       "0           Cafe      26  \n",
       "1     Restaurant       9  \n",
       "2      Fast Food      20  \n",
       "3     Restaurant      22  \n",
       "4     Restaurant      20  \n",
       "...          ...     ...  \n",
       "9646  Restaurant     122  \n",
       "9647  Restaurant      93  \n",
       "9648   Fast Food      15  \n",
       "9649        Cafe       6  \n",
       "9650  Restaurant      19  \n",
       "\n",
       "[9651 rows x 6 columns]"
      ]
     },
     "execution_count": 137,
     "metadata": {},
     "output_type": "execute_result"
    }
   ],
   "source": [
    "df"
   ]
  },
  {
   "cell_type": "code",
   "execution_count": 138,
   "metadata": {},
   "outputs": [
    {
     "name": "stdout",
     "output_type": "stream",
     "text": [
      "<class 'pandas.core.frame.DataFrame'>\n",
      "RangeIndex: 9651 entries, 0 to 9650\n",
      "Data columns (total 6 columns):\n",
      " #   Column       Non-Null Count  Dtype \n",
      "---  ------       --------------  ----- \n",
      " 0   id           9651 non-null   int64 \n",
      " 1   object_name  9651 non-null   object\n",
      " 2   address      9651 non-null   object\n",
      " 3   chain        9648 non-null   object\n",
      " 4   object_type  9651 non-null   object\n",
      " 5   number       9651 non-null   int64 \n",
      "dtypes: int64(2), object(4)\n",
      "memory usage: 452.5+ KB\n"
     ]
    }
   ],
   "source": [
    "df.info()"
   ]
  },
  {
   "cell_type": "code",
   "execution_count": 139,
   "metadata": {},
   "outputs": [
    {
     "data": {
      "text/plain": [
       "(9651, 6)"
      ]
     },
     "execution_count": 139,
     "metadata": {},
     "output_type": "execute_result"
    }
   ],
   "source": [
    "df.shape"
   ]
  },
  {
   "cell_type": "markdown",
   "metadata": {},
   "source": [
    "### Kesimpulan dan Langkah Selanjutnya"
   ]
  },
  {
   "cell_type": "markdown",
   "metadata": {},
   "source": [
    "Terdapat 6 kolom dan 9651 baris pada dataset yang kita miliki.\n",
    "\n",
    "Kita dapat melihat beberapa permasalahan pada dataset tersebut, yaitu:\n",
    "\n",
    "1. Terdapat nilai yang hilang pada kolom `chain`, dimana kolom tersebut hanya memiliki 9648 baris sedangkan keseluruhan dataset harusnya memiliki 9651 baris.\n",
    "\n",
    "2. Kesalahan tipe data pada kolom `chain` yang seharusnya adalah bool, namun saat ini tipe datanya adalah object.\n",
    "\n",
    "Langkah selanjutnya yang akan kita lakukan pada pra-pemrosesan data:\n",
    "\n",
    "1. Mengisi nilai yang hilang dan memeriksa duplikat. Kita perlu meneliti lebih lanjut, apakah nilai yang hilang pada dataset adalah karena kesalahan *input* data atau karena alasan lain, sehingga kita dapat memutuskan langkah yang tepat untuk mengatasinya. Mungkin saja kita perlu mengisi nilai yang hilang dengan nilai rata - rata atau median dari pengelompokkan data dengan kolom lain, atau data tersebut dapat kita eliminasi karena dinilai tidak berpengaruh terhadap penelitian kita.\n",
    "\n",
    "2. Mengganti tipe data pada kolom `chain` dari object menjadi bool."
   ]
  },
  {
   "cell_type": "markdown",
   "metadata": {},
   "source": [
    "## Pra-Pemrosesan Data"
   ]
  },
  {
   "cell_type": "markdown",
   "metadata": {},
   "source": [
    "Pada tahap sebelumnya, kita sudah melihat bahwa terdapat beberapa masalah pada dataset yang kita miliki. Melalui tahap pra-pemrosesan data, kita akan coba mengatasi masalah - masalah tersebut."
   ]
  },
  {
   "cell_type": "markdown",
   "metadata": {},
   "source": [
    "### Nilai yang Hilang"
   ]
  },
  {
   "cell_type": "code",
   "execution_count": 140,
   "metadata": {},
   "outputs": [
    {
     "data": {
      "text/plain": [
       "id             0\n",
       "object_name    0\n",
       "address        0\n",
       "chain          3\n",
       "object_type    0\n",
       "number         0\n",
       "dtype: int64"
      ]
     },
     "execution_count": 140,
     "metadata": {},
     "output_type": "execute_result"
    }
   ],
   "source": [
    "df.isna().sum()"
   ]
  },
  {
   "cell_type": "code",
   "execution_count": 141,
   "metadata": {},
   "outputs": [
    {
     "data": {
      "text/plain": [
       "id             0.000000\n",
       "object_name    0.000000\n",
       "address        0.000000\n",
       "chain          0.031085\n",
       "object_type    0.000000\n",
       "number         0.000000\n",
       "dtype: float64"
      ]
     },
     "execution_count": 141,
     "metadata": {},
     "output_type": "execute_result"
    }
   ],
   "source": [
    "df.isna().sum() / len(df) * 100"
   ]
  },
  {
   "cell_type": "code",
   "execution_count": 142,
   "metadata": {},
   "outputs": [
    {
     "data": {
      "text/html": [
       "<div>\n",
       "<style scoped>\n",
       "    .dataframe tbody tr th:only-of-type {\n",
       "        vertical-align: middle;\n",
       "    }\n",
       "\n",
       "    .dataframe tbody tr th {\n",
       "        vertical-align: top;\n",
       "    }\n",
       "\n",
       "    .dataframe thead th {\n",
       "        text-align: right;\n",
       "    }\n",
       "</style>\n",
       "<table border=\"1\" class=\"dataframe\">\n",
       "  <thead>\n",
       "    <tr style=\"text-align: right;\">\n",
       "      <th></th>\n",
       "      <th>id</th>\n",
       "      <th>object_name</th>\n",
       "      <th>address</th>\n",
       "      <th>chain</th>\n",
       "      <th>object_type</th>\n",
       "      <th>number</th>\n",
       "    </tr>\n",
       "  </thead>\n",
       "  <tbody>\n",
       "    <tr>\n",
       "      <th>7408</th>\n",
       "      <td>19194</td>\n",
       "      <td>TAQUERIA LOS 3 CARNALES</td>\n",
       "      <td>5000 E WHITTIER BLVD</td>\n",
       "      <td>NaN</td>\n",
       "      <td>Restaurant</td>\n",
       "      <td>14</td>\n",
       "    </tr>\n",
       "    <tr>\n",
       "      <th>7523</th>\n",
       "      <td>19309</td>\n",
       "      <td>JAMMIN JIMMY'S PIZZA</td>\n",
       "      <td>1641 FIRESTONE BLVD</td>\n",
       "      <td>NaN</td>\n",
       "      <td>Pizza</td>\n",
       "      <td>1</td>\n",
       "    </tr>\n",
       "    <tr>\n",
       "      <th>8648</th>\n",
       "      <td>20434</td>\n",
       "      <td>THE LEXINGTON THEATER</td>\n",
       "      <td>129 E 3RD ST</td>\n",
       "      <td>NaN</td>\n",
       "      <td>Restaurant</td>\n",
       "      <td>35</td>\n",
       "    </tr>\n",
       "  </tbody>\n",
       "</table>\n",
       "</div>"
      ],
      "text/plain": [
       "         id              object_name               address chain object_type  \\\n",
       "7408  19194  TAQUERIA LOS 3 CARNALES  5000 E WHITTIER BLVD   NaN  Restaurant   \n",
       "7523  19309     JAMMIN JIMMY'S PIZZA   1641 FIRESTONE BLVD   NaN       Pizza   \n",
       "8648  20434    THE LEXINGTON THEATER          129 E 3RD ST   NaN  Restaurant   \n",
       "\n",
       "      number  \n",
       "7408      14  \n",
       "7523       1  \n",
       "8648      35  "
      ]
     },
     "execution_count": 142,
     "metadata": {},
     "output_type": "execute_result"
    }
   ],
   "source": [
    "df[df['chain'].isna()]"
   ]
  },
  {
   "cell_type": "markdown",
   "metadata": {},
   "source": [
    "Persentase nilai yang hilang pada kolom `chain` sangat kecil, yaitu sebesar 0.03% saja. Dengan mempertimbangkan persentasenya yang sangat kecil, data ini akan kita hapus, karena tidak akan mempengaruhi analisis data."
   ]
  },
  {
   "cell_type": "code",
   "execution_count": 143,
   "metadata": {},
   "outputs": [],
   "source": [
    "df = df.drop(df[df['chain'].isna()].index)"
   ]
  },
  {
   "cell_type": "code",
   "execution_count": 144,
   "metadata": {},
   "outputs": [
    {
     "data": {
      "text/html": [
       "<div>\n",
       "<style scoped>\n",
       "    .dataframe tbody tr th:only-of-type {\n",
       "        vertical-align: middle;\n",
       "    }\n",
       "\n",
       "    .dataframe tbody tr th {\n",
       "        vertical-align: top;\n",
       "    }\n",
       "\n",
       "    .dataframe thead th {\n",
       "        text-align: right;\n",
       "    }\n",
       "</style>\n",
       "<table border=\"1\" class=\"dataframe\">\n",
       "  <thead>\n",
       "    <tr style=\"text-align: right;\">\n",
       "      <th></th>\n",
       "      <th>id</th>\n",
       "      <th>object_name</th>\n",
       "      <th>address</th>\n",
       "      <th>chain</th>\n",
       "      <th>object_type</th>\n",
       "      <th>number</th>\n",
       "    </tr>\n",
       "  </thead>\n",
       "  <tbody>\n",
       "  </tbody>\n",
       "</table>\n",
       "</div>"
      ],
      "text/plain": [
       "Empty DataFrame\n",
       "Columns: [id, object_name, address, chain, object_type, number]\n",
       "Index: []"
      ]
     },
     "execution_count": 144,
     "metadata": {},
     "output_type": "execute_result"
    }
   ],
   "source": [
    "df[df['chain'].isna()]"
   ]
  },
  {
   "cell_type": "markdown",
   "metadata": {},
   "source": [
    "Data dengan nilai yang hilang sudah kita hapus."
   ]
  },
  {
   "cell_type": "markdown",
   "metadata": {},
   "source": [
    "### Mengatasi Duplikat"
   ]
  },
  {
   "cell_type": "code",
   "execution_count": 145,
   "metadata": {},
   "outputs": [
    {
     "data": {
      "text/plain": [
       "0"
      ]
     },
     "execution_count": 145,
     "metadata": {},
     "output_type": "execute_result"
    }
   ],
   "source": [
    "df.duplicated().sum()"
   ]
  },
  {
   "cell_type": "markdown",
   "metadata": {},
   "source": [
    "### Memperbaiki Tipe Data"
   ]
  },
  {
   "cell_type": "code",
   "execution_count": 146,
   "metadata": {},
   "outputs": [],
   "source": [
    "df['chain'] = df['chain'].astype('bool')"
   ]
  },
  {
   "cell_type": "code",
   "execution_count": 147,
   "metadata": {},
   "outputs": [
    {
     "name": "stdout",
     "output_type": "stream",
     "text": [
      "<class 'pandas.core.frame.DataFrame'>\n",
      "Int64Index: 9648 entries, 0 to 9650\n",
      "Data columns (total 6 columns):\n",
      " #   Column       Non-Null Count  Dtype \n",
      "---  ------       --------------  ----- \n",
      " 0   id           9648 non-null   int64 \n",
      " 1   object_name  9648 non-null   object\n",
      " 2   address      9648 non-null   object\n",
      " 3   chain        9648 non-null   bool  \n",
      " 4   object_type  9648 non-null   object\n",
      " 5   number       9648 non-null   int64 \n",
      "dtypes: bool(1), int64(2), object(3)\n",
      "memory usage: 461.7+ KB\n"
     ]
    }
   ],
   "source": [
    "df.info()"
   ]
  },
  {
   "cell_type": "markdown",
   "metadata": {},
   "source": [
    "### Kesimpulan dan Langkah Selanjutnya"
   ]
  },
  {
   "cell_type": "markdown",
   "metadata": {},
   "source": [
    "Setelah melakukan pra-pemrosesan data, kita dapat menarik kesimpulan sementara:\n",
    "\n",
    "1. Terdapat nilai yang hilang pada kolom `chain`. Setelah dilakukan penelitian, persentase data yang hilang tersebut hanya 0.03%, karena itu, data tersebut sudah dihapus.\n",
    "\n",
    "2. Tipe data kolom `chain` awalnya adalah object. Dengan mempertimbangkan bahwa kolom tersebut berisi kondisi Boolean (True/False), maka tipe data kolom `chain` sudah diganti menjadi tipe bool agar lebih sesuai.\n",
    "\n",
    "3. Tidak terdapat data yang terduplikasi pada dataset yang kita miliki.\n",
    "\n",
    "4. Setelah memperbaiki masalah-masalah yang ada, saat ini dataset kita mempunyai jumlah 6 kolom dan 9648 baris. \n",
    "\n",
    "Selanjutnya, kita dapat melakukan analisis data."
   ]
  },
  {
   "cell_type": "markdown",
   "metadata": {},
   "source": [
    "## Analisa Data"
   ]
  },
  {
   "cell_type": "markdown",
   "metadata": {},
   "source": [
    "### Jenis Usaha"
   ]
  },
  {
   "cell_type": "code",
   "execution_count": 148,
   "metadata": {},
   "outputs": [
    {
     "data": {
      "text/html": [
       "<div>\n",
       "<style scoped>\n",
       "    .dataframe tbody tr th:only-of-type {\n",
       "        vertical-align: middle;\n",
       "    }\n",
       "\n",
       "    .dataframe tbody tr th {\n",
       "        vertical-align: top;\n",
       "    }\n",
       "\n",
       "    .dataframe thead th {\n",
       "        text-align: right;\n",
       "    }\n",
       "</style>\n",
       "<table border=\"1\" class=\"dataframe\">\n",
       "  <thead>\n",
       "    <tr style=\"text-align: right;\">\n",
       "      <th></th>\n",
       "      <th>id</th>\n",
       "      <th>object_name</th>\n",
       "      <th>address</th>\n",
       "      <th>chain</th>\n",
       "      <th>object_type</th>\n",
       "      <th>number</th>\n",
       "    </tr>\n",
       "  </thead>\n",
       "  <tbody>\n",
       "    <tr>\n",
       "      <th>0</th>\n",
       "      <td>11786</td>\n",
       "      <td>HABITAT COFFEE SHOP</td>\n",
       "      <td>3708 N EAGLE ROCK BLVD</td>\n",
       "      <td>False</td>\n",
       "      <td>Cafe</td>\n",
       "      <td>26</td>\n",
       "    </tr>\n",
       "    <tr>\n",
       "      <th>1</th>\n",
       "      <td>11787</td>\n",
       "      <td>REILLY'S</td>\n",
       "      <td>100 WORLD WAY # 120</td>\n",
       "      <td>False</td>\n",
       "      <td>Restaurant</td>\n",
       "      <td>9</td>\n",
       "    </tr>\n",
       "    <tr>\n",
       "      <th>2</th>\n",
       "      <td>11788</td>\n",
       "      <td>STREET CHURROS</td>\n",
       "      <td>6801 HOLLYWOOD BLVD # 253</td>\n",
       "      <td>False</td>\n",
       "      <td>Fast Food</td>\n",
       "      <td>20</td>\n",
       "    </tr>\n",
       "    <tr>\n",
       "      <th>3</th>\n",
       "      <td>11789</td>\n",
       "      <td>TRINITI ECHO PARK</td>\n",
       "      <td>1814 W SUNSET BLVD</td>\n",
       "      <td>False</td>\n",
       "      <td>Restaurant</td>\n",
       "      <td>22</td>\n",
       "    </tr>\n",
       "    <tr>\n",
       "      <th>4</th>\n",
       "      <td>11790</td>\n",
       "      <td>POLLEN</td>\n",
       "      <td>2100 ECHO PARK AVE</td>\n",
       "      <td>False</td>\n",
       "      <td>Restaurant</td>\n",
       "      <td>20</td>\n",
       "    </tr>\n",
       "  </tbody>\n",
       "</table>\n",
       "</div>"
      ],
      "text/plain": [
       "      id          object_name                    address  chain object_type  \\\n",
       "0  11786  HABITAT COFFEE SHOP     3708 N EAGLE ROCK BLVD  False        Cafe   \n",
       "1  11787             REILLY'S        100 WORLD WAY # 120  False  Restaurant   \n",
       "2  11788       STREET CHURROS  6801 HOLLYWOOD BLVD # 253  False   Fast Food   \n",
       "3  11789    TRINITI ECHO PARK         1814 W SUNSET BLVD  False  Restaurant   \n",
       "4  11790               POLLEN         2100 ECHO PARK AVE  False  Restaurant   \n",
       "\n",
       "   number  \n",
       "0      26  \n",
       "1       9  \n",
       "2      20  \n",
       "3      22  \n",
       "4      20  "
      ]
     },
     "execution_count": 148,
     "metadata": {},
     "output_type": "execute_result"
    }
   ],
   "source": [
    "df.head()"
   ]
  },
  {
   "cell_type": "code",
   "execution_count": 149,
   "metadata": {},
   "outputs": [
    {
     "data": {
      "text/plain": [
       "array(['Cafe', 'Restaurant', 'Fast Food', 'Bakery', 'Bar', 'Pizza'],\n",
       "      dtype=object)"
      ]
     },
     "execution_count": 149,
     "metadata": {},
     "output_type": "execute_result"
    }
   ],
   "source": [
    "df['object_type'].unique()"
   ]
  },
  {
   "cell_type": "code",
   "execution_count": 150,
   "metadata": {},
   "outputs": [
    {
     "data": {
      "text/html": [
       "<div>\n",
       "<style scoped>\n",
       "    .dataframe tbody tr th:only-of-type {\n",
       "        vertical-align: middle;\n",
       "    }\n",
       "\n",
       "    .dataframe tbody tr th {\n",
       "        vertical-align: top;\n",
       "    }\n",
       "\n",
       "    .dataframe thead th {\n",
       "        text-align: right;\n",
       "    }\n",
       "</style>\n",
       "<table border=\"1\" class=\"dataframe\">\n",
       "  <thead>\n",
       "    <tr style=\"text-align: right;\">\n",
       "      <th></th>\n",
       "      <th>id</th>\n",
       "      <th>object_name</th>\n",
       "      <th>address</th>\n",
       "      <th>chain</th>\n",
       "      <th>number</th>\n",
       "    </tr>\n",
       "    <tr>\n",
       "      <th>object_type</th>\n",
       "      <th></th>\n",
       "      <th></th>\n",
       "      <th></th>\n",
       "      <th></th>\n",
       "      <th></th>\n",
       "    </tr>\n",
       "  </thead>\n",
       "  <tbody>\n",
       "    <tr>\n",
       "      <th>Restaurant</th>\n",
       "      <td>7253</td>\n",
       "      <td>7253</td>\n",
       "      <td>7253</td>\n",
       "      <td>7253</td>\n",
       "      <td>7253</td>\n",
       "    </tr>\n",
       "    <tr>\n",
       "      <th>Fast Food</th>\n",
       "      <td>1066</td>\n",
       "      <td>1066</td>\n",
       "      <td>1066</td>\n",
       "      <td>1066</td>\n",
       "      <td>1066</td>\n",
       "    </tr>\n",
       "    <tr>\n",
       "      <th>Cafe</th>\n",
       "      <td>435</td>\n",
       "      <td>435</td>\n",
       "      <td>435</td>\n",
       "      <td>435</td>\n",
       "      <td>435</td>\n",
       "    </tr>\n",
       "    <tr>\n",
       "      <th>Pizza</th>\n",
       "      <td>319</td>\n",
       "      <td>319</td>\n",
       "      <td>319</td>\n",
       "      <td>319</td>\n",
       "      <td>319</td>\n",
       "    </tr>\n",
       "    <tr>\n",
       "      <th>Bar</th>\n",
       "      <td>292</td>\n",
       "      <td>292</td>\n",
       "      <td>292</td>\n",
       "      <td>292</td>\n",
       "      <td>292</td>\n",
       "    </tr>\n",
       "    <tr>\n",
       "      <th>Bakery</th>\n",
       "      <td>283</td>\n",
       "      <td>283</td>\n",
       "      <td>283</td>\n",
       "      <td>283</td>\n",
       "      <td>283</td>\n",
       "    </tr>\n",
       "  </tbody>\n",
       "</table>\n",
       "</div>"
      ],
      "text/plain": [
       "               id  object_name  address  chain  number\n",
       "object_type                                           \n",
       "Restaurant   7253         7253     7253   7253    7253\n",
       "Fast Food    1066         1066     1066   1066    1066\n",
       "Cafe          435          435      435    435     435\n",
       "Pizza         319          319      319    319     319\n",
       "Bar           292          292      292    292     292\n",
       "Bakery        283          283      283    283     283"
      ]
     },
     "execution_count": 150,
     "metadata": {},
     "output_type": "execute_result"
    }
   ],
   "source": [
    "rest_type = df.groupby('object_type').count(). sort_values(by='id', ascending=False)\n",
    "rest_type"
   ]
  },
  {
   "cell_type": "code",
   "execution_count": 152,
   "metadata": {},
   "outputs": [
    {
     "data": {
      "image/png": "[encoded data removed]",
      "text/plain": [
       "<Figure size 720x432 with 1 Axes>"
      ]
     },
     "metadata": {},
     "output_type": "display_data"
    }
   ],
   "source": [
    "plt.figure(figsize=(10, 6))\n",
    "plt.bar(rest_type.index, rest_type['id'])\n",
    "plt.xlabel('Object Type')\n",
    "plt.ylabel('Count')\n",
    "plt.title('Type of Business')\n",
    "plt.xticks(rotation=0)\n",
    "\n",
    "for i, count in enumerate(rest_type['id']):\n",
    "    plt.text(i, count, str(count), ha='center', va='bottom')"
   ]
  },
  {
   "cell_type": "code",
   "execution_count": 153,
   "metadata": {},
   "outputs": [
    {
     "data": {
      "image/png": "[encoded data removed]",
      "text/plain": [
       "<Figure size 432x432 with 1 Axes>"
      ]
     },
     "metadata": {},
     "output_type": "display_data"
    }
   ],
   "source": [
    "plt.figure(figsize = (6, 6))\n",
    "sns.set_palette(\"tab10\")  \n",
    "plt.pie(rest_type['id'].values, labels = rest_type.index, autopct='%1.1f%%')\n",
    "plt.axis('equal')\n",
    "plt.title('Restaurant Type Chart')\n",
    "plt.show()"
   ]
  },
  {
   "cell_type": "markdown",
   "metadata": {},
   "source": [
    "Melalui grafik visualisasi di atas, sepertinya jenis usaha yang paling banyak di Los Angeles ternyata didominasi oleh *restaurant*, dengan persentase sebanyak 75% dan total 7253 restaurant. Kemudian diikuti dengan *fast food*, dan *cafe* masing-masing di posisi ke-2 dan ke-3. "
   ]
  },
  {
   "cell_type": "markdown",
   "metadata": {},
   "source": [
    "### Basis Usaha"
   ]
  },
  {
   "cell_type": "code",
   "execution_count": 154,
   "metadata": {},
   "outputs": [
    {
     "data": {
      "text/plain": [
       "False    5972\n",
       "True     3676\n",
       "Name: chain, dtype: int64"
      ]
     },
     "execution_count": 154,
     "metadata": {},
     "output_type": "execute_result"
    }
   ],
   "source": [
    "df['chain'].value_counts()"
   ]
  },
  {
   "cell_type": "markdown",
   "metadata": {},
   "source": [
    "Untuk mempermudah memahami data mengenai basis usaha tempat makan pada grafik visualisasi, kita akan mengganti nilai True dan False menjadi *franchise* dan *non_franchise*. Dimana True atau *franchise* berarti adalah usaha berbasis waralaba, sedangkan False atau *non_franchise* adalah usaha berbasis non-waralaba."
   ]
  },
  {
   "cell_type": "code",
   "execution_count": 155,
   "metadata": {},
   "outputs": [],
   "source": [
    "df_chain = df\n",
    "df_chain['chain'] = df['chain'].replace(False, 'non_franchise')\n",
    "df_chain['chain'] = df['chain'].replace(True, 'franchise')"
   ]
  },
  {
   "cell_type": "code",
   "execution_count": 156,
   "metadata": {},
   "outputs": [
    {
     "data": {
      "text/html": [
       "<div>\n",
       "<style scoped>\n",
       "    .dataframe tbody tr th:only-of-type {\n",
       "        vertical-align: middle;\n",
       "    }\n",
       "\n",
       "    .dataframe tbody tr th {\n",
       "        vertical-align: top;\n",
       "    }\n",
       "\n",
       "    .dataframe thead th {\n",
       "        text-align: right;\n",
       "    }\n",
       "</style>\n",
       "<table border=\"1\" class=\"dataframe\">\n",
       "  <thead>\n",
       "    <tr style=\"text-align: right;\">\n",
       "      <th></th>\n",
       "      <th>id</th>\n",
       "      <th>object_name</th>\n",
       "      <th>address</th>\n",
       "      <th>object_type</th>\n",
       "      <th>number</th>\n",
       "    </tr>\n",
       "    <tr>\n",
       "      <th>chain</th>\n",
       "      <th></th>\n",
       "      <th></th>\n",
       "      <th></th>\n",
       "      <th></th>\n",
       "      <th></th>\n",
       "    </tr>\n",
       "  </thead>\n",
       "  <tbody>\n",
       "    <tr>\n",
       "      <th>non_franchise</th>\n",
       "      <td>5972</td>\n",
       "      <td>5972</td>\n",
       "      <td>5972</td>\n",
       "      <td>5972</td>\n",
       "      <td>5972</td>\n",
       "    </tr>\n",
       "    <tr>\n",
       "      <th>franchise</th>\n",
       "      <td>3676</td>\n",
       "      <td>3676</td>\n",
       "      <td>3676</td>\n",
       "      <td>3676</td>\n",
       "      <td>3676</td>\n",
       "    </tr>\n",
       "  </tbody>\n",
       "</table>\n",
       "</div>"
      ],
      "text/plain": [
       "                 id  object_name  address  object_type  number\n",
       "chain                                                         \n",
       "non_franchise  5972         5972     5972         5972    5972\n",
       "franchise      3676         3676     3676         3676    3676"
      ]
     },
     "execution_count": 156,
     "metadata": {},
     "output_type": "execute_result"
    }
   ],
   "source": [
    "chain_type = df.groupby('chain').count()\n",
    "chain_type.sort_values('id', ascending=False)"
   ]
  },
  {
   "cell_type": "code",
   "execution_count": 157,
   "metadata": {},
   "outputs": [
    {
     "data": {
      "image/png": "[encoded data removed]",
      "text/plain": [
       "<Figure size 432x432 with 1 Axes>"
      ]
     },
     "metadata": {},
     "output_type": "display_data"
    }
   ],
   "source": [
    "plt.figure(figsize = (6, 6))\n",
    "sns.set_palette(\"tab10\")  \n",
    "plt.pie(chain_type['id'].values, labels = chain_type.index, autopct='%1.1f%%')\n",
    "plt.axis('equal')\n",
    "\n",
    "plt.title('Chain Type Chart')\n",
    "plt.show()"
   ]
  },
  {
   "cell_type": "markdown",
   "metadata": {},
   "source": [
    "Berdasarkan grafik visualisasi di atas, dapat kita lihat kebanyakan usaha tempat makan didominasi oleh usaha berbasis non-waralaba (non-franchise) dengan persentase 61.9% dan jumlahnya sebanyak 5972. Sedangkan sisanya ditempati oleh usaha berbasis waralaba atau *franchise*."
   ]
  },
  {
   "cell_type": "markdown",
   "metadata": {},
   "source": [
    "### Jenis Usaha Berdasarkan Basisnya"
   ]
  },
  {
   "cell_type": "code",
   "execution_count": 158,
   "metadata": {},
   "outputs": [],
   "source": [
    "df['chain'] = df['chain'].replace('non_franchise', False)\n",
    "df['chain'] = df['chain'].replace('franchise', True)"
   ]
  },
  {
   "cell_type": "code",
   "execution_count": 159,
   "metadata": {},
   "outputs": [
    {
     "data": {
      "text/html": [
       "<div>\n",
       "<style scoped>\n",
       "    .dataframe tbody tr th:only-of-type {\n",
       "        vertical-align: middle;\n",
       "    }\n",
       "\n",
       "    .dataframe tbody tr th {\n",
       "        vertical-align: top;\n",
       "    }\n",
       "\n",
       "    .dataframe thead th {\n",
       "        text-align: right;\n",
       "    }\n",
       "</style>\n",
       "<table border=\"1\" class=\"dataframe\">\n",
       "  <thead>\n",
       "    <tr style=\"text-align: right;\">\n",
       "      <th>chain</th>\n",
       "      <th>False</th>\n",
       "      <th>True</th>\n",
       "    </tr>\n",
       "    <tr>\n",
       "      <th>object_type</th>\n",
       "      <th></th>\n",
       "      <th></th>\n",
       "    </tr>\n",
       "  </thead>\n",
       "  <tbody>\n",
       "    <tr>\n",
       "      <th>Bakery</th>\n",
       "      <td>1.0</td>\n",
       "      <td>283.0</td>\n",
       "    </tr>\n",
       "    <tr>\n",
       "      <th>Bar</th>\n",
       "      <td>215.0</td>\n",
       "      <td>77.0</td>\n",
       "    </tr>\n",
       "    <tr>\n",
       "      <th>Cafe</th>\n",
       "      <td>169.0</td>\n",
       "      <td>266.0</td>\n",
       "    </tr>\n",
       "    <tr>\n",
       "      <th>Fast Food</th>\n",
       "      <td>461.0</td>\n",
       "      <td>605.0</td>\n",
       "    </tr>\n",
       "    <tr>\n",
       "      <th>Pizza</th>\n",
       "      <td>166.0</td>\n",
       "      <td>153.0</td>\n",
       "    </tr>\n",
       "    <tr>\n",
       "      <th>Restaurant</th>\n",
       "      <td>4961.0</td>\n",
       "      <td>2292.0</td>\n",
       "    </tr>\n",
       "  </tbody>\n",
       "</table>\n",
       "</div>"
      ],
      "text/plain": [
       "chain         False   True \n",
       "object_type                \n",
       "Bakery          1.0   283.0\n",
       "Bar           215.0    77.0\n",
       "Cafe          169.0   266.0\n",
       "Fast Food     461.0   605.0\n",
       "Pizza         166.0   153.0\n",
       "Restaurant   4961.0  2292.0"
      ]
     },
     "execution_count": 159,
     "metadata": {},
     "output_type": "execute_result"
    }
   ],
   "source": [
    "df_pivot = df.pivot_table(index = 'object_type', columns = 'chain', values = 'id', aggfunc = 'count').fillna(1)\n",
    "df_pivot"
   ]
  },
  {
   "cell_type": "code",
   "execution_count": 160,
   "metadata": {
    "scrolled": true
   },
   "outputs": [
    {
     "data": {
      "text/html": [
       "<div>\n",
       "<style scoped>\n",
       "    .dataframe tbody tr th:only-of-type {\n",
       "        vertical-align: middle;\n",
       "    }\n",
       "\n",
       "    .dataframe tbody tr th {\n",
       "        vertical-align: top;\n",
       "    }\n",
       "\n",
       "    .dataframe thead th {\n",
       "        text-align: right;\n",
       "    }\n",
       "</style>\n",
       "<table border=\"1\" class=\"dataframe\">\n",
       "  <thead>\n",
       "    <tr style=\"text-align: right;\">\n",
       "      <th>chain</th>\n",
       "      <th>False</th>\n",
       "      <th>True</th>\n",
       "      <th>ratio</th>\n",
       "    </tr>\n",
       "    <tr>\n",
       "      <th>object_type</th>\n",
       "      <th></th>\n",
       "      <th></th>\n",
       "      <th></th>\n",
       "    </tr>\n",
       "  </thead>\n",
       "  <tbody>\n",
       "    <tr>\n",
       "      <th>Bakery</th>\n",
       "      <td>1.0</td>\n",
       "      <td>283.0</td>\n",
       "      <td>0.996</td>\n",
       "    </tr>\n",
       "    <tr>\n",
       "      <th>Cafe</th>\n",
       "      <td>169.0</td>\n",
       "      <td>266.0</td>\n",
       "      <td>0.611</td>\n",
       "    </tr>\n",
       "    <tr>\n",
       "      <th>Fast Food</th>\n",
       "      <td>461.0</td>\n",
       "      <td>605.0</td>\n",
       "      <td>0.568</td>\n",
       "    </tr>\n",
       "    <tr>\n",
       "      <th>Pizza</th>\n",
       "      <td>166.0</td>\n",
       "      <td>153.0</td>\n",
       "      <td>0.480</td>\n",
       "    </tr>\n",
       "    <tr>\n",
       "      <th>Restaurant</th>\n",
       "      <td>4961.0</td>\n",
       "      <td>2292.0</td>\n",
       "      <td>0.316</td>\n",
       "    </tr>\n",
       "    <tr>\n",
       "      <th>Bar</th>\n",
       "      <td>215.0</td>\n",
       "      <td>77.0</td>\n",
       "      <td>0.264</td>\n",
       "    </tr>\n",
       "  </tbody>\n",
       "</table>\n",
       "</div>"
      ],
      "text/plain": [
       "chain         False    True  ratio\n",
       "object_type                       \n",
       "Bakery          1.0   283.0  0.996\n",
       "Cafe          169.0   266.0  0.611\n",
       "Fast Food     461.0   605.0  0.568\n",
       "Pizza         166.0   153.0  0.480\n",
       "Restaurant   4961.0  2292.0  0.316\n",
       "Bar           215.0    77.0  0.264"
      ]
     },
     "execution_count": 160,
     "metadata": {},
     "output_type": "execute_result"
    }
   ],
   "source": [
    "df_pivot['ratio'] = (df_pivot[True] / (df_pivot[True] + df_pivot[False])).round(3)\n",
    "df_pivot.sort_values(by='ratio', ascending=False)"
   ]
  },
  {
   "cell_type": "code",
   "execution_count": 161,
   "metadata": {},
   "outputs": [
    {
     "data": {
      "image/png": "[encoded data removed]",
      "text/plain": [
       "<Figure size 720x504 with 1 Axes>"
      ]
     },
     "metadata": {},
     "output_type": "display_data"
    }
   ],
   "source": [
    "ax = df_pivot.sort_values(by='ratio').plot(kind='bar', y = 'ratio', figsize=(10, 7))\n",
    "plt.xticks (rotation=0)\n",
    "for p in ax.patches:\n",
    "    ax.annotate(str(p.get_height()), (p.get_x(), p.get_height()) ,\\\n",
    "               ha='center', va='center',\n",
    "                                      xytext = (25,10), textcoords = 'offset points',\n",
    "                                      size=10)\n",
    "plt.show()   "
   ]
  },
  {
   "cell_type": "markdown",
   "metadata": {},
   "source": [
    "Melalui ratio jenis usaha berbasis waralaba terhadap kedua jenis basis usaha, pada tabel dan grafik di atas, kita dapat melihat bahwa jenis usaha berbasis waralaba (nilai True) yang paling banyak adalah *Bakery*.\n",
    "\n",
    "Sebelumnya, kita sudah membuat kondisi dimana jika terdapat nilai NaN maka akan diisi dengan nilai 1. Sehingga dapat kita lihat untuk jenis usaha *Bakery* sebenarnya terdapat nilai NaN pada kategori False(jenis usaha berbasis non-waralaba) atau dapat diartikan tidak ada satupun *Bakery* yang berbasis non-waralaba."
   ]
  },
  {
   "cell_type": "markdown",
   "metadata": {},
   "source": [
    "### Ciri-ciri Jenis Usaha Berbasis Waralaba"
   ]
  },
  {
   "cell_type": "code",
   "execution_count": 162,
   "metadata": {},
   "outputs": [
    {
     "data": {
      "text/html": [
       "<div>\n",
       "<style scoped>\n",
       "    .dataframe tbody tr th:only-of-type {\n",
       "        vertical-align: middle;\n",
       "    }\n",
       "\n",
       "    .dataframe tbody tr th {\n",
       "        vertical-align: top;\n",
       "    }\n",
       "\n",
       "    .dataframe thead th {\n",
       "        text-align: right;\n",
       "    }\n",
       "</style>\n",
       "<table border=\"1\" class=\"dataframe\">\n",
       "  <thead>\n",
       "    <tr style=\"text-align: right;\">\n",
       "      <th></th>\n",
       "      <th>id</th>\n",
       "      <th>object_name</th>\n",
       "      <th>address</th>\n",
       "      <th>chain</th>\n",
       "      <th>object_type</th>\n",
       "      <th>number</th>\n",
       "    </tr>\n",
       "  </thead>\n",
       "  <tbody>\n",
       "    <tr>\n",
       "      <th>8</th>\n",
       "      <td>11794</td>\n",
       "      <td>ABC DONUTS</td>\n",
       "      <td>3027 N SAN FERNANDO RD UNIT 103</td>\n",
       "      <td>True</td>\n",
       "      <td>Fast Food</td>\n",
       "      <td>1</td>\n",
       "    </tr>\n",
       "    <tr>\n",
       "      <th>10</th>\n",
       "      <td>11796</td>\n",
       "      <td>EL POLLO LOCO</td>\n",
       "      <td>5319 W SUNSET BLVD</td>\n",
       "      <td>True</td>\n",
       "      <td>Restaurant</td>\n",
       "      <td>38</td>\n",
       "    </tr>\n",
       "    <tr>\n",
       "      <th>11</th>\n",
       "      <td>11797</td>\n",
       "      <td>POONG NYUN BAKERY</td>\n",
       "      <td>928 S WESTERN AVE STE 109</td>\n",
       "      <td>True</td>\n",
       "      <td>Bakery</td>\n",
       "      <td>17</td>\n",
       "    </tr>\n",
       "    <tr>\n",
       "      <th>12</th>\n",
       "      <td>11798</td>\n",
       "      <td>EMC RESTAURANT GROUP LLC</td>\n",
       "      <td>3500 W 6TH ST STE 101</td>\n",
       "      <td>True</td>\n",
       "      <td>Restaurant</td>\n",
       "      <td>133</td>\n",
       "    </tr>\n",
       "    <tr>\n",
       "      <th>14</th>\n",
       "      <td>11800</td>\n",
       "      <td>CUSCATLECA BAKERY</td>\n",
       "      <td>2501 W SUNSET BLVD #A</td>\n",
       "      <td>True</td>\n",
       "      <td>Bakery</td>\n",
       "      <td>26</td>\n",
       "    </tr>\n",
       "    <tr>\n",
       "      <th>...</th>\n",
       "      <td>...</td>\n",
       "      <td>...</td>\n",
       "      <td>...</td>\n",
       "      <td>...</td>\n",
       "      <td>...</td>\n",
       "      <td>...</td>\n",
       "    </tr>\n",
       "    <tr>\n",
       "      <th>9629</th>\n",
       "      <td>21415</td>\n",
       "      <td>JUCUAPA BAKERY</td>\n",
       "      <td>2810 JAMES WOOD BLVD</td>\n",
       "      <td>True</td>\n",
       "      <td>Bakery</td>\n",
       "      <td>10</td>\n",
       "    </tr>\n",
       "    <tr>\n",
       "      <th>9636</th>\n",
       "      <td>21422</td>\n",
       "      <td>CHIPOTLE #3094</td>\n",
       "      <td>6719 LA TIJERA BLVD # A-B</td>\n",
       "      <td>True</td>\n",
       "      <td>Restaurant</td>\n",
       "      <td>47</td>\n",
       "    </tr>\n",
       "    <tr>\n",
       "      <th>9639</th>\n",
       "      <td>21425</td>\n",
       "      <td>MCDONALD'S</td>\n",
       "      <td>1800 S WESTERN AVE</td>\n",
       "      <td>True</td>\n",
       "      <td>Fast Food</td>\n",
       "      <td>135</td>\n",
       "    </tr>\n",
       "    <tr>\n",
       "      <th>9648</th>\n",
       "      <td>21434</td>\n",
       "      <td>JUICY WINGZ</td>\n",
       "      <td>6741 HOLLYWOOD BLVD</td>\n",
       "      <td>True</td>\n",
       "      <td>Fast Food</td>\n",
       "      <td>15</td>\n",
       "    </tr>\n",
       "    <tr>\n",
       "      <th>9650</th>\n",
       "      <td>21436</td>\n",
       "      <td>CAFE SPROUTS</td>\n",
       "      <td>1300 S SAN PEDRO ST STE 111</td>\n",
       "      <td>True</td>\n",
       "      <td>Restaurant</td>\n",
       "      <td>19</td>\n",
       "    </tr>\n",
       "  </tbody>\n",
       "</table>\n",
       "<p>3676 rows × 6 columns</p>\n",
       "</div>"
      ],
      "text/plain": [
       "         id               object_name                          address  chain  \\\n",
       "8     11794                ABC DONUTS  3027 N SAN FERNANDO RD UNIT 103   True   \n",
       "10    11796             EL POLLO LOCO               5319 W SUNSET BLVD   True   \n",
       "11    11797         POONG NYUN BAKERY        928 S WESTERN AVE STE 109   True   \n",
       "12    11798  EMC RESTAURANT GROUP LLC            3500 W 6TH ST STE 101   True   \n",
       "14    11800         CUSCATLECA BAKERY            2501 W SUNSET BLVD #A   True   \n",
       "...     ...                       ...                              ...    ...   \n",
       "9629  21415            JUCUAPA BAKERY             2810 JAMES WOOD BLVD   True   \n",
       "9636  21422            CHIPOTLE #3094        6719 LA TIJERA BLVD # A-B   True   \n",
       "9639  21425                MCDONALD'S               1800 S WESTERN AVE   True   \n",
       "9648  21434               JUICY WINGZ              6741 HOLLYWOOD BLVD   True   \n",
       "9650  21436              CAFE SPROUTS      1300 S SAN PEDRO ST STE 111   True   \n",
       "\n",
       "     object_type  number  \n",
       "8      Fast Food       1  \n",
       "10    Restaurant      38  \n",
       "11        Bakery      17  \n",
       "12    Restaurant     133  \n",
       "14        Bakery      26  \n",
       "...          ...     ...  \n",
       "9629      Bakery      10  \n",
       "9636  Restaurant      47  \n",
       "9639   Fast Food     135  \n",
       "9648   Fast Food      15  \n",
       "9650  Restaurant      19  \n",
       "\n",
       "[3676 rows x 6 columns]"
      ]
     },
     "execution_count": 162,
     "metadata": {},
     "output_type": "execute_result"
    }
   ],
   "source": [
    "rest_chain = df[df['chain'] == True]\n",
    "rest_chain"
   ]
  },
  {
   "cell_type": "code",
   "execution_count": 163,
   "metadata": {},
   "outputs": [
    {
     "data": {
      "text/plain": [
       "Restaurant    2292\n",
       "Fast Food      605\n",
       "Bakery         283\n",
       "Cafe           266\n",
       "Pizza          153\n",
       "Bar             77\n",
       "Name: object_type, dtype: int64"
      ]
     },
     "execution_count": 163,
     "metadata": {},
     "output_type": "execute_result"
    }
   ],
   "source": [
    "rest_chain['object_type'].value_counts()"
   ]
  },
  {
   "cell_type": "code",
   "execution_count": 164,
   "metadata": {},
   "outputs": [
    {
     "data": {
      "text/html": [
       "<div>\n",
       "<style scoped>\n",
       "    .dataframe tbody tr th:only-of-type {\n",
       "        vertical-align: middle;\n",
       "    }\n",
       "\n",
       "    .dataframe tbody tr th {\n",
       "        vertical-align: top;\n",
       "    }\n",
       "\n",
       "    .dataframe thead th {\n",
       "        text-align: right;\n",
       "    }\n",
       "</style>\n",
       "<table border=\"1\" class=\"dataframe\">\n",
       "  <thead>\n",
       "    <tr style=\"text-align: right;\">\n",
       "      <th></th>\n",
       "      <th>id</th>\n",
       "      <th>object_name</th>\n",
       "      <th>address</th>\n",
       "      <th>chain</th>\n",
       "      <th>object_type</th>\n",
       "      <th>number</th>\n",
       "    </tr>\n",
       "  </thead>\n",
       "  <tbody>\n",
       "    <tr>\n",
       "      <th>10</th>\n",
       "      <td>11796</td>\n",
       "      <td>EL POLLO LOCO</td>\n",
       "      <td>5319 W SUNSET BLVD</td>\n",
       "      <td>True</td>\n",
       "      <td>Restaurant</td>\n",
       "      <td>38</td>\n",
       "    </tr>\n",
       "    <tr>\n",
       "      <th>12</th>\n",
       "      <td>11798</td>\n",
       "      <td>EMC RESTAURANT GROUP LLC</td>\n",
       "      <td>3500 W 6TH ST STE 101</td>\n",
       "      <td>True</td>\n",
       "      <td>Restaurant</td>\n",
       "      <td>133</td>\n",
       "    </tr>\n",
       "    <tr>\n",
       "      <th>15</th>\n",
       "      <td>11801</td>\n",
       "      <td>FOOD COURT TRAY WASHING AREA</td>\n",
       "      <td>928 S WESTERN AVE STE 300</td>\n",
       "      <td>True</td>\n",
       "      <td>Restaurant</td>\n",
       "      <td>21</td>\n",
       "    </tr>\n",
       "    <tr>\n",
       "      <th>24</th>\n",
       "      <td>11810</td>\n",
       "      <td>M CAFE DE CHAYA</td>\n",
       "      <td>7119 MELROSE AVE</td>\n",
       "      <td>True</td>\n",
       "      <td>Restaurant</td>\n",
       "      <td>43</td>\n",
       "    </tr>\n",
       "    <tr>\n",
       "      <th>27</th>\n",
       "      <td>11813</td>\n",
       "      <td>NORM'S RESTAURANT</td>\n",
       "      <td>470 N LA CIENEGA BLVD</td>\n",
       "      <td>True</td>\n",
       "      <td>Restaurant</td>\n",
       "      <td>80</td>\n",
       "    </tr>\n",
       "    <tr>\n",
       "      <th>...</th>\n",
       "      <td>...</td>\n",
       "      <td>...</td>\n",
       "      <td>...</td>\n",
       "      <td>...</td>\n",
       "      <td>...</td>\n",
       "      <td>...</td>\n",
       "    </tr>\n",
       "    <tr>\n",
       "      <th>9608</th>\n",
       "      <td>21394</td>\n",
       "      <td>GO GET EM TIGER</td>\n",
       "      <td>230 N LARCHMONT BLVD</td>\n",
       "      <td>True</td>\n",
       "      <td>Restaurant</td>\n",
       "      <td>5</td>\n",
       "    </tr>\n",
       "    <tr>\n",
       "      <th>9618</th>\n",
       "      <td>21404</td>\n",
       "      <td>JUCUAPA RESTAURANT</td>\n",
       "      <td>2814 JAMES WOOD BLVD</td>\n",
       "      <td>True</td>\n",
       "      <td>Restaurant</td>\n",
       "      <td>19</td>\n",
       "    </tr>\n",
       "    <tr>\n",
       "      <th>9621</th>\n",
       "      <td>21407</td>\n",
       "      <td>RED ROCK</td>\n",
       "      <td>11301 W OLYMPIC BLVD # 210</td>\n",
       "      <td>True</td>\n",
       "      <td>Restaurant</td>\n",
       "      <td>41</td>\n",
       "    </tr>\n",
       "    <tr>\n",
       "      <th>9636</th>\n",
       "      <td>21422</td>\n",
       "      <td>CHIPOTLE #3094</td>\n",
       "      <td>6719 LA TIJERA BLVD # A-B</td>\n",
       "      <td>True</td>\n",
       "      <td>Restaurant</td>\n",
       "      <td>47</td>\n",
       "    </tr>\n",
       "    <tr>\n",
       "      <th>9650</th>\n",
       "      <td>21436</td>\n",
       "      <td>CAFE SPROUTS</td>\n",
       "      <td>1300 S SAN PEDRO ST STE 111</td>\n",
       "      <td>True</td>\n",
       "      <td>Restaurant</td>\n",
       "      <td>19</td>\n",
       "    </tr>\n",
       "  </tbody>\n",
       "</table>\n",
       "<p>2292 rows × 6 columns</p>\n",
       "</div>"
      ],
      "text/plain": [
       "         id                   object_name                      address  chain  \\\n",
       "10    11796                 EL POLLO LOCO           5319 W SUNSET BLVD   True   \n",
       "12    11798      EMC RESTAURANT GROUP LLC        3500 W 6TH ST STE 101   True   \n",
       "15    11801  FOOD COURT TRAY WASHING AREA    928 S WESTERN AVE STE 300   True   \n",
       "24    11810               M CAFE DE CHAYA             7119 MELROSE AVE   True   \n",
       "27    11813             NORM'S RESTAURANT        470 N LA CIENEGA BLVD   True   \n",
       "...     ...                           ...                          ...    ...   \n",
       "9608  21394               GO GET EM TIGER         230 N LARCHMONT BLVD   True   \n",
       "9618  21404            JUCUAPA RESTAURANT         2814 JAMES WOOD BLVD   True   \n",
       "9621  21407                      RED ROCK   11301 W OLYMPIC BLVD # 210   True   \n",
       "9636  21422                CHIPOTLE #3094    6719 LA TIJERA BLVD # A-B   True   \n",
       "9650  21436                  CAFE SPROUTS  1300 S SAN PEDRO ST STE 111   True   \n",
       "\n",
       "     object_type  number  \n",
       "10    Restaurant      38  \n",
       "12    Restaurant     133  \n",
       "15    Restaurant      21  \n",
       "24    Restaurant      43  \n",
       "27    Restaurant      80  \n",
       "...          ...     ...  \n",
       "9608  Restaurant       5  \n",
       "9618  Restaurant      19  \n",
       "9621  Restaurant      41  \n",
       "9636  Restaurant      47  \n",
       "9650  Restaurant      19  \n",
       "\n",
       "[2292 rows x 6 columns]"
      ]
     },
     "execution_count": 164,
     "metadata": {},
     "output_type": "execute_result"
    }
   ],
   "source": [
    "rest_chain[rest_chain['object_type'] == 'Restaurant']"
   ]
  },
  {
   "cell_type": "code",
   "execution_count": 165,
   "metadata": {},
   "outputs": [
    {
     "data": {
      "text/html": [
       "<div>\n",
       "<style scoped>\n",
       "    .dataframe tbody tr th:only-of-type {\n",
       "        vertical-align: middle;\n",
       "    }\n",
       "\n",
       "    .dataframe tbody tr th {\n",
       "        vertical-align: top;\n",
       "    }\n",
       "\n",
       "    .dataframe thead th {\n",
       "        text-align: right;\n",
       "    }\n",
       "</style>\n",
       "<table border=\"1\" class=\"dataframe\">\n",
       "  <thead>\n",
       "    <tr style=\"text-align: right;\">\n",
       "      <th></th>\n",
       "      <th>id</th>\n",
       "      <th>object_name</th>\n",
       "      <th>address</th>\n",
       "      <th>chain</th>\n",
       "      <th>object_type</th>\n",
       "      <th>number</th>\n",
       "    </tr>\n",
       "  </thead>\n",
       "  <tbody>\n",
       "    <tr>\n",
       "      <th>4089</th>\n",
       "      <td>15875</td>\n",
       "      <td>EL POLLO LOCO</td>\n",
       "      <td>2201 N BROADWAY</td>\n",
       "      <td>True</td>\n",
       "      <td>Restaurant</td>\n",
       "      <td>139</td>\n",
       "    </tr>\n",
       "    <tr>\n",
       "      <th>3649</th>\n",
       "      <td>15435</td>\n",
       "      <td>EL POLLO LOCO</td>\n",
       "      <td>2000 E CESAR E CHAVEZ AVE</td>\n",
       "      <td>True</td>\n",
       "      <td>Restaurant</td>\n",
       "      <td>94</td>\n",
       "    </tr>\n",
       "    <tr>\n",
       "      <th>7774</th>\n",
       "      <td>19560</td>\n",
       "      <td>EL POLLO LOCO</td>\n",
       "      <td>330 N ALVARADO ST</td>\n",
       "      <td>True</td>\n",
       "      <td>Restaurant</td>\n",
       "      <td>92</td>\n",
       "    </tr>\n",
       "    <tr>\n",
       "      <th>1577</th>\n",
       "      <td>13363</td>\n",
       "      <td>EL POLLO LOCO</td>\n",
       "      <td>8154 W SUNSET BLVD</td>\n",
       "      <td>True</td>\n",
       "      <td>Restaurant</td>\n",
       "      <td>77</td>\n",
       "    </tr>\n",
       "    <tr>\n",
       "      <th>1569</th>\n",
       "      <td>13355</td>\n",
       "      <td>EL POLLO LOCO</td>\n",
       "      <td>226 E 9TH ST STE 1124</td>\n",
       "      <td>True</td>\n",
       "      <td>Restaurant</td>\n",
       "      <td>47</td>\n",
       "    </tr>\n",
       "    <tr>\n",
       "      <th>4075</th>\n",
       "      <td>15861</td>\n",
       "      <td>EL POLLO LOCO</td>\n",
       "      <td>1360 W IMPERIAL HWY</td>\n",
       "      <td>True</td>\n",
       "      <td>Restaurant</td>\n",
       "      <td>47</td>\n",
       "    </tr>\n",
       "    <tr>\n",
       "      <th>5122</th>\n",
       "      <td>16908</td>\n",
       "      <td>EL POLLO LOCO</td>\n",
       "      <td>5001 WILSHIRE BLVD STE 101</td>\n",
       "      <td>True</td>\n",
       "      <td>Restaurant</td>\n",
       "      <td>39</td>\n",
       "    </tr>\n",
       "    <tr>\n",
       "      <th>10</th>\n",
       "      <td>11796</td>\n",
       "      <td>EL POLLO LOCO</td>\n",
       "      <td>5319 W SUNSET BLVD</td>\n",
       "      <td>True</td>\n",
       "      <td>Restaurant</td>\n",
       "      <td>38</td>\n",
       "    </tr>\n",
       "    <tr>\n",
       "      <th>5551</th>\n",
       "      <td>17337</td>\n",
       "      <td>EL POLLO LOCO</td>\n",
       "      <td>260 S BROADWAY</td>\n",
       "      <td>True</td>\n",
       "      <td>Restaurant</td>\n",
       "      <td>32</td>\n",
       "    </tr>\n",
       "    <tr>\n",
       "      <th>2018</th>\n",
       "      <td>13804</td>\n",
       "      <td>EL POLLO LOCO</td>\n",
       "      <td>12800 S AVALON BLVD</td>\n",
       "      <td>True</td>\n",
       "      <td>Restaurant</td>\n",
       "      <td>31</td>\n",
       "    </tr>\n",
       "  </tbody>\n",
       "</table>\n",
       "</div>"
      ],
      "text/plain": [
       "         id    object_name                     address  chain object_type  \\\n",
       "4089  15875  EL POLLO LOCO             2201 N BROADWAY   True  Restaurant   \n",
       "3649  15435  EL POLLO LOCO   2000 E CESAR E CHAVEZ AVE   True  Restaurant   \n",
       "7774  19560  EL POLLO LOCO           330 N ALVARADO ST   True  Restaurant   \n",
       "1577  13363  EL POLLO LOCO          8154 W SUNSET BLVD   True  Restaurant   \n",
       "1569  13355  EL POLLO LOCO       226 E 9TH ST STE 1124   True  Restaurant   \n",
       "4075  15861  EL POLLO LOCO         1360 W IMPERIAL HWY   True  Restaurant   \n",
       "5122  16908  EL POLLO LOCO  5001 WILSHIRE BLVD STE 101   True  Restaurant   \n",
       "10    11796  EL POLLO LOCO          5319 W SUNSET BLVD   True  Restaurant   \n",
       "5551  17337  EL POLLO LOCO              260 S BROADWAY   True  Restaurant   \n",
       "2018  13804  EL POLLO LOCO         12800 S AVALON BLVD   True  Restaurant   \n",
       "\n",
       "      number  \n",
       "4089     139  \n",
       "3649      94  \n",
       "7774      92  \n",
       "1577      77  \n",
       "1569      47  \n",
       "4075      47  \n",
       "5122      39  \n",
       "10        38  \n",
       "5551      32  \n",
       "2018      31  "
      ]
     },
     "execution_count": 165,
     "metadata": {},
     "output_type": "execute_result"
    }
   ],
   "source": [
    "rest_chain[rest_chain['object_name'] == 'EL POLLO LOCO'].sort_values(by='number', ascending=False)"
   ]
  },
  {
   "cell_type": "code",
   "execution_count": 166,
   "metadata": {},
   "outputs": [
    {
     "data": {
      "text/plain": [
       "id             10\n",
       "object_name    10\n",
       "address        10\n",
       "chain          10\n",
       "object_type    10\n",
       "number         10\n",
       "dtype: int64"
      ]
     },
     "execution_count": 166,
     "metadata": {},
     "output_type": "execute_result"
    }
   ],
   "source": [
    "rest_chain[rest_chain['object_name'] == 'EL POLLO LOCO'].count()"
   ]
  },
  {
   "cell_type": "code",
   "execution_count": 167,
   "metadata": {},
   "outputs": [
    {
     "data": {
      "text/html": [
       "<div>\n",
       "<style scoped>\n",
       "    .dataframe tbody tr th:only-of-type {\n",
       "        vertical-align: middle;\n",
       "    }\n",
       "\n",
       "    .dataframe tbody tr th {\n",
       "        vertical-align: top;\n",
       "    }\n",
       "\n",
       "    .dataframe thead th {\n",
       "        text-align: right;\n",
       "    }\n",
       "</style>\n",
       "<table border=\"1\" class=\"dataframe\">\n",
       "  <thead>\n",
       "    <tr style=\"text-align: right;\">\n",
       "      <th></th>\n",
       "      <th>id</th>\n",
       "      <th>object_name</th>\n",
       "      <th>address</th>\n",
       "      <th>chain</th>\n",
       "      <th>object_type</th>\n",
       "      <th>number</th>\n",
       "    </tr>\n",
       "  </thead>\n",
       "  <tbody>\n",
       "    <tr>\n",
       "      <th>8</th>\n",
       "      <td>11794</td>\n",
       "      <td>ABC DONUTS</td>\n",
       "      <td>3027 N SAN FERNANDO RD UNIT 103</td>\n",
       "      <td>True</td>\n",
       "      <td>Fast Food</td>\n",
       "      <td>1</td>\n",
       "    </tr>\n",
       "    <tr>\n",
       "      <th>40</th>\n",
       "      <td>11826</td>\n",
       "      <td>SUBWAY -52105</td>\n",
       "      <td>255 S GRAND AVE STE 101</td>\n",
       "      <td>True</td>\n",
       "      <td>Fast Food</td>\n",
       "      <td>37</td>\n",
       "    </tr>\n",
       "    <tr>\n",
       "      <th>42</th>\n",
       "      <td>11828</td>\n",
       "      <td>PANDA EXPRESS #2596</td>\n",
       "      <td>1544 S LA CIENEGA BLVD</td>\n",
       "      <td>True</td>\n",
       "      <td>Fast Food</td>\n",
       "      <td>22</td>\n",
       "    </tr>\n",
       "    <tr>\n",
       "      <th>67</th>\n",
       "      <td>11853</td>\n",
       "      <td>DONUT STAR</td>\n",
       "      <td>4102 VERDUGO RD</td>\n",
       "      <td>True</td>\n",
       "      <td>Fast Food</td>\n",
       "      <td>24</td>\n",
       "    </tr>\n",
       "    <tr>\n",
       "      <th>71</th>\n",
       "      <td>11857</td>\n",
       "      <td>MCDONALD'S #2084</td>\n",
       "      <td>3124 N SAN FERNANDO RD</td>\n",
       "      <td>True</td>\n",
       "      <td>Fast Food</td>\n",
       "      <td>112</td>\n",
       "    </tr>\n",
       "    <tr>\n",
       "      <th>...</th>\n",
       "      <td>...</td>\n",
       "      <td>...</td>\n",
       "      <td>...</td>\n",
       "      <td>...</td>\n",
       "      <td>...</td>\n",
       "      <td>...</td>\n",
       "    </tr>\n",
       "    <tr>\n",
       "      <th>9586</th>\n",
       "      <td>21372</td>\n",
       "      <td>BEST DONUTS</td>\n",
       "      <td>3991 S WESTERN AVE UNIT 1</td>\n",
       "      <td>True</td>\n",
       "      <td>Fast Food</td>\n",
       "      <td>15</td>\n",
       "    </tr>\n",
       "    <tr>\n",
       "      <th>9591</th>\n",
       "      <td>21377</td>\n",
       "      <td>TACOS Y GUISADOS EL CHARRO</td>\n",
       "      <td>10024 S FIGUEROA ST</td>\n",
       "      <td>True</td>\n",
       "      <td>Fast Food</td>\n",
       "      <td>14</td>\n",
       "    </tr>\n",
       "    <tr>\n",
       "      <th>9593</th>\n",
       "      <td>21379</td>\n",
       "      <td>PANDA EXPRESS 2919</td>\n",
       "      <td>1810 W SLAUSON AVE</td>\n",
       "      <td>True</td>\n",
       "      <td>Fast Food</td>\n",
       "      <td>15</td>\n",
       "    </tr>\n",
       "    <tr>\n",
       "      <th>9639</th>\n",
       "      <td>21425</td>\n",
       "      <td>MCDONALD'S</td>\n",
       "      <td>1800 S WESTERN AVE</td>\n",
       "      <td>True</td>\n",
       "      <td>Fast Food</td>\n",
       "      <td>135</td>\n",
       "    </tr>\n",
       "    <tr>\n",
       "      <th>9648</th>\n",
       "      <td>21434</td>\n",
       "      <td>JUICY WINGZ</td>\n",
       "      <td>6741 HOLLYWOOD BLVD</td>\n",
       "      <td>True</td>\n",
       "      <td>Fast Food</td>\n",
       "      <td>15</td>\n",
       "    </tr>\n",
       "  </tbody>\n",
       "</table>\n",
       "<p>605 rows × 6 columns</p>\n",
       "</div>"
      ],
      "text/plain": [
       "         id                 object_name                          address  \\\n",
       "8     11794                  ABC DONUTS  3027 N SAN FERNANDO RD UNIT 103   \n",
       "40    11826               SUBWAY -52105          255 S GRAND AVE STE 101   \n",
       "42    11828         PANDA EXPRESS #2596           1544 S LA CIENEGA BLVD   \n",
       "67    11853                  DONUT STAR                  4102 VERDUGO RD   \n",
       "71    11857            MCDONALD'S #2084           3124 N SAN FERNANDO RD   \n",
       "...     ...                         ...                              ...   \n",
       "9586  21372                 BEST DONUTS        3991 S WESTERN AVE UNIT 1   \n",
       "9591  21377  TACOS Y GUISADOS EL CHARRO              10024 S FIGUEROA ST   \n",
       "9593  21379          PANDA EXPRESS 2919               1810 W SLAUSON AVE   \n",
       "9639  21425                  MCDONALD'S               1800 S WESTERN AVE   \n",
       "9648  21434                 JUICY WINGZ              6741 HOLLYWOOD BLVD   \n",
       "\n",
       "      chain object_type  number  \n",
       "8      True   Fast Food       1  \n",
       "40     True   Fast Food      37  \n",
       "42     True   Fast Food      22  \n",
       "67     True   Fast Food      24  \n",
       "71     True   Fast Food     112  \n",
       "...     ...         ...     ...  \n",
       "9586   True   Fast Food      15  \n",
       "9591   True   Fast Food      14  \n",
       "9593   True   Fast Food      15  \n",
       "9639   True   Fast Food     135  \n",
       "9648   True   Fast Food      15  \n",
       "\n",
       "[605 rows x 6 columns]"
      ]
     },
     "execution_count": 167,
     "metadata": {},
     "output_type": "execute_result"
    }
   ],
   "source": [
    "rest_chain[rest_chain['object_type'] == 'Fast Food']"
   ]
  },
  {
   "cell_type": "code",
   "execution_count": 168,
   "metadata": {
    "scrolled": true
   },
   "outputs": [
    {
     "data": {
      "text/html": [
       "<div>\n",
       "<style scoped>\n",
       "    .dataframe tbody tr th:only-of-type {\n",
       "        vertical-align: middle;\n",
       "    }\n",
       "\n",
       "    .dataframe tbody tr th {\n",
       "        vertical-align: top;\n",
       "    }\n",
       "\n",
       "    .dataframe thead th {\n",
       "        text-align: right;\n",
       "    }\n",
       "</style>\n",
       "<table border=\"1\" class=\"dataframe\">\n",
       "  <thead>\n",
       "    <tr style=\"text-align: right;\">\n",
       "      <th></th>\n",
       "      <th>id</th>\n",
       "      <th>object_name</th>\n",
       "      <th>address</th>\n",
       "      <th>chain</th>\n",
       "      <th>object_type</th>\n",
       "      <th>number</th>\n",
       "    </tr>\n",
       "  </thead>\n",
       "  <tbody>\n",
       "    <tr>\n",
       "      <th>3998</th>\n",
       "      <td>15784</td>\n",
       "      <td>SUBWAY</td>\n",
       "      <td>635 S HOBART BLVD</td>\n",
       "      <td>True</td>\n",
       "      <td>Fast Food</td>\n",
       "      <td>43</td>\n",
       "    </tr>\n",
       "    <tr>\n",
       "      <th>566</th>\n",
       "      <td>12352</td>\n",
       "      <td>SUBWAY</td>\n",
       "      <td>3991 S WESTERN AVE STE #3</td>\n",
       "      <td>True</td>\n",
       "      <td>Fast Food</td>\n",
       "      <td>40</td>\n",
       "    </tr>\n",
       "    <tr>\n",
       "      <th>4436</th>\n",
       "      <td>16222</td>\n",
       "      <td>SUBWAY</td>\n",
       "      <td>5701 S CENTRAL AVE</td>\n",
       "      <td>True</td>\n",
       "      <td>Fast Food</td>\n",
       "      <td>29</td>\n",
       "    </tr>\n",
       "    <tr>\n",
       "      <th>4753</th>\n",
       "      <td>16539</td>\n",
       "      <td>SUBWAY</td>\n",
       "      <td>5864 S VERMONT AVE</td>\n",
       "      <td>True</td>\n",
       "      <td>Fast Food</td>\n",
       "      <td>28</td>\n",
       "    </tr>\n",
       "    <tr>\n",
       "      <th>5012</th>\n",
       "      <td>16798</td>\n",
       "      <td>SUBWAY</td>\n",
       "      <td>12730 S FIGUEROA ST STE 102</td>\n",
       "      <td>True</td>\n",
       "      <td>Fast Food</td>\n",
       "      <td>25</td>\n",
       "    </tr>\n",
       "    <tr>\n",
       "      <th>4509</th>\n",
       "      <td>16295</td>\n",
       "      <td>SUBWAY</td>\n",
       "      <td>7825 BEVERLY BLVD STE #4</td>\n",
       "      <td>True</td>\n",
       "      <td>Fast Food</td>\n",
       "      <td>25</td>\n",
       "    </tr>\n",
       "    <tr>\n",
       "      <th>8739</th>\n",
       "      <td>20525</td>\n",
       "      <td>SUBWAY</td>\n",
       "      <td>11762 SAN VICENTE BLVD</td>\n",
       "      <td>True</td>\n",
       "      <td>Fast Food</td>\n",
       "      <td>23</td>\n",
       "    </tr>\n",
       "    <tr>\n",
       "      <th>1057</th>\n",
       "      <td>12843</td>\n",
       "      <td>SUBWAY</td>\n",
       "      <td>610 S RAMPART BLVD</td>\n",
       "      <td>True</td>\n",
       "      <td>Fast Food</td>\n",
       "      <td>22</td>\n",
       "    </tr>\n",
       "    <tr>\n",
       "      <th>4282</th>\n",
       "      <td>16068</td>\n",
       "      <td>SUBWAY</td>\n",
       "      <td>198 S VERMONT AVE</td>\n",
       "      <td>True</td>\n",
       "      <td>Fast Food</td>\n",
       "      <td>21</td>\n",
       "    </tr>\n",
       "    <tr>\n",
       "      <th>6893</th>\n",
       "      <td>18679</td>\n",
       "      <td>SUBWAY</td>\n",
       "      <td>1400 W PICO BLVD</td>\n",
       "      <td>True</td>\n",
       "      <td>Fast Food</td>\n",
       "      <td>20</td>\n",
       "    </tr>\n",
       "    <tr>\n",
       "      <th>436</th>\n",
       "      <td>12222</td>\n",
       "      <td>SUBWAY</td>\n",
       "      <td>2601 S LA BREA AVE</td>\n",
       "      <td>True</td>\n",
       "      <td>Fast Food</td>\n",
       "      <td>20</td>\n",
       "    </tr>\n",
       "    <tr>\n",
       "      <th>4977</th>\n",
       "      <td>16763</td>\n",
       "      <td>SUBWAY</td>\n",
       "      <td>1251 E OLYMPIC BLVD</td>\n",
       "      <td>True</td>\n",
       "      <td>Fast Food</td>\n",
       "      <td>19</td>\n",
       "    </tr>\n",
       "    <tr>\n",
       "      <th>4143</th>\n",
       "      <td>15929</td>\n",
       "      <td>SUBWAY</td>\n",
       "      <td>6051 HOLLYWOOD BLVD STE 102</td>\n",
       "      <td>True</td>\n",
       "      <td>Fast Food</td>\n",
       "      <td>19</td>\n",
       "    </tr>\n",
       "    <tr>\n",
       "      <th>8655</th>\n",
       "      <td>20441</td>\n",
       "      <td>SUBWAY</td>\n",
       "      <td>207 N WESTERN AVE</td>\n",
       "      <td>True</td>\n",
       "      <td>Fast Food</td>\n",
       "      <td>18</td>\n",
       "    </tr>\n",
       "    <tr>\n",
       "      <th>3763</th>\n",
       "      <td>15549</td>\n",
       "      <td>SUBWAY</td>\n",
       "      <td>3476 E WHITTIER BLVD</td>\n",
       "      <td>True</td>\n",
       "      <td>Fast Food</td>\n",
       "      <td>18</td>\n",
       "    </tr>\n",
       "    <tr>\n",
       "      <th>6065</th>\n",
       "      <td>17851</td>\n",
       "      <td>SUBWAY</td>\n",
       "      <td>1625 W WASHINGTON BLVD</td>\n",
       "      <td>True</td>\n",
       "      <td>Fast Food</td>\n",
       "      <td>16</td>\n",
       "    </tr>\n",
       "    <tr>\n",
       "      <th>255</th>\n",
       "      <td>12041</td>\n",
       "      <td>SUBWAY</td>\n",
       "      <td>1205 W 3RD ST</td>\n",
       "      <td>True</td>\n",
       "      <td>Fast Food</td>\n",
       "      <td>14</td>\n",
       "    </tr>\n",
       "    <tr>\n",
       "      <th>7180</th>\n",
       "      <td>18966</td>\n",
       "      <td>SUBWAY</td>\n",
       "      <td>2134 W SUNSET BLVD STE #A</td>\n",
       "      <td>True</td>\n",
       "      <td>Fast Food</td>\n",
       "      <td>13</td>\n",
       "    </tr>\n",
       "    <tr>\n",
       "      <th>770</th>\n",
       "      <td>12556</td>\n",
       "      <td>SUBWAY</td>\n",
       "      <td>630 W 6TH ST 110C</td>\n",
       "      <td>True</td>\n",
       "      <td>Fast Food</td>\n",
       "      <td>12</td>\n",
       "    </tr>\n",
       "    <tr>\n",
       "      <th>7632</th>\n",
       "      <td>19418</td>\n",
       "      <td>SUBWAY</td>\n",
       "      <td>10250 SANTA MONICA BLVD STE 167</td>\n",
       "      <td>True</td>\n",
       "      <td>Fast Food</td>\n",
       "      <td>12</td>\n",
       "    </tr>\n",
       "    <tr>\n",
       "      <th>6768</th>\n",
       "      <td>18554</td>\n",
       "      <td>SUBWAY</td>\n",
       "      <td>2112 W 7TH ST</td>\n",
       "      <td>True</td>\n",
       "      <td>Fast Food</td>\n",
       "      <td>12</td>\n",
       "    </tr>\n",
       "    <tr>\n",
       "      <th>6540</th>\n",
       "      <td>18326</td>\n",
       "      <td>SUBWAY</td>\n",
       "      <td>11733 BARRINGTON CT</td>\n",
       "      <td>True</td>\n",
       "      <td>Fast Food</td>\n",
       "      <td>11</td>\n",
       "    </tr>\n",
       "    <tr>\n",
       "      <th>8091</th>\n",
       "      <td>19877</td>\n",
       "      <td>SUBWAY</td>\n",
       "      <td>11870 SANTA MONICA BLVD STE 101</td>\n",
       "      <td>True</td>\n",
       "      <td>Fast Food</td>\n",
       "      <td>11</td>\n",
       "    </tr>\n",
       "    <tr>\n",
       "      <th>2106</th>\n",
       "      <td>13892</td>\n",
       "      <td>SUBWAY</td>\n",
       "      <td>3105 N SAN FERNANDO RD</td>\n",
       "      <td>True</td>\n",
       "      <td>Fast Food</td>\n",
       "      <td>11</td>\n",
       "    </tr>\n",
       "    <tr>\n",
       "      <th>5851</th>\n",
       "      <td>17637</td>\n",
       "      <td>SUBWAY</td>\n",
       "      <td>2805 S FIGUEROA ST</td>\n",
       "      <td>True</td>\n",
       "      <td>Fast Food</td>\n",
       "      <td>6</td>\n",
       "    </tr>\n",
       "    <tr>\n",
       "      <th>943</th>\n",
       "      <td>12729</td>\n",
       "      <td>SUBWAY</td>\n",
       "      <td>2000 MARENGO ST</td>\n",
       "      <td>True</td>\n",
       "      <td>Fast Food</td>\n",
       "      <td>6</td>\n",
       "    </tr>\n",
       "    <tr>\n",
       "      <th>5848</th>\n",
       "      <td>17634</td>\n",
       "      <td>SUBWAY</td>\n",
       "      <td>6081 CENTER DR STE #206</td>\n",
       "      <td>True</td>\n",
       "      <td>Fast Food</td>\n",
       "      <td>4</td>\n",
       "    </tr>\n",
       "    <tr>\n",
       "      <th>8637</th>\n",
       "      <td>20423</td>\n",
       "      <td>SUBWAY</td>\n",
       "      <td>800 N ALAMEDA ST</td>\n",
       "      <td>True</td>\n",
       "      <td>Fast Food</td>\n",
       "      <td>4</td>\n",
       "    </tr>\n",
       "    <tr>\n",
       "      <th>6809</th>\n",
       "      <td>18595</td>\n",
       "      <td>SUBWAY</td>\n",
       "      <td>5353 WILSHIRE BLVD STE #D</td>\n",
       "      <td>True</td>\n",
       "      <td>Fast Food</td>\n",
       "      <td>3</td>\n",
       "    </tr>\n",
       "    <tr>\n",
       "      <th>6872</th>\n",
       "      <td>18658</td>\n",
       "      <td>SUBWAY</td>\n",
       "      <td>701 W CESAR E CHAVEZ AVE</td>\n",
       "      <td>True</td>\n",
       "      <td>Fast Food</td>\n",
       "      <td>3</td>\n",
       "    </tr>\n",
       "    <tr>\n",
       "      <th>918</th>\n",
       "      <td>12704</td>\n",
       "      <td>SUBWAY</td>\n",
       "      <td>6201 WHITTIER BLVD</td>\n",
       "      <td>True</td>\n",
       "      <td>Fast Food</td>\n",
       "      <td>1</td>\n",
       "    </tr>\n",
       "  </tbody>\n",
       "</table>\n",
       "</div>"
      ],
      "text/plain": [
       "         id object_name                          address  chain object_type  \\\n",
       "3998  15784      SUBWAY                635 S HOBART BLVD   True   Fast Food   \n",
       "566   12352      SUBWAY        3991 S WESTERN AVE STE #3   True   Fast Food   \n",
       "4436  16222      SUBWAY               5701 S CENTRAL AVE   True   Fast Food   \n",
       "4753  16539      SUBWAY               5864 S VERMONT AVE   True   Fast Food   \n",
       "5012  16798      SUBWAY      12730 S FIGUEROA ST STE 102   True   Fast Food   \n",
       "4509  16295      SUBWAY         7825 BEVERLY BLVD STE #4   True   Fast Food   \n",
       "8739  20525      SUBWAY           11762 SAN VICENTE BLVD   True   Fast Food   \n",
       "1057  12843      SUBWAY               610 S RAMPART BLVD   True   Fast Food   \n",
       "4282  16068      SUBWAY                198 S VERMONT AVE   True   Fast Food   \n",
       "6893  18679      SUBWAY                 1400 W PICO BLVD   True   Fast Food   \n",
       "436   12222      SUBWAY               2601 S LA BREA AVE   True   Fast Food   \n",
       "4977  16763      SUBWAY              1251 E OLYMPIC BLVD   True   Fast Food   \n",
       "4143  15929      SUBWAY      6051 HOLLYWOOD BLVD STE 102   True   Fast Food   \n",
       "8655  20441      SUBWAY                207 N WESTERN AVE   True   Fast Food   \n",
       "3763  15549      SUBWAY             3476 E WHITTIER BLVD   True   Fast Food   \n",
       "6065  17851      SUBWAY           1625 W WASHINGTON BLVD   True   Fast Food   \n",
       "255   12041      SUBWAY                    1205 W 3RD ST   True   Fast Food   \n",
       "7180  18966      SUBWAY        2134 W SUNSET BLVD STE #A   True   Fast Food   \n",
       "770   12556      SUBWAY                630 W 6TH ST 110C   True   Fast Food   \n",
       "7632  19418      SUBWAY  10250 SANTA MONICA BLVD STE 167   True   Fast Food   \n",
       "6768  18554      SUBWAY                    2112 W 7TH ST   True   Fast Food   \n",
       "6540  18326      SUBWAY              11733 BARRINGTON CT   True   Fast Food   \n",
       "8091  19877      SUBWAY  11870 SANTA MONICA BLVD STE 101   True   Fast Food   \n",
       "2106  13892      SUBWAY           3105 N SAN FERNANDO RD   True   Fast Food   \n",
       "5851  17637      SUBWAY               2805 S FIGUEROA ST   True   Fast Food   \n",
       "943   12729      SUBWAY                  2000 MARENGO ST   True   Fast Food   \n",
       "5848  17634      SUBWAY          6081 CENTER DR STE #206   True   Fast Food   \n",
       "8637  20423      SUBWAY                 800 N ALAMEDA ST   True   Fast Food   \n",
       "6809  18595      SUBWAY        5353 WILSHIRE BLVD STE #D   True   Fast Food   \n",
       "6872  18658      SUBWAY         701 W CESAR E CHAVEZ AVE   True   Fast Food   \n",
       "918   12704      SUBWAY               6201 WHITTIER BLVD   True   Fast Food   \n",
       "\n",
       "      number  \n",
       "3998      43  \n",
       "566       40  \n",
       "4436      29  \n",
       "4753      28  \n",
       "5012      25  \n",
       "4509      25  \n",
       "8739      23  \n",
       "1057      22  \n",
       "4282      21  \n",
       "6893      20  \n",
       "436       20  \n",
       "4977      19  \n",
       "4143      19  \n",
       "8655      18  \n",
       "3763      18  \n",
       "6065      16  \n",
       "255       14  \n",
       "7180      13  \n",
       "770       12  \n",
       "7632      12  \n",
       "6768      12  \n",
       "6540      11  \n",
       "8091      11  \n",
       "2106      11  \n",
       "5851       6  \n",
       "943        6  \n",
       "5848       4  \n",
       "8637       4  \n",
       "6809       3  \n",
       "6872       3  \n",
       "918        1  "
      ]
     },
     "execution_count": 168,
     "metadata": {},
     "output_type": "execute_result"
    }
   ],
   "source": [
    "rest_chain[rest_chain['object_name'] == 'SUBWAY'].sort_values(by='number', ascending=False)"
   ]
  },
  {
   "cell_type": "code",
   "execution_count": 169,
   "metadata": {},
   "outputs": [
    {
     "data": {
      "text/plain": [
       "id             31\n",
       "object_name    31\n",
       "address        31\n",
       "chain          31\n",
       "object_type    31\n",
       "number         31\n",
       "dtype: int64"
      ]
     },
     "execution_count": 169,
     "metadata": {},
     "output_type": "execute_result"
    }
   ],
   "source": [
    "rest_chain[rest_chain['object_name'] == 'SUBWAY'].count()"
   ]
  },
  {
   "cell_type": "code",
   "execution_count": 170,
   "metadata": {
    "scrolled": true
   },
   "outputs": [
    {
     "data": {
      "text/plain": [
       "Text(0, 0.5, 'density')"
      ]
     },
     "execution_count": 170,
     "metadata": {},
     "output_type": "execute_result"
    },
    {
     "data": {
      "image/png": "[encoded data removed]",
      "text/plain": [
       "<Figure size 720x432 with 1 Axes>"
      ]
     },
     "metadata": {},
     "output_type": "display_data"
    }
   ],
   "source": [
    "plt.figure(figsize = (10, 6))\n",
    "sns.histplot(rest_chain['number'], kde=True)\n",
    "plt.xlabel('number of chair')\n",
    "plt.ylabel('density')"
   ]
  },
  {
   "cell_type": "markdown",
   "metadata": {},
   "source": [
    "Seperti yang kita tahu pada umumnya, bisnis waralaba biasanya memiliki banyak tempat atau banyak cabang. Namun, apakah hal tersebut berlaku di wilayah LA? Kita mencoba melihat ciri-ciri usaha berbasis waralaba melalui data yang kita punya, apakah mereka memiliki banyak tempat dengan kursi sedikit atau memiliki beberapa tempat dengan jumlah kursi yang banyak. \n",
    "\n",
    "Kita melakukan percobaan dengan mengambil sampel masing-masing 1 tempat dari jenis usaha tipe *restaurant* dan *fast food* yang memiliki jumlahnya paling banyak untuk bisnis waralaba. Ternyata, didapatkan hasilnya beragam, namun, ciri yang banyak muncul secara umum adalah banyak tempat. \n",
    "Kemudian, kita juga mencoba melihat dari keseluruhan jenis usaha melalui grafik, berapa banyak jumlah kursi yang biasanya dimiliki oleh usaha tempat makan. Hasilnya, kebanyakan tempat usaha, memiliki kursi yang jumlahnya tidak lebih dari 50.\n",
    "\n",
    "Sehingga dapat dikatakan, ciri-ciri dari usaha bisnis waralaba adalah memiliki banyak tempat dengan kursi sedikit."
   ]
  },
  {
   "cell_type": "markdown",
   "metadata": {},
   "source": [
    "### Jumlah Kursi Terbanyak"
   ]
  },
  {
   "cell_type": "code",
   "execution_count": 171,
   "metadata": {},
   "outputs": [
    {
     "data": {
      "text/html": [
       "<div>\n",
       "<style scoped>\n",
       "    .dataframe tbody tr th:only-of-type {\n",
       "        vertical-align: middle;\n",
       "    }\n",
       "\n",
       "    .dataframe tbody tr th {\n",
       "        vertical-align: top;\n",
       "    }\n",
       "\n",
       "    .dataframe thead th {\n",
       "        text-align: right;\n",
       "    }\n",
       "</style>\n",
       "<table border=\"1\" class=\"dataframe\">\n",
       "  <thead>\n",
       "    <tr style=\"text-align: right;\">\n",
       "      <th></th>\n",
       "      <th>mean</th>\n",
       "      <th>total</th>\n",
       "    </tr>\n",
       "    <tr>\n",
       "      <th>object_type</th>\n",
       "      <th></th>\n",
       "      <th></th>\n",
       "    </tr>\n",
       "  </thead>\n",
       "  <tbody>\n",
       "    <tr>\n",
       "      <th>Bakery</th>\n",
       "      <td>21.773852</td>\n",
       "      <td>6162</td>\n",
       "    </tr>\n",
       "    <tr>\n",
       "      <th>Cafe</th>\n",
       "      <td>25.000000</td>\n",
       "      <td>10875</td>\n",
       "    </tr>\n",
       "    <tr>\n",
       "      <th>Pizza</th>\n",
       "      <td>28.545455</td>\n",
       "      <td>9106</td>\n",
       "    </tr>\n",
       "    <tr>\n",
       "      <th>Fast Food</th>\n",
       "      <td>31.837711</td>\n",
       "      <td>33939</td>\n",
       "    </tr>\n",
       "    <tr>\n",
       "      <th>Bar</th>\n",
       "      <td>44.767123</td>\n",
       "      <td>13072</td>\n",
       "    </tr>\n",
       "    <tr>\n",
       "      <th>Restaurant</th>\n",
       "      <td>48.048807</td>\n",
       "      <td>348498</td>\n",
       "    </tr>\n",
       "  </tbody>\n",
       "</table>\n",
       "</div>"
      ],
      "text/plain": [
       "                  mean   total\n",
       "object_type                   \n",
       "Bakery       21.773852    6162\n",
       "Cafe         25.000000   10875\n",
       "Pizza        28.545455    9106\n",
       "Fast Food    31.837711   33939\n",
       "Bar          44.767123   13072\n",
       "Restaurant   48.048807  348498"
      ]
     },
     "execution_count": 171,
     "metadata": {},
     "output_type": "execute_result"
    }
   ],
   "source": [
    "avg_chair = df.groupby('object_type').agg(mean = ('number', 'mean'), total = ('number', 'sum')).sort_values(by = 'mean')\n",
    "avg_chair"
   ]
  },
  {
   "cell_type": "code",
   "execution_count": 172,
   "metadata": {},
   "outputs": [
    {
     "data": {
      "image/png": "[encoded data removed]",
      "text/plain": [
       "<Figure size 720x432 with 1 Axes>"
      ]
     },
     "metadata": {},
     "output_type": "display_data"
    }
   ],
   "source": [
    "fig, ax = plt.subplots(figsize=(10, 6))\n",
    "sns.barplot(x = avg_chair.index, y = avg_chair['mean'], palette = sns.color_palette('tab10', len(avg_chair.index)))\n",
    "\n",
    "for i, bar in enumerate(ax.patches):\n",
    "    height = bar.get_height()\n",
    "    ax.annotate(f'{height:.2f}', xy=(bar.get_x() + bar.get_width() / 2, height),\n",
    "                xytext=(0, 3), textcoords='offset points', ha='center', va='bottom')\n",
    "    \n",
    "ax.set_title('The Average Number of Seats')\n",
    "ax.set_xlabel('Object Type')\n",
    "ax.set_ylabel('Mean')\n",
    "\n",
    "plt.show()"
   ]
  },
  {
   "cell_type": "markdown",
   "metadata": {},
   "source": [
    "Berdasarkan tabel dan grafik visualisasi, secara rata-rata, jenis usaha *Restaurant* memiliki jumlah kursi terbanyak. Lalu diikuti dengan *Bar* dan *Fast Food* di urutan ke-2 dan ke-3. Untuk posisi jumlah kursi paling sedikit ditempati oleh *Bakery*\n",
    "\n",
    "Hal ini sangat wajar, selain karena jenis usaha *Restaurant* jumlahnya sangat banyak, restoran juga biasanya mengusung konsep tempat yang dapat menampung banyak orang untuk makan di tempat (*dine-in*) dan bukan layanan cepat saji maupun hanya melayani *take away*, sehingga pasti mereka memiliki jumlah kursi yang banyak.\n",
    "\n",
    "Yang menarik adalah *Bar*, dimana kita tahu bahwa jumlah jenis usaha ini hanya sedikit, jauh dibandingkan *Restaurant* dan *Fast Food*, namun, ternyata mereka juga memiliki banyak kursi (lihat perbedaan rata-ratanya yang tidak terlalu besar dari *Restaurant*). Mungkin saja setiap 1 *bar* memiliki tempat/area yang luas sehingga kursi yang dimilikinya sangat banyak, jadi, meskipun jumlah *bar* di wilayah LA sedikit, rata-rata jumlah kursinya banyak."
   ]
  },
  {
   "cell_type": "markdown",
   "metadata": {},
   "source": [
    "### Data Nama Jalan"
   ]
  },
  {
   "cell_type": "code",
   "execution_count": 173,
   "metadata": {},
   "outputs": [
    {
     "data": {
      "text/html": [
       "<div>\n",
       "<style scoped>\n",
       "    .dataframe tbody tr th:only-of-type {\n",
       "        vertical-align: middle;\n",
       "    }\n",
       "\n",
       "    .dataframe tbody tr th {\n",
       "        vertical-align: top;\n",
       "    }\n",
       "\n",
       "    .dataframe thead th {\n",
       "        text-align: right;\n",
       "    }\n",
       "</style>\n",
       "<table border=\"1\" class=\"dataframe\">\n",
       "  <thead>\n",
       "    <tr style=\"text-align: right;\">\n",
       "      <th></th>\n",
       "      <th>id</th>\n",
       "      <th>object_name</th>\n",
       "      <th>address</th>\n",
       "      <th>chain</th>\n",
       "      <th>object_type</th>\n",
       "      <th>number</th>\n",
       "    </tr>\n",
       "  </thead>\n",
       "  <tbody>\n",
       "    <tr>\n",
       "      <th>0</th>\n",
       "      <td>11786</td>\n",
       "      <td>HABITAT COFFEE SHOP</td>\n",
       "      <td>3708 N EAGLE ROCK BLVD</td>\n",
       "      <td>False</td>\n",
       "      <td>Cafe</td>\n",
       "      <td>26</td>\n",
       "    </tr>\n",
       "    <tr>\n",
       "      <th>1</th>\n",
       "      <td>11787</td>\n",
       "      <td>REILLY'S</td>\n",
       "      <td>100 WORLD WAY # 120</td>\n",
       "      <td>False</td>\n",
       "      <td>Restaurant</td>\n",
       "      <td>9</td>\n",
       "    </tr>\n",
       "    <tr>\n",
       "      <th>2</th>\n",
       "      <td>11788</td>\n",
       "      <td>STREET CHURROS</td>\n",
       "      <td>6801 HOLLYWOOD BLVD # 253</td>\n",
       "      <td>False</td>\n",
       "      <td>Fast Food</td>\n",
       "      <td>20</td>\n",
       "    </tr>\n",
       "    <tr>\n",
       "      <th>3</th>\n",
       "      <td>11789</td>\n",
       "      <td>TRINITI ECHO PARK</td>\n",
       "      <td>1814 W SUNSET BLVD</td>\n",
       "      <td>False</td>\n",
       "      <td>Restaurant</td>\n",
       "      <td>22</td>\n",
       "    </tr>\n",
       "    <tr>\n",
       "      <th>4</th>\n",
       "      <td>11790</td>\n",
       "      <td>POLLEN</td>\n",
       "      <td>2100 ECHO PARK AVE</td>\n",
       "      <td>False</td>\n",
       "      <td>Restaurant</td>\n",
       "      <td>20</td>\n",
       "    </tr>\n",
       "  </tbody>\n",
       "</table>\n",
       "</div>"
      ],
      "text/plain": [
       "      id          object_name                    address  chain object_type  \\\n",
       "0  11786  HABITAT COFFEE SHOP     3708 N EAGLE ROCK BLVD  False        Cafe   \n",
       "1  11787             REILLY'S        100 WORLD WAY # 120  False  Restaurant   \n",
       "2  11788       STREET CHURROS  6801 HOLLYWOOD BLVD # 253  False   Fast Food   \n",
       "3  11789    TRINITI ECHO PARK         1814 W SUNSET BLVD  False  Restaurant   \n",
       "4  11790               POLLEN         2100 ECHO PARK AVE  False  Restaurant   \n",
       "\n",
       "   number  \n",
       "0      26  \n",
       "1       9  \n",
       "2      20  \n",
       "3      22  \n",
       "4      20  "
      ]
     },
     "execution_count": 173,
     "metadata": {},
     "output_type": "execute_result"
    }
   ],
   "source": [
    "df.head()"
   ]
  },
  {
   "cell_type": "code",
   "execution_count": 174,
   "metadata": {},
   "outputs": [],
   "source": [
    "df['address_name'] = df['address'].apply(lambda x: ' '.join(x.split(' ')[1:]))"
   ]
  },
  {
   "cell_type": "code",
   "execution_count": 175,
   "metadata": {},
   "outputs": [
    {
     "data": {
      "text/html": [
       "<div>\n",
       "<style scoped>\n",
       "    .dataframe tbody tr th:only-of-type {\n",
       "        vertical-align: middle;\n",
       "    }\n",
       "\n",
       "    .dataframe tbody tr th {\n",
       "        vertical-align: top;\n",
       "    }\n",
       "\n",
       "    .dataframe thead th {\n",
       "        text-align: right;\n",
       "    }\n",
       "</style>\n",
       "<table border=\"1\" class=\"dataframe\">\n",
       "  <thead>\n",
       "    <tr style=\"text-align: right;\">\n",
       "      <th></th>\n",
       "      <th>id</th>\n",
       "      <th>object_name</th>\n",
       "      <th>address</th>\n",
       "      <th>chain</th>\n",
       "      <th>object_type</th>\n",
       "      <th>number</th>\n",
       "      <th>address_name</th>\n",
       "    </tr>\n",
       "  </thead>\n",
       "  <tbody>\n",
       "    <tr>\n",
       "      <th>0</th>\n",
       "      <td>11786</td>\n",
       "      <td>HABITAT COFFEE SHOP</td>\n",
       "      <td>3708 N EAGLE ROCK BLVD</td>\n",
       "      <td>False</td>\n",
       "      <td>Cafe</td>\n",
       "      <td>26</td>\n",
       "      <td>N EAGLE ROCK BLVD</td>\n",
       "    </tr>\n",
       "    <tr>\n",
       "      <th>1</th>\n",
       "      <td>11787</td>\n",
       "      <td>REILLY'S</td>\n",
       "      <td>100 WORLD WAY # 120</td>\n",
       "      <td>False</td>\n",
       "      <td>Restaurant</td>\n",
       "      <td>9</td>\n",
       "      <td>WORLD WAY # 120</td>\n",
       "    </tr>\n",
       "    <tr>\n",
       "      <th>2</th>\n",
       "      <td>11788</td>\n",
       "      <td>STREET CHURROS</td>\n",
       "      <td>6801 HOLLYWOOD BLVD # 253</td>\n",
       "      <td>False</td>\n",
       "      <td>Fast Food</td>\n",
       "      <td>20</td>\n",
       "      <td>HOLLYWOOD BLVD # 253</td>\n",
       "    </tr>\n",
       "    <tr>\n",
       "      <th>3</th>\n",
       "      <td>11789</td>\n",
       "      <td>TRINITI ECHO PARK</td>\n",
       "      <td>1814 W SUNSET BLVD</td>\n",
       "      <td>False</td>\n",
       "      <td>Restaurant</td>\n",
       "      <td>22</td>\n",
       "      <td>W SUNSET BLVD</td>\n",
       "    </tr>\n",
       "    <tr>\n",
       "      <th>4</th>\n",
       "      <td>11790</td>\n",
       "      <td>POLLEN</td>\n",
       "      <td>2100 ECHO PARK AVE</td>\n",
       "      <td>False</td>\n",
       "      <td>Restaurant</td>\n",
       "      <td>20</td>\n",
       "      <td>ECHO PARK AVE</td>\n",
       "    </tr>\n",
       "  </tbody>\n",
       "</table>\n",
       "</div>"
      ],
      "text/plain": [
       "      id          object_name                    address  chain object_type  \\\n",
       "0  11786  HABITAT COFFEE SHOP     3708 N EAGLE ROCK BLVD  False        Cafe   \n",
       "1  11787             REILLY'S        100 WORLD WAY # 120  False  Restaurant   \n",
       "2  11788       STREET CHURROS  6801 HOLLYWOOD BLVD # 253  False   Fast Food   \n",
       "3  11789    TRINITI ECHO PARK         1814 W SUNSET BLVD  False  Restaurant   \n",
       "4  11790               POLLEN         2100 ECHO PARK AVE  False  Restaurant   \n",
       "\n",
       "   number          address_name  \n",
       "0      26     N EAGLE ROCK BLVD  \n",
       "1       9       WORLD WAY # 120  \n",
       "2      20  HOLLYWOOD BLVD # 253  \n",
       "3      22         W SUNSET BLVD  \n",
       "4      20         ECHO PARK AVE  "
      ]
     },
     "execution_count": 175,
     "metadata": {},
     "output_type": "execute_result"
    }
   ],
   "source": [
    "df.head()"
   ]
  },
  {
   "cell_type": "markdown",
   "metadata": {},
   "source": [
    "Kita akan menganalisa jalan atau alamat mana yang paling populer berdasarkan jumlah usaha. Namun, kita perlu memisahkan nama jalan tersebut dengan menghilangkan nomor unik dari nama-nama jalan tersebut, kemudian menambahkannya di kolom yang baru, yaitu `address_name`.\n",
    "\n",
    "Selanjutnya, kita akan melihat 10 nama jalan teratas berdasarkan jumlah usaha."
   ]
  },
  {
   "cell_type": "markdown",
   "metadata": {},
   "source": [
    "### Sepuluh Nama Jalan Teratas Berdasarkan Jumlah Usaha"
   ]
  },
  {
   "cell_type": "code",
   "execution_count": 176,
   "metadata": {},
   "outputs": [
    {
     "data": {
      "text/plain": [
       "W SUNSET BLVD        296\n",
       "W PICO BLVD          288\n",
       "HOLLYWOOD BLVD       167\n",
       "WILSHIRE BLVD        161\n",
       "S VERMONT AVE        148\n",
       "SANTA MONICA BLVD    146\n",
       "W 3RD ST             145\n",
       "BEVERLY BLVD         135\n",
       "S FIGUEROA ST        134\n",
       "S WESTERN AVE        128\n",
       "Name: address_name, dtype: int64"
      ]
     },
     "execution_count": 176,
     "metadata": {},
     "output_type": "execute_result"
    }
   ],
   "source": [
    "top_ten = df['address_name'].value_counts().head(10)\n",
    "top_ten"
   ]
  },
  {
   "cell_type": "code",
   "execution_count": 177,
   "metadata": {},
   "outputs": [
    {
     "data": {
      "image/png": "[encoded data removed]",
      "text/plain": [
       "<Figure size 720x432 with 1 Axes>"
      ]
     },
     "metadata": {},
     "output_type": "display_data"
    }
   ],
   "source": [
    "plt.figure(figsize = (10, 6))\n",
    "sns.barplot(x = top_ten.index, y = top_ten.values, palette = 'Blues_r')\n",
    "\n",
    "for i, count in enumerate(top_ten.values):\n",
    "    plt.text(i, count, str(count), ha='center', va='bottom')\n",
    "\n",
    "    plt.xticks(rotation=45, ha='right')\n",
    "\n",
    "plt.xlabel('Address Name')\n",
    "plt.ylabel('Total rest')\n",
    "plt.title('Top 10 Address Name')\n",
    "plt.tight_layout()\n",
    "plt.show()"
   ]
  },
  {
   "cell_type": "markdown",
   "metadata": {},
   "source": [
    "Grafik visualisasi di atas menunjukkan 10 nama jalan teratas berdasarkan jumlah usaha tempat makan.\n",
    "Jalanan yang paling populer sebagai wilayah dengan tempat makan terbanyak adalah **W SUNSET BLVD** dimana terdapat 296 tempat makan dan **W PICO BLVD** dengan 288 tempat makan . Hasil ini sangat wajar, mengingat jalan **W SUNSET BLVD** merupakan salah 1 jalan utama yang berada di pusat kota LA, dan memiliki panjang 35 km. Sedangkan **W PICO BLVD** juga merupakan salah 1 jalan utama yang memiliki banyak landmark atau tempat/obyek terkenal di LA. Sehingga, wajar jika terdapat banyak sekali tempat makan di kedua jalan ini."
   ]
  },
  {
   "cell_type": "markdown",
   "metadata": {},
   "source": [
    "### Jalan yang Hanya Memiliki Satu Usaha"
   ]
  },
  {
   "cell_type": "code",
   "execution_count": 178,
   "metadata": {},
   "outputs": [
    {
     "data": {
      "text/plain": [
       "WALL ST STE 6              1\n",
       "HOLLYWOOD BLVD STE #10     1\n",
       "MELROSE AVE # 101          1\n",
       "W 3RD ST STE #C            1\n",
       "SANTA MONICA BLVD # 52     1\n",
       "                          ..\n",
       "S SPRING ST STE 110        1\n",
       "MARIACHI PLZ               1\n",
       "N LA CIENEGA BLVD # 114    1\n",
       "WILSHIRE BLVD STE 118      1\n",
       "S FIGUEROA ST FL 9TH       1\n",
       "Name: address_name, Length: 2481, dtype: int64"
      ]
     },
     "execution_count": 178,
     "metadata": {},
     "output_type": "execute_result"
    }
   ],
   "source": [
    "one_rest = df['address_name'].value_counts()[df['address_name'].value_counts() == 1]\n",
    "one_rest"
   ]
  },
  {
   "cell_type": "code",
   "execution_count": 179,
   "metadata": {},
   "outputs": [
    {
     "data": {
      "text/plain": [
       "2481"
      ]
     },
     "execution_count": 179,
     "metadata": {},
     "output_type": "execute_result"
    }
   ],
   "source": [
    "one_rest.count()"
   ]
  },
  {
   "cell_type": "markdown",
   "metadata": {},
   "source": [
    "Terdapat total 2481 nama jalan yang hanya memiliki 1 tempat makan saja."
   ]
  },
  {
   "cell_type": "markdown",
   "metadata": {},
   "source": [
    "### Distribusi Jumlah Kursi Tempat Makan di Jalan Paling Populer"
   ]
  },
  {
   "cell_type": "markdown",
   "metadata": {},
   "source": [
    "Kita akan mencoba mengamati tren apakah yang muncul untuk jalan yang dihuni oleh banyak usaha (tempat makan), yang telah kita dapatkan hasilnya sebelumnya, yaitu **W SUNSET BLVD**. Mari kita amati distribusi jumlah kursi dari tempat makan yang berada di wilayah tersebut."
   ]
  },
  {
   "cell_type": "code",
   "execution_count": 180,
   "metadata": {},
   "outputs": [
    {
     "data": {
      "text/html": [
       "<div>\n",
       "<style scoped>\n",
       "    .dataframe tbody tr th:only-of-type {\n",
       "        vertical-align: middle;\n",
       "    }\n",
       "\n",
       "    .dataframe tbody tr th {\n",
       "        vertical-align: top;\n",
       "    }\n",
       "\n",
       "    .dataframe thead th {\n",
       "        text-align: right;\n",
       "    }\n",
       "</style>\n",
       "<table border=\"1\" class=\"dataframe\">\n",
       "  <thead>\n",
       "    <tr style=\"text-align: right;\">\n",
       "      <th></th>\n",
       "      <th>id</th>\n",
       "      <th>object_name</th>\n",
       "      <th>address</th>\n",
       "      <th>chain</th>\n",
       "      <th>object_type</th>\n",
       "      <th>number</th>\n",
       "      <th>address_name</th>\n",
       "    </tr>\n",
       "  </thead>\n",
       "  <tbody>\n",
       "    <tr>\n",
       "      <th>0</th>\n",
       "      <td>11789</td>\n",
       "      <td>TRINITI ECHO PARK</td>\n",
       "      <td>1814 W SUNSET BLVD</td>\n",
       "      <td>False</td>\n",
       "      <td>Restaurant</td>\n",
       "      <td>22</td>\n",
       "      <td>W SUNSET BLVD</td>\n",
       "    </tr>\n",
       "    <tr>\n",
       "      <th>1</th>\n",
       "      <td>11796</td>\n",
       "      <td>EL POLLO LOCO</td>\n",
       "      <td>5319 W SUNSET BLVD</td>\n",
       "      <td>True</td>\n",
       "      <td>Restaurant</td>\n",
       "      <td>38</td>\n",
       "      <td>W SUNSET BLVD</td>\n",
       "    </tr>\n",
       "    <tr>\n",
       "      <th>2</th>\n",
       "      <td>11800</td>\n",
       "      <td>CUSCATLECA BAKERY</td>\n",
       "      <td>2501 W SUNSET BLVD #A</td>\n",
       "      <td>True</td>\n",
       "      <td>Bakery</td>\n",
       "      <td>26</td>\n",
       "      <td>W SUNSET BLVD #A</td>\n",
       "    </tr>\n",
       "    <tr>\n",
       "      <th>3</th>\n",
       "      <td>11817</td>\n",
       "      <td>DUNES RESTAURANT</td>\n",
       "      <td>5625 W SUNSET BLVD</td>\n",
       "      <td>True</td>\n",
       "      <td>Restaurant</td>\n",
       "      <td>118</td>\n",
       "      <td>W SUNSET BLVD</td>\n",
       "    </tr>\n",
       "    <tr>\n",
       "      <th>4</th>\n",
       "      <td>11819</td>\n",
       "      <td>ONO HAWAIIAN BBQ</td>\n",
       "      <td>5539 W SUNSET BLVD</td>\n",
       "      <td>True</td>\n",
       "      <td>Restaurant</td>\n",
       "      <td>35</td>\n",
       "      <td>W SUNSET BLVD</td>\n",
       "    </tr>\n",
       "    <tr>\n",
       "      <th>...</th>\n",
       "      <td>...</td>\n",
       "      <td>...</td>\n",
       "      <td>...</td>\n",
       "      <td>...</td>\n",
       "      <td>...</td>\n",
       "      <td>...</td>\n",
       "      <td>...</td>\n",
       "    </tr>\n",
       "    <tr>\n",
       "      <th>363</th>\n",
       "      <td>21284</td>\n",
       "      <td>PA ORD EXPRESS</td>\n",
       "      <td>5301 W SUNSET BLVD # 11</td>\n",
       "      <td>False</td>\n",
       "      <td>Fast Food</td>\n",
       "      <td>31</td>\n",
       "      <td>W SUNSET BLVD # 11</td>\n",
       "    </tr>\n",
       "    <tr>\n",
       "      <th>364</th>\n",
       "      <td>21309</td>\n",
       "      <td>BUTTER'S ICE CREAM</td>\n",
       "      <td>2925 W SUNSET BLVD</td>\n",
       "      <td>False</td>\n",
       "      <td>Restaurant</td>\n",
       "      <td>29</td>\n",
       "      <td>W SUNSET BLVD</td>\n",
       "    </tr>\n",
       "    <tr>\n",
       "      <th>365</th>\n",
       "      <td>21313</td>\n",
       "      <td>REGULA GUY'S PIZZA</td>\n",
       "      <td>5173 W SUNSET BLVD</td>\n",
       "      <td>False</td>\n",
       "      <td>Pizza</td>\n",
       "      <td>20</td>\n",
       "      <td>W SUNSET BLVD</td>\n",
       "    </tr>\n",
       "    <tr>\n",
       "      <th>366</th>\n",
       "      <td>21348</td>\n",
       "      <td>7-ELEVEN STORE #18778D</td>\n",
       "      <td>7600 W SUNSET BLVD</td>\n",
       "      <td>False</td>\n",
       "      <td>Restaurant</td>\n",
       "      <td>1</td>\n",
       "      <td>W SUNSET BLVD</td>\n",
       "    </tr>\n",
       "    <tr>\n",
       "      <th>367</th>\n",
       "      <td>21368</td>\n",
       "      <td>HYDE LLC</td>\n",
       "      <td>8029 W SUNSET BLVD</td>\n",
       "      <td>False</td>\n",
       "      <td>Restaurant</td>\n",
       "      <td>42</td>\n",
       "      <td>W SUNSET BLVD</td>\n",
       "    </tr>\n",
       "  </tbody>\n",
       "</table>\n",
       "<p>368 rows × 7 columns</p>\n",
       "</div>"
      ],
      "text/plain": [
       "        id             object_name                  address  chain  \\\n",
       "0    11789       TRINITI ECHO PARK       1814 W SUNSET BLVD  False   \n",
       "1    11796           EL POLLO LOCO       5319 W SUNSET BLVD   True   \n",
       "2    11800       CUSCATLECA BAKERY    2501 W SUNSET BLVD #A   True   \n",
       "3    11817        DUNES RESTAURANT       5625 W SUNSET BLVD   True   \n",
       "4    11819        ONO HAWAIIAN BBQ       5539 W SUNSET BLVD   True   \n",
       "..     ...                     ...                      ...    ...   \n",
       "363  21284          PA ORD EXPRESS  5301 W SUNSET BLVD # 11  False   \n",
       "364  21309      BUTTER'S ICE CREAM       2925 W SUNSET BLVD  False   \n",
       "365  21313      REGULA GUY'S PIZZA       5173 W SUNSET BLVD  False   \n",
       "366  21348  7-ELEVEN STORE #18778D       7600 W SUNSET BLVD  False   \n",
       "367  21368                HYDE LLC       8029 W SUNSET BLVD  False   \n",
       "\n",
       "    object_type  number        address_name  \n",
       "0    Restaurant      22       W SUNSET BLVD  \n",
       "1    Restaurant      38       W SUNSET BLVD  \n",
       "2        Bakery      26    W SUNSET BLVD #A  \n",
       "3    Restaurant     118       W SUNSET BLVD  \n",
       "4    Restaurant      35       W SUNSET BLVD  \n",
       "..          ...     ...                 ...  \n",
       "363   Fast Food      31  W SUNSET BLVD # 11  \n",
       "364  Restaurant      29       W SUNSET BLVD  \n",
       "365       Pizza      20       W SUNSET BLVD  \n",
       "366  Restaurant       1       W SUNSET BLVD  \n",
       "367  Restaurant      42       W SUNSET BLVD  \n",
       "\n",
       "[368 rows x 7 columns]"
      ]
     },
     "execution_count": 180,
     "metadata": {},
     "output_type": "execute_result"
    }
   ],
   "source": [
    "top_rest = df[df['address_name'].str.contains('W SUNSET BLVD')].reset_index(drop=True)\n",
    "top_rest"
   ]
  },
  {
   "cell_type": "code",
   "execution_count": 181,
   "metadata": {},
   "outputs": [
    {
     "data": {
      "text/html": [
       "<div>\n",
       "<style scoped>\n",
       "    .dataframe tbody tr th:only-of-type {\n",
       "        vertical-align: middle;\n",
       "    }\n",
       "\n",
       "    .dataframe tbody tr th {\n",
       "        vertical-align: top;\n",
       "    }\n",
       "\n",
       "    .dataframe thead th {\n",
       "        text-align: right;\n",
       "    }\n",
       "</style>\n",
       "<table border=\"1\" class=\"dataframe\">\n",
       "  <thead>\n",
       "    <tr style=\"text-align: right;\">\n",
       "      <th></th>\n",
       "      <th>id</th>\n",
       "      <th>object_name</th>\n",
       "      <th>address</th>\n",
       "      <th>chain</th>\n",
       "      <th>number</th>\n",
       "      <th>address_name</th>\n",
       "    </tr>\n",
       "    <tr>\n",
       "      <th>object_type</th>\n",
       "      <th></th>\n",
       "      <th></th>\n",
       "      <th></th>\n",
       "      <th></th>\n",
       "      <th></th>\n",
       "      <th></th>\n",
       "    </tr>\n",
       "  </thead>\n",
       "  <tbody>\n",
       "    <tr>\n",
       "      <th>Restaurant</th>\n",
       "      <td>271</td>\n",
       "      <td>271</td>\n",
       "      <td>271</td>\n",
       "      <td>271</td>\n",
       "      <td>271</td>\n",
       "      <td>271</td>\n",
       "    </tr>\n",
       "    <tr>\n",
       "      <th>Fast Food</th>\n",
       "      <td>31</td>\n",
       "      <td>31</td>\n",
       "      <td>31</td>\n",
       "      <td>31</td>\n",
       "      <td>31</td>\n",
       "      <td>31</td>\n",
       "    </tr>\n",
       "    <tr>\n",
       "      <th>Cafe</th>\n",
       "      <td>24</td>\n",
       "      <td>24</td>\n",
       "      <td>24</td>\n",
       "      <td>24</td>\n",
       "      <td>24</td>\n",
       "      <td>24</td>\n",
       "    </tr>\n",
       "    <tr>\n",
       "      <th>Pizza</th>\n",
       "      <td>17</td>\n",
       "      <td>17</td>\n",
       "      <td>17</td>\n",
       "      <td>17</td>\n",
       "      <td>17</td>\n",
       "      <td>17</td>\n",
       "    </tr>\n",
       "    <tr>\n",
       "      <th>Bar</th>\n",
       "      <td>13</td>\n",
       "      <td>13</td>\n",
       "      <td>13</td>\n",
       "      <td>13</td>\n",
       "      <td>13</td>\n",
       "      <td>13</td>\n",
       "    </tr>\n",
       "    <tr>\n",
       "      <th>Bakery</th>\n",
       "      <td>12</td>\n",
       "      <td>12</td>\n",
       "      <td>12</td>\n",
       "      <td>12</td>\n",
       "      <td>12</td>\n",
       "      <td>12</td>\n",
       "    </tr>\n",
       "  </tbody>\n",
       "</table>\n",
       "</div>"
      ],
      "text/plain": [
       "              id  object_name  address  chain  number  address_name\n",
       "object_type                                                        \n",
       "Restaurant   271          271      271    271     271           271\n",
       "Fast Food     31           31       31     31      31            31\n",
       "Cafe          24           24       24     24      24            24\n",
       "Pizza         17           17       17     17      17            17\n",
       "Bar           13           13       13     13      13            13\n",
       "Bakery        12           12       12     12      12            12"
      ]
     },
     "execution_count": 181,
     "metadata": {},
     "output_type": "execute_result"
    }
   ],
   "source": [
    "top_rest.groupby('object_type').count(). sort_values(by='id', ascending=False)"
   ]
  },
  {
   "cell_type": "code",
   "execution_count": 182,
   "metadata": {},
   "outputs": [],
   "source": [
    "chain_true = top_rest[top_rest['chain'] == True]\n",
    "chain_false = top_rest[top_rest['chain'] == False]"
   ]
  },
  {
   "cell_type": "code",
   "execution_count": 183,
   "metadata": {},
   "outputs": [
    {
     "data": {
      "image/png": "[encoded data removed]",
      "text/plain": [
       "<Figure size 432x288 with 1 Axes>"
      ]
     },
     "metadata": {},
     "output_type": "display_data"
    }
   ],
   "source": [
    "sns.histplot(chain_true['number'], color='red', label='Chain True', kde=True)\n",
    "sns.histplot(chain_false['number'], color='blue', label='Chain False', kde=True)\n",
    "\n",
    "plt.xlabel('Total Seats')\n",
    "plt.ylabel('Density')\n",
    "plt.title('Distribution Number of Seats Between Franchise and non-Franchise Rest')\n",
    "\n",
    "plt.legend()\n",
    "plt.show()"
   ]
  },
  {
   "cell_type": "markdown",
   "metadata": {},
   "source": [
    "Seperti yang dapat kita lihat pada grafik visualisasi di atas, distribusi jumlah kursi dari tempat makan di **W SUNSET BLVD**, baik untuk yang berbasis waralaba (*franchise*) maupun non-waralaba (*non-franchise*), kurang lebih sama, yaitu berada di kisaran angka 0 hingga 50. Artinya, kebanyakan tempat makan di jalan **W SUNSET BLVD** memiliki jumlah kursi yang sedikit."
   ]
  },
  {
   "cell_type": "markdown",
   "metadata": {},
   "source": [
    "### Kesimpulan dan Langkah Selanjutnya"
   ]
  },
  {
   "cell_type": "markdown",
   "metadata": {},
   "source": [
    "Setelah melakukan analisa data, maka kita dapat menarik kesimpulan:\n",
    "\n",
    "1. Jenis usaha yang paling banyak di Los Angeles (LA) ternyata didominasi oleh *restaurant*, dengan persentase sebanyak 75% dan total 7253 restaurant.\n",
    "\n",
    "2. Kebanyakan usaha tempat makan di LA didominasi oleh usaha berbasis non-waralaba (non-franchise) dengan persentase 61.9% dan jumlahnya sebanyak 5972. Sedangkan sisanya ditempati oleh usaha berbasis waralaba atau *franchise* sebanyak 38.1% dan jumlahnya sebanyak 3676.\n",
    "\n",
    "3. Melalui ratio jenis usaha berbasis waralaba terhadap kedua jenis basis usaha, jenis usaha berbasis waralaba (nilai True) yang paling banyak adalah *Bakery*.\n",
    "\n",
    "4. Seperti yang kita tahu pada umumnya, bisnis waralaba biasanya memiliki banyak tempat atau banyak cabang. Setelah dilakukan percobaan dengan mengambil sampel masing-masing 1 tempat dari jenis usaha tipe *restaurant* dan *fast food* yang memiliki jumlahnya paling banyak untuk bisnis waralaba. Ternyata, didapatkan hasilnya beragam, namun, ciri yang banyak muncul secara umum adalah banyak tempat. \n",
    "Kemudian, kita juga mencoba melihat dari keseluruhan jenis usaha melalui grafik, berapa banyak jumlah kursi yang biasanya dimiliki oleh usaha tempat makan. Hasilnya, kebanyakan tempat usaha, memiliki kursi yang jumlahnya tidak lebih dari 50.\n",
    "\n",
    "Sehingga dapat dikatakan, ciri-ciri dari usaha bisnis waralaba adalah memiliki banyak tempat dengan kursi sedikit.\n",
    "\n",
    "5. Secara rata-rata, jenis usaha *Restaurant* memiliki jumlah kursi terbanyak. Lalu diikuti dengan *Bar* dan *Fast Food* di urutan ke-2 dan ke-3. Untuk posisi jumlah kursi paling sedikit ditempati oleh *Bakery*.\n",
    "\n",
    "6. Setelah melihat 10 nama jalan teratas berdasarkan jumlah usaha tempat makan, jalanan yang paling populer sebagai wilayah dengan tempat makan terbanyak adalah **W SUNSET BLVD** dimana terdapat 296 tempat makan dan **W PICO BLVD** dengan 288 tempat makan. \n",
    "\n",
    "7. Terdapat total 2481 nama jalan yang hanya memiliki 1 tempat makan saja.\n",
    "\n",
    "8. Distribusi jumlah kursi dari tempat makan di **W SUNSET BLVD**, baik untuk yang berbasis waralaba (*franchise*) maupun non-waralaba (*non-franchise*), kurang lebih sama, yaitu berada di kisaran angka 0 hingga 50. Artinya, kebanyakan tempat makan di jalan **W SUNSET BLVD** memiliki jumlah kursi yang sedikit."
   ]
  },
  {
   "cell_type": "markdown",
   "metadata": {},
   "source": [
    "## Kesimpulan Umum"
   ]
  },
  {
   "cell_type": "markdown",
   "metadata": {},
   "source": [
    "Kita telah mencoba untuk mengolah data dan dapat menarik kesimpulan.\n",
    "\n",
    "Kumpulan data terkait berbagai jenis usaha tempat makan di LA disimpan dalam file berikut `/datasets/rest_data_us.csv`.\n",
    "Terdapat 6 kolom dan 9651 baris pada dataset yang kita miliki.\n",
    "\n",
    "Dari tahap pra-pemrosesan data terhadap masing - masing tabel, kita mendapat kesimpulan, bahwa:\n",
    "\n",
    "1. Terdapat nilai yang hilang pada kolom `chain`. Setelah dilakukan penelitian, persentase data yang hilang tersebut hanya 0.03%, karena itu, data tersebut sudah dihapus.\n",
    "\n",
    "2. Tipe data kolom `chain` awalnya adalah object. Dengan mempertimbangkan bahwa kolom tersebut berisi kondisi Boolean (True/False), maka tipe data kolom `chain` sudah diganti menjadi tipe bool agar lebih sesuai.\n",
    "\n",
    "3. Tidak terdapat data yang terduplikasi pada dataset yang kita miliki.\n",
    "\n",
    "Setelah memperbaiki masalah-masalah yang ada, saat ini dataset kita mempunyai jumlah 6 kolom dan 9648 baris.\n",
    "\n",
    "Selanjutnya, kita mencoba menganalisa data dengan melakukan beberapa langkah, yaitu:\n",
    "\n",
    "1. Menganalisa jenis usaha apakah yang paling banyak di Los Angeles (LA). Dari penelitian, didapatkan hasil ternyata jenis usaha tersebut didominasi oleh *restaurant*, dengan persentase sebanyak 75% dan total 7253 restaurant.\n",
    "\n",
    "2. Meneliti proporsi dari usaha berbasis waralaba dan nonwaralaba. Hasilnya, kebanyakan usaha tempat makan di LA didominasi oleh usaha berbasis non-waralaba (non-franchise) dengan persentase 61.9% dan jumlahnya sebanyak 5972. Sedangkan sisanya ditempati oleh usaha berbasis waralaba atau *franchise* sebanyak 38.1% dan jumlahnya sebanyak 3676.\n",
    "\n",
    "3. Menghitung ratio jenis usaha berbasis waralaba terhadap kedua jenis basis usaha, dan didapatkan hasil bahwa jenis usaha berbasis waralaba (nilai True) yang paling banyak adalah *Bakery*.\n",
    "\n",
    "4. Setelah dilakukan percobaan dengan mengambil sampel masing-masing 1 tempat dari jenis usaha tipe *restaurant* dan *fast food* yang memiliki jumlahnya paling banyak untuk bisnis waralaba. Ternyata, didapatkan hasilnya beragam, namun, ciri yang banyak muncul secara umum adalah banyak tempat. \n",
    "Kemudian, kita juga mencoba melihat dari keseluruhan jenis usaha, berapa banyak jumlah kursi yang biasanya dimiliki oleh usaha tempat makan. Hasilnya, kebanyakan tempat usaha, memiliki kursi yang jumlahnya tidak lebih dari 50.\n",
    "Sehingga dapat dikatakan, ciri-ciri dari usaha bisnis waralaba adalah memiliki banyak tempat dengan kursi sedikit.\n",
    "\n",
    "5. Menghitung jumlah rata-rata kursi untuk setiap jenis usaha. Secara rata-rata, jenis usaha *Restaurant* memiliki jumlah kursi terbanyak. Lalu diikuti dengan *Bar* dan *Fast Food* di urutan ke-2 dan ke-3. Untuk posisi jumlah kursi paling sedikit ditempati oleh *Bakery*.\n",
    "\n",
    "6. Menganalisa dan mendapatkan 10 nama jalan teratas berdasarkan jumlah usaha tempat makan. dari penelitian tersebut, didapatkan hasil bahwa jalanan yang paling populer sebagai wilayah dengan tempat makan terbanyak adalah **W SUNSET BLVD** dimana terdapat 296 tempat makan dan **W PICO BLVD** dengan 288 tempat makan. Sedangkan untuk jalan yang hanya memiliki 1 usaha tempat makan berjumlah 2481.\n",
    "\n",
    "8. Menghitung distribusi jumlah kursi dari tempat makan di jalan yang memiliki tempat makan paling banyak, yaitu **W SUNSET BLVD**. Hasilnya, baik untuk yang berbasis waralaba (*franchise*) maupun non-waralaba (*non-franchise*), kurang lebih sama, yaitu berada di kisaran angka 0 hingga 50. Artinya, kebanyakan tempat makan di jalan **W SUNSET BLVD** memiliki jumlah kursi yang sedikit.\n",
    "\n",
    "Dengan demikian, kita dapat menyimpulkan bahwa usaha tempat makan di Los Angeles (LA) yang paling banyak adalah tipe *restaurant*. Namun, berdasarkan basisnya, jenis usaha tempat makan masih didominasi oleh usaha berbasis non-waralaba, karena jenis usaha ini berjumlah lebih dari 50% dari keseluruhan usaha tempat makan di LA (jenis usaha berbasis waralaba hanya berjumlah sekitar 38% saja dari total keseluruhan).\n",
    "\n",
    "Setelah melihat hasil analisa data, sepertinya usaha cafe unik yang memperkerjakan robot sebagai pramusaji, merupakan pilihan yang cukup menjanjikan. Jumlah cafe di LA masih sedikit, dan kita juga dapat mempertimbangkan untuk membuat usaha cafe ini berbasis waralaba, karena jenis usaha berbasis waralaba tidak terlalu populer di LA, sehingga peluang usaha untuk sukses cukup menjanjikan. Kita juga bisa mempertimbangkan membuka usaha cafe ini di jalan W Sunset BLVD. Memang di jalan tersebut sudah terdapat banyak usaha tempat makan, namun, yang berjenis cafe masih sedikit. Lagipula, meskipun banyak saingan, lebih baik membuka usaha di tempat yang ramai bukan, daripada yang lebih sepi? Sehingga kita perlu untuk mengambil peluang yang baik ini."
   ]
  },
  {
   "cell_type": "markdown",
   "metadata": {},
   "source": [
    "Presentasi: https://drive.google.com/file/d/1Pj3V-LBEuxE0rJxvFah3r5AfA0h2vk3z/view?usp=sharing"
   ]
  }
 ],
 "metadata": {
  "kernelspec": {
   "display_name": "Python 3 (ipykernel)",
   "language": "python",
   "name": "python3"
  },
  "language_info": {
   "codemirror_mode": {
    "name": "ipython",
    "version": 3
   },
   "file_extension": ".py",
   "mimetype": "text/x-python",
   "name": "python",
   "nbconvert_exporter": "python",
   "pygments_lexer": "ipython3",
   "version": "3.9.5"
  },
  "toc": {
   "base_numbering": 1,
   "nav_menu": {},
   "number_sections": true,
   "sideBar": true,
   "skip_h1_title": true,
   "title_cell": "Table of Contents",
   "title_sidebar": "Contents",
   "toc_cell": false,
   "toc_position": {
    "height": "calc(100% - 180px)",
    "left": "10px",
    "top": "150px",
    "width": "297.972px"
   },
   "toc_section_display": true,
   "toc_window_display": true
  }
 },
 "nbformat": 4,
 "nbformat_minor": 2
}
