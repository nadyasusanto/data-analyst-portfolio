{
 "cells": [
  {
   "cell_type": "markdown",
   "metadata": {},
   "source": [
    "# RETAIL - Menilai Kinerja Penjualan Jaringan atau Toko Cabang"
   ]
  },
  {
   "cell_type": "markdown",
   "metadata": {},
   "source": [
    "Toko *retail* bahan bangunan Home World memiliki beberapa toko cabang atau jaringan.\n",
    "\n",
    "Saat ini, manajer proyek yang bertanggung jawab atas kinerja toko tersebut ingin mengetahui kinerja dari toko-toko cabang dan cabang manakah yang memerlukan dukungan. Ia memerlukan analisa data untuk menetapkan prioritas toko mana yang perlu didukung dan merumuskan KPI yang akan digunakan sebagai acuan untuk mengukur keberhasilan toko-toko tersebut.  \n",
    "\n",
    "Kumpulan data yang kita miliki saat ini berisi data pembelian yang dilakukan di peritel bahan bangunan Home World. Semua pelanggannya memiliki kartu keanggotaan. Selain itu, mereka dapat menjadi anggota program loyalitas toko seharga $20 per bulan. Program ini mencakup diskon, informasi tentang penawaran khusus, dan hadiah."
   ]
  },
  {
   "cell_type": "markdown",
   "metadata": {},
   "source": [
    "**KONTEN**\n",
    "\n",
    "* [Pendahuluan]\n",
    "* [Tahap 1. Eksplorasi Data]\n",
    "    * [1.1 Inisialisasi]\n",
    "    * [1.2 Memuat Data]\n",
    "    * [1.3 Mempersiapkan Data]\n",
    "    * [1.4 Kesimpulan dan Langkah Selanjutnya]\n",
    "* [Tahap 2. Pra-pemrosesan Data]   \n",
    "    * [2.1 Data Penjualan]\n",
    "        * [2.1.1 Memperbaiki Nama Kolom]\n",
    "        * [2.1.2 Mengatasi Nilai yang Hilang]\n",
    "        * [2.1.3 Memperbaiki Nilai Negatif]\n",
    "        * [2.1.4 Memperbaiki Tipe Data]\n",
    "        * [2.1.5 Mengatasi Duplikat]\n",
    "    * [2.2 Data Produk]\n",
    "        * [2.2.1 Memperbaiki Nama Kolom]\n",
    "        * [2.2.2 Mengatasi Duplikat]\n",
    "    * [2.3 Transformasi Data]\n",
    "    * [2.4 Kesimpulan dan Langkah Selanjutnya]\n",
    "* [Tahap 3. Analisa Data]\n",
    "    * [3.1 Toko Cabang yang Terbesar]\n",
    "        * [3.1.1 Jumlah Pelanggan Unik]\n",
    "        * [3.1.2 Besaran Rata-rata Pembelian]\n",
    "        * [3.1.3 Rata-rata Item dalam Keranjang]\n",
    "        * [3.1.4 Persentase Pelanggan Program Loyalty dan Non Program]\n",
    "        * [3.1.5 Persentase Pelanggan yang Melakukan Pembelian Berulang]\n",
    "        * [3.1.6 Total Penjualan]\n",
    "    * [3.2 Menghitung Parameter untuk Toko Cabang Selain Cabang Terbesar]\n",
    "        * [3.1.1 Jumlah Pelanggan Unik]\n",
    "        * [3.1.2 Besaran Rata-rata Pembelian]\n",
    "        * [3.1.3 Rata-rata Item dalam Keranjang]\n",
    "        * [3.1.4 Persentase Pelanggan Program Loyalty dan Non Program]\n",
    "        * [3.1.5 Persentase Pelanggan yang Melakukan Pembelian Berulang]\n",
    "        * [3.1.6 Total Penjualan]\n",
    "    * [3.3 Kesimpulan dan Langkah Selanjutnya]\n",
    "* [Tahap 4. Menguji Hipotesis]\n",
    "* [Kesimpulan Umum dan Rekomendasi]"
   ]
  },
  {
   "cell_type": "markdown",
   "metadata": {},
   "source": [
    "**TAUTAN DASHBOARD:** https://public.tableau.com/app/profile/nadya.susanto/viz/retaildashboard_16896049658320/Dashboard1#1"
   ]
  },
  {
   "cell_type": "markdown",
   "metadata": {},
   "source": [
    "## Pendahuluan\n",
    "\n",
    "Dalam proyek kali ini, kita akan mempelajari dan menganalisis data mengenai pembelian seluruh jaringan atau toko cabang dari toko *retail* bahan bangunan Home World untuk mengetahui bagaimana kinerja penjualan masing-masing toko cabang sebagai acuan untuk merumuskan KPI dan menetapkan prioritas toko mana yang perlu didukung.\n",
    "\n",
    "### Tujuan\n",
    "\n",
    "1. Merumuskan metrik kinerja penjualan dan menghitungnya untuk setiap toko cabang untuk mengetahui kinerja masing-masing toko.\n",
    "2. Menguji hipotesis: **Ukuran pembelian rata-rata bagi anggota program loyalitas lebih tinggi daripada bagi non-anggota** dengan menggunakan metode statistik.\n",
    "\n",
    "### Tahapan\n",
    "Kumpulan data yang kita miliki terbagi dalam 2 dataset, yaitu:\n",
    "\n",
    "1. Data mengenai penjualan disimpan pada file `/datasets/retail_dataset_us.csv`. Dataset ini memiliki kolom:\n",
    "    - `purchaseId` - ID pembelian\n",
    "    - `item_ID` - ID produk\n",
    "    - `purchasedate` - tanggal pembelian/transaksi\n",
    "    - `Quantity` — jumlah produk yang dibeli \n",
    "    - `CustomerID` - ID pelanggan\n",
    "    - `ShopID` - ID toko cabang\n",
    "    - `loyalty_program` — apakah pelanggan menjadi anggota program loyalitas toko atau tidak\n",
    "    \n",
    "2. Data mengenai produk disimpan pada file `/datasets/product_codes_us.csv`. Dataset ini memiliki kolom:\n",
    "    - `productID` - ID produk\n",
    "    - `price_per_one` - harga per satuan barang\n",
    "\n",
    "Langkah-langkah yang akan dilakukan:\n",
    "\n",
    "1. **Eksplorasi data**: Menentukan *library*, memuat data dan mempersiapkan data sebelum dianalisis. \n",
    "2. **Pra-Pemrosesan data**: mengatasi masalah yang muncul pada data seperti nilai yang hilang, duplikasi, kesalahan pada gaya penulisan, mengkonversi tipe data jika diperlukan, dan sebagainya.\n",
    "3. **Analisa data** :\n",
    "\n",
    "    3.1 Melakukan penghitungan metrik dengan menggunakan parameter:\n",
    "     * Berapa jumlah pelanggan unik?\n",
    "         Metode: gunakan nunique() \n",
    "     * Berapa besaran rata-rata pembeliannya?\n",
    "         Metode: mengagregasi data penjualan dan data produk, menghitung rata-rata pembelian produk per pengguna unik. Visualisasi: scatter plot.\n",
    "     * Berapa jumlah rata-rata item dalam keranjang?\n",
    "         Metode: temukan pelanggan unik, lakukan *groupby*/pivot dan agregat ID pelanggan dan hitung rata-rata total pembelian (*quantity*). Visualisasi: scatter plot/bar chart.\n",
    "     * Menghitung persentase pelanggan yang merupakan anggota program loyalitas di outlet tersebut.\n",
    "         Metode: melakukan irisan untuk membagi pelanggan menjadi 2 kelompok, yaitu yang membeli program loyalitas dengan yang tidak, kemudian menghitung persentase masing-masing kelompoknya. Visualisasi: pie chart\n",
    "     * Berapa persentase pelanggan yang kembali atau melakukan pembelian berulang di outlet tersebut?\n",
    "         Metode: *groupby* ID pelanggan dengan menerapkan *count* > 1 kemudian dibagi dengan total pelanggan unik. Visualisasi: pie chart.\n",
    "     * Berapa total penjualan setiap toko?\n",
    "         Metode: menemukan pelanggan unik, membagi pelanggan menjadi 2 kelompok, menghitung total pembelian produk per pengguna. Visualisasi: scatter plot/bar chart.\n",
    "         \n",
    "    3.2 Melakukan analisis dan menetapkan toko yang memiliki penjualan paling besar dan paling kecil, dilihat dari salah satu metriknya, yaitu total penjualan yang mencerminkan seberapa besar pendapatan yang dihasilkan oleh toko dan memberikan gambaran tentang seberapa sukses toko dalam menarik pelanggan, menjual produk, dan menghasilkan keuntungan.\n",
    "    \n",
    "4. **Menguji Hipotesis** : Menentukan H0: *Tidak ada perbedaan ukuran pembelian rata-rata bagi anggota program loyalitas dengan non-anggota* dan H1: *Terdapat perbedaan ukuran pembelian rata-rata bagi anggota program loyalitas dengan non-anggota* dan menguji hipotesis menggunakan metode statistika seperti *ttest*\n",
    "\n",
    "5. **Menuliskan Kesimpulan dan Memberikan Rekomendasi** : Memberikan informasi mengenai toko cabang mana yang memiliki penjualan terbesar dan juga toko mana yang perlu dukungan. Selain itu, kita juga perlu memberikan rekomendasi mengenai faktor-faktor yang berpengaruh terhadap kesuksesan sebuah toko cabang, sehingga perusahaan dapat menentukan KPI yang tepat untuk mengukur keberhasilan toko-toko cabang.\n"
   ]
  },
  {
   "cell_type": "markdown",
   "metadata": {},
   "source": [
    "## Eksplorasi Data"
   ]
  },
  {
   "cell_type": "markdown",
   "metadata": {},
   "source": [
    "### Inisialisasi"
   ]
  },
  {
   "cell_type": "code",
   "execution_count": 2,
   "metadata": {},
   "outputs": [],
   "source": [
    "import pandas as pd\n",
    "import seaborn as sns\n",
    "import matplotlib.pyplot as plt\n",
    "import math\n",
    "import numpy as np\n",
    "from scipy import stats as st\n",
    "from scipy.stats import mannwhitneyu"
   ]
  },
  {
   "cell_type": "markdown",
   "metadata": {},
   "source": [
    "### Memuat data"
   ]
  },
  {
   "cell_type": "code",
   "execution_count": 3,
   "metadata": {},
   "outputs": [],
   "source": [
    "df_retail = pd.read_csv('/datasets/retail_dataset_us.csv')\n",
    "df_product = pd.read_csv('/datasets/product_codes_us.csv', sep = ';')"
   ]
  },
  {
   "cell_type": "markdown",
   "metadata": {},
   "source": [
    "### Mempersiapkan Data"
   ]
  },
  {
   "cell_type": "markdown",
   "metadata": {},
   "source": [
    "**Deskripsi Data**\n",
    "\n",
    "Data `retail` berisi kolom:\n",
    " - `purchaseId` - ID pembelian\n",
    " - `item_ID` - ID produk\n",
    " - `purchasedate` - tanggal pembelian/transaksi\n",
    " - `Quantity` — jumlah produk yang dibeli \n",
    " - `CustomerID` - ID pelanggan\n",
    " - `ShopID` - ID toko cabang\n",
    " - `loyalty_program` — apakah pelanggan menjadi anggota program loyalitas toko atau tidak\n",
    "    \n",
    "Data `product` berisi kolom:\n",
    " - `productID` - ID produk\n",
    " - `price_per_one` - harga per satuan barang    "
   ]
  },
  {
   "cell_type": "code",
   "execution_count": 4,
   "metadata": {},
   "outputs": [
    {
     "data": {
      "text/html": [
       "<div>\n",
       "<style scoped>\n",
       "    .dataframe tbody tr th:only-of-type {\n",
       "        vertical-align: middle;\n",
       "    }\n",
       "\n",
       "    .dataframe tbody tr th {\n",
       "        vertical-align: top;\n",
       "    }\n",
       "\n",
       "    .dataframe thead th {\n",
       "        text-align: right;\n",
       "    }\n",
       "</style>\n",
       "<table border=\"1\" class=\"dataframe\">\n",
       "  <thead>\n",
       "    <tr style=\"text-align: right;\">\n",
       "      <th></th>\n",
       "      <th>purchaseid</th>\n",
       "      <th>item_ID</th>\n",
       "      <th>Quantity</th>\n",
       "      <th>purchasedate</th>\n",
       "      <th>CustomerID</th>\n",
       "      <th>loyalty_program</th>\n",
       "      <th>ShopID</th>\n",
       "    </tr>\n",
       "  </thead>\n",
       "  <tbody>\n",
       "    <tr>\n",
       "      <th>0</th>\n",
       "      <td>538280</td>\n",
       "      <td>21873</td>\n",
       "      <td>11</td>\n",
       "      <td>2016-12-10 12:50:00</td>\n",
       "      <td>18427.0</td>\n",
       "      <td>0</td>\n",
       "      <td>Shop 3</td>\n",
       "    </tr>\n",
       "    <tr>\n",
       "      <th>1</th>\n",
       "      <td>538862</td>\n",
       "      <td>22195</td>\n",
       "      <td>0</td>\n",
       "      <td>2016-12-14 14:11:00</td>\n",
       "      <td>22389.0</td>\n",
       "      <td>1</td>\n",
       "      <td>Shop 2</td>\n",
       "    </tr>\n",
       "    <tr>\n",
       "      <th>2</th>\n",
       "      <td>538855</td>\n",
       "      <td>21239</td>\n",
       "      <td>7</td>\n",
       "      <td>2016-12-14 13:50:00</td>\n",
       "      <td>22182.0</td>\n",
       "      <td>1</td>\n",
       "      <td>Shop 3</td>\n",
       "    </tr>\n",
       "    <tr>\n",
       "      <th>3</th>\n",
       "      <td>543543</td>\n",
       "      <td>22271</td>\n",
       "      <td>0</td>\n",
       "      <td>2017-02-09 15:33:00</td>\n",
       "      <td>23522.0</td>\n",
       "      <td>1</td>\n",
       "      <td>Shop 28</td>\n",
       "    </tr>\n",
       "    <tr>\n",
       "      <th>4</th>\n",
       "      <td>543812</td>\n",
       "      <td>79321</td>\n",
       "      <td>0</td>\n",
       "      <td>2017-02-13 14:40:00</td>\n",
       "      <td>23151.0</td>\n",
       "      <td>1</td>\n",
       "      <td>Shop 28</td>\n",
       "    </tr>\n",
       "    <tr>\n",
       "      <th>...</th>\n",
       "      <td>...</td>\n",
       "      <td>...</td>\n",
       "      <td>...</td>\n",
       "      <td>...</td>\n",
       "      <td>...</td>\n",
       "      <td>...</td>\n",
       "      <td>...</td>\n",
       "    </tr>\n",
       "    <tr>\n",
       "      <th>105330</th>\n",
       "      <td>538566</td>\n",
       "      <td>21826</td>\n",
       "      <td>1</td>\n",
       "      <td>2016-12-13 11:21:00</td>\n",
       "      <td>NaN</td>\n",
       "      <td>0</td>\n",
       "      <td>Shop 0</td>\n",
       "    </tr>\n",
       "    <tr>\n",
       "      <th>105331</th>\n",
       "      <td>540247</td>\n",
       "      <td>21742</td>\n",
       "      <td>0</td>\n",
       "      <td>2017-01-05 15:56:00</td>\n",
       "      <td>21143.0</td>\n",
       "      <td>0</td>\n",
       "      <td>Shop 24</td>\n",
       "    </tr>\n",
       "    <tr>\n",
       "      <th>105332</th>\n",
       "      <td>538068</td>\n",
       "      <td>85048</td>\n",
       "      <td>1</td>\n",
       "      <td>2016-12-09 14:05:00</td>\n",
       "      <td>23657.0</td>\n",
       "      <td>1</td>\n",
       "      <td>Shop 16</td>\n",
       "    </tr>\n",
       "    <tr>\n",
       "      <th>105333</th>\n",
       "      <td>538207</td>\n",
       "      <td>22818</td>\n",
       "      <td>11</td>\n",
       "      <td>2016-12-10 11:33:00</td>\n",
       "      <td>18427.0</td>\n",
       "      <td>0</td>\n",
       "      <td>Shop 29</td>\n",
       "    </tr>\n",
       "    <tr>\n",
       "      <th>105334</th>\n",
       "      <td>543977</td>\n",
       "      <td>22384</td>\n",
       "      <td>9</td>\n",
       "      <td>2017-02-14 15:35:00</td>\n",
       "      <td>21294.0</td>\n",
       "      <td>0</td>\n",
       "      <td>Shop 19</td>\n",
       "    </tr>\n",
       "  </tbody>\n",
       "</table>\n",
       "<p>105335 rows × 7 columns</p>\n",
       "</div>"
      ],
      "text/plain": [
       "       purchaseid item_ID  Quantity         purchasedate  CustomerID  \\\n",
       "0          538280   21873        11  2016-12-10 12:50:00     18427.0   \n",
       "1          538862   22195         0  2016-12-14 14:11:00     22389.0   \n",
       "2          538855   21239         7  2016-12-14 13:50:00     22182.0   \n",
       "3          543543   22271         0  2017-02-09 15:33:00     23522.0   \n",
       "4          543812   79321         0  2017-02-13 14:40:00     23151.0   \n",
       "...           ...     ...       ...                  ...         ...   \n",
       "105330     538566   21826         1  2016-12-13 11:21:00         NaN   \n",
       "105331     540247   21742         0  2017-01-05 15:56:00     21143.0   \n",
       "105332     538068   85048         1  2016-12-09 14:05:00     23657.0   \n",
       "105333     538207   22818        11  2016-12-10 11:33:00     18427.0   \n",
       "105334     543977   22384         9  2017-02-14 15:35:00     21294.0   \n",
       "\n",
       "        loyalty_program   ShopID  \n",
       "0                     0   Shop 3  \n",
       "1                     1   Shop 2  \n",
       "2                     1   Shop 3  \n",
       "3                     1  Shop 28  \n",
       "4                     1  Shop 28  \n",
       "...                 ...      ...  \n",
       "105330                0   Shop 0  \n",
       "105331                0  Shop 24  \n",
       "105332                1  Shop 16  \n",
       "105333                0  Shop 29  \n",
       "105334                0  Shop 19  \n",
       "\n",
       "[105335 rows x 7 columns]"
      ]
     },
     "execution_count": 4,
     "metadata": {},
     "output_type": "execute_result"
    }
   ],
   "source": [
    "df_retail"
   ]
  },
  {
   "cell_type": "code",
   "execution_count": 5,
   "metadata": {},
   "outputs": [
    {
     "name": "stdout",
     "output_type": "stream",
     "text": [
      "<class 'pandas.core.frame.DataFrame'>\n",
      "RangeIndex: 105335 entries, 0 to 105334\n",
      "Data columns (total 7 columns):\n",
      " #   Column           Non-Null Count   Dtype  \n",
      "---  ------           --------------   -----  \n",
      " 0   purchaseid       105335 non-null  object \n",
      " 1   item_ID          105335 non-null  object \n",
      " 2   Quantity         105335 non-null  int64  \n",
      " 3   purchasedate     105335 non-null  object \n",
      " 4   CustomerID       69125 non-null   float64\n",
      " 5   loyalty_program  105335 non-null  int64  \n",
      " 6   ShopID           105335 non-null  object \n",
      "dtypes: float64(1), int64(2), object(4)\n",
      "memory usage: 5.6+ MB\n"
     ]
    }
   ],
   "source": [
    "df_retail.info()"
   ]
  },
  {
   "cell_type": "code",
   "execution_count": 6,
   "metadata": {},
   "outputs": [
    {
     "data": {
      "text/plain": [
       "purchaseid             0\n",
       "item_ID                0\n",
       "Quantity               0\n",
       "purchasedate           0\n",
       "CustomerID         36210\n",
       "loyalty_program        0\n",
       "ShopID                 0\n",
       "dtype: int64"
      ]
     },
     "execution_count": 6,
     "metadata": {},
     "output_type": "execute_result"
    }
   ],
   "source": [
    "df_retail.isna().sum()"
   ]
  },
  {
   "cell_type": "code",
   "execution_count": 7,
   "metadata": {},
   "outputs": [
    {
     "data": {
      "text/plain": [
       "count    105335.000000\n",
       "mean          7.821218\n",
       "std         327.946695\n",
       "min      -74216.000000\n",
       "25%           0.000000\n",
       "50%           2.000000\n",
       "75%           7.000000\n",
       "max       74214.000000\n",
       "Name: Quantity, dtype: float64"
      ]
     },
     "execution_count": 7,
     "metadata": {},
     "output_type": "execute_result"
    }
   ],
   "source": [
    "df_retail['Quantity'].describe()"
   ]
  },
  {
   "cell_type": "code",
   "execution_count": 8,
   "metadata": {},
   "outputs": [
    {
     "data": {
      "text/plain": [
       "(purchaseid                     C545189\n",
       " item_ID                              S\n",
       " Quantity                            -2\n",
       " purchasedate       2017-02-28 17:04:00\n",
       " CustomerID                     23956.0\n",
       " loyalty_program                      1\n",
       " ShopID                          Shop 9\n",
       " dtype: object,\n",
       " purchaseid                      536589\n",
       " item_ID                          11001\n",
       " Quantity                        -74216\n",
       " purchasedate       2016-12-01 09:41:00\n",
       " CustomerID                     18025.0\n",
       " loyalty_program                      0\n",
       " ShopID                          Shop 0\n",
       " dtype: object)"
      ]
     },
     "execution_count": 8,
     "metadata": {},
     "output_type": "execute_result"
    }
   ],
   "source": [
    "df_retail[df_retail['Quantity'] < 0].max(), df_retail[df_retail['Quantity'] < 0].min()"
   ]
  },
  {
   "cell_type": "code",
   "execution_count": 9,
   "metadata": {},
   "outputs": [
    {
     "data": {
      "text/plain": [
       "'2017-02-28 17:04:00'"
      ]
     },
     "execution_count": 9,
     "metadata": {},
     "output_type": "execute_result"
    }
   ],
   "source": [
    "df_retail['purchasedate'].max()"
   ]
  },
  {
   "cell_type": "code",
   "execution_count": 10,
   "metadata": {},
   "outputs": [
    {
     "data": {
      "text/plain": [
       "'2016-12-01 08:26:00'"
      ]
     },
     "execution_count": 10,
     "metadata": {},
     "output_type": "execute_result"
    }
   ],
   "source": [
    "df_retail['purchasedate'].min()"
   ]
  },
  {
   "cell_type": "code",
   "execution_count": 11,
   "metadata": {},
   "outputs": [
    {
     "data": {
      "text/plain": [
       "0    81493\n",
       "1    23842\n",
       "Name: loyalty_program, dtype: int64"
      ]
     },
     "execution_count": 11,
     "metadata": {},
     "output_type": "execute_result"
    }
   ],
   "source": [
    "df_retail['loyalty_program'].value_counts()"
   ]
  },
  {
   "cell_type": "code",
   "execution_count": 12,
   "metadata": {},
   "outputs": [
    {
     "data": {
      "text/plain": [
       "Shop 0     38389\n",
       "Shop 1      2744\n",
       "Shop 15     2710\n",
       "Shop 24     2656\n",
       "Shop 22     2601\n",
       "Shop 5      2510\n",
       "Shop 9      2496\n",
       "Shop 13     2448\n",
       "Shop 20     2435\n",
       "Shop 14     2400\n",
       "Shop 30     2395\n",
       "Shop 7      2368\n",
       "Shop 26     2340\n",
       "Shop 27     2338\n",
       "Shop 28     2324\n",
       "Shop 11     2301\n",
       "Shop 2      2248\n",
       "Shop 19     2242\n",
       "Shop 10     2204\n",
       "Shop 29     2202\n",
       "Shop 17     2178\n",
       "Shop 23     2077\n",
       "Shop 18     2022\n",
       "Shop 8      1985\n",
       "Shop 4      1968\n",
       "Shop 16     1939\n",
       "Shop 25     1935\n",
       "Shop 12     1786\n",
       "Shop 3      1732\n",
       "Shop 6      1694\n",
       "Shop 21     1668\n",
       "Name: ShopID, dtype: int64"
      ]
     },
     "execution_count": 12,
     "metadata": {},
     "output_type": "execute_result"
    }
   ],
   "source": [
    "df_retail['ShopID'].value_counts()"
   ]
  },
  {
   "cell_type": "code",
   "execution_count": 13,
   "metadata": {},
   "outputs": [
    {
     "data": {
      "text/html": [
       "<div>\n",
       "<style scoped>\n",
       "    .dataframe tbody tr th:only-of-type {\n",
       "        vertical-align: middle;\n",
       "    }\n",
       "\n",
       "    .dataframe tbody tr th {\n",
       "        vertical-align: top;\n",
       "    }\n",
       "\n",
       "    .dataframe thead th {\n",
       "        text-align: right;\n",
       "    }\n",
       "</style>\n",
       "<table border=\"1\" class=\"dataframe\">\n",
       "  <thead>\n",
       "    <tr style=\"text-align: right;\">\n",
       "      <th></th>\n",
       "      <th>productID</th>\n",
       "      <th>price_per_one</th>\n",
       "    </tr>\n",
       "  </thead>\n",
       "  <tbody>\n",
       "    <tr>\n",
       "      <th>0</th>\n",
       "      <td>10002</td>\n",
       "      <td>0.85</td>\n",
       "    </tr>\n",
       "    <tr>\n",
       "      <th>1</th>\n",
       "      <td>10080</td>\n",
       "      <td>0.85</td>\n",
       "    </tr>\n",
       "    <tr>\n",
       "      <th>2</th>\n",
       "      <td>10120</td>\n",
       "      <td>0.21</td>\n",
       "    </tr>\n",
       "    <tr>\n",
       "      <th>3</th>\n",
       "      <td>10123C</td>\n",
       "      <td>0.65</td>\n",
       "    </tr>\n",
       "    <tr>\n",
       "      <th>4</th>\n",
       "      <td>10124A</td>\n",
       "      <td>0.42</td>\n",
       "    </tr>\n",
       "    <tr>\n",
       "      <th>...</th>\n",
       "      <td>...</td>\n",
       "      <td>...</td>\n",
       "    </tr>\n",
       "    <tr>\n",
       "      <th>3154</th>\n",
       "      <td>gift_0001_20</td>\n",
       "      <td>16.67</td>\n",
       "    </tr>\n",
       "    <tr>\n",
       "      <th>3155</th>\n",
       "      <td>gift_0001_30</td>\n",
       "      <td>25.00</td>\n",
       "    </tr>\n",
       "    <tr>\n",
       "      <th>3156</th>\n",
       "      <td>gift_0001_40</td>\n",
       "      <td>34.04</td>\n",
       "    </tr>\n",
       "    <tr>\n",
       "      <th>3157</th>\n",
       "      <td>gift_0001_50</td>\n",
       "      <td>42.55</td>\n",
       "    </tr>\n",
       "    <tr>\n",
       "      <th>3158</th>\n",
       "      <td>m</td>\n",
       "      <td>2.55</td>\n",
       "    </tr>\n",
       "  </tbody>\n",
       "</table>\n",
       "<p>3159 rows × 2 columns</p>\n",
       "</div>"
      ],
      "text/plain": [
       "         productID  price_per_one\n",
       "0            10002           0.85\n",
       "1            10080           0.85\n",
       "2            10120           0.21\n",
       "3           10123C           0.65\n",
       "4           10124A           0.42\n",
       "...            ...            ...\n",
       "3154  gift_0001_20          16.67\n",
       "3155  gift_0001_30          25.00\n",
       "3156  gift_0001_40          34.04\n",
       "3157  gift_0001_50          42.55\n",
       "3158             m           2.55\n",
       "\n",
       "[3159 rows x 2 columns]"
      ]
     },
     "execution_count": 13,
     "metadata": {},
     "output_type": "execute_result"
    }
   ],
   "source": [
    "df_product"
   ]
  },
  {
   "cell_type": "code",
   "execution_count": 14,
   "metadata": {},
   "outputs": [
    {
     "name": "stdout",
     "output_type": "stream",
     "text": [
      "<class 'pandas.core.frame.DataFrame'>\n",
      "RangeIndex: 3159 entries, 0 to 3158\n",
      "Data columns (total 2 columns):\n",
      " #   Column         Non-Null Count  Dtype  \n",
      "---  ------         --------------  -----  \n",
      " 0   productID      3159 non-null   object \n",
      " 1   price_per_one  3159 non-null   float64\n",
      "dtypes: float64(1), object(1)\n",
      "memory usage: 49.5+ KB\n"
     ]
    }
   ],
   "source": [
    "df_product.info()"
   ]
  },
  {
   "cell_type": "code",
   "execution_count": 15,
   "metadata": {},
   "outputs": [
    {
     "data": {
      "text/plain": [
       "productID        0\n",
       "price_per_one    0\n",
       "dtype: int64"
      ]
     },
     "execution_count": 15,
     "metadata": {},
     "output_type": "execute_result"
    }
   ],
   "source": [
    "df_product.isna().sum()"
   ]
  },
  {
   "cell_type": "code",
   "execution_count": 16,
   "metadata": {},
   "outputs": [
    {
     "data": {
      "text/plain": [
       "array(['10002', '10080', '10120', ..., 'gift_0001_40', 'gift_0001_50',\n",
       "       'm'], dtype=object)"
      ]
     },
     "execution_count": 16,
     "metadata": {},
     "output_type": "execute_result"
    }
   ],
   "source": [
    "df_product['productID'].unique()"
   ]
  },
  {
   "cell_type": "code",
   "execution_count": 17,
   "metadata": {},
   "outputs": [
    {
     "data": {
      "text/plain": [
       "count    3159.000000\n",
       "mean        2.954495\n",
       "std         7.213808\n",
       "min         0.000000\n",
       "25%         0.650000\n",
       "50%         1.450000\n",
       "75%         3.290000\n",
       "max       175.000000\n",
       "Name: price_per_one, dtype: float64"
      ]
     },
     "execution_count": 17,
     "metadata": {},
     "output_type": "execute_result"
    }
   ],
   "source": [
    "df_product['price_per_one'].describe()"
   ]
  },
  {
   "cell_type": "code",
   "execution_count": 18,
   "metadata": {},
   "outputs": [
    {
     "data": {
      "text/html": [
       "<div>\n",
       "<style scoped>\n",
       "    .dataframe tbody tr th:only-of-type {\n",
       "        vertical-align: middle;\n",
       "    }\n",
       "\n",
       "    .dataframe tbody tr th {\n",
       "        vertical-align: top;\n",
       "    }\n",
       "\n",
       "    .dataframe thead th {\n",
       "        text-align: right;\n",
       "    }\n",
       "</style>\n",
       "<table border=\"1\" class=\"dataframe\">\n",
       "  <thead>\n",
       "    <tr style=\"text-align: right;\">\n",
       "      <th></th>\n",
       "      <th>productID</th>\n",
       "      <th>price_per_one</th>\n",
       "    </tr>\n",
       "  </thead>\n",
       "  <tbody>\n",
       "    <tr>\n",
       "      <th>34</th>\n",
       "      <td>16033</td>\n",
       "      <td>0.0</td>\n",
       "    </tr>\n",
       "    <tr>\n",
       "      <th>54</th>\n",
       "      <td>16207B</td>\n",
       "      <td>0.0</td>\n",
       "    </tr>\n",
       "    <tr>\n",
       "      <th>67</th>\n",
       "      <td>17011A</td>\n",
       "      <td>0.0</td>\n",
       "    </tr>\n",
       "    <tr>\n",
       "      <th>87</th>\n",
       "      <td>17091A</td>\n",
       "      <td>0.0</td>\n",
       "    </tr>\n",
       "    <tr>\n",
       "      <th>95</th>\n",
       "      <td>17165D</td>\n",
       "      <td>0.0</td>\n",
       "    </tr>\n",
       "    <tr>\n",
       "      <th>...</th>\n",
       "      <td>...</td>\n",
       "      <td>...</td>\n",
       "    </tr>\n",
       "    <tr>\n",
       "      <th>3141</th>\n",
       "      <td>DCGS0055</td>\n",
       "      <td>0.0</td>\n",
       "    </tr>\n",
       "    <tr>\n",
       "      <th>3142</th>\n",
       "      <td>DCGS0057</td>\n",
       "      <td>0.0</td>\n",
       "    </tr>\n",
       "    <tr>\n",
       "      <th>3145</th>\n",
       "      <td>DCGS0072</td>\n",
       "      <td>0.0</td>\n",
       "    </tr>\n",
       "    <tr>\n",
       "      <th>3146</th>\n",
       "      <td>DCGS0074</td>\n",
       "      <td>0.0</td>\n",
       "    </tr>\n",
       "    <tr>\n",
       "      <th>3152</th>\n",
       "      <td>POST</td>\n",
       "      <td>0.0</td>\n",
       "    </tr>\n",
       "  </tbody>\n",
       "</table>\n",
       "<p>382 rows × 2 columns</p>\n",
       "</div>"
      ],
      "text/plain": [
       "     productID  price_per_one\n",
       "34       16033            0.0\n",
       "54      16207B            0.0\n",
       "67      17011A            0.0\n",
       "87      17091A            0.0\n",
       "95      17165D            0.0\n",
       "...        ...            ...\n",
       "3141  DCGS0055            0.0\n",
       "3142  DCGS0057            0.0\n",
       "3145  DCGS0072            0.0\n",
       "3146  DCGS0074            0.0\n",
       "3152      POST            0.0\n",
       "\n",
       "[382 rows x 2 columns]"
      ]
     },
     "execution_count": 18,
     "metadata": {},
     "output_type": "execute_result"
    }
   ],
   "source": [
    "df_product[df_product['price_per_one'] == 0.00]"
   ]
  },
  {
   "cell_type": "markdown",
   "metadata": {},
   "source": [
    "### Kesimpulan dan Langkah Selanjutnya"
   ]
  },
  {
   "cell_type": "markdown",
   "metadata": {},
   "source": [
    "Dataset yang kita miliki terbagi dalam 2 tabel, yaitu:\n",
    " * tabel `retail` yang berisi data mengenai penjualan, memiliki 105335 baris dan 7 kolom\n",
    " * tabel `product` yang berisi data mengenai produk, memiliki 3159 baris dan 2 kolom\n",
    " \n",
    "Beberapa masalah yang teridentifikasi saat ini:\n",
    " * Gaya penulisan nama kolom tidak sesuai, seperti beberapa nama masih menggunakan huruf kapital, beberapa dalam huruf kecil, dan juga nama kolom yang terdiri dari dua kata tidak menggunakan gaya penulisan *snake_case*.\n",
    " * Tipe data di beberapa kolom pada tabel `retail` tidak sesuai, yaitu:\n",
    "     * kolom `purchasedate` seharusnya tipe datanya adalah *datetime* bukan *object*\n",
    "     * kolom `CustomerID` seharusnya tipe datanya adalah *object* bukan *float*\n",
    " * Tabel `product` tidak memiliki nilai yang hilang, namun tabel `retail` memiliki nilai yang hilang cukup banyak di kolom `CustomerID` (sebanyak 36210 atau sekitar 35% dari keseluruhan data).\n",
    " * Kolom `Quantity` pada tabel `retail` memiliki nilai anomali, dimana terdapat nilai minus sebanyak 2118 data (sekitar 2%). Seharusnya kolom ini tidak boleh bernilai minus dengan asumsi tidak mungkin ada pembelian jumlah minus.\n",
    " * Pada kolom `price_per_one` pada tabel `product` terdapat nilai 0.00 sebanyak 382 data (sekitar 12%). Nilai 0.00 pada kolom yang menunjukkan harga barang sepertinya sedikit aneh.\n",
    " * Belum diketahui apakah ada data duplikat atau tidak.\n",
    " \n",
    "Langkah selanjutnya, kita akan memperbaiki masalah yang sudah teridentifikasi di atas pada tahap pra-pemrosesan data."
   ]
  },
  {
   "cell_type": "markdown",
   "metadata": {},
   "source": [
    "## Pra-Pemrosesan Data"
   ]
  },
  {
   "cell_type": "markdown",
   "metadata": {},
   "source": [
    "### Data Penjualan"
   ]
  },
  {
   "cell_type": "markdown",
   "metadata": {},
   "source": [
    "#### Memperbaiki Nama Kolom"
   ]
  },
  {
   "cell_type": "code",
   "execution_count": 19,
   "metadata": {},
   "outputs": [
    {
     "data": {
      "text/plain": [
       "Index(['purchaseid', 'item_ID', 'Quantity', 'purchasedate', 'CustomerID',\n",
       "       'loyalty_program', 'ShopID'],\n",
       "      dtype='object')"
      ]
     },
     "execution_count": 19,
     "metadata": {},
     "output_type": "execute_result"
    }
   ],
   "source": [
    "df_retail.columns"
   ]
  },
  {
   "cell_type": "code",
   "execution_count": 20,
   "metadata": {},
   "outputs": [],
   "source": [
    "df_retail = df_retail.rename(\n",
    "    columns = {\n",
    "        'purchaseid' : 'purchase_id',\n",
    "        'item_ID' : 'item_id',\n",
    "        'Quantity' : 'quantity',\n",
    "        'purchasedate' : 'purchase_date',\n",
    "        'CustomerID' : 'customer_id',\n",
    "        'loyalty_program' : 'loyalty_program',\n",
    "        'ShopID' : 'shop_id'\n",
    "    }\n",
    ")"
   ]
  },
  {
   "cell_type": "code",
   "execution_count": 21,
   "metadata": {},
   "outputs": [
    {
     "data": {
      "text/plain": [
       "Index(['purchase_id', 'item_id', 'quantity', 'purchase_date', 'customer_id',\n",
       "       'loyalty_program', 'shop_id'],\n",
       "      dtype='object')"
      ]
     },
     "execution_count": 21,
     "metadata": {},
     "output_type": "execute_result"
    }
   ],
   "source": [
    "df_retail.columns"
   ]
  },
  {
   "cell_type": "markdown",
   "metadata": {},
   "source": [
    "Gaya penulisan kolom sudah diperbaiki dan sudah sesuai."
   ]
  },
  {
   "cell_type": "markdown",
   "metadata": {},
   "source": [
    "#### Mengatasi Nilai yang Hilang"
   ]
  },
  {
   "cell_type": "code",
   "execution_count": 22,
   "metadata": {},
   "outputs": [
    {
     "data": {
      "text/html": [
       "<div>\n",
       "<style scoped>\n",
       "    .dataframe tbody tr th:only-of-type {\n",
       "        vertical-align: middle;\n",
       "    }\n",
       "\n",
       "    .dataframe tbody tr th {\n",
       "        vertical-align: top;\n",
       "    }\n",
       "\n",
       "    .dataframe thead th {\n",
       "        text-align: right;\n",
       "    }\n",
       "</style>\n",
       "<table border=\"1\" class=\"dataframe\">\n",
       "  <thead>\n",
       "    <tr style=\"text-align: right;\">\n",
       "      <th></th>\n",
       "      <th>purchase_id</th>\n",
       "      <th>item_id</th>\n",
       "      <th>quantity</th>\n",
       "      <th>purchase_date</th>\n",
       "      <th>customer_id</th>\n",
       "      <th>loyalty_program</th>\n",
       "      <th>shop_id</th>\n",
       "    </tr>\n",
       "  </thead>\n",
       "  <tbody>\n",
       "    <tr>\n",
       "      <th>104960</th>\n",
       "      <td>540564</td>\n",
       "      <td>22617</td>\n",
       "      <td>-2601</td>\n",
       "      <td>2017-01-10 10:36:00</td>\n",
       "      <td>NaN</td>\n",
       "      <td>0</td>\n",
       "      <td>Shop 0</td>\n",
       "    </tr>\n",
       "    <tr>\n",
       "      <th>10687</th>\n",
       "      <td>543257</td>\n",
       "      <td>84611B</td>\n",
       "      <td>-1431</td>\n",
       "      <td>2017-02-04 16:06:00</td>\n",
       "      <td>NaN</td>\n",
       "      <td>0</td>\n",
       "      <td>Shop 0</td>\n",
       "    </tr>\n",
       "    <tr>\n",
       "      <th>53844</th>\n",
       "      <td>541685</td>\n",
       "      <td>22351</td>\n",
       "      <td>-1401</td>\n",
       "      <td>2017-01-20 15:41:00</td>\n",
       "      <td>NaN</td>\n",
       "      <td>0</td>\n",
       "      <td>Shop 0</td>\n",
       "    </tr>\n",
       "    <tr>\n",
       "      <th>79838</th>\n",
       "      <td>540638</td>\n",
       "      <td>72038P</td>\n",
       "      <td>-991</td>\n",
       "      <td>2017-01-10 12:14:00</td>\n",
       "      <td>NaN</td>\n",
       "      <td>0</td>\n",
       "      <td>Shop 0</td>\n",
       "    </tr>\n",
       "    <tr>\n",
       "      <th>910</th>\n",
       "      <td>540241</td>\n",
       "      <td>35957</td>\n",
       "      <td>-940</td>\n",
       "      <td>2017-01-05 15:17:00</td>\n",
       "      <td>NaN</td>\n",
       "      <td>0</td>\n",
       "      <td>Shop 0</td>\n",
       "    </tr>\n",
       "    <tr>\n",
       "      <th>...</th>\n",
       "      <td>...</td>\n",
       "      <td>...</td>\n",
       "      <td>...</td>\n",
       "      <td>...</td>\n",
       "      <td>...</td>\n",
       "      <td>...</td>\n",
       "      <td>...</td>\n",
       "    </tr>\n",
       "    <tr>\n",
       "      <th>69000</th>\n",
       "      <td>543051</td>\n",
       "      <td>79062D</td>\n",
       "      <td>959</td>\n",
       "      <td>2017-02-03 10:15:00</td>\n",
       "      <td>NaN</td>\n",
       "      <td>0</td>\n",
       "      <td>Shop 0</td>\n",
       "    </tr>\n",
       "    <tr>\n",
       "      <th>21283</th>\n",
       "      <td>540699</td>\n",
       "      <td>POST</td>\n",
       "      <td>999</td>\n",
       "      <td>2017-01-11 09:32:00</td>\n",
       "      <td>NaN</td>\n",
       "      <td>0</td>\n",
       "      <td>Shop 0</td>\n",
       "    </tr>\n",
       "    <tr>\n",
       "      <th>6265</th>\n",
       "      <td>543258</td>\n",
       "      <td>84611B</td>\n",
       "      <td>1286</td>\n",
       "      <td>2017-02-04 16:06:00</td>\n",
       "      <td>NaN</td>\n",
       "      <td>0</td>\n",
       "      <td>Shop 0</td>\n",
       "    </tr>\n",
       "    <tr>\n",
       "      <th>41559</th>\n",
       "      <td>542505</td>\n",
       "      <td>79063D</td>\n",
       "      <td>2559</td>\n",
       "      <td>2017-01-28 12:04:00</td>\n",
       "      <td>NaN</td>\n",
       "      <td>0</td>\n",
       "      <td>Shop 0</td>\n",
       "    </tr>\n",
       "    <tr>\n",
       "      <th>31974</th>\n",
       "      <td>542504</td>\n",
       "      <td>37413</td>\n",
       "      <td>5567</td>\n",
       "      <td>2017-01-28 12:03:00</td>\n",
       "      <td>NaN</td>\n",
       "      <td>0</td>\n",
       "      <td>Shop 0</td>\n",
       "    </tr>\n",
       "  </tbody>\n",
       "</table>\n",
       "<p>36210 rows × 7 columns</p>\n",
       "</div>"
      ],
      "text/plain": [
       "       purchase_id item_id  quantity        purchase_date  customer_id  \\\n",
       "104960      540564   22617     -2601  2017-01-10 10:36:00          NaN   \n",
       "10687       543257  84611B     -1431  2017-02-04 16:06:00          NaN   \n",
       "53844       541685   22351     -1401  2017-01-20 15:41:00          NaN   \n",
       "79838       540638  72038P      -991  2017-01-10 12:14:00          NaN   \n",
       "910         540241   35957      -940  2017-01-05 15:17:00          NaN   \n",
       "...            ...     ...       ...                  ...          ...   \n",
       "69000       543051  79062D       959  2017-02-03 10:15:00          NaN   \n",
       "21283       540699    POST       999  2017-01-11 09:32:00          NaN   \n",
       "6265        543258  84611B      1286  2017-02-04 16:06:00          NaN   \n",
       "41559       542505  79063D      2559  2017-01-28 12:04:00          NaN   \n",
       "31974       542504   37413      5567  2017-01-28 12:03:00          NaN   \n",
       "\n",
       "        loyalty_program shop_id  \n",
       "104960                0  Shop 0  \n",
       "10687                 0  Shop 0  \n",
       "53844                 0  Shop 0  \n",
       "79838                 0  Shop 0  \n",
       "910                   0  Shop 0  \n",
       "...                 ...     ...  \n",
       "69000                 0  Shop 0  \n",
       "21283                 0  Shop 0  \n",
       "6265                  0  Shop 0  \n",
       "41559                 0  Shop 0  \n",
       "31974                 0  Shop 0  \n",
       "\n",
       "[36210 rows x 7 columns]"
      ]
     },
     "execution_count": 22,
     "metadata": {},
     "output_type": "execute_result"
    }
   ],
   "source": [
    "df_retail_nan = df_retail[df_retail['customer_id'].isna()]\n",
    "df_retail_nan.sort_values(by = 'quantity')"
   ]
  },
  {
   "cell_type": "code",
   "execution_count": 23,
   "metadata": {},
   "outputs": [
    {
     "data": {
      "text/plain": [
       "Shop 0     36009\n",
       "Shop 6       128\n",
       "Shop 25       57\n",
       "Shop 21       14\n",
       "Shop 23        2\n",
       "Name: shop_id, dtype: int64"
      ]
     },
     "execution_count": 23,
     "metadata": {},
     "output_type": "execute_result"
    }
   ],
   "source": [
    "df_retail_nan['shop_id'].value_counts()"
   ]
  },
  {
   "cell_type": "code",
   "execution_count": 24,
   "metadata": {},
   "outputs": [
    {
     "data": {
      "text/plain": [
       "0    36210\n",
       "Name: loyalty_program, dtype: int64"
      ]
     },
     "execution_count": 24,
     "metadata": {},
     "output_type": "execute_result"
    }
   ],
   "source": [
    "df_retail_nan['loyalty_program'].value_counts()"
   ]
  },
  {
   "cell_type": "markdown",
   "metadata": {},
   "source": [
    "Kita memiliki 36210 jumlah data dengan nilai yang hilang pada kolom `customer_id`, dimana paling banyak terdapat pada cabang *Shop 0* dan semuanya bukan anggota program loyalitas toko.\n",
    "\n",
    "Hal ini dapat terjadi karena kesalahan sistem yang dapat menyebabkan data tidak terekam dengan benar atau kehilangan informasi pelanggan. Kemungkinan lainnya adalah karena mereka adalah pelanggan baru yang baru pertama kali melakukan pembelian, sehingga mungkin saja mereka belum memiliki *customer_id* yang ditetapkan dalam sistem atau basis data toko cabang, atau bisa saja mereka hanya pelanggan yang melakukan pembelian dan memilih untuk tidak mengidentifikasikan diri mereka (tidak memberikan informasi pelanggan).\n",
    "\n",
    "Untuk saat ini, kita akan mengganti nilai yang hilang tersebut dengan nilai 0 (nol) yang menandakan mereka merupakan pelanggan yang tidak diketahui, karena kita belum memiliki informasi lebih lanjut apakah data ini akan mempengaruhi analisis kita atau tidak. *customerID* seharusnya berisi nilai unik dan melakukan imputasi untuk mengisi nilai NaN tersebut sepertinya bukan pilihan tepat."
   ]
  },
  {
   "cell_type": "code",
   "execution_count": 25,
   "metadata": {},
   "outputs": [],
   "source": [
    "df_retail['customer_id'] = df_retail['customer_id'].fillna('0')"
   ]
  },
  {
   "cell_type": "code",
   "execution_count": 26,
   "metadata": {},
   "outputs": [
    {
     "data": {
      "text/plain": [
       "purchase_id        0\n",
       "item_id            0\n",
       "quantity           0\n",
       "purchase_date      0\n",
       "customer_id        0\n",
       "loyalty_program    0\n",
       "shop_id            0\n",
       "dtype: int64"
      ]
     },
     "execution_count": 26,
     "metadata": {},
     "output_type": "execute_result"
    }
   ],
   "source": [
    "df_retail.isna().sum()"
   ]
  },
  {
   "cell_type": "markdown",
   "metadata": {},
   "source": [
    "Dataset kita saat ini sudah tidak memiliki nilai yang hilang pada kolom-kolomnya."
   ]
  },
  {
   "cell_type": "markdown",
   "metadata": {},
   "source": [
    "#### Memperbaiki Nilai Negatif"
   ]
  },
  {
   "cell_type": "markdown",
   "metadata": {},
   "source": [
    "Sebelumnya, kita mengetahui bahwa terdapat nilai anomali, yaitu nilai minus, pada kolom `quantity`. Seharusnya, kolom ini tidak mungkin bernilai minus, karena merupakan informasi jumlah pembelian, dan tidak mungkin ada jumlah pembelian bernilai minus.\n",
    "Namun, jumlahnya bervariatif, sehingga hal ini sepertinya bukan terjadi karena anomali, tapi karena kesalahan input atau kesalahan sistem hingga terbaca jadi minus.\n",
    "Untuk itu, kita akan mengubahnya menjadi nilai absolut."
   ]
  },
  {
   "cell_type": "code",
   "execution_count": 27,
   "metadata": {},
   "outputs": [],
   "source": [
    "df_retail['quantity'] = df_retail['quantity'].abs()"
   ]
  },
  {
   "cell_type": "code",
   "execution_count": 28,
   "metadata": {},
   "outputs": [
    {
     "data": {
      "text/html": [
       "<div>\n",
       "<style scoped>\n",
       "    .dataframe tbody tr th:only-of-type {\n",
       "        vertical-align: middle;\n",
       "    }\n",
       "\n",
       "    .dataframe tbody tr th {\n",
       "        vertical-align: top;\n",
       "    }\n",
       "\n",
       "    .dataframe thead th {\n",
       "        text-align: right;\n",
       "    }\n",
       "</style>\n",
       "<table border=\"1\" class=\"dataframe\">\n",
       "  <thead>\n",
       "    <tr style=\"text-align: right;\">\n",
       "      <th></th>\n",
       "      <th>purchase_id</th>\n",
       "      <th>item_id</th>\n",
       "      <th>quantity</th>\n",
       "      <th>purchase_date</th>\n",
       "      <th>customer_id</th>\n",
       "      <th>loyalty_program</th>\n",
       "      <th>shop_id</th>\n",
       "    </tr>\n",
       "  </thead>\n",
       "  <tbody>\n",
       "  </tbody>\n",
       "</table>\n",
       "</div>"
      ],
      "text/plain": [
       "Empty DataFrame\n",
       "Columns: [purchase_id, item_id, quantity, purchase_date, customer_id, loyalty_program, shop_id]\n",
       "Index: []"
      ]
     },
     "execution_count": 28,
     "metadata": {},
     "output_type": "execute_result"
    }
   ],
   "source": [
    "df_retail[df_retail['quantity'] < 0]"
   ]
  },
  {
   "cell_type": "markdown",
   "metadata": {},
   "source": [
    "Nilai negatif pada kolom `quantity` sudah diubah menjadi nilai absolut."
   ]
  },
  {
   "cell_type": "markdown",
   "metadata": {},
   "source": [
    "#### Memperbaiki Tipe Data"
   ]
  },
  {
   "cell_type": "code",
   "execution_count": 29,
   "metadata": {},
   "outputs": [],
   "source": [
    "df_retail['purchase_date'] = pd.to_datetime(df_retail['purchase_date'])"
   ]
  },
  {
   "cell_type": "code",
   "execution_count": 30,
   "metadata": {},
   "outputs": [],
   "source": [
    "df_retail['customer_id'] = df_retail['customer_id'].astype('int')"
   ]
  },
  {
   "cell_type": "code",
   "execution_count": 31,
   "metadata": {},
   "outputs": [],
   "source": [
    "#df_retail['customer_id'] = df_retail['customer_id'].replace(-1, 'unknown')"
   ]
  },
  {
   "cell_type": "code",
   "execution_count": 32,
   "metadata": {},
   "outputs": [],
   "source": [
    "df_retail['customer_id'] = df_retail['customer_id'].astype('object')"
   ]
  },
  {
   "cell_type": "code",
   "execution_count": 33,
   "metadata": {
    "scrolled": true
   },
   "outputs": [
    {
     "name": "stdout",
     "output_type": "stream",
     "text": [
      "<class 'pandas.core.frame.DataFrame'>\n",
      "RangeIndex: 105335 entries, 0 to 105334\n",
      "Data columns (total 7 columns):\n",
      " #   Column           Non-Null Count   Dtype         \n",
      "---  ------           --------------   -----         \n",
      " 0   purchase_id      105335 non-null  object        \n",
      " 1   item_id          105335 non-null  object        \n",
      " 2   quantity         105335 non-null  int64         \n",
      " 3   purchase_date    105335 non-null  datetime64[ns]\n",
      " 4   customer_id      105335 non-null  object        \n",
      " 5   loyalty_program  105335 non-null  int64         \n",
      " 6   shop_id          105335 non-null  object        \n",
      "dtypes: datetime64[ns](1), int64(2), object(4)\n",
      "memory usage: 5.6+ MB\n"
     ]
    }
   ],
   "source": [
    "df_retail.info()"
   ]
  },
  {
   "cell_type": "markdown",
   "metadata": {},
   "source": [
    "Tipe data yang salah untuk masing-masing kolom sudah diperbaiki."
   ]
  },
  {
   "cell_type": "markdown",
   "metadata": {},
   "source": [
    "#### Mengatasi Duplikat"
   ]
  },
  {
   "cell_type": "code",
   "execution_count": 34,
   "metadata": {},
   "outputs": [
    {
     "data": {
      "text/plain": [
       "1033"
      ]
     },
     "execution_count": 34,
     "metadata": {},
     "output_type": "execute_result"
    }
   ],
   "source": [
    "df_retail.duplicated().sum()"
   ]
  },
  {
   "cell_type": "code",
   "execution_count": 35,
   "metadata": {},
   "outputs": [],
   "source": [
    "df_retail = df_retail.drop_duplicates()"
   ]
  },
  {
   "cell_type": "code",
   "execution_count": 36,
   "metadata": {},
   "outputs": [
    {
     "data": {
      "text/plain": [
       "0"
      ]
     },
     "execution_count": 36,
     "metadata": {},
     "output_type": "execute_result"
    }
   ],
   "source": [
    "df_retail.duplicated().sum()"
   ]
  },
  {
   "cell_type": "code",
   "execution_count": 37,
   "metadata": {},
   "outputs": [
    {
     "name": "stdout",
     "output_type": "stream",
     "text": [
      "<class 'pandas.core.frame.DataFrame'>\n",
      "Int64Index: 104302 entries, 0 to 105334\n",
      "Data columns (total 7 columns):\n",
      " #   Column           Non-Null Count   Dtype         \n",
      "---  ------           --------------   -----         \n",
      " 0   purchase_id      104302 non-null  object        \n",
      " 1   item_id          104302 non-null  object        \n",
      " 2   quantity         104302 non-null  int64         \n",
      " 3   purchase_date    104302 non-null  datetime64[ns]\n",
      " 4   customer_id      104302 non-null  object        \n",
      " 5   loyalty_program  104302 non-null  int64         \n",
      " 6   shop_id          104302 non-null  object        \n",
      "dtypes: datetime64[ns](1), int64(2), object(4)\n",
      "memory usage: 6.4+ MB\n"
     ]
    }
   ],
   "source": [
    "df_retail.info()"
   ]
  },
  {
   "cell_type": "markdown",
   "metadata": {},
   "source": [
    "Terdapat 1033 data yang terduplikasi pada tabel `retail`, dan setelah dihapus, maka dataset kita saat ini memiliki 104302 baris dan 7 kolom."
   ]
  },
  {
   "cell_type": "markdown",
   "metadata": {},
   "source": [
    "### Data Produk"
   ]
  },
  {
   "cell_type": "markdown",
   "metadata": {},
   "source": [
    "#### Memperbaiki Nama Kolom"
   ]
  },
  {
   "cell_type": "code",
   "execution_count": 38,
   "metadata": {},
   "outputs": [
    {
     "data": {
      "text/plain": [
       "Index(['productID', 'price_per_one'], dtype='object')"
      ]
     },
     "execution_count": 38,
     "metadata": {},
     "output_type": "execute_result"
    }
   ],
   "source": [
    "df_product.columns"
   ]
  },
  {
   "cell_type": "code",
   "execution_count": 39,
   "metadata": {},
   "outputs": [],
   "source": [
    "df_product = df_product.rename(\n",
    "    columns = {\n",
    "        'productID' : 'product_id',\n",
    "        'price_per_one' : 'price_per_one'\n",
    "    }\n",
    ")"
   ]
  },
  {
   "cell_type": "code",
   "execution_count": 40,
   "metadata": {},
   "outputs": [
    {
     "data": {
      "text/plain": [
       "Index(['product_id', 'price_per_one'], dtype='object')"
      ]
     },
     "execution_count": 40,
     "metadata": {},
     "output_type": "execute_result"
    }
   ],
   "source": [
    "df_product.columns"
   ]
  },
  {
   "cell_type": "markdown",
   "metadata": {},
   "source": [
    "Gaya penulisan kolom sudah diperbaiki dan sudah sesuai."
   ]
  },
  {
   "cell_type": "markdown",
   "metadata": {},
   "source": [
    "#### Mengatasi Duplikat"
   ]
  },
  {
   "cell_type": "code",
   "execution_count": 41,
   "metadata": {},
   "outputs": [
    {
     "data": {
      "text/plain": [
       "0"
      ]
     },
     "execution_count": 41,
     "metadata": {},
     "output_type": "execute_result"
    }
   ],
   "source": [
    "df_product.duplicated().sum()"
   ]
  },
  {
   "cell_type": "markdown",
   "metadata": {},
   "source": [
    "Tidak terdapat data yang terduplikasi pada tabel `product`."
   ]
  },
  {
   "cell_type": "markdown",
   "metadata": {},
   "source": [
    "### Transformasi Data"
   ]
  },
  {
   "cell_type": "code",
   "execution_count": 42,
   "metadata": {},
   "outputs": [
    {
     "data": {
      "text/html": [
       "<div>\n",
       "<style scoped>\n",
       "    .dataframe tbody tr th:only-of-type {\n",
       "        vertical-align: middle;\n",
       "    }\n",
       "\n",
       "    .dataframe tbody tr th {\n",
       "        vertical-align: top;\n",
       "    }\n",
       "\n",
       "    .dataframe thead th {\n",
       "        text-align: right;\n",
       "    }\n",
       "</style>\n",
       "<table border=\"1\" class=\"dataframe\">\n",
       "  <thead>\n",
       "    <tr style=\"text-align: right;\">\n",
       "      <th></th>\n",
       "      <th>purchase_id</th>\n",
       "      <th>item_id</th>\n",
       "      <th>quantity</th>\n",
       "      <th>purchase_date</th>\n",
       "      <th>customer_id</th>\n",
       "      <th>loyalty_program</th>\n",
       "      <th>shop_id</th>\n",
       "    </tr>\n",
       "  </thead>\n",
       "  <tbody>\n",
       "    <tr>\n",
       "      <th>6</th>\n",
       "      <td>540468</td>\n",
       "      <td>22189</td>\n",
       "      <td>0</td>\n",
       "      <td>2017-01-07 13:55:00</td>\n",
       "      <td>NaN</td>\n",
       "      <td>0</td>\n",
       "      <td>Shop 0</td>\n",
       "    </tr>\n",
       "    <tr>\n",
       "      <th>7</th>\n",
       "      <td>541424</td>\n",
       "      <td>79321</td>\n",
       "      <td>1</td>\n",
       "      <td>2017-01-17 17:57:00</td>\n",
       "      <td>NaN</td>\n",
       "      <td>0</td>\n",
       "      <td>Shop 0</td>\n",
       "    </tr>\n",
       "    <tr>\n",
       "      <th>8</th>\n",
       "      <td>538883</td>\n",
       "      <td>22891</td>\n",
       "      <td>0</td>\n",
       "      <td>2016-12-14 15:56:00</td>\n",
       "      <td>NaN</td>\n",
       "      <td>0</td>\n",
       "      <td>Shop 0</td>\n",
       "    </tr>\n",
       "    <tr>\n",
       "      <th>11</th>\n",
       "      <td>541696</td>\n",
       "      <td>22197</td>\n",
       "      <td>4</td>\n",
       "      <td>2017-01-20 18:08:00</td>\n",
       "      <td>NaN</td>\n",
       "      <td>0</td>\n",
       "      <td>Shop 0</td>\n",
       "    </tr>\n",
       "    <tr>\n",
       "      <th>16</th>\n",
       "      <td>539744</td>\n",
       "      <td>22300</td>\n",
       "      <td>5</td>\n",
       "      <td>2016-12-21 15:21:00</td>\n",
       "      <td>NaN</td>\n",
       "      <td>0</td>\n",
       "      <td>Shop 0</td>\n",
       "    </tr>\n",
       "    <tr>\n",
       "      <th>...</th>\n",
       "      <td>...</td>\n",
       "      <td>...</td>\n",
       "      <td>...</td>\n",
       "      <td>...</td>\n",
       "      <td>...</td>\n",
       "      <td>...</td>\n",
       "      <td>...</td>\n",
       "    </tr>\n",
       "    <tr>\n",
       "      <th>105325</th>\n",
       "      <td>536982</td>\n",
       "      <td>20719</td>\n",
       "      <td>69</td>\n",
       "      <td>2016-12-03 14:27:00</td>\n",
       "      <td>NaN</td>\n",
       "      <td>0</td>\n",
       "      <td>Shop 0</td>\n",
       "    </tr>\n",
       "    <tr>\n",
       "      <th>105326</th>\n",
       "      <td>540681</td>\n",
       "      <td>22227</td>\n",
       "      <td>1</td>\n",
       "      <td>2017-01-10 16:25:00</td>\n",
       "      <td>NaN</td>\n",
       "      <td>0</td>\n",
       "      <td>Shop 0</td>\n",
       "    </tr>\n",
       "    <tr>\n",
       "      <th>105327</th>\n",
       "      <td>538349</td>\n",
       "      <td>22625</td>\n",
       "      <td>0</td>\n",
       "      <td>2016-12-10 14:59:00</td>\n",
       "      <td>NaN</td>\n",
       "      <td>0</td>\n",
       "      <td>Shop 0</td>\n",
       "    </tr>\n",
       "    <tr>\n",
       "      <th>105329</th>\n",
       "      <td>540154</td>\n",
       "      <td>22134</td>\n",
       "      <td>3</td>\n",
       "      <td>2017-01-05 11:30:00</td>\n",
       "      <td>NaN</td>\n",
       "      <td>0</td>\n",
       "      <td>Shop 0</td>\n",
       "    </tr>\n",
       "    <tr>\n",
       "      <th>105330</th>\n",
       "      <td>538566</td>\n",
       "      <td>21826</td>\n",
       "      <td>1</td>\n",
       "      <td>2016-12-13 11:21:00</td>\n",
       "      <td>NaN</td>\n",
       "      <td>0</td>\n",
       "      <td>Shop 0</td>\n",
       "    </tr>\n",
       "  </tbody>\n",
       "</table>\n",
       "<p>36210 rows × 7 columns</p>\n",
       "</div>"
      ],
      "text/plain": [
       "       purchase_id item_id  quantity        purchase_date  customer_id  \\\n",
       "6           540468   22189         0  2017-01-07 13:55:00          NaN   \n",
       "7           541424   79321         1  2017-01-17 17:57:00          NaN   \n",
       "8           538883   22891         0  2016-12-14 15:56:00          NaN   \n",
       "11          541696   22197         4  2017-01-20 18:08:00          NaN   \n",
       "16          539744   22300         5  2016-12-21 15:21:00          NaN   \n",
       "...            ...     ...       ...                  ...          ...   \n",
       "105325      536982   20719        69  2016-12-03 14:27:00          NaN   \n",
       "105326      540681   22227         1  2017-01-10 16:25:00          NaN   \n",
       "105327      538349   22625         0  2016-12-10 14:59:00          NaN   \n",
       "105329      540154   22134         3  2017-01-05 11:30:00          NaN   \n",
       "105330      538566   21826         1  2016-12-13 11:21:00          NaN   \n",
       "\n",
       "        loyalty_program shop_id  \n",
       "6                     0  Shop 0  \n",
       "7                     0  Shop 0  \n",
       "8                     0  Shop 0  \n",
       "11                    0  Shop 0  \n",
       "16                    0  Shop 0  \n",
       "...                 ...     ...  \n",
       "105325                0  Shop 0  \n",
       "105326                0  Shop 0  \n",
       "105327                0  Shop 0  \n",
       "105329                0  Shop 0  \n",
       "105330                0  Shop 0  \n",
       "\n",
       "[36210 rows x 7 columns]"
      ]
     },
     "execution_count": 42,
     "metadata": {},
     "output_type": "execute_result"
    }
   ],
   "source": [
    "#Kumpulan data yang hilang\n",
    "df_retail_nan"
   ]
  },
  {
   "cell_type": "code",
   "execution_count": 43,
   "metadata": {
    "scrolled": true
   },
   "outputs": [
    {
     "data": {
      "text/html": [
       "<div>\n",
       "<style scoped>\n",
       "    .dataframe tbody tr th:only-of-type {\n",
       "        vertical-align: middle;\n",
       "    }\n",
       "\n",
       "    .dataframe tbody tr th {\n",
       "        vertical-align: top;\n",
       "    }\n",
       "\n",
       "    .dataframe thead th {\n",
       "        text-align: right;\n",
       "    }\n",
       "</style>\n",
       "<table border=\"1\" class=\"dataframe\">\n",
       "  <thead>\n",
       "    <tr style=\"text-align: right;\">\n",
       "      <th></th>\n",
       "      <th>product_id</th>\n",
       "      <th>price_per_one</th>\n",
       "    </tr>\n",
       "  </thead>\n",
       "  <tbody>\n",
       "    <tr>\n",
       "      <th>34</th>\n",
       "      <td>16033</td>\n",
       "      <td>0.0</td>\n",
       "    </tr>\n",
       "    <tr>\n",
       "      <th>54</th>\n",
       "      <td>16207B</td>\n",
       "      <td>0.0</td>\n",
       "    </tr>\n",
       "    <tr>\n",
       "      <th>67</th>\n",
       "      <td>17011A</td>\n",
       "      <td>0.0</td>\n",
       "    </tr>\n",
       "    <tr>\n",
       "      <th>87</th>\n",
       "      <td>17091A</td>\n",
       "      <td>0.0</td>\n",
       "    </tr>\n",
       "    <tr>\n",
       "      <th>95</th>\n",
       "      <td>17165D</td>\n",
       "      <td>0.0</td>\n",
       "    </tr>\n",
       "    <tr>\n",
       "      <th>...</th>\n",
       "      <td>...</td>\n",
       "      <td>...</td>\n",
       "    </tr>\n",
       "    <tr>\n",
       "      <th>3141</th>\n",
       "      <td>DCGS0055</td>\n",
       "      <td>0.0</td>\n",
       "    </tr>\n",
       "    <tr>\n",
       "      <th>3142</th>\n",
       "      <td>DCGS0057</td>\n",
       "      <td>0.0</td>\n",
       "    </tr>\n",
       "    <tr>\n",
       "      <th>3145</th>\n",
       "      <td>DCGS0072</td>\n",
       "      <td>0.0</td>\n",
       "    </tr>\n",
       "    <tr>\n",
       "      <th>3146</th>\n",
       "      <td>DCGS0074</td>\n",
       "      <td>0.0</td>\n",
       "    </tr>\n",
       "    <tr>\n",
       "      <th>3152</th>\n",
       "      <td>POST</td>\n",
       "      <td>0.0</td>\n",
       "    </tr>\n",
       "  </tbody>\n",
       "</table>\n",
       "<p>382 rows × 2 columns</p>\n",
       "</div>"
      ],
      "text/plain": [
       "     product_id  price_per_one\n",
       "34        16033            0.0\n",
       "54       16207B            0.0\n",
       "67       17011A            0.0\n",
       "87       17091A            0.0\n",
       "95       17165D            0.0\n",
       "...         ...            ...\n",
       "3141   DCGS0055            0.0\n",
       "3142   DCGS0057            0.0\n",
       "3145   DCGS0072            0.0\n",
       "3146   DCGS0074            0.0\n",
       "3152       POST            0.0\n",
       "\n",
       "[382 rows x 2 columns]"
      ]
     },
     "execution_count": 43,
     "metadata": {},
     "output_type": "execute_result"
    }
   ],
   "source": [
    "df_product[df_product['price_per_one'] == 0]"
   ]
  },
  {
   "cell_type": "markdown",
   "metadata": {},
   "source": [
    "Pada tahap sebelumnya, kita telah mengetahui bahwa terdapat masalah pada masing-masing tabel yang kita miliki, dimana tabel `retail` memiliki nilai yang hilang pada kolom `customer_id` dan tabel `product` memiliki nilai 0 pada kolom `price_per_one`. Nilai yang hilang telah diganti menjadi 0 dengan asumsi pelanggan tersebut tidak diketahui atau tidak teridentifikasi dan juga, tidak langsung kita hapus, karena kita ingin melihat apakah masih ada relevansinya dengan kolom-kolom lainnya.\n",
    "Kita akan mencoba untuk menggabungkan kedua tabel tersebut untuk melihat apakah ada hubungan antara nilai yang hilang tersebut dengan nilai 0 pada tabel lainnya dan juga dengan kolom-kolom lainnya."
   ]
  },
  {
   "cell_type": "code",
   "execution_count": 44,
   "metadata": {},
   "outputs": [
    {
     "data": {
      "text/html": [
       "<div>\n",
       "<style scoped>\n",
       "    .dataframe tbody tr th:only-of-type {\n",
       "        vertical-align: middle;\n",
       "    }\n",
       "\n",
       "    .dataframe tbody tr th {\n",
       "        vertical-align: top;\n",
       "    }\n",
       "\n",
       "    .dataframe thead th {\n",
       "        text-align: right;\n",
       "    }\n",
       "</style>\n",
       "<table border=\"1\" class=\"dataframe\">\n",
       "  <thead>\n",
       "    <tr style=\"text-align: right;\">\n",
       "      <th></th>\n",
       "      <th>purchase_id</th>\n",
       "      <th>item_id</th>\n",
       "      <th>quantity</th>\n",
       "      <th>purchase_date</th>\n",
       "      <th>customer_id</th>\n",
       "      <th>loyalty_program</th>\n",
       "      <th>shop_id</th>\n",
       "      <th>product_id</th>\n",
       "      <th>price_per_one</th>\n",
       "    </tr>\n",
       "  </thead>\n",
       "  <tbody>\n",
       "    <tr>\n",
       "      <th>0</th>\n",
       "      <td>538280</td>\n",
       "      <td>21873</td>\n",
       "      <td>11</td>\n",
       "      <td>2016-12-10 12:50:00</td>\n",
       "      <td>18427</td>\n",
       "      <td>0</td>\n",
       "      <td>Shop 3</td>\n",
       "      <td>21873</td>\n",
       "      <td>0.42</td>\n",
       "    </tr>\n",
       "    <tr>\n",
       "      <th>1</th>\n",
       "      <td>541104</td>\n",
       "      <td>21873</td>\n",
       "      <td>0</td>\n",
       "      <td>2017-01-13 14:29:00</td>\n",
       "      <td>0</td>\n",
       "      <td>0</td>\n",
       "      <td>Shop 0</td>\n",
       "      <td>21873</td>\n",
       "      <td>0.42</td>\n",
       "    </tr>\n",
       "    <tr>\n",
       "      <th>2</th>\n",
       "      <td>540418</td>\n",
       "      <td>21873</td>\n",
       "      <td>1</td>\n",
       "      <td>2017-01-07 11:04:00</td>\n",
       "      <td>0</td>\n",
       "      <td>0</td>\n",
       "      <td>Shop 0</td>\n",
       "      <td>21873</td>\n",
       "      <td>0.42</td>\n",
       "    </tr>\n",
       "    <tr>\n",
       "      <th>3</th>\n",
       "      <td>541516</td>\n",
       "      <td>21873</td>\n",
       "      <td>2</td>\n",
       "      <td>2017-01-18 17:34:00</td>\n",
       "      <td>0</td>\n",
       "      <td>0</td>\n",
       "      <td>Shop 0</td>\n",
       "      <td>21873</td>\n",
       "      <td>0.42</td>\n",
       "    </tr>\n",
       "    <tr>\n",
       "      <th>4</th>\n",
       "      <td>541566</td>\n",
       "      <td>21873</td>\n",
       "      <td>35</td>\n",
       "      <td>2017-01-19 11:50:00</td>\n",
       "      <td>23401</td>\n",
       "      <td>1</td>\n",
       "      <td>Shop 22</td>\n",
       "      <td>21873</td>\n",
       "      <td>0.42</td>\n",
       "    </tr>\n",
       "    <tr>\n",
       "      <th>...</th>\n",
       "      <td>...</td>\n",
       "      <td>...</td>\n",
       "      <td>...</td>\n",
       "      <td>...</td>\n",
       "      <td>...</td>\n",
       "      <td>...</td>\n",
       "      <td>...</td>\n",
       "      <td>...</td>\n",
       "      <td>...</td>\n",
       "    </tr>\n",
       "    <tr>\n",
       "      <th>104297</th>\n",
       "      <td>538852</td>\n",
       "      <td>90058B</td>\n",
       "      <td>35</td>\n",
       "      <td>2016-12-14 13:33:00</td>\n",
       "      <td>23051</td>\n",
       "      <td>1</td>\n",
       "      <td>Shop 8</td>\n",
       "      <td>90058B</td>\n",
       "      <td>0.38</td>\n",
       "    </tr>\n",
       "    <tr>\n",
       "      <th>104298</th>\n",
       "      <td>539988</td>\n",
       "      <td>46138B</td>\n",
       "      <td>1</td>\n",
       "      <td>2016-12-23 16:06:00</td>\n",
       "      <td>23795</td>\n",
       "      <td>1</td>\n",
       "      <td>Shop 14</td>\n",
       "      <td>46138B</td>\n",
       "      <td>1.95</td>\n",
       "    </tr>\n",
       "    <tr>\n",
       "      <th>104299</th>\n",
       "      <td>537025</td>\n",
       "      <td>90053</td>\n",
       "      <td>0</td>\n",
       "      <td>2016-12-03 16:21:00</td>\n",
       "      <td>0</td>\n",
       "      <td>0</td>\n",
       "      <td>Shop 0</td>\n",
       "      <td>90053</td>\n",
       "      <td>2.55</td>\n",
       "    </tr>\n",
       "    <tr>\n",
       "      <th>104300</th>\n",
       "      <td>542731</td>\n",
       "      <td>17028J</td>\n",
       "      <td>5</td>\n",
       "      <td>2017-01-31 15:27:00</td>\n",
       "      <td>19279</td>\n",
       "      <td>0</td>\n",
       "      <td>Shop 0</td>\n",
       "      <td>17028J</td>\n",
       "      <td>0.42</td>\n",
       "    </tr>\n",
       "    <tr>\n",
       "      <th>104301</th>\n",
       "      <td>C540246</td>\n",
       "      <td>79320</td>\n",
       "      <td>2</td>\n",
       "      <td>2017-01-05 15:43:00</td>\n",
       "      <td>18760</td>\n",
       "      <td>0</td>\n",
       "      <td>Shop 19</td>\n",
       "      <td>79320</td>\n",
       "      <td>4.95</td>\n",
       "    </tr>\n",
       "  </tbody>\n",
       "</table>\n",
       "<p>104302 rows × 9 columns</p>\n",
       "</div>"
      ],
      "text/plain": [
       "       purchase_id item_id  quantity       purchase_date customer_id  \\\n",
       "0           538280   21873        11 2016-12-10 12:50:00       18427   \n",
       "1           541104   21873         0 2017-01-13 14:29:00           0   \n",
       "2           540418   21873         1 2017-01-07 11:04:00           0   \n",
       "3           541516   21873         2 2017-01-18 17:34:00           0   \n",
       "4           541566   21873        35 2017-01-19 11:50:00       23401   \n",
       "...            ...     ...       ...                 ...         ...   \n",
       "104297      538852  90058B        35 2016-12-14 13:33:00       23051   \n",
       "104298      539988  46138B         1 2016-12-23 16:06:00       23795   \n",
       "104299      537025   90053         0 2016-12-03 16:21:00           0   \n",
       "104300      542731  17028J         5 2017-01-31 15:27:00       19279   \n",
       "104301     C540246   79320         2 2017-01-05 15:43:00       18760   \n",
       "\n",
       "        loyalty_program  shop_id product_id  price_per_one  \n",
       "0                     0   Shop 3      21873           0.42  \n",
       "1                     0   Shop 0      21873           0.42  \n",
       "2                     0   Shop 0      21873           0.42  \n",
       "3                     0   Shop 0      21873           0.42  \n",
       "4                     1  Shop 22      21873           0.42  \n",
       "...                 ...      ...        ...            ...  \n",
       "104297                1   Shop 8     90058B           0.38  \n",
       "104298                1  Shop 14     46138B           1.95  \n",
       "104299                0   Shop 0      90053           2.55  \n",
       "104300                0   Shop 0     17028J           0.42  \n",
       "104301                0  Shop 19      79320           4.95  \n",
       "\n",
       "[104302 rows x 9 columns]"
      ]
     },
     "execution_count": 44,
     "metadata": {},
     "output_type": "execute_result"
    }
   ],
   "source": [
    "merged_df = pd.merge(df_retail, df_product, left_on = 'item_id', right_on = 'product_id')\n",
    "merged_df"
   ]
  },
  {
   "cell_type": "markdown",
   "metadata": {},
   "source": [
    "Ternyata, selain terdapat nilai yang hilang pada tabel `retail`, keanehan lainnya terdapat pada kolom `quantity` dimana terdapat nilai 0 juga."
   ]
  },
  {
   "cell_type": "code",
   "execution_count": 45,
   "metadata": {
    "scrolled": true
   },
   "outputs": [
    {
     "data": {
      "text/html": [
       "<div>\n",
       "<style scoped>\n",
       "    .dataframe tbody tr th:only-of-type {\n",
       "        vertical-align: middle;\n",
       "    }\n",
       "\n",
       "    .dataframe tbody tr th {\n",
       "        vertical-align: top;\n",
       "    }\n",
       "\n",
       "    .dataframe thead th {\n",
       "        text-align: right;\n",
       "    }\n",
       "</style>\n",
       "<table border=\"1\" class=\"dataframe\">\n",
       "  <thead>\n",
       "    <tr style=\"text-align: right;\">\n",
       "      <th></th>\n",
       "      <th>purchase_id</th>\n",
       "      <th>item_id</th>\n",
       "      <th>quantity</th>\n",
       "      <th>purchase_date</th>\n",
       "      <th>customer_id</th>\n",
       "      <th>loyalty_program</th>\n",
       "      <th>shop_id</th>\n",
       "      <th>product_id</th>\n",
       "      <th>price_per_one</th>\n",
       "    </tr>\n",
       "  </thead>\n",
       "  <tbody>\n",
       "    <tr>\n",
       "      <th>318</th>\n",
       "      <td>542115</td>\n",
       "      <td>79321</td>\n",
       "      <td>0</td>\n",
       "      <td>2017-01-25 14:01:00</td>\n",
       "      <td>0</td>\n",
       "      <td>0</td>\n",
       "      <td>Shop 0</td>\n",
       "      <td>79321</td>\n",
       "      <td>0.0</td>\n",
       "    </tr>\n",
       "    <tr>\n",
       "      <th>328</th>\n",
       "      <td>542625</td>\n",
       "      <td>79321</td>\n",
       "      <td>0</td>\n",
       "      <td>2017-01-31 09:50:00</td>\n",
       "      <td>0</td>\n",
       "      <td>0</td>\n",
       "      <td>Shop 0</td>\n",
       "      <td>79321</td>\n",
       "      <td>0.0</td>\n",
       "    </tr>\n",
       "    <tr>\n",
       "      <th>338</th>\n",
       "      <td>544598</td>\n",
       "      <td>79321</td>\n",
       "      <td>0</td>\n",
       "      <td>2017-02-21 18:10:00</td>\n",
       "      <td>0</td>\n",
       "      <td>0</td>\n",
       "      <td>Shop 0</td>\n",
       "      <td>79321</td>\n",
       "      <td>0.0</td>\n",
       "    </tr>\n",
       "    <tr>\n",
       "      <th>342</th>\n",
       "      <td>541971</td>\n",
       "      <td>79321</td>\n",
       "      <td>0</td>\n",
       "      <td>2017-01-24 13:48:00</td>\n",
       "      <td>0</td>\n",
       "      <td>0</td>\n",
       "      <td>Shop 0</td>\n",
       "      <td>79321</td>\n",
       "      <td>0.0</td>\n",
       "    </tr>\n",
       "    <tr>\n",
       "      <th>347</th>\n",
       "      <td>538177</td>\n",
       "      <td>79321</td>\n",
       "      <td>0</td>\n",
       "      <td>2016-12-10 09:51:00</td>\n",
       "      <td>0</td>\n",
       "      <td>0</td>\n",
       "      <td>Shop 0</td>\n",
       "      <td>79321</td>\n",
       "      <td>0.0</td>\n",
       "    </tr>\n",
       "    <tr>\n",
       "      <th>...</th>\n",
       "      <td>...</td>\n",
       "      <td>...</td>\n",
       "      <td>...</td>\n",
       "      <td>...</td>\n",
       "      <td>...</td>\n",
       "      <td>...</td>\n",
       "      <td>...</td>\n",
       "      <td>...</td>\n",
       "      <td>...</td>\n",
       "    </tr>\n",
       "    <tr>\n",
       "      <th>104128</th>\n",
       "      <td>536545</td>\n",
       "      <td>21134</td>\n",
       "      <td>0</td>\n",
       "      <td>2016-12-01 14:32:00</td>\n",
       "      <td>0</td>\n",
       "      <td>0</td>\n",
       "      <td>Shop 0</td>\n",
       "      <td>21134</td>\n",
       "      <td>0.0</td>\n",
       "    </tr>\n",
       "    <tr>\n",
       "      <th>104156</th>\n",
       "      <td>537878</td>\n",
       "      <td>72803B</td>\n",
       "      <td>0</td>\n",
       "      <td>2016-12-08 18:09:00</td>\n",
       "      <td>0</td>\n",
       "      <td>0</td>\n",
       "      <td>Shop 0</td>\n",
       "      <td>72803B</td>\n",
       "      <td>0.0</td>\n",
       "    </tr>\n",
       "    <tr>\n",
       "      <th>104220</th>\n",
       "      <td>536550</td>\n",
       "      <td>85044</td>\n",
       "      <td>0</td>\n",
       "      <td>2016-12-01 14:34:00</td>\n",
       "      <td>0</td>\n",
       "      <td>0</td>\n",
       "      <td>Shop 0</td>\n",
       "      <td>85044</td>\n",
       "      <td>0.0</td>\n",
       "    </tr>\n",
       "    <tr>\n",
       "      <th>104255</th>\n",
       "      <td>536552</td>\n",
       "      <td>20950</td>\n",
       "      <td>0</td>\n",
       "      <td>2016-12-01 14:34:00</td>\n",
       "      <td>0</td>\n",
       "      <td>0</td>\n",
       "      <td>Shop 0</td>\n",
       "      <td>20950</td>\n",
       "      <td>0.0</td>\n",
       "    </tr>\n",
       "    <tr>\n",
       "      <th>104291</th>\n",
       "      <td>538144</td>\n",
       "      <td>90042B</td>\n",
       "      <td>0</td>\n",
       "      <td>2016-12-09 15:58:00</td>\n",
       "      <td>0</td>\n",
       "      <td>0</td>\n",
       "      <td>Shop 0</td>\n",
       "      <td>90042B</td>\n",
       "      <td>0.0</td>\n",
       "    </tr>\n",
       "  </tbody>\n",
       "</table>\n",
       "<p>2719 rows × 9 columns</p>\n",
       "</div>"
      ],
      "text/plain": [
       "       purchase_id item_id  quantity       purchase_date customer_id  \\\n",
       "318         542115   79321         0 2017-01-25 14:01:00           0   \n",
       "328         542625   79321         0 2017-01-31 09:50:00           0   \n",
       "338         544598   79321         0 2017-02-21 18:10:00           0   \n",
       "342         541971   79321         0 2017-01-24 13:48:00           0   \n",
       "347         538177   79321         0 2016-12-10 09:51:00           0   \n",
       "...            ...     ...       ...                 ...         ...   \n",
       "104128      536545   21134         0 2016-12-01 14:32:00           0   \n",
       "104156      537878  72803B         0 2016-12-08 18:09:00           0   \n",
       "104220      536550   85044         0 2016-12-01 14:34:00           0   \n",
       "104255      536552   20950         0 2016-12-01 14:34:00           0   \n",
       "104291      538144  90042B         0 2016-12-09 15:58:00           0   \n",
       "\n",
       "        loyalty_program shop_id product_id  price_per_one  \n",
       "318                   0  Shop 0      79321            0.0  \n",
       "328                   0  Shop 0      79321            0.0  \n",
       "338                   0  Shop 0      79321            0.0  \n",
       "342                   0  Shop 0      79321            0.0  \n",
       "347                   0  Shop 0      79321            0.0  \n",
       "...                 ...     ...        ...            ...  \n",
       "104128                0  Shop 0      21134            0.0  \n",
       "104156                0  Shop 0     72803B            0.0  \n",
       "104220                0  Shop 0      85044            0.0  \n",
       "104255                0  Shop 0      20950            0.0  \n",
       "104291                0  Shop 0     90042B            0.0  \n",
       "\n",
       "[2719 rows x 9 columns]"
      ]
     },
     "execution_count": 45,
     "metadata": {},
     "output_type": "execute_result"
    }
   ],
   "source": [
    "filtered_data = merged_df[(merged_df['customer_id'] == 0) & (merged_df['quantity'] == 0) & (merged_df['price_per_one'] == 0)]\n",
    "filtered_data"
   ]
  },
  {
   "cell_type": "markdown",
   "metadata": {},
   "source": [
    "Kita mencoba memfilter data untuk melihat data dengan kondisi:\n",
    " - `customer_id` bernilai 0 (tidak diketahui)\n",
    " - `quantity` bernilai 0\n",
    " - `price_per_one` bernilai 0\n",
    " \n",
    "Dan ternyata, terdapat 2719 data yang memiliki ketiga kondisi di atas sekaligus. Data ini akan kita hapus, dengan pertimbangan bahwa tidak ada informasi tentang pelanggan yang melakukan pembelian karena tidak ada data mengenai jumlah pembeliannya."
   ]
  },
  {
   "cell_type": "code",
   "execution_count": 46,
   "metadata": {},
   "outputs": [
    {
     "data": {
      "text/html": [
       "<div>\n",
       "<style scoped>\n",
       "    .dataframe tbody tr th:only-of-type {\n",
       "        vertical-align: middle;\n",
       "    }\n",
       "\n",
       "    .dataframe tbody tr th {\n",
       "        vertical-align: top;\n",
       "    }\n",
       "\n",
       "    .dataframe thead th {\n",
       "        text-align: right;\n",
       "    }\n",
       "</style>\n",
       "<table border=\"1\" class=\"dataframe\">\n",
       "  <thead>\n",
       "    <tr style=\"text-align: right;\">\n",
       "      <th></th>\n",
       "      <th>purchase_id</th>\n",
       "      <th>item_id</th>\n",
       "      <th>quantity</th>\n",
       "      <th>purchase_date</th>\n",
       "      <th>customer_id</th>\n",
       "      <th>loyalty_program</th>\n",
       "      <th>shop_id</th>\n",
       "      <th>product_id</th>\n",
       "      <th>price_per_one</th>\n",
       "    </tr>\n",
       "  </thead>\n",
       "  <tbody>\n",
       "    <tr>\n",
       "      <th>0</th>\n",
       "      <td>538280</td>\n",
       "      <td>21873</td>\n",
       "      <td>11</td>\n",
       "      <td>2016-12-10 12:50:00</td>\n",
       "      <td>18427</td>\n",
       "      <td>0</td>\n",
       "      <td>Shop 3</td>\n",
       "      <td>21873</td>\n",
       "      <td>0.42</td>\n",
       "    </tr>\n",
       "    <tr>\n",
       "      <th>1</th>\n",
       "      <td>541104</td>\n",
       "      <td>21873</td>\n",
       "      <td>0</td>\n",
       "      <td>2017-01-13 14:29:00</td>\n",
       "      <td>0</td>\n",
       "      <td>0</td>\n",
       "      <td>Shop 0</td>\n",
       "      <td>21873</td>\n",
       "      <td>0.42</td>\n",
       "    </tr>\n",
       "    <tr>\n",
       "      <th>2</th>\n",
       "      <td>540418</td>\n",
       "      <td>21873</td>\n",
       "      <td>1</td>\n",
       "      <td>2017-01-07 11:04:00</td>\n",
       "      <td>0</td>\n",
       "      <td>0</td>\n",
       "      <td>Shop 0</td>\n",
       "      <td>21873</td>\n",
       "      <td>0.42</td>\n",
       "    </tr>\n",
       "    <tr>\n",
       "      <th>3</th>\n",
       "      <td>541516</td>\n",
       "      <td>21873</td>\n",
       "      <td>2</td>\n",
       "      <td>2017-01-18 17:34:00</td>\n",
       "      <td>0</td>\n",
       "      <td>0</td>\n",
       "      <td>Shop 0</td>\n",
       "      <td>21873</td>\n",
       "      <td>0.42</td>\n",
       "    </tr>\n",
       "    <tr>\n",
       "      <th>4</th>\n",
       "      <td>541566</td>\n",
       "      <td>21873</td>\n",
       "      <td>35</td>\n",
       "      <td>2017-01-19 11:50:00</td>\n",
       "      <td>23401</td>\n",
       "      <td>1</td>\n",
       "      <td>Shop 22</td>\n",
       "      <td>21873</td>\n",
       "      <td>0.42</td>\n",
       "    </tr>\n",
       "    <tr>\n",
       "      <th>...</th>\n",
       "      <td>...</td>\n",
       "      <td>...</td>\n",
       "      <td>...</td>\n",
       "      <td>...</td>\n",
       "      <td>...</td>\n",
       "      <td>...</td>\n",
       "      <td>...</td>\n",
       "      <td>...</td>\n",
       "      <td>...</td>\n",
       "    </tr>\n",
       "    <tr>\n",
       "      <th>104297</th>\n",
       "      <td>538852</td>\n",
       "      <td>90058B</td>\n",
       "      <td>35</td>\n",
       "      <td>2016-12-14 13:33:00</td>\n",
       "      <td>23051</td>\n",
       "      <td>1</td>\n",
       "      <td>Shop 8</td>\n",
       "      <td>90058B</td>\n",
       "      <td>0.38</td>\n",
       "    </tr>\n",
       "    <tr>\n",
       "      <th>104298</th>\n",
       "      <td>539988</td>\n",
       "      <td>46138B</td>\n",
       "      <td>1</td>\n",
       "      <td>2016-12-23 16:06:00</td>\n",
       "      <td>23795</td>\n",
       "      <td>1</td>\n",
       "      <td>Shop 14</td>\n",
       "      <td>46138B</td>\n",
       "      <td>1.95</td>\n",
       "    </tr>\n",
       "    <tr>\n",
       "      <th>104299</th>\n",
       "      <td>537025</td>\n",
       "      <td>90053</td>\n",
       "      <td>0</td>\n",
       "      <td>2016-12-03 16:21:00</td>\n",
       "      <td>0</td>\n",
       "      <td>0</td>\n",
       "      <td>Shop 0</td>\n",
       "      <td>90053</td>\n",
       "      <td>2.55</td>\n",
       "    </tr>\n",
       "    <tr>\n",
       "      <th>104300</th>\n",
       "      <td>542731</td>\n",
       "      <td>17028J</td>\n",
       "      <td>5</td>\n",
       "      <td>2017-01-31 15:27:00</td>\n",
       "      <td>19279</td>\n",
       "      <td>0</td>\n",
       "      <td>Shop 0</td>\n",
       "      <td>17028J</td>\n",
       "      <td>0.42</td>\n",
       "    </tr>\n",
       "    <tr>\n",
       "      <th>104301</th>\n",
       "      <td>C540246</td>\n",
       "      <td>79320</td>\n",
       "      <td>2</td>\n",
       "      <td>2017-01-05 15:43:00</td>\n",
       "      <td>18760</td>\n",
       "      <td>0</td>\n",
       "      <td>Shop 19</td>\n",
       "      <td>79320</td>\n",
       "      <td>4.95</td>\n",
       "    </tr>\n",
       "  </tbody>\n",
       "</table>\n",
       "<p>101583 rows × 9 columns</p>\n",
       "</div>"
      ],
      "text/plain": [
       "       purchase_id item_id  quantity       purchase_date customer_id  \\\n",
       "0           538280   21873        11 2016-12-10 12:50:00       18427   \n",
       "1           541104   21873         0 2017-01-13 14:29:00           0   \n",
       "2           540418   21873         1 2017-01-07 11:04:00           0   \n",
       "3           541516   21873         2 2017-01-18 17:34:00           0   \n",
       "4           541566   21873        35 2017-01-19 11:50:00       23401   \n",
       "...            ...     ...       ...                 ...         ...   \n",
       "104297      538852  90058B        35 2016-12-14 13:33:00       23051   \n",
       "104298      539988  46138B         1 2016-12-23 16:06:00       23795   \n",
       "104299      537025   90053         0 2016-12-03 16:21:00           0   \n",
       "104300      542731  17028J         5 2017-01-31 15:27:00       19279   \n",
       "104301     C540246   79320         2 2017-01-05 15:43:00       18760   \n",
       "\n",
       "        loyalty_program  shop_id product_id  price_per_one  \n",
       "0                     0   Shop 3      21873           0.42  \n",
       "1                     0   Shop 0      21873           0.42  \n",
       "2                     0   Shop 0      21873           0.42  \n",
       "3                     0   Shop 0      21873           0.42  \n",
       "4                     1  Shop 22      21873           0.42  \n",
       "...                 ...      ...        ...            ...  \n",
       "104297                1   Shop 8     90058B           0.38  \n",
       "104298                1  Shop 14     46138B           1.95  \n",
       "104299                0   Shop 0      90053           2.55  \n",
       "104300                0   Shop 0     17028J           0.42  \n",
       "104301                0  Shop 19      79320           4.95  \n",
       "\n",
       "[101583 rows x 9 columns]"
      ]
     },
     "execution_count": 46,
     "metadata": {},
     "output_type": "execute_result"
    }
   ],
   "source": [
    "merged_df = merged_df.drop(filtered_data.index)\n",
    "merged_df"
   ]
  },
  {
   "cell_type": "markdown",
   "metadata": {},
   "source": [
    "Setelah menghapus data yang tidak relevan, dataset kita saat ini berjumlah 101583. Namun, sepertinya masih terdapat beberapa kondisi yang kurang informatif untuk analisis kita. Contohnya:\n",
    " - `price_per_one` bernilai 0 dengan `quantity` 0. Meskipun terdapat informasi lainnya, namun data ini menunjukkan bahwa tidak ada transaksi yang dilakukan.\n",
    " - `price_per_one` bernilai 0. Data ini tidak memenuhi kriteria karena harga per itemnya 0. Hal ini dapat terjadi karena beberapa alasan, seperti kesalahan input data atau karena barang yang dibeli tidak memiliki harga atau karena barang tersebut didapat secara gratis. Namun, tentu saja kita tidak dapat menggunakannya, karena meskipun terdapat informasi lainnya, harga barang bernilai 0 dapat mengacaukan analisis data, apalagi ketika kita ingin melihat revenue atau rata-rata pembelian(penjualan).\n",
    " - `customer_id` bernilai 0 (tidak diketahui). Kolom `customer_id` sebaiknya tidak bernilai 0 atau *unknown*, karena *customer_id* adalah nilai unik yang digunakan untuk mengidentifikasi pelanggan. Meskipun di tahap awal, kita masih mempertahankan data ini, sebaiknya data ini dihapus. Jika *customer_id* bernilai 0, maka berarti bahwa pelanggan tersebut tidak dapat diidentifikasi. Hal ini kemungkinan dapat mempersulit proses analisis data, misalnya jika kita ingin menghitung jumlah pembelian yang dilakukan oleh setiap pelanggan, kita tidak akan menghitung *customer_id* yang bernilai 0.\n",
    " \n",
    "Dengan mempertimbangkan kondisi di atas, maka kita akan menghapus data-data dengan kondisi yang sudah dijelaskan."
   ]
  },
  {
   "cell_type": "code",
   "execution_count": 47,
   "metadata": {},
   "outputs": [
    {
     "data": {
      "text/html": [
       "<div>\n",
       "<style scoped>\n",
       "    .dataframe tbody tr th:only-of-type {\n",
       "        vertical-align: middle;\n",
       "    }\n",
       "\n",
       "    .dataframe tbody tr th {\n",
       "        vertical-align: top;\n",
       "    }\n",
       "\n",
       "    .dataframe thead th {\n",
       "        text-align: right;\n",
       "    }\n",
       "</style>\n",
       "<table border=\"1\" class=\"dataframe\">\n",
       "  <thead>\n",
       "    <tr style=\"text-align: right;\">\n",
       "      <th></th>\n",
       "      <th>purchase_id</th>\n",
       "      <th>item_id</th>\n",
       "      <th>quantity</th>\n",
       "      <th>purchase_date</th>\n",
       "      <th>customer_id</th>\n",
       "      <th>loyalty_program</th>\n",
       "      <th>shop_id</th>\n",
       "      <th>product_id</th>\n",
       "      <th>price_per_one</th>\n",
       "    </tr>\n",
       "  </thead>\n",
       "  <tbody>\n",
       "    <tr>\n",
       "      <th>0</th>\n",
       "      <td>538280</td>\n",
       "      <td>21873</td>\n",
       "      <td>11</td>\n",
       "      <td>2016-12-10 12:50:00</td>\n",
       "      <td>18427</td>\n",
       "      <td>0</td>\n",
       "      <td>Shop 3</td>\n",
       "      <td>21873</td>\n",
       "      <td>0.42</td>\n",
       "    </tr>\n",
       "    <tr>\n",
       "      <th>4</th>\n",
       "      <td>541566</td>\n",
       "      <td>21873</td>\n",
       "      <td>35</td>\n",
       "      <td>2017-01-19 11:50:00</td>\n",
       "      <td>23401</td>\n",
       "      <td>1</td>\n",
       "      <td>Shop 22</td>\n",
       "      <td>21873</td>\n",
       "      <td>0.42</td>\n",
       "    </tr>\n",
       "    <tr>\n",
       "      <th>5</th>\n",
       "      <td>538843</td>\n",
       "      <td>21873</td>\n",
       "      <td>1</td>\n",
       "      <td>2016-12-14 13:18:00</td>\n",
       "      <td>21712</td>\n",
       "      <td>0</td>\n",
       "      <td>Shop 9</td>\n",
       "      <td>21873</td>\n",
       "      <td>0.42</td>\n",
       "    </tr>\n",
       "    <tr>\n",
       "      <th>6</th>\n",
       "      <td>540838</td>\n",
       "      <td>21873</td>\n",
       "      <td>11</td>\n",
       "      <td>2017-01-11 15:13:00</td>\n",
       "      <td>19541</td>\n",
       "      <td>0</td>\n",
       "      <td>Shop 4</td>\n",
       "      <td>21873</td>\n",
       "      <td>0.42</td>\n",
       "    </tr>\n",
       "    <tr>\n",
       "      <th>7</th>\n",
       "      <td>543592</td>\n",
       "      <td>21873</td>\n",
       "      <td>5</td>\n",
       "      <td>2017-02-10 11:57:00</td>\n",
       "      <td>22922</td>\n",
       "      <td>1</td>\n",
       "      <td>Shop 15</td>\n",
       "      <td>21873</td>\n",
       "      <td>0.42</td>\n",
       "    </tr>\n",
       "    <tr>\n",
       "      <th>...</th>\n",
       "      <td>...</td>\n",
       "      <td>...</td>\n",
       "      <td>...</td>\n",
       "      <td>...</td>\n",
       "      <td>...</td>\n",
       "      <td>...</td>\n",
       "      <td>...</td>\n",
       "      <td>...</td>\n",
       "      <td>...</td>\n",
       "    </tr>\n",
       "    <tr>\n",
       "      <th>104294</th>\n",
       "      <td>539009</td>\n",
       "      <td>79329</td>\n",
       "      <td>5</td>\n",
       "      <td>2016-12-15 13:24:00</td>\n",
       "      <td>18900</td>\n",
       "      <td>0</td>\n",
       "      <td>Shop 28</td>\n",
       "      <td>79329</td>\n",
       "      <td>1.65</td>\n",
       "    </tr>\n",
       "    <tr>\n",
       "      <th>104297</th>\n",
       "      <td>538852</td>\n",
       "      <td>90058B</td>\n",
       "      <td>35</td>\n",
       "      <td>2016-12-14 13:33:00</td>\n",
       "      <td>23051</td>\n",
       "      <td>1</td>\n",
       "      <td>Shop 8</td>\n",
       "      <td>90058B</td>\n",
       "      <td>0.38</td>\n",
       "    </tr>\n",
       "    <tr>\n",
       "      <th>104298</th>\n",
       "      <td>539988</td>\n",
       "      <td>46138B</td>\n",
       "      <td>1</td>\n",
       "      <td>2016-12-23 16:06:00</td>\n",
       "      <td>23795</td>\n",
       "      <td>1</td>\n",
       "      <td>Shop 14</td>\n",
       "      <td>46138B</td>\n",
       "      <td>1.95</td>\n",
       "    </tr>\n",
       "    <tr>\n",
       "      <th>104300</th>\n",
       "      <td>542731</td>\n",
       "      <td>17028J</td>\n",
       "      <td>5</td>\n",
       "      <td>2017-01-31 15:27:00</td>\n",
       "      <td>19279</td>\n",
       "      <td>0</td>\n",
       "      <td>Shop 0</td>\n",
       "      <td>17028J</td>\n",
       "      <td>0.42</td>\n",
       "    </tr>\n",
       "    <tr>\n",
       "      <th>104301</th>\n",
       "      <td>C540246</td>\n",
       "      <td>79320</td>\n",
       "      <td>2</td>\n",
       "      <td>2017-01-05 15:43:00</td>\n",
       "      <td>18760</td>\n",
       "      <td>0</td>\n",
       "      <td>Shop 19</td>\n",
       "      <td>79320</td>\n",
       "      <td>4.95</td>\n",
       "    </tr>\n",
       "  </tbody>\n",
       "</table>\n",
       "<p>46692 rows × 9 columns</p>\n",
       "</div>"
      ],
      "text/plain": [
       "       purchase_id item_id  quantity       purchase_date customer_id  \\\n",
       "0           538280   21873        11 2016-12-10 12:50:00       18427   \n",
       "4           541566   21873        35 2017-01-19 11:50:00       23401   \n",
       "5           538843   21873         1 2016-12-14 13:18:00       21712   \n",
       "6           540838   21873        11 2017-01-11 15:13:00       19541   \n",
       "7           543592   21873         5 2017-02-10 11:57:00       22922   \n",
       "...            ...     ...       ...                 ...         ...   \n",
       "104294      539009   79329         5 2016-12-15 13:24:00       18900   \n",
       "104297      538852  90058B        35 2016-12-14 13:33:00       23051   \n",
       "104298      539988  46138B         1 2016-12-23 16:06:00       23795   \n",
       "104300      542731  17028J         5 2017-01-31 15:27:00       19279   \n",
       "104301     C540246   79320         2 2017-01-05 15:43:00       18760   \n",
       "\n",
       "        loyalty_program  shop_id product_id  price_per_one  \n",
       "0                     0   Shop 3      21873           0.42  \n",
       "4                     1  Shop 22      21873           0.42  \n",
       "5                     0   Shop 9      21873           0.42  \n",
       "6                     0   Shop 4      21873           0.42  \n",
       "7                     1  Shop 15      21873           0.42  \n",
       "...                 ...      ...        ...            ...  \n",
       "104294                0  Shop 28      79329           1.65  \n",
       "104297                1   Shop 8     90058B           0.38  \n",
       "104298                1  Shop 14     46138B           1.95  \n",
       "104300                0   Shop 0     17028J           0.42  \n",
       "104301                0  Shop 19      79320           4.95  \n",
       "\n",
       "[46692 rows x 9 columns]"
      ]
     },
     "execution_count": 47,
     "metadata": {},
     "output_type": "execute_result"
    }
   ],
   "source": [
    "merged_filtered = merged_df.query('quantity != 0 and customer_id != 0 and price_per_one != 0')\n",
    "merged_filtered"
   ]
  },
  {
   "cell_type": "code",
   "execution_count": 48,
   "metadata": {},
   "outputs": [
    {
     "data": {
      "text/html": [
       "<div>\n",
       "<style scoped>\n",
       "    .dataframe tbody tr th:only-of-type {\n",
       "        vertical-align: middle;\n",
       "    }\n",
       "\n",
       "    .dataframe tbody tr th {\n",
       "        vertical-align: top;\n",
       "    }\n",
       "\n",
       "    .dataframe thead th {\n",
       "        text-align: right;\n",
       "    }\n",
       "</style>\n",
       "<table border=\"1\" class=\"dataframe\">\n",
       "  <thead>\n",
       "    <tr style=\"text-align: right;\">\n",
       "      <th></th>\n",
       "      <th>purchase_id</th>\n",
       "      <th>item_id</th>\n",
       "      <th>quantity</th>\n",
       "      <th>purchase_date</th>\n",
       "      <th>customer_id</th>\n",
       "      <th>loyalty_program</th>\n",
       "      <th>shop_id</th>\n",
       "      <th>product_id</th>\n",
       "      <th>price_per_one</th>\n",
       "    </tr>\n",
       "  </thead>\n",
       "  <tbody>\n",
       "  </tbody>\n",
       "</table>\n",
       "</div>"
      ],
      "text/plain": [
       "Empty DataFrame\n",
       "Columns: [purchase_id, item_id, quantity, purchase_date, customer_id, loyalty_program, shop_id, product_id, price_per_one]\n",
       "Index: []"
      ]
     },
     "execution_count": 48,
     "metadata": {},
     "output_type": "execute_result"
    }
   ],
   "source": [
    "merged_filtered[merged_filtered['quantity'] == 0]"
   ]
  },
  {
   "cell_type": "code",
   "execution_count": 49,
   "metadata": {},
   "outputs": [
    {
     "data": {
      "text/html": [
       "<div>\n",
       "<style scoped>\n",
       "    .dataframe tbody tr th:only-of-type {\n",
       "        vertical-align: middle;\n",
       "    }\n",
       "\n",
       "    .dataframe tbody tr th {\n",
       "        vertical-align: top;\n",
       "    }\n",
       "\n",
       "    .dataframe thead th {\n",
       "        text-align: right;\n",
       "    }\n",
       "</style>\n",
       "<table border=\"1\" class=\"dataframe\">\n",
       "  <thead>\n",
       "    <tr style=\"text-align: right;\">\n",
       "      <th></th>\n",
       "      <th>purchase_id</th>\n",
       "      <th>item_id</th>\n",
       "      <th>quantity</th>\n",
       "      <th>purchase_date</th>\n",
       "      <th>customer_id</th>\n",
       "      <th>loyalty_program</th>\n",
       "      <th>shop_id</th>\n",
       "      <th>product_id</th>\n",
       "      <th>price_per_one</th>\n",
       "    </tr>\n",
       "  </thead>\n",
       "  <tbody>\n",
       "  </tbody>\n",
       "</table>\n",
       "</div>"
      ],
      "text/plain": [
       "Empty DataFrame\n",
       "Columns: [purchase_id, item_id, quantity, purchase_date, customer_id, loyalty_program, shop_id, product_id, price_per_one]\n",
       "Index: []"
      ]
     },
     "execution_count": 49,
     "metadata": {},
     "output_type": "execute_result"
    }
   ],
   "source": [
    "merged_filtered[merged_filtered['customer_id'] == 0]"
   ]
  },
  {
   "cell_type": "code",
   "execution_count": 50,
   "metadata": {},
   "outputs": [
    {
     "data": {
      "text/html": [
       "<div>\n",
       "<style scoped>\n",
       "    .dataframe tbody tr th:only-of-type {\n",
       "        vertical-align: middle;\n",
       "    }\n",
       "\n",
       "    .dataframe tbody tr th {\n",
       "        vertical-align: top;\n",
       "    }\n",
       "\n",
       "    .dataframe thead th {\n",
       "        text-align: right;\n",
       "    }\n",
       "</style>\n",
       "<table border=\"1\" class=\"dataframe\">\n",
       "  <thead>\n",
       "    <tr style=\"text-align: right;\">\n",
       "      <th></th>\n",
       "      <th>purchase_id</th>\n",
       "      <th>item_id</th>\n",
       "      <th>quantity</th>\n",
       "      <th>purchase_date</th>\n",
       "      <th>customer_id</th>\n",
       "      <th>loyalty_program</th>\n",
       "      <th>shop_id</th>\n",
       "      <th>product_id</th>\n",
       "      <th>price_per_one</th>\n",
       "    </tr>\n",
       "  </thead>\n",
       "  <tbody>\n",
       "  </tbody>\n",
       "</table>\n",
       "</div>"
      ],
      "text/plain": [
       "Empty DataFrame\n",
       "Columns: [purchase_id, item_id, quantity, purchase_date, customer_id, loyalty_program, shop_id, product_id, price_per_one]\n",
       "Index: []"
      ]
     },
     "execution_count": 50,
     "metadata": {},
     "output_type": "execute_result"
    }
   ],
   "source": [
    "merged_filtered[merged_filtered['price_per_one'] == 0.00]"
   ]
  },
  {
   "cell_type": "code",
   "execution_count": 51,
   "metadata": {},
   "outputs": [
    {
     "data": {
      "text/plain": [
       "0    31644\n",
       "1    15048\n",
       "Name: loyalty_program, dtype: int64"
      ]
     },
     "execution_count": 51,
     "metadata": {},
     "output_type": "execute_result"
    }
   ],
   "source": [
    "merged_filtered['loyalty_program'].value_counts()"
   ]
  },
  {
   "cell_type": "code",
   "execution_count": 52,
   "metadata": {},
   "outputs": [
    {
     "data": {
      "text/plain": [
       "0"
      ]
     },
     "execution_count": 52,
     "metadata": {},
     "output_type": "execute_result"
    }
   ],
   "source": [
    "merged_filtered.duplicated().sum()"
   ]
  },
  {
   "cell_type": "code",
   "execution_count": 53,
   "metadata": {},
   "outputs": [
    {
     "name": "stdout",
     "output_type": "stream",
     "text": [
      "<class 'pandas.core.frame.DataFrame'>\n",
      "Int64Index: 46692 entries, 0 to 104301\n",
      "Data columns (total 9 columns):\n",
      " #   Column           Non-Null Count  Dtype         \n",
      "---  ------           --------------  -----         \n",
      " 0   purchase_id      46692 non-null  object        \n",
      " 1   item_id          46692 non-null  object        \n",
      " 2   quantity         46692 non-null  int64         \n",
      " 3   purchase_date    46692 non-null  datetime64[ns]\n",
      " 4   customer_id      46692 non-null  object        \n",
      " 5   loyalty_program  46692 non-null  int64         \n",
      " 6   shop_id          46692 non-null  object        \n",
      " 7   product_id       46692 non-null  object        \n",
      " 8   price_per_one    46692 non-null  float64       \n",
      "dtypes: datetime64[ns](1), float64(1), int64(2), object(5)\n",
      "memory usage: 3.6+ MB\n"
     ]
    }
   ],
   "source": [
    "merged_filtered.info()"
   ]
  },
  {
   "cell_type": "code",
   "execution_count": 54,
   "metadata": {},
   "outputs": [],
   "source": [
    "merged_filtered.to_csv('merged_filtered.csv', index=False)"
   ]
  },
  {
   "cell_type": "code",
   "execution_count": 55,
   "metadata": {},
   "outputs": [
    {
     "data": {
      "text/html": [
       "<a href='merged_filtered.csv' target='_blank'>merged_filtered.csv</a><br>"
      ],
      "text/plain": [
       "/home/jovyan/work/merged_filtered.csv"
      ]
     },
     "execution_count": 55,
     "metadata": {},
     "output_type": "execute_result"
    }
   ],
   "source": [
    "from IPython.display import FileLink\n",
    "\n",
    "# Membuat tautan untuk file CSV baru\n",
    "FileLink('merged_filtered.csv')"
   ]
  },
  {
   "cell_type": "markdown",
   "metadata": {},
   "source": [
    "Setelah menghapus sebagian data yang tidak digunakan, saat ini kita memiliki dataset hasil penggabungan kedua tabel dengan 46692 baris dan 9 kolom, tanpa ada nilai yang hilang, maupun bernilai 0 (kecuali kolom `loyalty_program` dimana nilai 0 pada kolom tersebut menunjukkan tipe *boolean*), dan tidak ada data terduplikasi.\n",
    "\n",
    "Sampel untuk masing-masing kelompok antara anggota program loyalitas dan non-loyalitas masih tetap tidak terdistribusi secara merata, dimana non anggota program (non-loyalitas) masih mendominasi. Meskipun data yang kita miliki saat ini hanya sekitar 45% saja dari data mentah (data awal yang belum difilter), namun data ini berisi informasi yang relevan dengan tujuan analisis kita. "
   ]
  },
  {
   "cell_type": "markdown",
   "metadata": {},
   "source": [
    "### Kesimpulan dan Langkah Selanjutnya"
   ]
  },
  {
   "cell_type": "markdown",
   "metadata": {},
   "source": [
    "Setelah melakukan pra-pemrosesan data, kita mendapat kesimpulan:\n",
    "\n",
    "1. Terdapat beberapa masalah pada gaya penulisan nama dan tipe data beberapa kolom, dan sudah diperbaiki. Gaya penulisan nama kolom pada dataset kita yang semula tidak mengikuti aturan, sudah diperbaiki sesuai dengan aturan gaya penulisan yang baik, yaitu: semua karakter harus menggunakan huruf kecil dan nama kolom yang terdiri dari dua kata menggunakan gaya penulisan *snake_case*. Untuk kolom-kolom dengan tipe data bermasalah adalah:\n",
    "     * kolom `purchasedate` pada tabel `retail` seharusnya tipe datanya adalah *datetime* bukan *object*\n",
    "     * kolom `CustomerID` pada tabel `retail` seharusnya tipe datanya adalah *object* bukan *float*\n",
    "     \n",
    "2. Terdapat beberapa masalah pada kedua tabel yang kita miliki, yaitu:\n",
    "    * Tabel `retail` memiliki nilai yang hilang cukup banyak di kolom `customer_id` (sebanyak 36210 atau sekitar 35% dari keseluruhan data).\n",
    "    * Kolom `quantity` pada tabel `retail` memiliki nilai anomali, dimana terdapat nilai minus sebanyak 2118 data (sekitar 2%). Seharusnya kolom ini tidak boleh bernilai minus dengan asumsi tidak mungkin ada pembelian jumlah minus.\n",
    "    * Pada kolom `price_per_one` pada tabel `product` terdapat nilai 0.00 sebanyak 382 data (sekitar 12%). Nilai 0.00 pada kolom yang menunjukkan harga barang sepertinya sedikit aneh.\n",
    "Langkah awal yang dilakukan adalah mengubah nilai yang hilang pada kolom `customer_id` menjadi 0 (nol) dengan asumsi mereka adalah pelanggan yang tidak diketahui. Namun setelah dianalisa lebih lanjut, terdapat 2719 data dari nilai yang hilang tersebut yang terjadi bersamaan dengan adanya nilai 0 pada kolom lain, seperti `quantity` dan `price_per_one`, dan diputuskan untuk menghapus data ini dengan pertimbangan bahwa tidak ada informasi tentang pelanggan yang melakukan pembelian karena tidak ada data mengenai jumlah pembeliannya.\n",
    "\n",
    "3. Selain itu, kita juga menghapus data-data dengan kondisi sebagai berikut:\n",
    " * `price_per_one` bernilai 0 dengan `quantity` 0. Meskipun terdapat informasi lainnya, namun data ini menunjukkan bahwa tidak ada transaksi yang dilakukan.\n",
    " * `price_per_one` bernilai 0. Data ini tidak memenuhi kriteria karena harga per itemnya 0. Harga barang bernilai 0 dapat mengacaukan analisis data, apalagi ketika kita ingin melihat revenue atau rata-rata pembelian(penjualan).\n",
    " * `customer_id` bernilai 0 (tidak diketahui). Kolom customer_id sebaiknya tidak bernilai 0 atau *unknown*, karena *customer_id* adalah nilai unik yang digunakan untuk mengidentifikasi pelanggan. Meskipun di tahap awal, kita masih mempertahankan data ini, sebaiknya data ini dihapus. Jika customer_id bernilai 0, maka berarti bahwa pelanggan tersebut tidak dapat diidentifikasi dan kemungkinan dapat mempersulit proses analisis data.\n",
    " \n",
    "4. Sebelum transformasi data, terdapat 1033 data yang terduplikasi pada tabel `retail` dan telah dihapus.\n",
    " \n",
    "5. Setelah menghapus sebagian data yang tidak digunakan, saat ini kita memiliki dataset hasil penggabungan kedua tabel dengan 46692 baris dan 9 kolom, tanpa ada nilai yang hilang, maupun bernilai 0 (kecuali kolom `loyalty_program` dimana nilai 0 pada kolom tersebut menunjukkan tipe *boolean*), dan tidak ada data terduplikasi. Meskipun data yang kita miliki saat ini hanya sekitar 45% saja dari data mentah (data awal yang belum difilter), namun data ini berisi informasi yang relevan dengan tujuan analisis kita. \n",
    " \n",
    "Selanjutnya, kita akan melakukan analisa data. \n",
    " "
   ]
  },
  {
   "cell_type": "markdown",
   "metadata": {},
   "source": [
    "## Analisa Data"
   ]
  },
  {
   "cell_type": "markdown",
   "metadata": {},
   "source": [
    "### Toko Cabang yang Terbesar"
   ]
  },
  {
   "cell_type": "code",
   "execution_count": 56,
   "metadata": {},
   "outputs": [
    {
     "data": {
      "text/plain": [
       "Shop 15    1775\n",
       "Shop 24    1754\n",
       "Shop 22    1748\n",
       "Shop 20    1716\n",
       "Shop 1     1710\n",
       "Shop 30    1670\n",
       "Shop 5     1661\n",
       "Shop 9     1654\n",
       "Shop 14    1610\n",
       "Shop 13    1609\n",
       "Shop 11    1603\n",
       "Shop 0     1598\n",
       "Shop 7     1582\n",
       "Shop 28    1550\n",
       "Shop 10    1550\n",
       "Shop 29    1550\n",
       "Shop 19    1526\n",
       "Shop 26    1521\n",
       "Shop 27    1517\n",
       "Shop 4     1504\n",
       "Shop 2     1486\n",
       "Shop 17    1483\n",
       "Shop 23    1433\n",
       "Shop 8     1394\n",
       "Shop 16    1364\n",
       "Shop 18    1306\n",
       "Shop 25    1292\n",
       "Shop 12    1203\n",
       "Shop 3     1137\n",
       "Shop 21    1114\n",
       "Shop 6     1072\n",
       "Name: shop_id, dtype: int64"
      ]
     },
     "execution_count": 56,
     "metadata": {},
     "output_type": "execute_result"
    }
   ],
   "source": [
    "merged_filtered['shop_id'].value_counts()"
   ]
  },
  {
   "cell_type": "markdown",
   "metadata": {},
   "source": [
    "Toko cabang yang terbesar, diartikan sebagai toko yang paling sering muncul pada dataset kita (memiliki baris paling banyak), yaitu **Shop 15**. Maka, kita akan mencoba melihat beberapa parameter pada toko cabang tersebut."
   ]
  },
  {
   "cell_type": "code",
   "execution_count": 57,
   "metadata": {},
   "outputs": [
    {
     "data": {
      "text/html": [
       "<div>\n",
       "<style scoped>\n",
       "    .dataframe tbody tr th:only-of-type {\n",
       "        vertical-align: middle;\n",
       "    }\n",
       "\n",
       "    .dataframe tbody tr th {\n",
       "        vertical-align: top;\n",
       "    }\n",
       "\n",
       "    .dataframe thead th {\n",
       "        text-align: right;\n",
       "    }\n",
       "</style>\n",
       "<table border=\"1\" class=\"dataframe\">\n",
       "  <thead>\n",
       "    <tr style=\"text-align: right;\">\n",
       "      <th></th>\n",
       "      <th>purchase_id</th>\n",
       "      <th>item_id</th>\n",
       "      <th>quantity</th>\n",
       "      <th>purchase_date</th>\n",
       "      <th>customer_id</th>\n",
       "      <th>loyalty_program</th>\n",
       "      <th>shop_id</th>\n",
       "      <th>product_id</th>\n",
       "      <th>price_per_one</th>\n",
       "    </tr>\n",
       "  </thead>\n",
       "  <tbody>\n",
       "    <tr>\n",
       "      <th>7</th>\n",
       "      <td>543592</td>\n",
       "      <td>21873</td>\n",
       "      <td>5</td>\n",
       "      <td>2017-02-10 11:57:00</td>\n",
       "      <td>22922</td>\n",
       "      <td>1</td>\n",
       "      <td>Shop 15</td>\n",
       "      <td>21873</td>\n",
       "      <td>0.42</td>\n",
       "    </tr>\n",
       "    <tr>\n",
       "      <th>23</th>\n",
       "      <td>537868</td>\n",
       "      <td>21873</td>\n",
       "      <td>23</td>\n",
       "      <td>2016-12-08 16:49:00</td>\n",
       "      <td>18112</td>\n",
       "      <td>0</td>\n",
       "      <td>Shop 15</td>\n",
       "      <td>21873</td>\n",
       "      <td>0.42</td>\n",
       "    </tr>\n",
       "    <tr>\n",
       "      <th>88</th>\n",
       "      <td>542360</td>\n",
       "      <td>22195</td>\n",
       "      <td>1</td>\n",
       "      <td>2017-01-27 12:40:00</td>\n",
       "      <td>20380</td>\n",
       "      <td>0</td>\n",
       "      <td>Shop 15</td>\n",
       "      <td>22195</td>\n",
       "      <td>1.65</td>\n",
       "    </tr>\n",
       "    <tr>\n",
       "      <th>132</th>\n",
       "      <td>540268</td>\n",
       "      <td>22195</td>\n",
       "      <td>11</td>\n",
       "      <td>2017-01-06 11:25:00</td>\n",
       "      <td>19137</td>\n",
       "      <td>0</td>\n",
       "      <td>Shop 15</td>\n",
       "      <td>22195</td>\n",
       "      <td>1.65</td>\n",
       "    </tr>\n",
       "    <tr>\n",
       "      <th>166</th>\n",
       "      <td>540951</td>\n",
       "      <td>22195</td>\n",
       "      <td>14</td>\n",
       "      <td>2017-01-12 13:10:00</td>\n",
       "      <td>18792</td>\n",
       "      <td>0</td>\n",
       "      <td>Shop 15</td>\n",
       "      <td>22195</td>\n",
       "      <td>1.65</td>\n",
       "    </tr>\n",
       "    <tr>\n",
       "      <th>...</th>\n",
       "      <td>...</td>\n",
       "      <td>...</td>\n",
       "      <td>...</td>\n",
       "      <td>...</td>\n",
       "      <td>...</td>\n",
       "      <td>...</td>\n",
       "      <td>...</td>\n",
       "      <td>...</td>\n",
       "      <td>...</td>\n",
       "    </tr>\n",
       "    <tr>\n",
       "      <th>103940</th>\n",
       "      <td>541984</td>\n",
       "      <td>21132</td>\n",
       "      <td>3</td>\n",
       "      <td>2017-01-24 15:48:00</td>\n",
       "      <td>18796</td>\n",
       "      <td>0</td>\n",
       "      <td>Shop 15</td>\n",
       "      <td>21132</td>\n",
       "      <td>4.25</td>\n",
       "    </tr>\n",
       "    <tr>\n",
       "      <th>103995</th>\n",
       "      <td>542398</td>\n",
       "      <td>90146</td>\n",
       "      <td>1</td>\n",
       "      <td>2017-01-27 15:36:00</td>\n",
       "      <td>18853</td>\n",
       "      <td>0</td>\n",
       "      <td>Shop 15</td>\n",
       "      <td>90146</td>\n",
       "      <td>7.50</td>\n",
       "    </tr>\n",
       "    <tr>\n",
       "      <th>104005</th>\n",
       "      <td>543809</td>\n",
       "      <td>44089C</td>\n",
       "      <td>7</td>\n",
       "      <td>2017-02-13 13:52:00</td>\n",
       "      <td>22774</td>\n",
       "      <td>1</td>\n",
       "      <td>Shop 15</td>\n",
       "      <td>44089C</td>\n",
       "      <td>0.42</td>\n",
       "    </tr>\n",
       "    <tr>\n",
       "      <th>104118</th>\n",
       "      <td>542398</td>\n",
       "      <td>90016A</td>\n",
       "      <td>2</td>\n",
       "      <td>2017-01-27 15:36:00</td>\n",
       "      <td>18853</td>\n",
       "      <td>0</td>\n",
       "      <td>Shop 15</td>\n",
       "      <td>90016A</td>\n",
       "      <td>8.32</td>\n",
       "    </tr>\n",
       "    <tr>\n",
       "      <th>104192</th>\n",
       "      <td>543809</td>\n",
       "      <td>44236</td>\n",
       "      <td>3</td>\n",
       "      <td>2017-02-13 13:52:00</td>\n",
       "      <td>22774</td>\n",
       "      <td>1</td>\n",
       "      <td>Shop 15</td>\n",
       "      <td>44236</td>\n",
       "      <td>4.65</td>\n",
       "    </tr>\n",
       "  </tbody>\n",
       "</table>\n",
       "<p>1775 rows × 9 columns</p>\n",
       "</div>"
      ],
      "text/plain": [
       "       purchase_id item_id  quantity       purchase_date customer_id  \\\n",
       "7           543592   21873         5 2017-02-10 11:57:00       22922   \n",
       "23          537868   21873        23 2016-12-08 16:49:00       18112   \n",
       "88          542360   22195         1 2017-01-27 12:40:00       20380   \n",
       "132         540268   22195        11 2017-01-06 11:25:00       19137   \n",
       "166         540951   22195        14 2017-01-12 13:10:00       18792   \n",
       "...            ...     ...       ...                 ...         ...   \n",
       "103940      541984   21132         3 2017-01-24 15:48:00       18796   \n",
       "103995      542398   90146         1 2017-01-27 15:36:00       18853   \n",
       "104005      543809  44089C         7 2017-02-13 13:52:00       22774   \n",
       "104118      542398  90016A         2 2017-01-27 15:36:00       18853   \n",
       "104192      543809   44236         3 2017-02-13 13:52:00       22774   \n",
       "\n",
       "        loyalty_program  shop_id product_id  price_per_one  \n",
       "7                     1  Shop 15      21873           0.42  \n",
       "23                    0  Shop 15      21873           0.42  \n",
       "88                    0  Shop 15      22195           1.65  \n",
       "132                   0  Shop 15      22195           1.65  \n",
       "166                   0  Shop 15      22195           1.65  \n",
       "...                 ...      ...        ...            ...  \n",
       "103940                0  Shop 15      21132           4.25  \n",
       "103995                0  Shop 15      90146           7.50  \n",
       "104005                1  Shop 15     44089C           0.42  \n",
       "104118                0  Shop 15     90016A           8.32  \n",
       "104192                1  Shop 15      44236           4.65  \n",
       "\n",
       "[1775 rows x 9 columns]"
      ]
     },
     "execution_count": 57,
     "metadata": {},
     "output_type": "execute_result"
    }
   ],
   "source": [
    "largest_store = merged_filtered[merged_filtered['shop_id'] == 'Shop 15']\n",
    "largest_store"
   ]
  },
  {
   "cell_type": "code",
   "execution_count": 119,
   "metadata": {},
   "outputs": [
    {
     "data": {
      "image/png": "[encoded data removed]",
      "text/plain": [
       "<Figure size 1296x432 with 1 Axes>"
      ]
     },
     "metadata": {
      "needs_background": "light"
     },
     "output_type": "display_data"
    }
   ],
   "source": [
    "shop_id_counts = merged_filtered['shop_id'].value_counts()\n",
    "\n",
    "plt.figure(figsize=(18, 6))\n",
    "plt.bar(shop_id_counts.index, shop_id_counts.values)\n",
    "\n",
    "for index, value in enumerate(shop_id_counts.values):\n",
    "    plt.text(index, value, str(value), ha='center', va='bottom')\n",
    "\n",
    "plt.xlabel('Shop ID')\n",
    "plt.ylabel('Number of Purchases')\n",
    "plt.title('Number of Purchases per Shop')\n",
    "plt.xticks(rotation=45, ha='right')\n",
    "\n",
    "plt.show()\n"
   ]
  },
  {
   "cell_type": "markdown",
   "metadata": {},
   "source": [
    "#### Jumlah Pelanggan Unik"
   ]
  },
  {
   "cell_type": "code",
   "execution_count": 58,
   "metadata": {
    "scrolled": true
   },
   "outputs": [
    {
     "data": {
      "text/plain": [
       "124"
      ]
     },
     "execution_count": 58,
     "metadata": {},
     "output_type": "execute_result"
    }
   ],
   "source": [
    "largest_store['customer_id'].nunique()"
   ]
  },
  {
   "cell_type": "markdown",
   "metadata": {},
   "source": [
    "Terdapat 124 pelanggan unik di **Shop 15**."
   ]
  },
  {
   "cell_type": "markdown",
   "metadata": {},
   "source": [
    "#### Besaran Rata-rata Pembelian"
   ]
  },
  {
   "cell_type": "code",
   "execution_count": 59,
   "metadata": {},
   "outputs": [
    {
     "name": "stderr",
     "output_type": "stream",
     "text": [
      "/tmp/ipykernel_27/3283502756.py:2: SettingWithCopyWarning: \n",
      "A value is trying to be set on a copy of a slice from a DataFrame.\n",
      "Try using .loc[row_indexer,col_indexer] = value instead\n",
      "\n",
      "See the caveats in the documentation: https://pandas.pydata.org/pandas-docs/stable/user_guide/indexing.html#returning-a-view-versus-a-copy\n",
      "  largest_store['total_price'] = largest_store['quantity'] * largest_store['price_per_one']\n"
     ]
    },
    {
     "data": {
      "text/html": [
       "<div>\n",
       "<style scoped>\n",
       "    .dataframe tbody tr th:only-of-type {\n",
       "        vertical-align: middle;\n",
       "    }\n",
       "\n",
       "    .dataframe tbody tr th {\n",
       "        vertical-align: top;\n",
       "    }\n",
       "\n",
       "    .dataframe thead th {\n",
       "        text-align: right;\n",
       "    }\n",
       "</style>\n",
       "<table border=\"1\" class=\"dataframe\">\n",
       "  <thead>\n",
       "    <tr style=\"text-align: right;\">\n",
       "      <th></th>\n",
       "      <th>total_price</th>\n",
       "    </tr>\n",
       "    <tr>\n",
       "      <th>customer_id</th>\n",
       "      <th></th>\n",
       "    </tr>\n",
       "  </thead>\n",
       "  <tbody>\n",
       "    <tr>\n",
       "      <th>18025</th>\n",
       "      <td>77182.560000</td>\n",
       "    </tr>\n",
       "    <tr>\n",
       "      <th>23129</th>\n",
       "      <td>2077.600000</td>\n",
       "    </tr>\n",
       "    <tr>\n",
       "      <th>18904</th>\n",
       "      <td>300.210000</td>\n",
       "    </tr>\n",
       "    <tr>\n",
       "      <th>19527</th>\n",
       "      <td>200.153333</td>\n",
       "    </tr>\n",
       "    <tr>\n",
       "      <th>21708</th>\n",
       "      <td>122.800000</td>\n",
       "    </tr>\n",
       "    <tr>\n",
       "      <th>...</th>\n",
       "      <td>...</td>\n",
       "    </tr>\n",
       "    <tr>\n",
       "      <th>23520</th>\n",
       "      <td>2.160000</td>\n",
       "    </tr>\n",
       "    <tr>\n",
       "      <th>23298</th>\n",
       "      <td>2.013103</td>\n",
       "    </tr>\n",
       "    <tr>\n",
       "      <th>23716</th>\n",
       "      <td>1.450000</td>\n",
       "    </tr>\n",
       "    <tr>\n",
       "      <th>22018</th>\n",
       "      <td>1.386667</td>\n",
       "    </tr>\n",
       "    <tr>\n",
       "      <th>21182</th>\n",
       "      <td>0.666667</td>\n",
       "    </tr>\n",
       "  </tbody>\n",
       "</table>\n",
       "<p>124 rows × 1 columns</p>\n",
       "</div>"
      ],
      "text/plain": [
       "              total_price\n",
       "customer_id              \n",
       "18025        77182.560000\n",
       "23129         2077.600000\n",
       "18904          300.210000\n",
       "19527          200.153333\n",
       "21708          122.800000\n",
       "...                   ...\n",
       "23520            2.160000\n",
       "23298            2.013103\n",
       "23716            1.450000\n",
       "22018            1.386667\n",
       "21182            0.666667\n",
       "\n",
       "[124 rows x 1 columns]"
      ]
     },
     "execution_count": 59,
     "metadata": {},
     "output_type": "execute_result"
    }
   ],
   "source": [
    "# Membuat kolom baru 'total_price' yang menghitung total harga pembelian untuk setiap baris\n",
    "largest_store['total_price'] = largest_store['quantity'] * largest_store['price_per_one']\n",
    "\n",
    "# Membuat pivot table untuk menghitung rata-rata total harga pembelian masing-masing customer unik\n",
    "largest_pivot = pd.pivot_table(largest_store, index ='customer_id', values = 'total_price', aggfunc = 'mean').sort_values(\n",
    "    by = 'total_price', ascending = False)\n",
    "\n",
    "largest_pivot"
   ]
  },
  {
   "cell_type": "code",
   "execution_count": 60,
   "metadata": {},
   "outputs": [
    {
     "data": {
      "image/png": "[encoded data removed]",
      "text/plain": [
       "<Figure size 720x432 with 1 Axes>"
      ]
     },
     "metadata": {
      "needs_background": "light"
     },
     "output_type": "display_data"
    }
   ],
   "source": [
    "plt.figure(figsize = (10, 6))\n",
    "plt.scatter(largest_pivot.index, largest_pivot['total_price'])\n",
    "\n",
    "plt.xlabel('customer_id')\n",
    "plt.ylabel('Average Total Purchase Price')\n",
    "\n",
    "plt.title('Average Total Purchase Price per Customer')\n",
    "plt.show()\n"
   ]
  },
  {
   "cell_type": "code",
   "execution_count": 61,
   "metadata": {
    "scrolled": false
   },
   "outputs": [
    {
     "data": {
      "image/png": "[encoded data removed]",
      "text/plain": [
       "<Figure size 720x432 with 1 Axes>"
      ]
     },
     "metadata": {
      "needs_background": "light"
     },
     "output_type": "display_data"
    }
   ],
   "source": [
    "plt.figure(figsize = (10, 6))\n",
    "plt.scatter(largest_pivot.index, largest_pivot['total_price'])\n",
    "\n",
    "plt.ylim(0,100)\n",
    "\n",
    "plt.xlabel('customer_id')\n",
    "plt.ylabel('Average Total Purchase Price')\n",
    "\n",
    "plt.title('Average Total Purchase Price per Customer')\n",
    "plt.show()\n"
   ]
  },
  {
   "cell_type": "markdown",
   "metadata": {},
   "source": [
    "Rata-rata pembelian berada di sekitar nilai \\$20\\. Hanya ada 1 nilai saja yang berada jauh di atas, yaitu dari *customer_id: 18025* dengan rata-rata pembelian mencapai \\$77000\\."
   ]
  },
  {
   "cell_type": "markdown",
   "metadata": {},
   "source": [
    "#### Rata-rata Item Dalam Keranjang"
   ]
  },
  {
   "cell_type": "code",
   "execution_count": 62,
   "metadata": {},
   "outputs": [
    {
     "data": {
      "text/html": [
       "<div>\n",
       "<style scoped>\n",
       "    .dataframe tbody tr th:only-of-type {\n",
       "        vertical-align: middle;\n",
       "    }\n",
       "\n",
       "    .dataframe tbody tr th {\n",
       "        vertical-align: top;\n",
       "    }\n",
       "\n",
       "    .dataframe thead th {\n",
       "        text-align: right;\n",
       "    }\n",
       "</style>\n",
       "<table border=\"1\" class=\"dataframe\">\n",
       "  <thead>\n",
       "    <tr style=\"text-align: right;\">\n",
       "      <th></th>\n",
       "      <th>quantity</th>\n",
       "    </tr>\n",
       "    <tr>\n",
       "      <th>customer_id</th>\n",
       "      <th></th>\n",
       "    </tr>\n",
       "  </thead>\n",
       "  <tbody>\n",
       "    <tr>\n",
       "      <th>18025</th>\n",
       "      <td>74214.000000</td>\n",
       "    </tr>\n",
       "    <tr>\n",
       "      <th>23129</th>\n",
       "      <td>1107.000000</td>\n",
       "    </tr>\n",
       "    <tr>\n",
       "      <th>19527</th>\n",
       "      <td>565.666667</td>\n",
       "    </tr>\n",
       "    <tr>\n",
       "      <th>18904</th>\n",
       "      <td>215.000000</td>\n",
       "    </tr>\n",
       "    <tr>\n",
       "      <th>21706</th>\n",
       "      <td>107.000000</td>\n",
       "    </tr>\n",
       "    <tr>\n",
       "      <th>...</th>\n",
       "      <td>...</td>\n",
       "    </tr>\n",
       "    <tr>\n",
       "      <th>22586</th>\n",
       "      <td>1.000000</td>\n",
       "    </tr>\n",
       "    <tr>\n",
       "      <th>21182</th>\n",
       "      <td>1.000000</td>\n",
       "    </tr>\n",
       "    <tr>\n",
       "      <th>22018</th>\n",
       "      <td>1.000000</td>\n",
       "    </tr>\n",
       "    <tr>\n",
       "      <th>23716</th>\n",
       "      <td>1.000000</td>\n",
       "    </tr>\n",
       "    <tr>\n",
       "      <th>20141</th>\n",
       "      <td>1.000000</td>\n",
       "    </tr>\n",
       "  </tbody>\n",
       "</table>\n",
       "<p>124 rows × 1 columns</p>\n",
       "</div>"
      ],
      "text/plain": [
       "                 quantity\n",
       "customer_id              \n",
       "18025        74214.000000\n",
       "23129         1107.000000\n",
       "19527          565.666667\n",
       "18904          215.000000\n",
       "21706          107.000000\n",
       "...                   ...\n",
       "22586            1.000000\n",
       "21182            1.000000\n",
       "22018            1.000000\n",
       "23716            1.000000\n",
       "20141            1.000000\n",
       "\n",
       "[124 rows x 1 columns]"
      ]
     },
     "execution_count": 62,
     "metadata": {},
     "output_type": "execute_result"
    }
   ],
   "source": [
    "avg_items_in_cart = pd.pivot_table(largest_store, index = 'customer_id', values = 'quantity', aggfunc = 'mean').sort_values(\n",
    "    by = 'quantity', ascending = False)\n",
    "avg_items_in_cart"
   ]
  },
  {
   "cell_type": "code",
   "execution_count": 63,
   "metadata": {},
   "outputs": [
    {
     "data": {
      "image/png": "[encoded data removed]",
      "text/plain": [
       "<Figure size 720x432 with 1 Axes>"
      ]
     },
     "metadata": {
      "needs_background": "light"
     },
     "output_type": "display_data"
    }
   ],
   "source": [
    "plt.figure(figsize=(10, 6))\n",
    "plt.scatter(avg_items_in_cart.index, avg_items_in_cart['quantity'])\n",
    "\n",
    "plt.ylim(0,100)\n",
    "\n",
    "plt.xlabel('customer_id')\n",
    "plt.ylabel('Average Items in Cart')\n",
    "\n",
    "plt.title('Average Items in Cart per Customer')\n",
    "plt.show()\n"
   ]
  },
  {
   "cell_type": "code",
   "execution_count": 64,
   "metadata": {},
   "outputs": [
    {
     "data": {
      "text/plain": [
       "(100717, 77711.75119120996)"
      ]
     },
     "execution_count": 64,
     "metadata": {},
     "output_type": "execute_result"
    }
   ],
   "source": [
    "largest_store['quantity'].sum(), avg_items_in_cart['quantity'].sum()"
   ]
  },
  {
   "cell_type": "markdown",
   "metadata": {},
   "source": [
    "Rata-rata jumlah item dalam keranjang untuk setiap pelanggan tidak lebih dari 20 item. Seperti yang kita ketahui sebelumnya, ada 1 pelanggan yang memang sepertinya melakukan pembelian dengan jumlah besar, yaitu *customer:18025* dengan jumlah 74000 item. Mungkin pelanggan tersebut membeli barang yang jumlahnya memang dibutuhkan sangat banyak seperti paku atau baut?"
   ]
  },
  {
   "cell_type": "markdown",
   "metadata": {},
   "source": [
    "#### Persentase Pelanggan Program Loyalty dan Non Program"
   ]
  },
  {
   "cell_type": "code",
   "execution_count": 65,
   "metadata": {},
   "outputs": [
    {
     "data": {
      "text/plain": [
       "1775"
      ]
     },
     "execution_count": 65,
     "metadata": {},
     "output_type": "execute_result"
    }
   ],
   "source": [
    "largest_store['purchase_id'].count()"
   ]
  },
  {
   "cell_type": "code",
   "execution_count": 66,
   "metadata": {},
   "outputs": [
    {
     "name": "stdout",
     "output_type": "stream",
     "text": [
      "Percentage of Customers Members of the Loyalty Program: 28.507042253521124 %\n",
      "Percentage of Customers Non Loyalty Program Members: 71.49295774647887 %\n"
     ]
    }
   ],
   "source": [
    "# Menghitung jumlah pelanggan dalam setiap kategori\n",
    "loyalty_counts = largest_store['loyalty_program'].value_counts()\n",
    "\n",
    "# Menghitung persentase pelanggan yang merupakan anggota program loyalitas dan bukan\n",
    "loyalty_percentage = loyalty_counts / loyalty_counts.sum() * 100\n",
    "\n",
    "# Menampilkan hasil\n",
    "print(\"Percentage of Customers Members of the Loyalty Program:\", loyalty_percentage[1], \"%\")\n",
    "print(\"Percentage of Customers Non Loyalty Program Members:\", loyalty_percentage[0], \"%\")\n"
   ]
  },
  {
   "cell_type": "code",
   "execution_count": 67,
   "metadata": {},
   "outputs": [
    {
     "data": {
      "image/png": "[encoded data removed]",
      "text/plain": [
       "<Figure size 576x576 with 1 Axes>"
      ]
     },
     "metadata": {},
     "output_type": "display_data"
    }
   ],
   "source": [
    "plt.figure(figsize = (8, 8))\n",
    "plt.pie(loyalty_counts, labels = ['Non Member', 'Member'], startangle = 90)\n",
    "\n",
    "plt.gca().set_aspect('equal')\n",
    "plt.text(-0.6, -0.3, f\"{loyalty_counts[0]} ({loyalty_counts[0] / loyalty_counts.sum() * 100:.1f}%)\", fontsize = 12, color = 'white')\n",
    "plt.text(0.2, 0.2, f\"{loyalty_counts[1]} ({loyalty_counts[1] / loyalty_counts.sum() * 100:.1f}%)\", fontsize = 12)\n",
    "\n",
    "plt.title('Percentage of Customers Members of the Loyalty Program at Shop 15')\n",
    "plt.show()"
   ]
  },
  {
   "cell_type": "markdown",
   "metadata": {},
   "source": [
    "Dari 1775 transaksi di **Shop 15**, 71.5% merupakan transaksi yang dilakukan oleh pelanggan non anggota program loyalty, sedangkan sisanya sekitar 28.5% adalah transaksi yang dilakukan oleh pelanggan anggota program loyalty toko."
   ]
  },
  {
   "cell_type": "markdown",
   "metadata": {},
   "source": [
    "#### Persentase Pelanggan yang Melakukan Pembelian Berulang"
   ]
  },
  {
   "cell_type": "code",
   "execution_count": 68,
   "metadata": {},
   "outputs": [],
   "source": [
    "transaction_counts = largest_store['customer_id'].value_counts()"
   ]
  },
  {
   "cell_type": "code",
   "execution_count": 69,
   "metadata": {},
   "outputs": [],
   "source": [
    "repeat_customer_count = len(transaction_counts[transaction_counts > 1])"
   ]
  },
  {
   "cell_type": "code",
   "execution_count": 70,
   "metadata": {},
   "outputs": [
    {
     "data": {
      "text/plain": [
       "88.70967741935483"
      ]
     },
     "execution_count": 70,
     "metadata": {},
     "output_type": "execute_result"
    }
   ],
   "source": [
    "repeat_customer_percentage = (repeat_customer_count / len(largest_store['customer_id'].unique())) * 100\n",
    "repeat_customer_percentage"
   ]
  },
  {
   "cell_type": "code",
   "execution_count": 71,
   "metadata": {},
   "outputs": [
    {
     "data": {
      "image/png": "[encoded data removed]",
      "text/plain": [
       "<Figure size 576x576 with 1 Axes>"
      ]
     },
     "metadata": {},
     "output_type": "display_data"
    }
   ],
   "source": [
    "non_repeat_customer_count = len(largest_store['customer_id'].unique()) - repeat_customer_count\n",
    "\n",
    "plt.figure(figsize = (8, 8))\n",
    "plt.pie([repeat_customer_count, non_repeat_customer_count], labels = ['Return', 'Not Return'], \n",
    "        autopct = '%1.1f%%', startangle = 90)\n",
    "\n",
    "plt.title('Percentage of Customer Retention')\n",
    "plt.show()\n"
   ]
  },
  {
   "cell_type": "markdown",
   "metadata": {},
   "source": [
    "Dari grafik visualisasi di atas, kita dapat melihat bahwa ada 88.7% pelanggan yang melakukan pembelian kembali di **Shop 15**, dan sisanya 11.3% tidak kembali. Ternyata meskipun tidak banyak pelanggan yang menjadi anggota program loyalitas toko, namun retensi pelanggan masih cukup tinggi."
   ]
  },
  {
   "cell_type": "markdown",
   "metadata": {},
   "source": [
    "#### Total Penjualan"
   ]
  },
  {
   "cell_type": "code",
   "execution_count": 72,
   "metadata": {},
   "outputs": [
    {
     "name": "stderr",
     "output_type": "stream",
     "text": [
      "/tmp/ipykernel_27/2617459008.py:2: SettingWithCopyWarning: \n",
      "A value is trying to be set on a copy of a slice from a DataFrame.\n",
      "Try using .loc[row_indexer,col_indexer] = value instead\n",
      "\n",
      "See the caveats in the documentation: https://pandas.pydata.org/pandas-docs/stable/user_guide/indexing.html#returning-a-view-versus-a-copy\n",
      "  largest_store['total_sales'] = largest_store['total_price']\n",
      "/opt/conda/lib/python3.9/site-packages/pandas/core/indexing.py:1676: SettingWithCopyWarning: \n",
      "A value is trying to be set on a copy of a slice from a DataFrame.\n",
      "Try using .loc[row_indexer,col_indexer] = value instead\n",
      "\n",
      "See the caveats in the documentation: https://pandas.pydata.org/pandas-docs/stable/user_guide/indexing.html#returning-a-view-versus-a-copy\n",
      "  self._setitem_single_column(ilocs[0], value, pi)\n"
     ]
    },
    {
     "data": {
      "text/html": [
       "<div>\n",
       "<style scoped>\n",
       "    .dataframe tbody tr th:only-of-type {\n",
       "        vertical-align: middle;\n",
       "    }\n",
       "\n",
       "    .dataframe tbody tr th {\n",
       "        vertical-align: top;\n",
       "    }\n",
       "\n",
       "    .dataframe thead th {\n",
       "        text-align: right;\n",
       "    }\n",
       "</style>\n",
       "<table border=\"1\" class=\"dataframe\">\n",
       "  <thead>\n",
       "    <tr style=\"text-align: right;\">\n",
       "      <th></th>\n",
       "      <th>purchase_id</th>\n",
       "      <th>item_id</th>\n",
       "      <th>quantity</th>\n",
       "      <th>purchase_date</th>\n",
       "      <th>customer_id</th>\n",
       "      <th>loyalty_program</th>\n",
       "      <th>shop_id</th>\n",
       "      <th>product_id</th>\n",
       "      <th>price_per_one</th>\n",
       "      <th>total_price</th>\n",
       "      <th>total_sales</th>\n",
       "    </tr>\n",
       "  </thead>\n",
       "  <tbody>\n",
       "    <tr>\n",
       "      <th>7</th>\n",
       "      <td>543592</td>\n",
       "      <td>21873</td>\n",
       "      <td>5</td>\n",
       "      <td>2017-02-10 11:57:00</td>\n",
       "      <td>22922</td>\n",
       "      <td>1</td>\n",
       "      <td>Shop 15</td>\n",
       "      <td>21873</td>\n",
       "      <td>0.42</td>\n",
       "      <td>2.10</td>\n",
       "      <td>22.10</td>\n",
       "    </tr>\n",
       "    <tr>\n",
       "      <th>23</th>\n",
       "      <td>537868</td>\n",
       "      <td>21873</td>\n",
       "      <td>23</td>\n",
       "      <td>2016-12-08 16:49:00</td>\n",
       "      <td>18112</td>\n",
       "      <td>0</td>\n",
       "      <td>Shop 15</td>\n",
       "      <td>21873</td>\n",
       "      <td>0.42</td>\n",
       "      <td>9.66</td>\n",
       "      <td>9.66</td>\n",
       "    </tr>\n",
       "    <tr>\n",
       "      <th>88</th>\n",
       "      <td>542360</td>\n",
       "      <td>22195</td>\n",
       "      <td>1</td>\n",
       "      <td>2017-01-27 12:40:00</td>\n",
       "      <td>20380</td>\n",
       "      <td>0</td>\n",
       "      <td>Shop 15</td>\n",
       "      <td>22195</td>\n",
       "      <td>1.65</td>\n",
       "      <td>1.65</td>\n",
       "      <td>1.65</td>\n",
       "    </tr>\n",
       "    <tr>\n",
       "      <th>132</th>\n",
       "      <td>540268</td>\n",
       "      <td>22195</td>\n",
       "      <td>11</td>\n",
       "      <td>2017-01-06 11:25:00</td>\n",
       "      <td>19137</td>\n",
       "      <td>0</td>\n",
       "      <td>Shop 15</td>\n",
       "      <td>22195</td>\n",
       "      <td>1.65</td>\n",
       "      <td>18.15</td>\n",
       "      <td>18.15</td>\n",
       "    </tr>\n",
       "    <tr>\n",
       "      <th>166</th>\n",
       "      <td>540951</td>\n",
       "      <td>22195</td>\n",
       "      <td>14</td>\n",
       "      <td>2017-01-12 13:10:00</td>\n",
       "      <td>18792</td>\n",
       "      <td>0</td>\n",
       "      <td>Shop 15</td>\n",
       "      <td>22195</td>\n",
       "      <td>1.65</td>\n",
       "      <td>23.10</td>\n",
       "      <td>23.10</td>\n",
       "    </tr>\n",
       "    <tr>\n",
       "      <th>...</th>\n",
       "      <td>...</td>\n",
       "      <td>...</td>\n",
       "      <td>...</td>\n",
       "      <td>...</td>\n",
       "      <td>...</td>\n",
       "      <td>...</td>\n",
       "      <td>...</td>\n",
       "      <td>...</td>\n",
       "      <td>...</td>\n",
       "      <td>...</td>\n",
       "      <td>...</td>\n",
       "    </tr>\n",
       "    <tr>\n",
       "      <th>103940</th>\n",
       "      <td>541984</td>\n",
       "      <td>21132</td>\n",
       "      <td>3</td>\n",
       "      <td>2017-01-24 15:48:00</td>\n",
       "      <td>18796</td>\n",
       "      <td>0</td>\n",
       "      <td>Shop 15</td>\n",
       "      <td>21132</td>\n",
       "      <td>4.25</td>\n",
       "      <td>12.75</td>\n",
       "      <td>12.75</td>\n",
       "    </tr>\n",
       "    <tr>\n",
       "      <th>103995</th>\n",
       "      <td>542398</td>\n",
       "      <td>90146</td>\n",
       "      <td>1</td>\n",
       "      <td>2017-01-27 15:36:00</td>\n",
       "      <td>18853</td>\n",
       "      <td>0</td>\n",
       "      <td>Shop 15</td>\n",
       "      <td>90146</td>\n",
       "      <td>7.50</td>\n",
       "      <td>7.50</td>\n",
       "      <td>7.50</td>\n",
       "    </tr>\n",
       "    <tr>\n",
       "      <th>104005</th>\n",
       "      <td>543809</td>\n",
       "      <td>44089C</td>\n",
       "      <td>7</td>\n",
       "      <td>2017-02-13 13:52:00</td>\n",
       "      <td>22774</td>\n",
       "      <td>1</td>\n",
       "      <td>Shop 15</td>\n",
       "      <td>44089C</td>\n",
       "      <td>0.42</td>\n",
       "      <td>2.94</td>\n",
       "      <td>22.94</td>\n",
       "    </tr>\n",
       "    <tr>\n",
       "      <th>104118</th>\n",
       "      <td>542398</td>\n",
       "      <td>90016A</td>\n",
       "      <td>2</td>\n",
       "      <td>2017-01-27 15:36:00</td>\n",
       "      <td>18853</td>\n",
       "      <td>0</td>\n",
       "      <td>Shop 15</td>\n",
       "      <td>90016A</td>\n",
       "      <td>8.32</td>\n",
       "      <td>16.64</td>\n",
       "      <td>16.64</td>\n",
       "    </tr>\n",
       "    <tr>\n",
       "      <th>104192</th>\n",
       "      <td>543809</td>\n",
       "      <td>44236</td>\n",
       "      <td>3</td>\n",
       "      <td>2017-02-13 13:52:00</td>\n",
       "      <td>22774</td>\n",
       "      <td>1</td>\n",
       "      <td>Shop 15</td>\n",
       "      <td>44236</td>\n",
       "      <td>4.65</td>\n",
       "      <td>13.95</td>\n",
       "      <td>33.95</td>\n",
       "    </tr>\n",
       "  </tbody>\n",
       "</table>\n",
       "<p>1775 rows × 11 columns</p>\n",
       "</div>"
      ],
      "text/plain": [
       "       purchase_id item_id  quantity       purchase_date customer_id  \\\n",
       "7           543592   21873         5 2017-02-10 11:57:00       22922   \n",
       "23          537868   21873        23 2016-12-08 16:49:00       18112   \n",
       "88          542360   22195         1 2017-01-27 12:40:00       20380   \n",
       "132         540268   22195        11 2017-01-06 11:25:00       19137   \n",
       "166         540951   22195        14 2017-01-12 13:10:00       18792   \n",
       "...            ...     ...       ...                 ...         ...   \n",
       "103940      541984   21132         3 2017-01-24 15:48:00       18796   \n",
       "103995      542398   90146         1 2017-01-27 15:36:00       18853   \n",
       "104005      543809  44089C         7 2017-02-13 13:52:00       22774   \n",
       "104118      542398  90016A         2 2017-01-27 15:36:00       18853   \n",
       "104192      543809   44236         3 2017-02-13 13:52:00       22774   \n",
       "\n",
       "        loyalty_program  shop_id product_id  price_per_one  total_price  \\\n",
       "7                     1  Shop 15      21873           0.42         2.10   \n",
       "23                    0  Shop 15      21873           0.42         9.66   \n",
       "88                    0  Shop 15      22195           1.65         1.65   \n",
       "132                   0  Shop 15      22195           1.65        18.15   \n",
       "166                   0  Shop 15      22195           1.65        23.10   \n",
       "...                 ...      ...        ...            ...          ...   \n",
       "103940                0  Shop 15      21132           4.25        12.75   \n",
       "103995                0  Shop 15      90146           7.50         7.50   \n",
       "104005                1  Shop 15     44089C           0.42         2.94   \n",
       "104118                0  Shop 15     90016A           8.32        16.64   \n",
       "104192                1  Shop 15      44236           4.65        13.95   \n",
       "\n",
       "        total_sales  \n",
       "7             22.10  \n",
       "23             9.66  \n",
       "88             1.65  \n",
       "132           18.15  \n",
       "166           23.10  \n",
       "...             ...  \n",
       "103940        12.75  \n",
       "103995         7.50  \n",
       "104005        22.94  \n",
       "104118        16.64  \n",
       "104192        33.95  \n",
       "\n",
       "[1775 rows x 11 columns]"
      ]
     },
     "execution_count": 72,
     "metadata": {},
     "output_type": "execute_result"
    }
   ],
   "source": [
    "# Menghitung total penjualan setiap toko\n",
    "largest_store['total_sales'] = largest_store['total_price']\n",
    "largest_store.loc[largest_store['loyalty_program'] == 1, 'total_sales'] += 20\n",
    "largest_store"
   ]
  },
  {
   "cell_type": "code",
   "execution_count": 73,
   "metadata": {},
   "outputs": [
    {
     "data": {
      "text/plain": [
       "122955.53"
      ]
     },
     "execution_count": 73,
     "metadata": {},
     "output_type": "execute_result"
    }
   ],
   "source": [
    "largest_store['total_sales'].sum()"
   ]
  },
  {
   "cell_type": "code",
   "execution_count": 74,
   "metadata": {},
   "outputs": [
    {
     "data": {
      "text/plain": [
       "count     506.000000\n",
       "mean       37.274980\n",
       "std       130.680496\n",
       "min        20.220000\n",
       "25%        22.550000\n",
       "50%        25.680000\n",
       "75%        30.425000\n",
       "max      2210.450000\n",
       "Name: total_sales, dtype: float64"
      ]
     },
     "execution_count": 74,
     "metadata": {},
     "output_type": "execute_result"
    }
   ],
   "source": [
    "largest_store.loc[largest_store['loyalty_program'] == 1]['total_sales'].describe()"
   ]
  },
  {
   "cell_type": "code",
   "execution_count": 75,
   "metadata": {},
   "outputs": [
    {
     "data": {
      "text/plain": [
       "count     1269.000000\n",
       "mean        82.028676\n",
       "std       2166.361377\n",
       "min          0.190000\n",
       "25%          7.470000\n",
       "50%         11.660000\n",
       "75%         19.550000\n",
       "max      77182.560000\n",
       "Name: total_sales, dtype: float64"
      ]
     },
     "execution_count": 75,
     "metadata": {},
     "output_type": "execute_result"
    }
   ],
   "source": [
    "largest_store.loc[largest_store['loyalty_program'] == 0]['total_sales'].describe()"
   ]
  },
  {
   "cell_type": "code",
   "execution_count": 76,
   "metadata": {},
   "outputs": [
    {
     "data": {
      "image/png": "[encoded data removed]",
      "text/plain": [
       "<Figure size 864x576 with 1 Axes>"
      ]
     },
     "metadata": {
      "needs_background": "light"
     },
     "output_type": "display_data"
    }
   ],
   "source": [
    "plt.figure(figsize=(12, 8))\n",
    "plt.scatter(largest_store.index, largest_store['total_sales'])\n",
    "\n",
    "plt.ylim(0,100)\n",
    "\n",
    "plt.xlabel('customer')\n",
    "plt.ylabel('Total Sales')\n",
    "\n",
    "plt.title('Total Sales per Customer SHOP 15')\n",
    "plt.show()"
   ]
  },
  {
   "cell_type": "markdown",
   "metadata": {},
   "source": [
    "Kita mencoba menghitung total penjualan dari **Shop 15** dimana total penjualan ini merupakan hasil pendapatan dari penjualan barang/item di toko, serta dari penjualan *member* program loyalitas toko. Hasilnya, kebanyakan pelanggan mengeluarkan uang tidak sampai \\$40 untuk setiap transaksi. Selain itu, jika dibandingkan pendapatan antara transaksi dengan pelanggan anggota program loyalitas dan yang bukan, kita lebih banyak mendapat keuntungan dari yang bukan anggota. Hal ini sejalan dengan parameter sebelumnya yang kita hitung dimana memang tidak banyak anggota program loyalitas di **Shop 15**. Mungkinkah program loyalitas tersebut tidak populer sehingga orang tidak tertarik? Atau karena harganya terlalu mahal? Atau bisa juga tidak banyak pelanggan yang mengetahui mengenai program loyalitas toko tersebut?\n",
    "\n",
    "Secara total, toko cabang **Shop 15** mendapatkan total penjualan sebesar \\$123000\\."
   ]
  },
  {
   "cell_type": "markdown",
   "metadata": {},
   "source": [
    "### Menghitung Parameter untuk Toko Cabang Selain Cabang Terbesar"
   ]
  },
  {
   "cell_type": "markdown",
   "metadata": {},
   "source": [
    "Setelah melihat beberapa metrik penjualan untuk toko cabang **Shop 15** sebagai toko cabang terbesar, maka sekarang kita juga perlu melakukan analisa terhadap toko cabang lainnya."
   ]
  },
  {
   "cell_type": "code",
   "execution_count": 77,
   "metadata": {},
   "outputs": [
    {
     "data": {
      "text/html": [
       "<div>\n",
       "<style scoped>\n",
       "    .dataframe tbody tr th:only-of-type {\n",
       "        vertical-align: middle;\n",
       "    }\n",
       "\n",
       "    .dataframe tbody tr th {\n",
       "        vertical-align: top;\n",
       "    }\n",
       "\n",
       "    .dataframe thead th {\n",
       "        text-align: right;\n",
       "    }\n",
       "</style>\n",
       "<table border=\"1\" class=\"dataframe\">\n",
       "  <thead>\n",
       "    <tr style=\"text-align: right;\">\n",
       "      <th></th>\n",
       "      <th>purchase_id</th>\n",
       "      <th>item_id</th>\n",
       "      <th>quantity</th>\n",
       "      <th>purchase_date</th>\n",
       "      <th>customer_id</th>\n",
       "      <th>loyalty_program</th>\n",
       "      <th>shop_id</th>\n",
       "      <th>product_id</th>\n",
       "      <th>price_per_one</th>\n",
       "    </tr>\n",
       "  </thead>\n",
       "  <tbody>\n",
       "    <tr>\n",
       "      <th>0</th>\n",
       "      <td>538280</td>\n",
       "      <td>21873</td>\n",
       "      <td>11</td>\n",
       "      <td>2016-12-10 12:50:00</td>\n",
       "      <td>18427</td>\n",
       "      <td>0</td>\n",
       "      <td>Shop 3</td>\n",
       "      <td>21873</td>\n",
       "      <td>0.42</td>\n",
       "    </tr>\n",
       "    <tr>\n",
       "      <th>4</th>\n",
       "      <td>541566</td>\n",
       "      <td>21873</td>\n",
       "      <td>35</td>\n",
       "      <td>2017-01-19 11:50:00</td>\n",
       "      <td>23401</td>\n",
       "      <td>1</td>\n",
       "      <td>Shop 22</td>\n",
       "      <td>21873</td>\n",
       "      <td>0.42</td>\n",
       "    </tr>\n",
       "    <tr>\n",
       "      <th>5</th>\n",
       "      <td>538843</td>\n",
       "      <td>21873</td>\n",
       "      <td>1</td>\n",
       "      <td>2016-12-14 13:18:00</td>\n",
       "      <td>21712</td>\n",
       "      <td>0</td>\n",
       "      <td>Shop 9</td>\n",
       "      <td>21873</td>\n",
       "      <td>0.42</td>\n",
       "    </tr>\n",
       "    <tr>\n",
       "      <th>6</th>\n",
       "      <td>540838</td>\n",
       "      <td>21873</td>\n",
       "      <td>11</td>\n",
       "      <td>2017-01-11 15:13:00</td>\n",
       "      <td>19541</td>\n",
       "      <td>0</td>\n",
       "      <td>Shop 4</td>\n",
       "      <td>21873</td>\n",
       "      <td>0.42</td>\n",
       "    </tr>\n",
       "    <tr>\n",
       "      <th>8</th>\n",
       "      <td>544651</td>\n",
       "      <td>21873</td>\n",
       "      <td>71</td>\n",
       "      <td>2017-02-22 12:51:00</td>\n",
       "      <td>19373</td>\n",
       "      <td>0</td>\n",
       "      <td>Shop 17</td>\n",
       "      <td>21873</td>\n",
       "      <td>0.42</td>\n",
       "    </tr>\n",
       "    <tr>\n",
       "      <th>...</th>\n",
       "      <td>...</td>\n",
       "      <td>...</td>\n",
       "      <td>...</td>\n",
       "      <td>...</td>\n",
       "      <td>...</td>\n",
       "      <td>...</td>\n",
       "      <td>...</td>\n",
       "      <td>...</td>\n",
       "      <td>...</td>\n",
       "    </tr>\n",
       "    <tr>\n",
       "      <th>104294</th>\n",
       "      <td>539009</td>\n",
       "      <td>79329</td>\n",
       "      <td>5</td>\n",
       "      <td>2016-12-15 13:24:00</td>\n",
       "      <td>18900</td>\n",
       "      <td>0</td>\n",
       "      <td>Shop 28</td>\n",
       "      <td>79329</td>\n",
       "      <td>1.65</td>\n",
       "    </tr>\n",
       "    <tr>\n",
       "      <th>104297</th>\n",
       "      <td>538852</td>\n",
       "      <td>90058B</td>\n",
       "      <td>35</td>\n",
       "      <td>2016-12-14 13:33:00</td>\n",
       "      <td>23051</td>\n",
       "      <td>1</td>\n",
       "      <td>Shop 8</td>\n",
       "      <td>90058B</td>\n",
       "      <td>0.38</td>\n",
       "    </tr>\n",
       "    <tr>\n",
       "      <th>104298</th>\n",
       "      <td>539988</td>\n",
       "      <td>46138B</td>\n",
       "      <td>1</td>\n",
       "      <td>2016-12-23 16:06:00</td>\n",
       "      <td>23795</td>\n",
       "      <td>1</td>\n",
       "      <td>Shop 14</td>\n",
       "      <td>46138B</td>\n",
       "      <td>1.95</td>\n",
       "    </tr>\n",
       "    <tr>\n",
       "      <th>104300</th>\n",
       "      <td>542731</td>\n",
       "      <td>17028J</td>\n",
       "      <td>5</td>\n",
       "      <td>2017-01-31 15:27:00</td>\n",
       "      <td>19279</td>\n",
       "      <td>0</td>\n",
       "      <td>Shop 0</td>\n",
       "      <td>17028J</td>\n",
       "      <td>0.42</td>\n",
       "    </tr>\n",
       "    <tr>\n",
       "      <th>104301</th>\n",
       "      <td>C540246</td>\n",
       "      <td>79320</td>\n",
       "      <td>2</td>\n",
       "      <td>2017-01-05 15:43:00</td>\n",
       "      <td>18760</td>\n",
       "      <td>0</td>\n",
       "      <td>Shop 19</td>\n",
       "      <td>79320</td>\n",
       "      <td>4.95</td>\n",
       "    </tr>\n",
       "  </tbody>\n",
       "</table>\n",
       "<p>44917 rows × 9 columns</p>\n",
       "</div>"
      ],
      "text/plain": [
       "       purchase_id item_id  quantity       purchase_date customer_id  \\\n",
       "0           538280   21873        11 2016-12-10 12:50:00       18427   \n",
       "4           541566   21873        35 2017-01-19 11:50:00       23401   \n",
       "5           538843   21873         1 2016-12-14 13:18:00       21712   \n",
       "6           540838   21873        11 2017-01-11 15:13:00       19541   \n",
       "8           544651   21873        71 2017-02-22 12:51:00       19373   \n",
       "...            ...     ...       ...                 ...         ...   \n",
       "104294      539009   79329         5 2016-12-15 13:24:00       18900   \n",
       "104297      538852  90058B        35 2016-12-14 13:33:00       23051   \n",
       "104298      539988  46138B         1 2016-12-23 16:06:00       23795   \n",
       "104300      542731  17028J         5 2017-01-31 15:27:00       19279   \n",
       "104301     C540246   79320         2 2017-01-05 15:43:00       18760   \n",
       "\n",
       "        loyalty_program  shop_id product_id  price_per_one  \n",
       "0                     0   Shop 3      21873           0.42  \n",
       "4                     1  Shop 22      21873           0.42  \n",
       "5                     0   Shop 9      21873           0.42  \n",
       "6                     0   Shop 4      21873           0.42  \n",
       "8                     0  Shop 17      21873           0.42  \n",
       "...                 ...      ...        ...            ...  \n",
       "104294                0  Shop 28      79329           1.65  \n",
       "104297                1   Shop 8     90058B           0.38  \n",
       "104298                1  Shop 14     46138B           1.95  \n",
       "104300                0   Shop 0     17028J           0.42  \n",
       "104301                0  Shop 19      79320           4.95  \n",
       "\n",
       "[44917 rows x 9 columns]"
      ]
     },
     "execution_count": 77,
     "metadata": {},
     "output_type": "execute_result"
    }
   ],
   "source": [
    "other_store = merged_filtered[merged_filtered['shop_id'] != 'Shop 15']\n",
    "other_store"
   ]
  },
  {
   "cell_type": "markdown",
   "metadata": {},
   "source": [
    "#### Jumlah Pelanggan Unik"
   ]
  },
  {
   "cell_type": "code",
   "execution_count": 78,
   "metadata": {},
   "outputs": [
    {
     "data": {
      "text/plain": [
       "1685"
      ]
     },
     "execution_count": 78,
     "metadata": {},
     "output_type": "execute_result"
    }
   ],
   "source": [
    "other_store['customer_id'].nunique()"
   ]
  },
  {
   "cell_type": "code",
   "execution_count": 79,
   "metadata": {},
   "outputs": [
    {
     "data": {
      "text/html": [
       "<div>\n",
       "<style scoped>\n",
       "    .dataframe tbody tr th:only-of-type {\n",
       "        vertical-align: middle;\n",
       "    }\n",
       "\n",
       "    .dataframe tbody tr th {\n",
       "        vertical-align: top;\n",
       "    }\n",
       "\n",
       "    .dataframe thead th {\n",
       "        text-align: right;\n",
       "    }\n",
       "</style>\n",
       "<table border=\"1\" class=\"dataframe\">\n",
       "  <thead>\n",
       "    <tr style=\"text-align: right;\">\n",
       "      <th></th>\n",
       "      <th>customer_id</th>\n",
       "    </tr>\n",
       "    <tr>\n",
       "      <th>shop_id</th>\n",
       "      <th></th>\n",
       "    </tr>\n",
       "  </thead>\n",
       "  <tbody>\n",
       "    <tr>\n",
       "      <th>Shop 0</th>\n",
       "      <td>133</td>\n",
       "    </tr>\n",
       "    <tr>\n",
       "      <th>Shop 5</th>\n",
       "      <td>132</td>\n",
       "    </tr>\n",
       "    <tr>\n",
       "      <th>Shop 19</th>\n",
       "      <td>129</td>\n",
       "    </tr>\n",
       "    <tr>\n",
       "      <th>Shop 7</th>\n",
       "      <td>128</td>\n",
       "    </tr>\n",
       "    <tr>\n",
       "      <th>Shop 17</th>\n",
       "      <td>128</td>\n",
       "    </tr>\n",
       "    <tr>\n",
       "      <th>Shop 11</th>\n",
       "      <td>127</td>\n",
       "    </tr>\n",
       "    <tr>\n",
       "      <th>Shop 26</th>\n",
       "      <td>126</td>\n",
       "    </tr>\n",
       "    <tr>\n",
       "      <th>Shop 1</th>\n",
       "      <td>126</td>\n",
       "    </tr>\n",
       "    <tr>\n",
       "      <th>Shop 22</th>\n",
       "      <td>125</td>\n",
       "    </tr>\n",
       "    <tr>\n",
       "      <th>Shop 20</th>\n",
       "      <td>125</td>\n",
       "    </tr>\n",
       "    <tr>\n",
       "      <th>Shop 9</th>\n",
       "      <td>124</td>\n",
       "    </tr>\n",
       "    <tr>\n",
       "      <th>Shop 14</th>\n",
       "      <td>123</td>\n",
       "    </tr>\n",
       "    <tr>\n",
       "      <th>Shop 28</th>\n",
       "      <td>122</td>\n",
       "    </tr>\n",
       "    <tr>\n",
       "      <th>Shop 4</th>\n",
       "      <td>122</td>\n",
       "    </tr>\n",
       "    <tr>\n",
       "      <th>Shop 13</th>\n",
       "      <td>121</td>\n",
       "    </tr>\n",
       "    <tr>\n",
       "      <th>Shop 24</th>\n",
       "      <td>120</td>\n",
       "    </tr>\n",
       "    <tr>\n",
       "      <th>Shop 29</th>\n",
       "      <td>119</td>\n",
       "    </tr>\n",
       "    <tr>\n",
       "      <th>Shop 30</th>\n",
       "      <td>117</td>\n",
       "    </tr>\n",
       "    <tr>\n",
       "      <th>Shop 27</th>\n",
       "      <td>116</td>\n",
       "    </tr>\n",
       "    <tr>\n",
       "      <th>Shop 12</th>\n",
       "      <td>115</td>\n",
       "    </tr>\n",
       "    <tr>\n",
       "      <th>Shop 2</th>\n",
       "      <td>115</td>\n",
       "    </tr>\n",
       "    <tr>\n",
       "      <th>Shop 18</th>\n",
       "      <td>114</td>\n",
       "    </tr>\n",
       "    <tr>\n",
       "      <th>Shop 8</th>\n",
       "      <td>114</td>\n",
       "    </tr>\n",
       "    <tr>\n",
       "      <th>Shop 21</th>\n",
       "      <td>110</td>\n",
       "    </tr>\n",
       "    <tr>\n",
       "      <th>Shop 10</th>\n",
       "      <td>109</td>\n",
       "    </tr>\n",
       "    <tr>\n",
       "      <th>Shop 16</th>\n",
       "      <td>104</td>\n",
       "    </tr>\n",
       "    <tr>\n",
       "      <th>Shop 23</th>\n",
       "      <td>104</td>\n",
       "    </tr>\n",
       "    <tr>\n",
       "      <th>Shop 6</th>\n",
       "      <td>103</td>\n",
       "    </tr>\n",
       "    <tr>\n",
       "      <th>Shop 25</th>\n",
       "      <td>94</td>\n",
       "    </tr>\n",
       "    <tr>\n",
       "      <th>Shop 3</th>\n",
       "      <td>93</td>\n",
       "    </tr>\n",
       "  </tbody>\n",
       "</table>\n",
       "</div>"
      ],
      "text/plain": [
       "         customer_id\n",
       "shop_id             \n",
       "Shop 0           133\n",
       "Shop 5           132\n",
       "Shop 19          129\n",
       "Shop 7           128\n",
       "Shop 17          128\n",
       "Shop 11          127\n",
       "Shop 26          126\n",
       "Shop 1           126\n",
       "Shop 22          125\n",
       "Shop 20          125\n",
       "Shop 9           124\n",
       "Shop 14          123\n",
       "Shop 28          122\n",
       "Shop 4           122\n",
       "Shop 13          121\n",
       "Shop 24          120\n",
       "Shop 29          119\n",
       "Shop 30          117\n",
       "Shop 27          116\n",
       "Shop 12          115\n",
       "Shop 2           115\n",
       "Shop 18          114\n",
       "Shop 8           114\n",
       "Shop 21          110\n",
       "Shop 10          109\n",
       "Shop 16          104\n",
       "Shop 23          104\n",
       "Shop 6           103\n",
       "Shop 25           94\n",
       "Shop 3            93"
      ]
     },
     "execution_count": 79,
     "metadata": {},
     "output_type": "execute_result"
    }
   ],
   "source": [
    "cust_unique = pd.pivot_table(other_store, index =  'shop_id', values = 'customer_id', aggfunc = 'nunique').sort_values(\n",
    "    by = 'customer_id', ascending = False)\n",
    "cust_unique"
   ]
  },
  {
   "cell_type": "code",
   "execution_count": 80,
   "metadata": {},
   "outputs": [
    {
     "data": {
      "image/png": "[encoded data removed]",
      "text/plain": [
       "<Figure size 1080x432 with 1 Axes>"
      ]
     },
     "metadata": {
      "needs_background": "light"
     },
     "output_type": "display_data"
    }
   ],
   "source": [
    "plt.figure(figsize = (15, 6))\n",
    "bars = plt.bar(cust_unique.index, cust_unique['customer_id'])\n",
    "\n",
    "plt.xlabel('Shop ID')\n",
    "plt.ylabel('Number of Customers')\n",
    "\n",
    "plt.title('Number of Customers per Store')\n",
    "plt.xticks(rotation=45, ha='right')\n",
    "\n",
    "for bar in bars:\n",
    "    height = bar.get_height()\n",
    "    plt.text(bar.get_x() + bar.get_width() / 2, height, str(int(height)), ha='center', va='bottom')\n",
    "\n",
    "plt.show()\n"
   ]
  },
  {
   "cell_type": "markdown",
   "metadata": {},
   "source": [
    "Grafik visualisasi di atas menunjukkan jumlah pelanggan unik di setiap toko cabang. Dari total 1685 pelanggan unik, **Shop 0** dan **Shop 5** memiliki pelanggan unik paling banyak di antara toko cabang lainnya, yaitu 133 pelanggan dan 132 pelanggan.\n",
    "\n",
    "Hal ini cukup menarik karena sebelumnya, **Shop 15** yang kita anggap sebagai cabang terbesar, hanya memiliki 124 pelanggan unik saja."
   ]
  },
  {
   "cell_type": "markdown",
   "metadata": {},
   "source": [
    "#### Besaran Rata-rata Pembelian"
   ]
  },
  {
   "cell_type": "code",
   "execution_count": 81,
   "metadata": {},
   "outputs": [
    {
     "name": "stderr",
     "output_type": "stream",
     "text": [
      "/tmp/ipykernel_27/2982199391.py:2: SettingWithCopyWarning: \n",
      "A value is trying to be set on a copy of a slice from a DataFrame.\n",
      "Try using .loc[row_indexer,col_indexer] = value instead\n",
      "\n",
      "See the caveats in the documentation: https://pandas.pydata.org/pandas-docs/stable/user_guide/indexing.html#returning-a-view-versus-a-copy\n",
      "  other_store['total_price'] = other_store['quantity'] * other_store['price_per_one']\n"
     ]
    }
   ],
   "source": [
    "# Membuat kolom baru 'total_price' yang menghitung total harga pembelian untuk setiap baris\n",
    "other_store['total_price'] = other_store['quantity'] * other_store['price_per_one']\n",
    "\n",
    "# Membuat pivot table untuk menghitung rata-rata total harga pembelian masing-masing customer unik\n",
    "other_pivot = pd.pivot_table(other_store, index = ['customer_id', 'shop_id', 'loyalty_program'], \n",
    "                             values = 'total_price', aggfunc = 'mean').sort_values(\n",
    "    by = 'total_price', ascending = False)"
   ]
  },
  {
   "cell_type": "code",
   "execution_count": 82,
   "metadata": {},
   "outputs": [
    {
     "data": {
      "text/html": [
       "<div>\n",
       "<style scoped>\n",
       "    .dataframe tbody tr th:only-of-type {\n",
       "        vertical-align: middle;\n",
       "    }\n",
       "\n",
       "    .dataframe tbody tr th {\n",
       "        vertical-align: top;\n",
       "    }\n",
       "\n",
       "    .dataframe thead th {\n",
       "        text-align: right;\n",
       "    }\n",
       "</style>\n",
       "<table border=\"1\" class=\"dataframe\">\n",
       "  <thead>\n",
       "    <tr style=\"text-align: right;\">\n",
       "      <th></th>\n",
       "      <th></th>\n",
       "      <th></th>\n",
       "      <th>total_price</th>\n",
       "    </tr>\n",
       "    <tr>\n",
       "      <th>customer_id</th>\n",
       "      <th>shop_id</th>\n",
       "      <th>loyalty_program</th>\n",
       "      <th></th>\n",
       "    </tr>\n",
       "  </thead>\n",
       "  <tbody>\n",
       "    <tr>\n",
       "      <th>18025</th>\n",
       "      <th>Shop 21</th>\n",
       "      <th>0</th>\n",
       "      <td>77184.6400</td>\n",
       "    </tr>\n",
       "    <tr>\n",
       "      <th>21428</th>\n",
       "      <th>Shop 20</th>\n",
       "      <th>0</th>\n",
       "      <td>5117.7250</td>\n",
       "    </tr>\n",
       "    <tr>\n",
       "      <th>18434</th>\n",
       "      <th>Shop 5</th>\n",
       "      <th>0</th>\n",
       "      <td>3791.8500</td>\n",
       "    </tr>\n",
       "    <tr>\n",
       "      <th>23766</th>\n",
       "      <th>Shop 30</th>\n",
       "      <th>1</th>\n",
       "      <td>3202.1000</td>\n",
       "    </tr>\n",
       "    <tr>\n",
       "      <th>23781</th>\n",
       "      <th>Shop 5</th>\n",
       "      <th>1</th>\n",
       "      <td>2256.0175</td>\n",
       "    </tr>\n",
       "    <tr>\n",
       "      <th>...</th>\n",
       "      <th>...</th>\n",
       "      <th>...</th>\n",
       "      <td>...</td>\n",
       "    </tr>\n",
       "    <tr>\n",
       "      <th>21706</th>\n",
       "      <th>Shop 27</th>\n",
       "      <th>0</th>\n",
       "      <td>0.3800</td>\n",
       "    </tr>\n",
       "    <tr>\n",
       "      <th>18182</th>\n",
       "      <th>Shop 29</th>\n",
       "      <th>0</th>\n",
       "      <td>0.3800</td>\n",
       "    </tr>\n",
       "    <tr>\n",
       "      <th>19351</th>\n",
       "      <th>Shop 9</th>\n",
       "      <th>0</th>\n",
       "      <td>0.3800</td>\n",
       "    </tr>\n",
       "    <tr>\n",
       "      <th>21619</th>\n",
       "      <th>Shop 20</th>\n",
       "      <th>0</th>\n",
       "      <td>0.3800</td>\n",
       "    </tr>\n",
       "    <tr>\n",
       "      <th>21260</th>\n",
       "      <th>Shop 14</th>\n",
       "      <th>0</th>\n",
       "      <td>0.2850</td>\n",
       "    </tr>\n",
       "  </tbody>\n",
       "</table>\n",
       "<p>3538 rows × 1 columns</p>\n",
       "</div>"
      ],
      "text/plain": [
       "                                     total_price\n",
       "customer_id shop_id loyalty_program             \n",
       "18025       Shop 21 0                 77184.6400\n",
       "21428       Shop 20 0                  5117.7250\n",
       "18434       Shop 5  0                  3791.8500\n",
       "23766       Shop 30 1                  3202.1000\n",
       "23781       Shop 5  1                  2256.0175\n",
       "...                                          ...\n",
       "21706       Shop 27 0                     0.3800\n",
       "18182       Shop 29 0                     0.3800\n",
       "19351       Shop 9  0                     0.3800\n",
       "21619       Shop 20 0                     0.3800\n",
       "21260       Shop 14 0                     0.2850\n",
       "\n",
       "[3538 rows x 1 columns]"
      ]
     },
     "execution_count": 82,
     "metadata": {},
     "output_type": "execute_result"
    }
   ],
   "source": [
    "other_pivot"
   ]
  },
  {
   "cell_type": "code",
   "execution_count": 83,
   "metadata": {
    "scrolled": true
   },
   "outputs": [
    {
     "data": {
      "image/png": "[encoded data removed]",
      "text/plain": [
       "<Figure size 720x432 with 1 Axes>"
      ]
     },
     "metadata": {
      "needs_background": "light"
     },
     "output_type": "display_data"
    }
   ],
   "source": [
    "avg_revenue_other = pd.pivot_table(other_store, index = 'customer_id', values = 'total_price', aggfunc = 'mean').sort_values(\n",
    "    by = 'total_price', ascending = False)\n",
    "\n",
    "plt.figure(figsize=(10, 6))\n",
    "plt.scatter(avg_revenue_other.index, avg_revenue_other['total_price'])\n",
    "\n",
    "plt.ylim(0,100)\n",
    "\n",
    "plt.xlabel('customer_id')\n",
    "plt.ylabel('Average Total Purchase Price')\n",
    "\n",
    "plt.title('Average Total Purchase Price per Customer')\n",
    "plt.show()\n"
   ]
  },
  {
   "cell_type": "markdown",
   "metadata": {},
   "source": [
    "Pembelian rata-rata per pelanggan tidak melebihi \\$20\\. Namun, sama kondisinya seperti **Shop 15**, pada **Shop 21** terdapat pelanggan anomali yang membeli dalam jumlah sangat banyak, yaitu *customer_id:18025*, sehingga jumlah pembeliannya pun sangat tinggi dibandingkan pelanggan pada toko cabang lainnya."
   ]
  },
  {
   "cell_type": "markdown",
   "metadata": {},
   "source": [
    "#### Rata-rata Item Dalam Keranjang"
   ]
  },
  {
   "cell_type": "code",
   "execution_count": 84,
   "metadata": {},
   "outputs": [
    {
     "data": {
      "text/html": [
       "<div>\n",
       "<style scoped>\n",
       "    .dataframe tbody tr th:only-of-type {\n",
       "        vertical-align: middle;\n",
       "    }\n",
       "\n",
       "    .dataframe tbody tr th {\n",
       "        vertical-align: top;\n",
       "    }\n",
       "\n",
       "    .dataframe thead th {\n",
       "        text-align: right;\n",
       "    }\n",
       "</style>\n",
       "<table border=\"1\" class=\"dataframe\">\n",
       "  <thead>\n",
       "    <tr style=\"text-align: right;\">\n",
       "      <th></th>\n",
       "      <th></th>\n",
       "      <th></th>\n",
       "      <th>quantity</th>\n",
       "    </tr>\n",
       "    <tr>\n",
       "      <th>customer_id</th>\n",
       "      <th>shop_id</th>\n",
       "      <th>item_id</th>\n",
       "      <th></th>\n",
       "    </tr>\n",
       "  </thead>\n",
       "  <tbody>\n",
       "    <tr>\n",
       "      <th>18025</th>\n",
       "      <th>Shop 21</th>\n",
       "      <th>23166</th>\n",
       "      <td>74216.0</td>\n",
       "    </tr>\n",
       "    <tr>\n",
       "      <th>21517</th>\n",
       "      <th>Shop 17</th>\n",
       "      <th>84347</th>\n",
       "      <td>9361.0</td>\n",
       "    </tr>\n",
       "    <tr>\n",
       "      <th>23766</th>\n",
       "      <th>Shop 30</th>\n",
       "      <th>22053</th>\n",
       "      <td>3905.0</td>\n",
       "    </tr>\n",
       "    <tr>\n",
       "      <th>21428</th>\n",
       "      <th>Shop 20</th>\n",
       "      <th>21108</th>\n",
       "      <td>3113.0</td>\n",
       "    </tr>\n",
       "    <tr>\n",
       "      <th>22433</th>\n",
       "      <th>Shop 3</th>\n",
       "      <th>84077</th>\n",
       "      <td>2879.0</td>\n",
       "    </tr>\n",
       "    <tr>\n",
       "      <th>...</th>\n",
       "      <th>...</th>\n",
       "      <th>...</th>\n",
       "      <td>...</td>\n",
       "    </tr>\n",
       "    <tr>\n",
       "      <th>22893</th>\n",
       "      <th>Shop 9</th>\n",
       "      <th>22117</th>\n",
       "      <td>1.0</td>\n",
       "    </tr>\n",
       "    <tr>\n",
       "      <th rowspan=\"2\" valign=\"top\">20285</th>\n",
       "      <th rowspan=\"2\" valign=\"top\">Shop 5</th>\n",
       "      <th>21447</th>\n",
       "      <td>1.0</td>\n",
       "    </tr>\n",
       "    <tr>\n",
       "      <th>21459</th>\n",
       "      <td>1.0</td>\n",
       "    </tr>\n",
       "    <tr>\n",
       "      <th>22893</th>\n",
       "      <th>Shop 9</th>\n",
       "      <th>85169B</th>\n",
       "      <td>1.0</td>\n",
       "    </tr>\n",
       "    <tr>\n",
       "      <th>20990</th>\n",
       "      <th>Shop 6</th>\n",
       "      <th>21754</th>\n",
       "      <td>1.0</td>\n",
       "    </tr>\n",
       "  </tbody>\n",
       "</table>\n",
       "<p>44455 rows × 1 columns</p>\n",
       "</div>"
      ],
      "text/plain": [
       "                             quantity\n",
       "customer_id shop_id item_id          \n",
       "18025       Shop 21 23166     74216.0\n",
       "21517       Shop 17 84347      9361.0\n",
       "23766       Shop 30 22053      3905.0\n",
       "21428       Shop 20 21108      3113.0\n",
       "22433       Shop 3  84077      2879.0\n",
       "...                               ...\n",
       "22893       Shop 9  22117         1.0\n",
       "20285       Shop 5  21447         1.0\n",
       "                    21459         1.0\n",
       "22893       Shop 9  85169B        1.0\n",
       "20990       Shop 6  21754         1.0\n",
       "\n",
       "[44455 rows x 1 columns]"
      ]
     },
     "execution_count": 84,
     "metadata": {},
     "output_type": "execute_result"
    }
   ],
   "source": [
    "average_items_in_cart = pd.pivot_table(other_store, index = ['customer_id', 'shop_id', 'item_id'], values = 'quantity', aggfunc = 'mean').sort_values(\n",
    "    by = 'quantity', ascending = False)\n",
    "average_items_in_cart"
   ]
  },
  {
   "cell_type": "code",
   "execution_count": 85,
   "metadata": {},
   "outputs": [
    {
     "data": {
      "image/png": "[encoded data removed]",
      "text/plain": [
       "<Figure size 720x432 with 1 Axes>"
      ]
     },
     "metadata": {
      "needs_background": "light"
     },
     "output_type": "display_data"
    }
   ],
   "source": [
    "avg_items_cart_other = pd.pivot_table(other_store, index = 'customer_id', values = 'quantity', aggfunc = 'mean').sort_values(\n",
    "    by = 'quantity', ascending = False)\n",
    "\n",
    "plt.figure(figsize=(10, 6))\n",
    "plt.scatter(avg_items_cart_other.index, avg_items_cart_other['quantity'])\n",
    "\n",
    "plt.ylim(0,200)\n",
    "\n",
    "plt.xlabel('Customer ID')\n",
    "plt.ylabel('Average Item in Cart')\n",
    "\n",
    "plt.title('Average Item in Cart per Customer')\n",
    "plt.show()\n"
   ]
  },
  {
   "cell_type": "code",
   "execution_count": 86,
   "metadata": {},
   "outputs": [
    {
     "data": {
      "text/plain": [
       "87042"
      ]
     },
     "execution_count": 86,
     "metadata": {},
     "output_type": "execute_result"
    }
   ],
   "source": [
    "other_store[other_store['shop_id'] == 'Shop 21']['quantity'].sum()"
   ]
  },
  {
   "cell_type": "markdown",
   "metadata": {},
   "source": [
    "Rata-rata jumlah item dalam keranjang untuk setiap pelanggan tidak lebih dari 25 item. Seperti yang kita ketahui sebelumnya, ada 1 pelanggan yang memang sepertinya melakukan pembelian dengan jumlah besar di **Shop 21**, yaitu *customer:18025* dengan jumlah 74000 item. Sepertinya pelanggan tersebut membutuhkan barang dalam jumlah besar hingga membeli dengan jumlah sangat banyak di kedua toko cabang.\n",
    "\n",
    "Meskipun **Shop 21** memiliki jumlah item dalam keranjang paling banyak (sekitar 87000), namun ternyata **Shop 15** lebih unggul dengan total sekitar 100000 item."
   ]
  },
  {
   "cell_type": "markdown",
   "metadata": {},
   "source": [
    "#### Persentase Pelanggan Program Loyalty dan Non Program"
   ]
  },
  {
   "cell_type": "code",
   "execution_count": 87,
   "metadata": {},
   "outputs": [
    {
     "name": "stdout",
     "output_type": "stream",
     "text": [
      "Percentage of Customers Members of the Loyalty Program: 32.37526994233809 %\n",
      "Percentage of Customers Non Loyalty Program Members: 67.6247300576619 %\n"
     ]
    }
   ],
   "source": [
    "loyalty_counts = other_store['loyalty_program'].value_counts()\n",
    "\n",
    "loyalty_percentage = loyalty_counts / loyalty_counts.sum() * 100\n",
    "\n",
    "print(\"Percentage of Customers Members of the Loyalty Program:\", loyalty_percentage[1], \"%\")\n",
    "print(\"Percentage of Customers Non Loyalty Program Members:\", loyalty_percentage[0], \"%\")\n"
   ]
  },
  {
   "cell_type": "code",
   "execution_count": 88,
   "metadata": {},
   "outputs": [
    {
     "data": {
      "image/png": "[encoded data removed]",
      "text/plain": [
       "<Figure size 576x576 with 1 Axes>"
      ]
     },
     "metadata": {},
     "output_type": "display_data"
    }
   ],
   "source": [
    "plt.figure(figsize=(8, 8))\n",
    "plt.pie(loyalty_counts, labels=['Non Member', 'Member'], startangle=90)\n",
    "\n",
    "plt.gca().set_aspect('equal')\n",
    "plt.text(-0.6, -0.3, f\"{loyalty_counts[0]} ({loyalty_counts[0] / loyalty_counts.sum() * 100:.1f}%)\", fontsize=12, color='white')\n",
    "plt.text(0.2, 0.2, f\"{loyalty_counts[1]} ({loyalty_counts[1] / loyalty_counts.sum() * 100:.1f}%)\", fontsize=12)\n",
    "\n",
    "plt.title('Percentage of Customers Members of the Loyalty Program')\n",
    "plt.show()\n"
   ]
  },
  {
   "cell_type": "code",
   "execution_count": 89,
   "metadata": {},
   "outputs": [
    {
     "data": {
      "text/plain": [
       "shop_id  loyalty_program\n",
       "Shop 28  1                  21.935484\n",
       "Shop 4   1                  23.803191\n",
       "Shop 19  1                  25.032765\n",
       "Shop 27  1                  25.444957\n",
       "Shop 10  1                  25.483871\n",
       "Shop 20  1                  26.864802\n",
       "Shop 30  1                  27.485030\n",
       "Shop 6   1                  28.544776\n",
       "Shop 14  1                  28.944099\n",
       "Shop 29  1                  29.096774\n",
       "Shop 5   1                  29.199278\n",
       "Shop 7   1                  32.427307\n",
       "Shop 12  1                  32.668329\n",
       "Shop 17  1                  32.973702\n",
       "Shop 25  1                  33.204334\n",
       "Shop 22  1                  33.810069\n",
       "Shop 13  1                  33.871970\n",
       "Shop 9   1                  33.917775\n",
       "Shop 0   1                  34.292866\n",
       "Shop 23  1                  34.752268\n",
       "Shop 24  1                  35.005701\n",
       "Shop 8   1                  35.509326\n",
       "Shop 1   1                  36.783626\n",
       "Shop 3   1                  36.851363\n",
       "Shop 16  1                  37.096774\n",
       "Shop 26  1                  37.278107\n",
       "Shop 18  1                  37.289433\n",
       "Shop 11  1                  39.550842\n",
       "Shop 21  1                  41.741472\n",
       "Shop 2   1                  45.087483\n",
       "         0                  54.912517\n",
       "Shop 21  0                  58.258528\n",
       "Shop 11  0                  60.449158\n",
       "Shop 18  0                  62.710567\n",
       "Shop 26  0                  62.721893\n",
       "Shop 16  0                  62.903226\n",
       "Shop 3   0                  63.148637\n",
       "Shop 1   0                  63.216374\n",
       "Shop 8   0                  64.490674\n",
       "Shop 24  0                  64.994299\n",
       "Shop 23  0                  65.247732\n",
       "Shop 0   0                  65.707134\n",
       "Shop 9   0                  66.082225\n",
       "Shop 13  0                  66.128030\n",
       "Shop 22  0                  66.189931\n",
       "Shop 25  0                  66.795666\n",
       "Shop 17  0                  67.026298\n",
       "Shop 12  0                  67.331671\n",
       "Shop 7   0                  67.572693\n",
       "Shop 5   0                  70.800722\n",
       "Shop 29  0                  70.903226\n",
       "Shop 14  0                  71.055901\n",
       "Shop 6   0                  71.455224\n",
       "Shop 30  0                  72.514970\n",
       "Shop 20  0                  73.135198\n",
       "Shop 10  0                  74.516129\n",
       "Shop 27  0                  74.555043\n",
       "Shop 19  0                  74.967235\n",
       "Shop 4   0                  76.196809\n",
       "Shop 28  0                  78.064516\n",
       "Name: customer_id, dtype: float64"
      ]
     },
     "execution_count": 89,
     "metadata": {},
     "output_type": "execute_result"
    }
   ],
   "source": [
    "# Menghitung persentase pelanggan yang merupakan anggota program loyalitas dan bukan untuk setiap toko (shop_id)\n",
    "loyalty_counts_per_shop = other_store.groupby(['shop_id', 'loyalty_program'])['customer_id'].count()\n",
    "total_customers_per_shop = other_store.groupby('shop_id')['customer_id'].count()\n",
    "loyalty_percentage_per_shop = (loyalty_counts_per_shop / total_customers_per_shop) * 100\n",
    "loyalty_percentage_per_shop.sort_values()"
   ]
  },
  {
   "cell_type": "markdown",
   "metadata": {},
   "source": [
    "Dari 44917 data transaksi, terdapat 67.6% atau sebanyak 30375 transaksi yang dilakukan oleh pelanggan non anggota program loyalitas. Jika dilihat persebarannya setiap toko, pelanggan non anggota program loyalitas dari **Shop 28** merupakan yang paling banyak, yaitu sekitar 78%. Sedangkan **Shop 2**  memiliki transaksi dari pelanggan anggota program loyalitas toko yang paling banyak, yaitu sekitar 45%."
   ]
  },
  {
   "cell_type": "markdown",
   "metadata": {},
   "source": [
    "#### Persentase Pelanggan yang Melakukan Pembelian Berulang"
   ]
  },
  {
   "cell_type": "code",
   "execution_count": 90,
   "metadata": {},
   "outputs": [],
   "source": [
    "trans_counts = other_store['customer_id'].value_counts()"
   ]
  },
  {
   "cell_type": "code",
   "execution_count": 91,
   "metadata": {},
   "outputs": [],
   "source": [
    "repeat_cust_count = len(trans_counts[trans_counts > 1])"
   ]
  },
  {
   "cell_type": "code",
   "execution_count": 92,
   "metadata": {},
   "outputs": [
    {
     "data": {
      "text/plain": [
       "94.59940652818992"
      ]
     },
     "execution_count": 92,
     "metadata": {},
     "output_type": "execute_result"
    }
   ],
   "source": [
    "repeat_cust_percentage = (repeat_cust_count / len(other_store['customer_id'].unique())) * 100\n",
    "repeat_cust_percentage"
   ]
  },
  {
   "cell_type": "code",
   "execution_count": 93,
   "metadata": {},
   "outputs": [
    {
     "data": {
      "image/png": "[encoded data removed]",
      "text/plain": [
       "<Figure size 576x576 with 1 Axes>"
      ]
     },
     "metadata": {},
     "output_type": "display_data"
    }
   ],
   "source": [
    "non_repeat_cust_count = len(other_store['customer_id'].unique()) - repeat_cust_count\n",
    "\n",
    "plt.figure(figsize=(8, 8))\n",
    "plt.pie([repeat_cust_count, non_repeat_cust_count], labels=['Return', 'Not Return'], autopct='%1.1f%%', startangle=90)\n",
    "\n",
    "plt.title('Percentage of Customer Retention')\n",
    "plt.show()\n"
   ]
  },
  {
   "cell_type": "code",
   "execution_count": 94,
   "metadata": {},
   "outputs": [
    {
     "data": {
      "text/plain": [
       "86.46616541353383"
      ]
     },
     "execution_count": 94,
     "metadata": {},
     "output_type": "execute_result"
    }
   ],
   "source": [
    "# Filter data untuk Shop 0\n",
    "filtered_data = other_store[other_store['shop_id'] == 'Shop 0']\n",
    "transaction= filtered_data['customer_id'].value_counts()\n",
    "\n",
    "repeat_customers = len(transaction[transaction > 1])\n",
    "\n",
    "repeat_customer_percent = (repeat_customers / len(filtered_data['customer_id'].unique())) * 100\n",
    "repeat_customer_percent\n"
   ]
  },
  {
   "cell_type": "markdown",
   "metadata": {},
   "source": [
    "Sebanyak 94.6% pelanggan di toko cabang selain **Shop 15** melakukan pembelian berulang. Jika melihat contoh salah satu toko dengan pelanggan terbanyak, yaitu **Shop 0**, terdapat sekitar 86.5% pelanggan yang kembali berbelanja di toko cabang tersebut."
   ]
  },
  {
   "cell_type": "markdown",
   "metadata": {},
   "source": [
    "#### Total Penjualan"
   ]
  },
  {
   "cell_type": "code",
   "execution_count": 95,
   "metadata": {
    "scrolled": true
   },
   "outputs": [
    {
     "name": "stderr",
     "output_type": "stream",
     "text": [
      "/tmp/ipykernel_27/2078260655.py:1: SettingWithCopyWarning: \n",
      "A value is trying to be set on a copy of a slice from a DataFrame.\n",
      "Try using .loc[row_indexer,col_indexer] = value instead\n",
      "\n",
      "See the caveats in the documentation: https://pandas.pydata.org/pandas-docs/stable/user_guide/indexing.html#returning-a-view-versus-a-copy\n",
      "  other_store['total_sales'] = other_store['total_price']\n",
      "/opt/conda/lib/python3.9/site-packages/pandas/core/indexing.py:1676: SettingWithCopyWarning: \n",
      "A value is trying to be set on a copy of a slice from a DataFrame.\n",
      "Try using .loc[row_indexer,col_indexer] = value instead\n",
      "\n",
      "See the caveats in the documentation: https://pandas.pydata.org/pandas-docs/stable/user_guide/indexing.html#returning-a-view-versus-a-copy\n",
      "  self._setitem_single_column(ilocs[0], value, pi)\n"
     ]
    }
   ],
   "source": [
    "other_store['total_sales'] = other_store['total_price']\n",
    "other_store.loc[other_store['loyalty_program'] == 1, 'total_sales'] += 20"
   ]
  },
  {
   "cell_type": "code",
   "execution_count": 96,
   "metadata": {},
   "outputs": [
    {
     "data": {
      "text/plain": [
       "shop_id\n",
       "Shop 21    105616.65\n",
       "Shop 5      73568.38\n",
       "Shop 13     51314.96\n",
       "Shop 20     49415.84\n",
       "Shop 4      48284.30\n",
       "Shop 24     46818.25\n",
       "Shop 26     44591.96\n",
       "Shop 30     43977.47\n",
       "Shop 23     42720.07\n",
       "Shop 25     42402.45\n",
       "Shop 29     42182.46\n",
       "Shop 10     41488.60\n",
       "Shop 9      39721.51\n",
       "Shop 18     39685.43\n",
       "Shop 0      39650.62\n",
       "Shop 2      39451.54\n",
       "Shop 28     39231.17\n",
       "Shop 22     38918.37\n",
       "Shop 1      38686.09\n",
       "Shop 8      38409.73\n",
       "Shop 3      37447.38\n",
       "Shop 11     37445.40\n",
       "Shop 7      36437.53\n",
       "Shop 17     35271.73\n",
       "Shop 14     35183.36\n",
       "Shop 19     32914.44\n",
       "Shop 27     32579.45\n",
       "Shop 16     31929.41\n",
       "Shop 6      31636.61\n",
       "Shop 12     30307.43\n",
       "Name: total_sales, dtype: float64"
      ]
     },
     "execution_count": 96,
     "metadata": {},
     "output_type": "execute_result"
    }
   ],
   "source": [
    "total_sales_per_shop = other_store.groupby('shop_id')['total_sales'].sum()\n",
    "total_sales_per_shop.sort_values(ascending = False)"
   ]
  },
  {
   "cell_type": "code",
   "execution_count": 97,
   "metadata": {},
   "outputs": [
    {
     "data": {
      "text/plain": [
       "count    14542.000000\n",
       "mean        38.414109\n",
       "std         86.804807\n",
       "min         20.060000\n",
       "25%         23.600000\n",
       "50%         28.280000\n",
       "75%         34.757500\n",
       "max       3841.620000\n",
       "Name: total_sales, dtype: float64"
      ]
     },
     "execution_count": 97,
     "metadata": {},
     "output_type": "execute_result"
    }
   ],
   "source": [
    "other_store.loc[other_store['loyalty_program'] == 1]['total_sales'].describe()"
   ]
  },
  {
   "cell_type": "code",
   "execution_count": 98,
   "metadata": {},
   "outputs": [
    {
     "data": {
      "text/plain": [
       "count    30375.000000\n",
       "mean        23.989156\n",
       "std        448.513562\n",
       "min          0.030000\n",
       "25%          5.800000\n",
       "50%         10.200000\n",
       "75%         16.950000\n",
       "max      77184.640000\n",
       "Name: total_sales, dtype: float64"
      ]
     },
     "execution_count": 98,
     "metadata": {},
     "output_type": "execute_result"
    }
   ],
   "source": [
    "other_store.loc[other_store['loyalty_program'] == 0]['total_sales'].describe()"
   ]
  },
  {
   "cell_type": "code",
   "execution_count": 99,
   "metadata": {},
   "outputs": [
    {
     "data": {
      "image/png": "[encoded data removed]",
      "text/plain": [
       "<Figure size 1440x432 with 1 Axes>"
      ]
     },
     "metadata": {
      "needs_background": "light"
     },
     "output_type": "display_data"
    }
   ],
   "source": [
    "top_30_shops = other_store.groupby('shop_id')['total_sales'].sum().nlargest(30)\n",
    "\n",
    "plt.figure(figsize=(20, 6))\n",
    "bars = plt.bar(top_30_shops.index, top_30_shops.values)\n",
    "\n",
    "plt.xlabel('Shop ID')\n",
    "plt.ylabel('Total Sales')\n",
    "\n",
    "plt.title('Total Sales per Shop (Top 30)')\n",
    "plt.xticks(rotation=45, ha='right')\n",
    "\n",
    "\n",
    "for bar in bars:\n",
    "    height = bar.get_height()\n",
    "    plt.text(bar.get_x() + bar.get_width() / 2, height, str(round(height)), ha='center', va='bottom')\n",
    "\n",
    "plt.show()\n"
   ]
  },
  {
   "cell_type": "markdown",
   "metadata": {},
   "source": [
    "Melalui grafik visualisasi di atas, kita dapat melihat bahwa total penjualan dari **Shop 21** sangat tinggi (sekitar \\$105000\\) dan hampir sama tingginya dengan **Shop 15** (dengan total penjualan sekitar \\$123000\\). Sedangkan toko cabang lainnya yang juga memiliki total penjualan tertinggi adalah **Shop 5**.\n",
    "\n",
    "Berbeda dengan **Shop 15**, kondisi total penjualan di toko cabang lain menunjukkan bahwa rata-rata pendapatan dari transaksi pelanggan anggota program loyalitas jauh lebih tinggi dibandingkan pelanggan non-anggota yang jumlah populasinya lebih banyak. Sepertinya para pelanggan anggota program di toko cabang lainnya lebih banyak berbelanja dibandingkan di **Shop 15**."
   ]
  },
  {
   "cell_type": "markdown",
   "metadata": {},
   "source": [
    "### Kesimpulan dan Langkah Selanjutnya"
   ]
  },
  {
   "cell_type": "markdown",
   "metadata": {},
   "source": [
    "Pada tahap analisa data, kita mendapatkan kesimpulan sebagai berikut:\n",
    "\n",
    "1. Kita menentukan toko cabang yang terbesar, yang diartikan sebagai toko yang paling sering muncul pada dataset kita (memiliki baris paling banyak), yaitu **Shop 15**. Maka, kita akan mencoba melihat beberapa parameter pada toko cabang tersebut:\n",
    " * Terdapat 124 pelanggan unik di **Shop 15**.\n",
    " * Rata-rata pembeliannya berada di sekitar nilai \\$20\\. Hanya ada 1 nilai saja yang berada jauh di atas, yaitu dari *customer_id: 18025* dengan rata-rata pembelian mencapai \\$77000\\. \n",
    " * Rata-rata jumlah item dalam keranjang untuk setiap pelanggan tidak lebih dari 20 item. kecuali untuk 1 pelanggan yang memang sepertinya melakukan pembelian dengan jumlah besar, yaitu customer:18025 dengan jumlah 74000 item. \n",
    " * Dari 1775 transaksi di **Shop 15**, 71.5% merupakan transaksi yang dilakukan oleh pelanggan non-anggota program loyalty, sedangkan sisanya sekitar 28.5% adalah transaksi yang dilakukan oleh pelanggan anggota program loyalty toko.\n",
    " * Terdapat 88.7% pelanggan yang melakukan pembelian kembali di **Shop 15**, dan sisanya 11.3% tidak kembali. Ternyata meskipun tidak banyak pelanggan yang menjadi anggota program loyalitas toko, namun retensi pelanggan masih cukup tinggi.\n",
    " * Total penjualan dari **Shop 15** sebesar \\$123000\\. Total penjualan ini merupakan hasil pendapatan dari penjualan barang/item di toko, serta dari penjualan *member* program loyalitas toko. Jika dibandingkan pendapatan antara transaksi dengan pelanggan anggota program loyalitas dan yang bukan, kita lebih banyak mendapat keuntungan dari yang bukan anggota. Hal ini sejalan dengan parameter sebelumnya yang kita hitung dimana memang tidak banyak anggota program loyalitas di **Shop 15**. Mungkinkah program loyalitas tersebut tidak populer sehingga orang tidak tertarik? Atau karena harganya terlalu mahal? Atau bisa juga tidak banyak pelanggan yang mengetahui mengenai program loyalitas toko tersebut?\n",
    "\n",
    "2. Setelah melihat beberapa metrik penjualan untuk toko cabang **Shop 15** sebagai toko cabang terbesar, maka sekarang kita juga perlu melakukan analisa terhadap toko cabang lainnya.\n",
    " * Jumlah pelanggan unik di keseluruhan toko cabang selain **Shop 15** 1685 pelanggan unik. Dimana **Shop 0** memiliki pelanggan unik paling banyak di antara toko cabang lainnya, yaitu 133 pelanggan.\n",
    " * Pembelian rata-rata per pelanggan tidak melebihi \\$20\\. Namun, sama kondisinya seperti **Shop 15**, pada **Shop 21** terdapat pelanggan anomali yang membeli dalam jumlah sangat banyak, yaitu *customer_id:18025*, sehingga jumlah pembeliannya pun sangat tinggi dibandingkan pelanggan pada toko cabang lainnya.\n",
    " * Rata-rata jumlah item dalam keranjang untuk setiap pelanggan tidak lebih dari 25 item. Seperti yang kita ketahui sebelumnya, ada 1 pelanggan yang memang sepertinya melakukan pembelian dengan jumlah besar di **Shop 21**, yaitu customer:18025 dengan jumlah 74000 item. Meskipun **Shop 21** memiliki jumlah item dalam keranjang paling banyak (sekitar 87000), namun ternyata **Shop 15** lebih unggul dengan total sekitar 100000 item.\n",
    " * Dari 44917 data transaksi, terdapat 67.6% atau sebanyak 30375 transaksi yang dilakukan oleh pelanggan non-anggota program loyalitas. Jika dilihat persebarannya setiap toko, pelanggan non anggota program loyalitas dari **Shop 28** merupakan yang paling banyak, yaitu sekitar 78%. Sedangkan **Shop 2** memiliki transaksi dari pelanggan anggota program loyalitas toko yang paling banyak, yaitu sekitar 45%.\n",
    " * Sebanyak 94.6% pelanggan di toko cabang selain **Shop 15** melakukan pembelian berulang. Jika melihat contoh salah satu toko dengan pelanggan terbanyak, yaitu **Shop 0**, terdapat sekitar 86.5% pelanggan yang kembali berbelanja di toko cabang tersebut.\n",
    " * Total penjualan dari **Shop 21** sangat tinggi (sekitar \\$105000\\) dan hampir sama tingginya dengan **Shop 15** (dengan total penjualan sekitar \\$123000\\). Namun, berbeda dengan **Shop 15**, kondisi total penjualan di toko cabang lain menunjukkan bahwa rata-rata pendapatan dari transaksi pelanggan anggota program loyalitas jauh lebih tinggi dibandingkan pelanggan non-anggota yang jumlah populasinya lebih banyak. Sepertinya para pelanggan anggota program di toko cabang lainnya lebih banyak berbelanja dibandingkan di **Shop 15**."
   ]
  },
  {
   "cell_type": "markdown",
   "metadata": {},
   "source": [
    "## Menguji Hipotesis"
   ]
  },
  {
   "cell_type": "markdown",
   "metadata": {},
   "source": [
    "Setelah melihat analisa data, kita akan menguji hipotesis yang telah kita ajukan pada tahap awal penelitian ini, yaitu: **Ukuran pembelian rata-rata bagi anggota program loyalitas lebih tinggi daripada bagi non-anggota**.\n",
    "\n",
    "Kita akan melakukan pengujian dengan *ttest_ind(sample_1, sample_2)* dari paket modul *scipy.stats* dan bandingkan hasil nilai p dengan 'alpha'. Tingkat signifikansi atau nilai 'alpha' yang ditetapkan adalah nilai standar yaitu 0.05.\n",
    "\n",
    "H0 : Tidak ada perbedaan ukuran pembelian rata-rata antara anggota program loyalitas dan non-anggota\n",
    "\n",
    "H1: Terdapat perbedaan ukuran pembelian rata-rata antara anggota program loyalitas dan non-anggota"
   ]
  },
  {
   "cell_type": "code",
   "execution_count": 100,
   "metadata": {},
   "outputs": [
    {
     "name": "stderr",
     "output_type": "stream",
     "text": [
      "/tmp/ipykernel_27/2052375387.py:1: SettingWithCopyWarning: \n",
      "A value is trying to be set on a copy of a slice from a DataFrame.\n",
      "Try using .loc[row_indexer,col_indexer] = value instead\n",
      "\n",
      "See the caveats in the documentation: https://pandas.pydata.org/pandas-docs/stable/user_guide/indexing.html#returning-a-view-versus-a-copy\n",
      "  merged_filtered['total_price'] = merged_filtered['quantity'] * merged_filtered['price_per_one']\n",
      "/tmp/ipykernel_27/2052375387.py:2: SettingWithCopyWarning: \n",
      "A value is trying to be set on a copy of a slice from a DataFrame.\n",
      "Try using .loc[row_indexer,col_indexer] = value instead\n",
      "\n",
      "See the caveats in the documentation: https://pandas.pydata.org/pandas-docs/stable/user_guide/indexing.html#returning-a-view-versus-a-copy\n",
      "  merged_filtered['total_sales'] = merged_filtered['total_price']\n",
      "/opt/conda/lib/python3.9/site-packages/pandas/core/indexing.py:1676: SettingWithCopyWarning: \n",
      "A value is trying to be set on a copy of a slice from a DataFrame.\n",
      "Try using .loc[row_indexer,col_indexer] = value instead\n",
      "\n",
      "See the caveats in the documentation: https://pandas.pydata.org/pandas-docs/stable/user_guide/indexing.html#returning-a-view-versus-a-copy\n",
      "  self._setitem_single_column(ilocs[0], value, pi)\n"
     ]
    }
   ],
   "source": [
    "merged_filtered['total_price'] = merged_filtered['quantity'] * merged_filtered['price_per_one']\n",
    "merged_filtered['total_sales'] = merged_filtered['total_price']\n",
    "merged_filtered.loc[merged_filtered['loyalty_program'] == 1, 'total_sales'] += 20"
   ]
  },
  {
   "cell_type": "code",
   "execution_count": 101,
   "metadata": {},
   "outputs": [],
   "source": [
    "loyal = merged_filtered[merged_filtered['loyalty_program'] == 1]\n",
    "non_loyal = merged_filtered[merged_filtered['loyalty_program'] == 0]"
   ]
  },
  {
   "cell_type": "code",
   "execution_count": 102,
   "metadata": {},
   "outputs": [
    {
     "data": {
      "text/html": [
       "<div>\n",
       "<style scoped>\n",
       "    .dataframe tbody tr th:only-of-type {\n",
       "        vertical-align: middle;\n",
       "    }\n",
       "\n",
       "    .dataframe tbody tr th {\n",
       "        vertical-align: top;\n",
       "    }\n",
       "\n",
       "    .dataframe thead th {\n",
       "        text-align: right;\n",
       "    }\n",
       "</style>\n",
       "<table border=\"1\" class=\"dataframe\">\n",
       "  <thead>\n",
       "    <tr style=\"text-align: right;\">\n",
       "      <th></th>\n",
       "      <th>purchase_id</th>\n",
       "      <th>item_id</th>\n",
       "      <th>quantity</th>\n",
       "      <th>purchase_date</th>\n",
       "      <th>customer_id</th>\n",
       "      <th>loyalty_program</th>\n",
       "      <th>shop_id</th>\n",
       "      <th>product_id</th>\n",
       "      <th>price_per_one</th>\n",
       "      <th>total_price</th>\n",
       "      <th>total_sales</th>\n",
       "    </tr>\n",
       "  </thead>\n",
       "  <tbody>\n",
       "    <tr>\n",
       "      <th>4</th>\n",
       "      <td>541566</td>\n",
       "      <td>21873</td>\n",
       "      <td>35</td>\n",
       "      <td>2017-01-19 11:50:00</td>\n",
       "      <td>23401</td>\n",
       "      <td>1</td>\n",
       "      <td>Shop 22</td>\n",
       "      <td>21873</td>\n",
       "      <td>0.42</td>\n",
       "      <td>14.70</td>\n",
       "      <td>34.70</td>\n",
       "    </tr>\n",
       "    <tr>\n",
       "      <th>7</th>\n",
       "      <td>543592</td>\n",
       "      <td>21873</td>\n",
       "      <td>5</td>\n",
       "      <td>2017-02-10 11:57:00</td>\n",
       "      <td>22922</td>\n",
       "      <td>1</td>\n",
       "      <td>Shop 15</td>\n",
       "      <td>21873</td>\n",
       "      <td>0.42</td>\n",
       "      <td>2.10</td>\n",
       "      <td>22.10</td>\n",
       "    </tr>\n",
       "    <tr>\n",
       "      <th>17</th>\n",
       "      <td>539252</td>\n",
       "      <td>21873</td>\n",
       "      <td>35</td>\n",
       "      <td>2016-12-16 14:17:00</td>\n",
       "      <td>23423</td>\n",
       "      <td>1</td>\n",
       "      <td>Shop 18</td>\n",
       "      <td>21873</td>\n",
       "      <td>0.42</td>\n",
       "      <td>14.70</td>\n",
       "      <td>34.70</td>\n",
       "    </tr>\n",
       "    <tr>\n",
       "      <th>30</th>\n",
       "      <td>542420</td>\n",
       "      <td>21873</td>\n",
       "      <td>1</td>\n",
       "      <td>2017-01-27 18:05:00</td>\n",
       "      <td>22859</td>\n",
       "      <td>1</td>\n",
       "      <td>Shop 22</td>\n",
       "      <td>21873</td>\n",
       "      <td>0.42</td>\n",
       "      <td>0.42</td>\n",
       "      <td>20.42</td>\n",
       "    </tr>\n",
       "    <tr>\n",
       "      <th>41</th>\n",
       "      <td>538991</td>\n",
       "      <td>21873</td>\n",
       "      <td>35</td>\n",
       "      <td>2016-12-15 11:53:00</td>\n",
       "      <td>23190</td>\n",
       "      <td>1</td>\n",
       "      <td>Shop 25</td>\n",
       "      <td>21873</td>\n",
       "      <td>0.42</td>\n",
       "      <td>14.70</td>\n",
       "      <td>34.70</td>\n",
       "    </tr>\n",
       "    <tr>\n",
       "      <th>...</th>\n",
       "      <td>...</td>\n",
       "      <td>...</td>\n",
       "      <td>...</td>\n",
       "      <td>...</td>\n",
       "      <td>...</td>\n",
       "      <td>...</td>\n",
       "      <td>...</td>\n",
       "      <td>...</td>\n",
       "      <td>...</td>\n",
       "      <td>...</td>\n",
       "      <td>...</td>\n",
       "    </tr>\n",
       "    <tr>\n",
       "      <th>104286</th>\n",
       "      <td>544160</td>\n",
       "      <td>79406</td>\n",
       "      <td>5</td>\n",
       "      <td>2017-02-16 12:49:00</td>\n",
       "      <td>22173</td>\n",
       "      <td>1</td>\n",
       "      <td>Shop 9</td>\n",
       "      <td>79406</td>\n",
       "      <td>0.22</td>\n",
       "      <td>1.10</td>\n",
       "      <td>21.10</td>\n",
       "    </tr>\n",
       "    <tr>\n",
       "      <th>104287</th>\n",
       "      <td>543610</td>\n",
       "      <td>71510</td>\n",
       "      <td>11</td>\n",
       "      <td>2017-02-10 14:30:00</td>\n",
       "      <td>22104</td>\n",
       "      <td>1</td>\n",
       "      <td>Shop 7</td>\n",
       "      <td>71510</td>\n",
       "      <td>0.85</td>\n",
       "      <td>9.35</td>\n",
       "      <td>29.35</td>\n",
       "    </tr>\n",
       "    <tr>\n",
       "      <th>104289</th>\n",
       "      <td>539988</td>\n",
       "      <td>16206B</td>\n",
       "      <td>1</td>\n",
       "      <td>2016-12-23 16:06:00</td>\n",
       "      <td>23795</td>\n",
       "      <td>1</td>\n",
       "      <td>Shop 14</td>\n",
       "      <td>16206B</td>\n",
       "      <td>1.25</td>\n",
       "      <td>1.25</td>\n",
       "      <td>21.25</td>\n",
       "    </tr>\n",
       "    <tr>\n",
       "      <th>104297</th>\n",
       "      <td>538852</td>\n",
       "      <td>90058B</td>\n",
       "      <td>35</td>\n",
       "      <td>2016-12-14 13:33:00</td>\n",
       "      <td>23051</td>\n",
       "      <td>1</td>\n",
       "      <td>Shop 8</td>\n",
       "      <td>90058B</td>\n",
       "      <td>0.38</td>\n",
       "      <td>13.30</td>\n",
       "      <td>33.30</td>\n",
       "    </tr>\n",
       "    <tr>\n",
       "      <th>104298</th>\n",
       "      <td>539988</td>\n",
       "      <td>46138B</td>\n",
       "      <td>1</td>\n",
       "      <td>2016-12-23 16:06:00</td>\n",
       "      <td>23795</td>\n",
       "      <td>1</td>\n",
       "      <td>Shop 14</td>\n",
       "      <td>46138B</td>\n",
       "      <td>1.95</td>\n",
       "      <td>1.95</td>\n",
       "      <td>21.95</td>\n",
       "    </tr>\n",
       "  </tbody>\n",
       "</table>\n",
       "<p>15048 rows × 11 columns</p>\n",
       "</div>"
      ],
      "text/plain": [
       "       purchase_id item_id  quantity       purchase_date customer_id  \\\n",
       "4           541566   21873        35 2017-01-19 11:50:00       23401   \n",
       "7           543592   21873         5 2017-02-10 11:57:00       22922   \n",
       "17          539252   21873        35 2016-12-16 14:17:00       23423   \n",
       "30          542420   21873         1 2017-01-27 18:05:00       22859   \n",
       "41          538991   21873        35 2016-12-15 11:53:00       23190   \n",
       "...            ...     ...       ...                 ...         ...   \n",
       "104286      544160   79406         5 2017-02-16 12:49:00       22173   \n",
       "104287      543610   71510        11 2017-02-10 14:30:00       22104   \n",
       "104289      539988  16206B         1 2016-12-23 16:06:00       23795   \n",
       "104297      538852  90058B        35 2016-12-14 13:33:00       23051   \n",
       "104298      539988  46138B         1 2016-12-23 16:06:00       23795   \n",
       "\n",
       "        loyalty_program  shop_id product_id  price_per_one  total_price  \\\n",
       "4                     1  Shop 22      21873           0.42        14.70   \n",
       "7                     1  Shop 15      21873           0.42         2.10   \n",
       "17                    1  Shop 18      21873           0.42        14.70   \n",
       "30                    1  Shop 22      21873           0.42         0.42   \n",
       "41                    1  Shop 25      21873           0.42        14.70   \n",
       "...                 ...      ...        ...            ...          ...   \n",
       "104286                1   Shop 9      79406           0.22         1.10   \n",
       "104287                1   Shop 7      71510           0.85         9.35   \n",
       "104289                1  Shop 14     16206B           1.25         1.25   \n",
       "104297                1   Shop 8     90058B           0.38        13.30   \n",
       "104298                1  Shop 14     46138B           1.95         1.95   \n",
       "\n",
       "        total_sales  \n",
       "4             34.70  \n",
       "7             22.10  \n",
       "17            34.70  \n",
       "30            20.42  \n",
       "41            34.70  \n",
       "...             ...  \n",
       "104286        21.10  \n",
       "104287        29.35  \n",
       "104289        21.25  \n",
       "104297        33.30  \n",
       "104298        21.95  \n",
       "\n",
       "[15048 rows x 11 columns]"
      ]
     },
     "execution_count": 102,
     "metadata": {},
     "output_type": "execute_result"
    }
   ],
   "source": [
    "loyal"
   ]
  },
  {
   "cell_type": "code",
   "execution_count": 103,
   "metadata": {},
   "outputs": [
    {
     "data": {
      "text/html": [
       "<div>\n",
       "<style scoped>\n",
       "    .dataframe tbody tr th:only-of-type {\n",
       "        vertical-align: middle;\n",
       "    }\n",
       "\n",
       "    .dataframe tbody tr th {\n",
       "        vertical-align: top;\n",
       "    }\n",
       "\n",
       "    .dataframe thead th {\n",
       "        text-align: right;\n",
       "    }\n",
       "</style>\n",
       "<table border=\"1\" class=\"dataframe\">\n",
       "  <thead>\n",
       "    <tr style=\"text-align: right;\">\n",
       "      <th></th>\n",
       "      <th>purchase_id</th>\n",
       "      <th>item_id</th>\n",
       "      <th>quantity</th>\n",
       "      <th>purchase_date</th>\n",
       "      <th>customer_id</th>\n",
       "      <th>loyalty_program</th>\n",
       "      <th>shop_id</th>\n",
       "      <th>product_id</th>\n",
       "      <th>price_per_one</th>\n",
       "      <th>total_price</th>\n",
       "      <th>total_sales</th>\n",
       "    </tr>\n",
       "  </thead>\n",
       "  <tbody>\n",
       "    <tr>\n",
       "      <th>0</th>\n",
       "      <td>538280</td>\n",
       "      <td>21873</td>\n",
       "      <td>11</td>\n",
       "      <td>2016-12-10 12:50:00</td>\n",
       "      <td>18427</td>\n",
       "      <td>0</td>\n",
       "      <td>Shop 3</td>\n",
       "      <td>21873</td>\n",
       "      <td>0.42</td>\n",
       "      <td>4.62</td>\n",
       "      <td>4.62</td>\n",
       "    </tr>\n",
       "    <tr>\n",
       "      <th>5</th>\n",
       "      <td>538843</td>\n",
       "      <td>21873</td>\n",
       "      <td>1</td>\n",
       "      <td>2016-12-14 13:18:00</td>\n",
       "      <td>21712</td>\n",
       "      <td>0</td>\n",
       "      <td>Shop 9</td>\n",
       "      <td>21873</td>\n",
       "      <td>0.42</td>\n",
       "      <td>0.42</td>\n",
       "      <td>0.42</td>\n",
       "    </tr>\n",
       "    <tr>\n",
       "      <th>6</th>\n",
       "      <td>540838</td>\n",
       "      <td>21873</td>\n",
       "      <td>11</td>\n",
       "      <td>2017-01-11 15:13:00</td>\n",
       "      <td>19541</td>\n",
       "      <td>0</td>\n",
       "      <td>Shop 4</td>\n",
       "      <td>21873</td>\n",
       "      <td>0.42</td>\n",
       "      <td>4.62</td>\n",
       "      <td>4.62</td>\n",
       "    </tr>\n",
       "    <tr>\n",
       "      <th>8</th>\n",
       "      <td>544651</td>\n",
       "      <td>21873</td>\n",
       "      <td>71</td>\n",
       "      <td>2017-02-22 12:51:00</td>\n",
       "      <td>19373</td>\n",
       "      <td>0</td>\n",
       "      <td>Shop 17</td>\n",
       "      <td>21873</td>\n",
       "      <td>0.42</td>\n",
       "      <td>29.82</td>\n",
       "      <td>29.82</td>\n",
       "    </tr>\n",
       "    <tr>\n",
       "      <th>10</th>\n",
       "      <td>540480</td>\n",
       "      <td>21873</td>\n",
       "      <td>11</td>\n",
       "      <td>2017-01-07 15:27:00</td>\n",
       "      <td>18159</td>\n",
       "      <td>0</td>\n",
       "      <td>Shop 19</td>\n",
       "      <td>21873</td>\n",
       "      <td>0.42</td>\n",
       "      <td>4.62</td>\n",
       "      <td>4.62</td>\n",
       "    </tr>\n",
       "    <tr>\n",
       "      <th>...</th>\n",
       "      <td>...</td>\n",
       "      <td>...</td>\n",
       "      <td>...</td>\n",
       "      <td>...</td>\n",
       "      <td>...</td>\n",
       "      <td>...</td>\n",
       "      <td>...</td>\n",
       "      <td>...</td>\n",
       "      <td>...</td>\n",
       "      <td>...</td>\n",
       "      <td>...</td>\n",
       "    </tr>\n",
       "    <tr>\n",
       "      <th>104284</th>\n",
       "      <td>544070</td>\n",
       "      <td>84859C</td>\n",
       "      <td>1</td>\n",
       "      <td>2017-02-15 14:19:00</td>\n",
       "      <td>21049</td>\n",
       "      <td>0</td>\n",
       "      <td>Shop 20</td>\n",
       "      <td>84859C</td>\n",
       "      <td>5.95</td>\n",
       "      <td>5.95</td>\n",
       "      <td>5.95</td>\n",
       "    </tr>\n",
       "    <tr>\n",
       "      <th>104288</th>\n",
       "      <td>542216</td>\n",
       "      <td>16206B</td>\n",
       "      <td>4</td>\n",
       "      <td>2017-01-26 12:29:00</td>\n",
       "      <td>20590</td>\n",
       "      <td>0</td>\n",
       "      <td>Shop 10</td>\n",
       "      <td>16206B</td>\n",
       "      <td>1.25</td>\n",
       "      <td>5.00</td>\n",
       "      <td>5.00</td>\n",
       "    </tr>\n",
       "    <tr>\n",
       "      <th>104294</th>\n",
       "      <td>539009</td>\n",
       "      <td>79329</td>\n",
       "      <td>5</td>\n",
       "      <td>2016-12-15 13:24:00</td>\n",
       "      <td>18900</td>\n",
       "      <td>0</td>\n",
       "      <td>Shop 28</td>\n",
       "      <td>79329</td>\n",
       "      <td>1.65</td>\n",
       "      <td>8.25</td>\n",
       "      <td>8.25</td>\n",
       "    </tr>\n",
       "    <tr>\n",
       "      <th>104300</th>\n",
       "      <td>542731</td>\n",
       "      <td>17028J</td>\n",
       "      <td>5</td>\n",
       "      <td>2017-01-31 15:27:00</td>\n",
       "      <td>19279</td>\n",
       "      <td>0</td>\n",
       "      <td>Shop 0</td>\n",
       "      <td>17028J</td>\n",
       "      <td>0.42</td>\n",
       "      <td>2.10</td>\n",
       "      <td>2.10</td>\n",
       "    </tr>\n",
       "    <tr>\n",
       "      <th>104301</th>\n",
       "      <td>C540246</td>\n",
       "      <td>79320</td>\n",
       "      <td>2</td>\n",
       "      <td>2017-01-05 15:43:00</td>\n",
       "      <td>18760</td>\n",
       "      <td>0</td>\n",
       "      <td>Shop 19</td>\n",
       "      <td>79320</td>\n",
       "      <td>4.95</td>\n",
       "      <td>9.90</td>\n",
       "      <td>9.90</td>\n",
       "    </tr>\n",
       "  </tbody>\n",
       "</table>\n",
       "<p>31644 rows × 11 columns</p>\n",
       "</div>"
      ],
      "text/plain": [
       "       purchase_id item_id  quantity       purchase_date customer_id  \\\n",
       "0           538280   21873        11 2016-12-10 12:50:00       18427   \n",
       "5           538843   21873         1 2016-12-14 13:18:00       21712   \n",
       "6           540838   21873        11 2017-01-11 15:13:00       19541   \n",
       "8           544651   21873        71 2017-02-22 12:51:00       19373   \n",
       "10          540480   21873        11 2017-01-07 15:27:00       18159   \n",
       "...            ...     ...       ...                 ...         ...   \n",
       "104284      544070  84859C         1 2017-02-15 14:19:00       21049   \n",
       "104288      542216  16206B         4 2017-01-26 12:29:00       20590   \n",
       "104294      539009   79329         5 2016-12-15 13:24:00       18900   \n",
       "104300      542731  17028J         5 2017-01-31 15:27:00       19279   \n",
       "104301     C540246   79320         2 2017-01-05 15:43:00       18760   \n",
       "\n",
       "        loyalty_program  shop_id product_id  price_per_one  total_price  \\\n",
       "0                     0   Shop 3      21873           0.42         4.62   \n",
       "5                     0   Shop 9      21873           0.42         0.42   \n",
       "6                     0   Shop 4      21873           0.42         4.62   \n",
       "8                     0  Shop 17      21873           0.42        29.82   \n",
       "10                    0  Shop 19      21873           0.42         4.62   \n",
       "...                 ...      ...        ...            ...          ...   \n",
       "104284                0  Shop 20     84859C           5.95         5.95   \n",
       "104288                0  Shop 10     16206B           1.25         5.00   \n",
       "104294                0  Shop 28      79329           1.65         8.25   \n",
       "104300                0   Shop 0     17028J           0.42         2.10   \n",
       "104301                0  Shop 19      79320           4.95         9.90   \n",
       "\n",
       "        total_sales  \n",
       "0              4.62  \n",
       "5              0.42  \n",
       "6              4.62  \n",
       "8             29.82  \n",
       "10             4.62  \n",
       "...             ...  \n",
       "104284         5.95  \n",
       "104288         5.00  \n",
       "104294         8.25  \n",
       "104300         2.10  \n",
       "104301         9.90  \n",
       "\n",
       "[31644 rows x 11 columns]"
      ]
     },
     "execution_count": 103,
     "metadata": {},
     "output_type": "execute_result"
    }
   ],
   "source": [
    "non_loyal"
   ]
  },
  {
   "cell_type": "code",
   "execution_count": 104,
   "metadata": {},
   "outputs": [
    {
     "data": {
      "text/plain": [
       "574"
      ]
     },
     "execution_count": 104,
     "metadata": {},
     "output_type": "execute_result"
    }
   ],
   "source": [
    "loyal['customer_id'].nunique()"
   ]
  },
  {
   "cell_type": "code",
   "execution_count": 105,
   "metadata": {},
   "outputs": [
    {
     "data": {
      "text/plain": [
       "1143"
      ]
     },
     "execution_count": 105,
     "metadata": {},
     "output_type": "execute_result"
    }
   ],
   "source": [
    "non_loyal['customer_id'].nunique()"
   ]
  },
  {
   "cell_type": "code",
   "execution_count": 106,
   "metadata": {},
   "outputs": [
    {
     "data": {
      "text/plain": [
       "38.375804758107385"
      ]
     },
     "execution_count": 106,
     "metadata": {},
     "output_type": "execute_result"
    }
   ],
   "source": [
    "sample_1 = loyal.dropna()['total_sales']\n",
    "sample_1.mean()"
   ]
  },
  {
   "cell_type": "code",
   "execution_count": 107,
   "metadata": {},
   "outputs": [
    {
     "data": {
      "text/plain": [
       "26.316679623309316"
      ]
     },
     "execution_count": 107,
     "metadata": {},
     "output_type": "execute_result"
    }
   ],
   "source": [
    "sample_2 = non_loyal.dropna()['total_sales']\n",
    "sample_2.mean()"
   ]
  },
  {
   "cell_type": "markdown",
   "metadata": {},
   "source": [
    "Dalam kasus ini, jumlah sampel anggota program loyalitas (574) dan non-anggota program loyalitas (1143) cukup besar. Namun, untuk mengetahui apakah varians dari dua atau lebih sampel data sama atau tidak, tidak cukup hanya dengan melihat jumlah sampel. Jumlah sampel hanyalah satu faktor yang mempengaruhi variabilitas data, karena itu kita perlu menjalankan uji Levene sebelum melanjutkan menguji hipotesis kita.\n",
    "Uji Levene digunakan untuk menguji apakah varians dari kelompok-kelompok data yang dibandingkan adalah sama atau berbeda secara signifikan, sehingga dapat membantu kita untuk menentukan metode statistik yang tepat untuk digunakan dalam analisis data."
   ]
  },
  {
   "cell_type": "code",
   "execution_count": 114,
   "metadata": {},
   "outputs": [
    {
     "name": "stdout",
     "output_type": "stream",
     "text": [
      "Hasil uji Levene:\n",
      "P_Value: 0.2307115567595883\n"
     ]
    }
   ],
   "source": [
    "from scipy.stats import levene\n",
    "\n",
    "statistic, p_value = levene(sample_1, sample_2)\n",
    "print(\"Hasil uji Levene:\")\n",
    "print(\"P_Value:\", p_value)\n"
   ]
  },
  {
   "cell_type": "markdown",
   "metadata": {},
   "source": [
    "Uji Levene menunjukkan hasil p_value-nya > 0.05. Hal ini menunjukkan bahwa perbedaan varians antara kelompok anggota program loyalitas dan non-anggota program loyalitas tidak signifikan secara statistik. Ini menunjukkan bahwa varians populasi sama.\n",
    "Karena itu, kita bisa menjalankan metode *ttest_ind* tanpa perlu menambahkan parameter *equal_var* (dari *equal variance* atau varians yang setara yang menentukan apakah varians dari kedua populasi harus dianggap setara atau tidak)."
   ]
  },
  {
   "cell_type": "code",
   "execution_count": 115,
   "metadata": {},
   "outputs": [
    {
     "data": {
      "text/plain": [
       "0.017129032204043652"
      ]
     },
     "execution_count": 115,
     "metadata": {},
     "output_type": "execute_result"
    }
   ],
   "source": [
    "alpha = 0.05\n",
    "results = st.ttest_ind(sample_1, sample_2)\n",
    "results.pvalue"
   ]
  },
  {
   "cell_type": "code",
   "execution_count": 116,
   "metadata": {},
   "outputs": [
    {
     "name": "stdout",
     "output_type": "stream",
     "text": [
      "Tolak null hipotesis\n"
     ]
    }
   ],
   "source": [
    "if (results.pvalue < alpha):\n",
    "    print('Tolak null hipotesis')\n",
    "else:\n",
    "    print('Kita gagal menolak null hipotesis')"
   ]
  },
  {
   "cell_type": "markdown",
   "metadata": {},
   "source": [
    "Setelah melakukan pengujian, hasil uji statistik menunjukkan bahwa p-value < alpha, dan hasil uji hipotesis menyatakan \"Tolak null hipotesis,\" maka kita dapat menyimpulkan bahwa ada bukti yang cukup kuat untuk menolak hipotesis nol (H0) dan menerima hipotesis alternatif (H1) pada tingkat signifikansi yang telah ditentukan (nilai alpha = 0.05).\n",
    "\n",
    "Sehingga bisa dikatakan bahwa ada perbedaan antara rata - rata pembelian antara anggota program loyalitas dan non-anggota program loyalitas.\n",
    "\n",
    "Maka dari itu, hipotesis kita yang menyatakan bahwa ukuran pembelian rata-rata bagi anggota program loyalitas lebih tinggi daripada bagi non-anggota dapat diterima sepenuhnya. Kenapa demikian? Karena, selain hasil uji statistik menunjuukan bahwa terdapat perbedaan untuk ukuran rata-rata pembeliannya, kita juga dapat melihat hasil perhitungan rata-ratanya dimana rata-rata pembelian anggota program loyalitas lebih tinggi dibandingkan non-anggota program."
   ]
  },
  {
   "cell_type": "markdown",
   "metadata": {},
   "source": [
    "## Kesimpulan Umum dan Rekomendasi"
   ]
  },
  {
   "cell_type": "markdown",
   "metadata": {},
   "source": [
    "Setelah mencoba mengolah dan menganalisa data, maka kita dapat menarik kesimpulan:\n",
    "\n",
    "Dataset yang kita miliki terbagi dalam 2 tabel, yaitu:\n",
    " * tabel `retail` yang berisi data mengenai penjualan, memiliki 105335 baris dan 7 kolom\n",
    " * tabel `product` yang berisi data mengenai produk, memiliki 3159 baris dan 2 kolom\n",
    "\n",
    "Kita memiliki beberapa masalah pada tabel yang kita miliki, dan telah diperbaiki pada tahap pra-pemrosesan data. Masalah tersebut adalah:\n",
    "\n",
    " * Gaya penulisan nama dan tipe data beberapa kolom yang bermasalah, dan sudah diperbaiki. Gaya penulisan nama kolom pada dataset kita yang semula tidak mengikuti aturan, sudah diperbaiki sesuai dengan aturan gaya penulisan yang baik, yaitu: semua karakter harus menggunakan huruf kecil dan nama kolom yang terdiri dari dua kata menggunakan gaya penulisan snake_case. Untuk kolom-kolom dengan tipe data bermasalah adalah:\n",
    "    * kolom `purchase_date` pada tabel `retail` seharusnya tipe datanya adalah datetime bukan object\n",
    "    * kolom `customer_id` pada tabel `retail` seharusnya tipe datanya adalah object bukan float\n",
    "\n",
    " * Tabel `retail` memiliki nilai yang hilang cukup banyak di kolom customer_id (sebanyak 36210 atau sekitar 35% dari keseluruhan data).\n",
    " * Kolom `quantity` pada tabel `retail` memiliki nilai anomali, dimana terdapat nilai minus sebanyak 2118 data (sekitar 2%). Seharusnya kolom ini tidak boleh bernilai minus dengan asumsi tidak mungkin ada pembelian jumlah minus.\n",
    " * Pada kolom `price_per_one` pada tabel `product` terdapat nilai 0.00 sebanyak 382 data (sekitar 12%). Nilai 0.00 pada kolom yang menunjukkan harga barang sepertinya sedikit aneh. \n",
    " * Langkah awal yang dilakukan adalah mengubah nilai yang hilang pada kolom customer_id menjadi 0 (nol) dengan asumsi mereka adalah pelanggan yang tidak diketahui. Namun setelah dianalisa lebih lanjut, terdapat 2719 data dari nilai yang hilang tersebut yang terjadi bersamaan dengan adanya nilai 0 pada kolom lain, seperti quantity dan price_per_one, dan diputuskan untuk menghapus data ini dengan pertimbangan bahwa tidak ada informasi tentang pelanggan yang melakukan pembelian karena tidak ada data mengenai jumlah pembeliannya.\n",
    " * Selain itu, kita juga menghapus data-data dengan kondisi sebagai berikut:\n",
    "    * `price_per_one` bernilai 0 dengan quantity 0. Meskipun terdapat informasi lainnya, namun data ini menunjukkan bahwa tidak ada transaksi yang dilakukan.\n",
    "    * `price_per_one` bernilai 0. Data ini tidak memenuhi kriteria karena harga per itemnya 0. Harga barang bernilai 0 dapat mengacaukan analisis data, apalagi ketika kita ingin melihat revenue atau rata-rata pembelian(penjualan).\n",
    "    * `customer_id` bernilai 0 (tidak diketahui). Kolom customer_id sebaiknya tidak bernilai 0 atau unknown, karena customer_id adalah nilai unik yang digunakan untuk mengidentifikasi pelanggan. Meskipun di tahap awal, kita masih mempertahankan data ini, sebaiknya data ini dihapus. Jika customer_id bernilai 0, maka berarti bahwa pelanggan tersebut tidak dapat diidentifikasi dan kemungkinan dapat mempersulit proses analisis data.\n",
    "\n",
    "Sebelum transformasi data, terdapat 1033 data yang terduplikasi pada tabel retail dan telah dihapus.\n",
    "\n",
    "Setelah menghapus sebagian data yang tidak digunakan, saat ini dataset hasil penggabungan kedua tabel memiliki 46692 baris dan 9 kolom, tanpa ada nilai yang hilang, maupun bernilai 0 (kecuali kolom `loyalty_program` dimana nilai 0 pada kolom tersebut menunjukkan tipe *boolean*), dan tidak ada data terduplikasi. Meskipun data yang kita miliki saat ini hanya sekitar 45% saja dari data mentah (data awal yang belum difilter), namun data ini berisi informasi yang relevan dengan tujuan analisis kita.\n",
    "\n",
    "\n",
    "Setelah melakukan analisa data, kita mendapatkan kesimpulan sebagai berikut:\n",
    "\n",
    "1. Kita menentukan toko cabang yang terbesar, yang diartikan sebagai toko yang paling sering muncul pada dataset kita (memiliki baris paling banyak), yaitu **Shop 15**. Maka, kita akan mencoba melihat beberapa parameter pada toko cabang tersebut:\n",
    " * Terdapat 124 pelanggan unik di **Shop 15**.\n",
    " * Rata-rata pembeliannya berada di sekitar nilai \\$20\\. Hanya ada 1 nilai saja yang berada jauh di atas, yaitu dari *customer_id: 18025* dengan rata-rata pembelian mencapai \\$77000\\. \n",
    " * Rata-rata jumlah item dalam keranjang untuk setiap pelanggan tidak lebih dari 20 item. kecuali untuk 1 pelanggan yang memang sepertinya melakukan pembelian dengan jumlah besar, yaitu customer:18025 dengan jumlah 74000 item. \n",
    " * Dari 1775 transaksi di **Shop 15**, 71.5% merupakan transaksi yang dilakukan oleh pelanggan non-anggota program loyalty, sedangkan sisanya sekitar 28.5% adalah transaksi yang dilakukan oleh pelanggan anggota program loyalty toko.\n",
    " * Terdapat 88.7% pelanggan yang melakukan pembelian kembali di **Shop 15**, dan sisanya 11.3% tidak kembali. Ternyata meskipun tidak banyak pelanggan yang menjadi anggota program loyalitas toko, namun retensi pelanggan masih cukup tinggi.\n",
    " * Total penjualan dari **Shop 15** sebesar \\$123000\\. Total penjualan ini merupakan hasil pendapatan dari penjualan barang/item di toko, serta dari penjualan *member* program loyalitas toko. Jika dibandingkan pendapatan antara transaksi dengan pelanggan anggota program loyalitas dan yang bukan, kita lebih banyak mendapat keuntungan dari yang bukan anggota. Hal ini sejalan dengan parameter sebelumnya yang kita hitung dimana memang tidak banyak anggota program loyalitas di **Shop 15**. Mungkinkah program loyalitas tersebut tidak populer sehingga orang tidak tertarik? Atau karena harganya terlalu mahal? Atau bisa juga tidak banyak pelanggan yang mengetahui mengenai program loyalitas toko tersebut?\n",
    "\n",
    "2. Setelah melihat beberapa metrik penjualan untuk toko cabang **Shop 15** sebagai toko cabang terbesar, maka sekarang kita juga perlu melakukan analisa terhadap toko cabang lainnya.\n",
    " * Jumlah pelanggan unik di keseluruhan toko cabang selain **Shop 15** 1685 pelanggan unik. Dimana **Shop 0** memiliki pelanggan unik paling banyak di antara toko cabang lainnya, yaitu 133 pelanggan.\n",
    " * Pembelian rata-rata per pelanggan tidak melebihi \\$20\\. Namun, sama kondisinya seperti **Shop 15**, pada **Shop 21** terdapat pelanggan anomali yang membeli dalam jumlah sangat banyak, yaitu *customer_id:18025*, sehingga jumlah pembeliannya pun sangat tinggi dibandingkan pelanggan pada toko cabang lainnya.\n",
    " * Rata-rata jumlah item dalam keranjang untuk setiap pelanggan tidak lebih dari 25 item. Seperti yang kita ketahui sebelumnya, ada 1 pelanggan yang memang sepertinya melakukan pembelian dengan jumlah besar di **Shop 21**, yaitu customer:18025 dengan jumlah 74000 item. Meskipun **Shop 21** memiliki jumlah item dalam keranjang paling banyak (sekitar 87000), namun ternyata **Shop 15** lebih unggul dengan total sekitar 100000 item.\n",
    " * Dari 44917 data transaksi, terdapat 67.6% atau sebanyak 30375 transaksi yang dilakukan oleh pelanggan non-anggota program loyalitas. Jika dilihat persebarannya setiap toko, pelanggan non anggota program loyalitas dari **Shop 28** merupakan yang paling banyak, yaitu sekitar 78%. Sedangkan **Shop 2** memiliki transaksi dari pelanggan anggota program loyalitas toko yang paling banyak, yaitu sekitar 45%.\n",
    " * Sebanyak 94.6% pelanggan di toko cabang selain **Shop 15** melakukan pembelian berulang. Jika melihat contoh salah satu toko dengan pelanggan terbanyak, yaitu **Shop 0**, terdapat sekitar 86.5% pelanggan yang kembali berbelanja di toko cabang tersebut.\n",
    " * Total penjualan dari **Shop 21** sangat tinggi (sekitar \\$105000\\) dan hampir sama tingginya dengan **Shop 15** (dengan total penjualan sekitar \\$123000\\). Namun, berbeda dengan **Shop 15**, kondisi total penjualan di toko cabang lain menunjukkan bahwa rata-rata pendapatan dari transaksi pelanggan anggota program loyalitas jauh lebih tinggi dibandingkan pelanggan non-anggota yang jumlah populasinya lebih banyak. Sepertinya para pelanggan anggota program di toko cabang lainnya lebih banyak berbelanja dibandingkan di **Shop 15**.\n",
    " \n",
    "Setelah melakukan analisa data, selanjutnya adalah menguji hipotesis yang telah diajukan pada tahap awal penelitian ini, yaitu: **Ukuran pembelian rata-rata bagi anggota program loyalitas lebih tinggi daripada bagi non-anggota**.\n",
    "\n",
    "Kita melakukan pengujian dengan *ttest_ind(sample_1, sample_2)* dari paket modul *scipy.stats* dan membandingkan hasil nilai p dengan tingkat signifikansi yang ditetapkan yaitu 0.05.\n",
    "\n",
    "H0 : Tidak ada perbedaan ukuran pembelian rata-rata antara anggota program loyalitas dan non-anggota\n",
    "\n",
    "H1: Terdapat perbedaan ukuran pembelian rata-rata antara anggota program loyalitas dan non-anggota\n",
    "\n",
    "Hasil uji statistik menunjukkan bahwa p-value < alpha, dan hasil uji hipotesis menyatakan \"Tolak null hipotesis,\" maka kita dapat menyimpulkan bahwa ada bukti yang cukup kuat untuk menolak hipotesis nol (H0) dan menerima hipotesis alternatif (H1) pada tingkat signifikansi yang telah ditentukan (nilai alpha = 0.05).\n",
    "\n",
    "Sehingga bisa dikatakan bahwa ada perbedaan antara rata - rata pembelian antara anggota program loyalitas dan non-anggota program loyalitas.\n",
    "\n",
    "Maka dari itu, hipotesis kita yang menyatakan bahwa ukuran pembelian rata-rata bagi anggota program loyalitas lebih tinggi daripada bagi non-anggota dapat diterima sepenuhnya, karena, selain hasil uji statistik menunjukkan bahwa terdapat perbedaan untuk ukuran rata-rata pembeliannya, kita juga dapat melihat hasil perhitungan rata-ratanya dimana rata-rata pembelian anggota program loyalitas lebih tinggi dibandingkan non-anggota program.\n",
    "\n",
    "Kesimpulan dan rekomendasi:\n",
    " * melihat dari total penjualan, toko cabang yang cukup sukses adalah **Shop 15** dan **Shop 21**. Sedangkan toko dengan hasil penjualan paling kecil dan butuh dukungan adalah **Shop 12**.\n",
    " * jumlah pelanggan tidak selalu menentukan kesuksesan yang dicapai suatu toko cabang, terbukti **Shop 15** dan **Shop 21** total pendapatannya tertinggi meskipun jumlah pelanggannya bukan yang terbanyak.\n",
    " * jika melihat rata-rata pembelian dan juga rata-rata item pembelian, **Shop 15** dan **Shop 21** merupakan toko cabang yang cukup besar, karena dapat mengakomodasi pembelian terbanyak (hingga 70000 item lebih). Hal ini pula yang menjadikan total penjualan mereka cukup besar dibandingkan toko cabang lainnya.\n",
    " * retensi pelanggan sangat dibutuhkan untuk meningkatkan performa suatu toko cabang. Meskipun pelanggan yang menjadi anggota program loyalitas dapat meningkatkan pendapatan per toko, namun, pelanggan yang kembali melakukan transaksi (pelanggan tetap) jauh lebih dibutuhkan keberadaannya.\n",
    " * melihat hasil rata-rata pembelian dari pelanggan anggota program loyalitas yang lebih tinggi dibandingkan pelanggan non-anggota, sepertinya kita masih perlu melakukan promosi mengenai program tersebut. Karena masih banyak pelanggan yang melakukan transaksi, namun belum menjadi anggota. Jika lebih banyak pelanggan menjadi anggota program, keuntungan diharapkan akan semakin meningkat.\n"
   ]
  },
  {
   "cell_type": "markdown",
   "metadata": {},
   "source": [
    "**TAUTAN PRESENTASI:** https://drive.google.com/file/d/1WPWyxnrtpxsAo91vPFyY9AefqZVw05CB/view?usp=sharing"
   ]
  },
  {
   "cell_type": "code",
   "execution_count": null,
   "metadata": {},
   "outputs": [],
   "source": []
  }
 ],
 "metadata": {
  "kernelspec": {
   "display_name": "Python 3 (ipykernel)",
   "language": "python",
   "name": "python3"
  },
  "language_info": {
   "codemirror_mode": {
    "name": "ipython",
    "version": 3
   },
   "file_extension": ".py",
   "mimetype": "text/x-python",
   "name": "python",
   "nbconvert_exporter": "python",
   "pygments_lexer": "ipython3",
   "version": "3.9.5"
  },
  "toc": {
   "base_numbering": 1,
   "nav_menu": {},
   "number_sections": true,
   "sideBar": true,
   "skip_h1_title": true,
   "title_cell": "Table of Contents",
   "title_sidebar": "Contents",
   "toc_cell": false,
   "toc_position": {
    "height": "calc(100% - 180px)",
    "left": "10px",
    "top": "150px",
    "width": "358.778px"
   },
   "toc_section_display": true,
   "toc_window_display": false
  }
 },
 "nbformat": 4,
 "nbformat_minor": 2
}
