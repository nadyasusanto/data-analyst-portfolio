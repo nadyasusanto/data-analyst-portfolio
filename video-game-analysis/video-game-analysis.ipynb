{
 "cells": [
  {
   "cell_type": "markdown",
   "metadata": {},
   "source": [
    "# Game yang Paling Laku"
   ]
  },
  {
   "cell_type": "markdown",
   "metadata": {},
   "source": [
    "Toko daring \"Ice\" yang menjual video game dari seluruh dunia. Data terkait ulasan pengguna dan ahli game, genre, platform (misalnya Xbox atau PlayStation), dan data historis penjualan game tersedia dari sumber terbuka.\n",
    "\n",
    "Kita perlu mengidentifikasi pola-pola yang menentukan apakah suatu game dapat dikatakan berhasil atau tidak. Dengan begitu, kita bisa menemukan game yang paling berpotensial dan merencanakan kampanye iklannya.\n",
    "\n",
    "\n",
    "Saat ini tersedia data dari tahun 2016 dan kita sedang merencanakan kampanye untuk tahun 2017."
   ]
  },
  {
   "cell_type": "markdown",
   "metadata": {},
   "source": [
    "**KONTEN**\n",
    "\n",
    "* [Pendahuluan]\n",
    "* [Tahap 1. Eksplorasi Data]\n",
    "    * [1.1 Inisialisasi]\n",
    "    * [1.2 Memuat Data]\n",
    "    * [1.3 Mempersiapkan Data]\n",
    "    * [1.4 Kesimpulan dan Langkah-Langkah Selanjutnya]\n",
    "* [Tahap 2. Pra-pemrosesan Data]   \n",
    "    * [2.1 Gaya Penulisan Judul]\n",
    "    * [2.2 Nilai yang Hilang]\n",
    "    * [2.3 Mengatasi Duplikat]\n",
    "    * [2.4 Memperbaiki Tipe Data]\n",
    "    * [2.5 Menghitung Total Penjualan]\n",
    "    * [2.6 Kesimpulan dan Langkah-Langkah Selanjutnya]\n",
    "* [Tahap 3. Analisa Data]\n",
    "    * [3.1 Game per Tahun]\n",
    "    * [3.2 Distribusi Total Penjualan Berdasarkan Data per Tahun dan Popularitas Game]\n",
    "    * [3.3 Periode Waktu Pengambilan Data]\n",
    "    * [3.4 Penjualan yang Berpotensi Memberikan Keuntungan]\n",
    "    * [3.5 Penjualan Global Game Berdasarkan Platform]\n",
    "    * [3.6 Korelasi Ulasan dengan Penjualan]\n",
    "    * [3.7 Distribusi Umum Game Berdasarkan Genre]\n",
    "    * [3.8 Pemrofilan Pengguna untuk Masing-masing Wilayah]\n",
    "        * [3.8.1 Platfrom]\n",
    "        * [3.8.2 Genre]\n",
    "        * [3.8.3 Rating]  \n",
    "* [Tahap 4. Menguji Hipotesis Statistik]\n",
    "    * [4.1 Rata-rata rating pengguna platform Xbox One dan PC adalah sama]\n",
    "    * [4.2 Rata-rata rating pengguna genre Action dan Sports berbeda]\n",
    "* [Kesimpulan Umum]"
   ]
  },
  {
   "cell_type": "markdown",
   "metadata": {},
   "source": [
    "## Pendahuluan \n",
    "\n",
    "Dalam proyek kali ini, kita akan mempelajari dan menganalisis data penjualan game di toko daring \"Ice\" yang menjual video game dari seluruh dunia, untuk mengetahui game yang paling berpotensial dan merencanakan kampanye iklannya untuk tahun depan.\n",
    "\n",
    "### Tujuan:\n",
    "\n",
    "Mempelajari penjualan game selama tahun 2016 berdasarkan faktor - faktor pendukungnya untuk mengetahui game yang paling berpotensial memberikan keuntungan di tahun 2017. \n",
    "\n",
    "Menguji hipotesis:\n",
    "\n",
    "1. Rata-rata rating pengguna platform Xbox One dan PC adalah sama.\n",
    "2. Rata-rata rating pengguna genre Action dan Sports berbeda.\n",
    "\n",
    "### Tahapan\n",
    "Kumpulan data terkait ulasan pengguna dan ahli game, genre, platform (misalnya Xbox atau PlayStation), dan data historis penjualan game selama tahun 2016 disimpan dalam *file* berikut: `/datasets/games.csv`.\n",
    "\n",
    "Pertama, karena tidak ada informasi terkait kualitas data tersebut, kita perlu memeriksanya terlebih dahulu sebelum menguji hipotesis. Kita akan mengevaluasi kualitas data dan melihat apakah masalahnya signifikan. Kemudian, selama pra-pemrosesan data, kita akan mencoba mengatasi masalah yang muncul pada data tersebut, seperti nilai yang hilang, duplikasi, dan sebagainya. Terakhir, kita akan menguji hipotesis dan menarik kesimpulan berdasarkan data yang sudah diproses.\n",
    " \n",
    "Proyek ini akan terdiri dari empat tahap:\n",
    " 1. Ikhtisar Data\n",
    " 2. Pra-pemrosesan Data\n",
    " 3. Analisa Data\n",
    " 4. Pengujian hipotesis"
   ]
  },
  {
   "cell_type": "markdown",
   "metadata": {},
   "source": [
    "## Eksplorasi Data "
   ]
  },
  {
   "cell_type": "markdown",
   "metadata": {},
   "source": [
    "### Inisialisasi "
   ]
  },
  {
   "cell_type": "code",
   "execution_count": 192,
   "metadata": {},
   "outputs": [],
   "source": [
    "from scipy import stats as st\n",
    "import pandas as pd\n",
    "import seaborn as sns\n",
    "import matplotlib.pyplot as plt\n",
    "import math\n",
    "import numpy as np"
   ]
  },
  {
   "cell_type": "markdown",
   "metadata": {},
   "source": [
    "### Memuat Data "
   ]
  },
  {
   "cell_type": "code",
   "execution_count": 193,
   "metadata": {},
   "outputs": [],
   "source": [
    "df = pd.read_csv('/datasets/games.csv')"
   ]
  },
  {
   "cell_type": "markdown",
   "metadata": {},
   "source": [
    "### Mempersiapkan Data "
   ]
  },
  {
   "cell_type": "markdown",
   "metadata": {},
   "source": [
    "**Deskripsi Data**\n",
    "\n",
    "— Name (nama)\n",
    "\n",
    "— Platform\n",
    "\n",
    "— Year_of_Release (tahun rilis)\n",
    "\n",
    "— Genre\n",
    "\n",
    "— NA_sales (penjualan di Amerika Utara dalam satuan juta USD)\n",
    "\n",
    "— EU_sales (penjualan di Eropa dalam satuan juta USD)\n",
    "\n",
    "— JP_sales (penjualan di Jepang dalam satuan juta USD)\n",
    "\n",
    "— Other_sales (penjualan di negara lainnya dalam satuan juta USD)\n",
    "\n",
    "— Critic_Score (skor ulasan dari kritikus, maksimal 100)\n",
    "\n",
    "— User_Score (skor ulasan dari pengguna, maksimal 10)\n",
    "\n",
    "— Rating (ESRB)\n",
    "\n",
    "Data untuk tahun 2016 mungkin tidak lengkap."
   ]
  },
  {
   "cell_type": "code",
   "execution_count": 194,
   "metadata": {},
   "outputs": [
    {
     "data": {
      "text/html": [
       "<div>\n",
       "<style scoped>\n",
       "    .dataframe tbody tr th:only-of-type {\n",
       "        vertical-align: middle;\n",
       "    }\n",
       "\n",
       "    .dataframe tbody tr th {\n",
       "        vertical-align: top;\n",
       "    }\n",
       "\n",
       "    .dataframe thead th {\n",
       "        text-align: right;\n",
       "    }\n",
       "</style>\n",
       "<table border=\"1\" class=\"dataframe\">\n",
       "  <thead>\n",
       "    <tr style=\"text-align: right;\">\n",
       "      <th></th>\n",
       "      <th>Name</th>\n",
       "      <th>Platform</th>\n",
       "      <th>Year_of_Release</th>\n",
       "      <th>Genre</th>\n",
       "      <th>NA_sales</th>\n",
       "      <th>EU_sales</th>\n",
       "      <th>JP_sales</th>\n",
       "      <th>Other_sales</th>\n",
       "      <th>Critic_Score</th>\n",
       "      <th>User_Score</th>\n",
       "      <th>Rating</th>\n",
       "    </tr>\n",
       "  </thead>\n",
       "  <tbody>\n",
       "    <tr>\n",
       "      <th>0</th>\n",
       "      <td>Wii Sports</td>\n",
       "      <td>Wii</td>\n",
       "      <td>2006.0</td>\n",
       "      <td>Sports</td>\n",
       "      <td>41.36</td>\n",
       "      <td>28.96</td>\n",
       "      <td>3.77</td>\n",
       "      <td>8.45</td>\n",
       "      <td>76.0</td>\n",
       "      <td>8</td>\n",
       "      <td>E</td>\n",
       "    </tr>\n",
       "    <tr>\n",
       "      <th>1</th>\n",
       "      <td>Super Mario Bros.</td>\n",
       "      <td>NES</td>\n",
       "      <td>1985.0</td>\n",
       "      <td>Platform</td>\n",
       "      <td>29.08</td>\n",
       "      <td>3.58</td>\n",
       "      <td>6.81</td>\n",
       "      <td>0.77</td>\n",
       "      <td>NaN</td>\n",
       "      <td>NaN</td>\n",
       "      <td>NaN</td>\n",
       "    </tr>\n",
       "    <tr>\n",
       "      <th>2</th>\n",
       "      <td>Mario Kart Wii</td>\n",
       "      <td>Wii</td>\n",
       "      <td>2008.0</td>\n",
       "      <td>Racing</td>\n",
       "      <td>15.68</td>\n",
       "      <td>12.76</td>\n",
       "      <td>3.79</td>\n",
       "      <td>3.29</td>\n",
       "      <td>82.0</td>\n",
       "      <td>8.3</td>\n",
       "      <td>E</td>\n",
       "    </tr>\n",
       "    <tr>\n",
       "      <th>3</th>\n",
       "      <td>Wii Sports Resort</td>\n",
       "      <td>Wii</td>\n",
       "      <td>2009.0</td>\n",
       "      <td>Sports</td>\n",
       "      <td>15.61</td>\n",
       "      <td>10.93</td>\n",
       "      <td>3.28</td>\n",
       "      <td>2.95</td>\n",
       "      <td>80.0</td>\n",
       "      <td>8</td>\n",
       "      <td>E</td>\n",
       "    </tr>\n",
       "    <tr>\n",
       "      <th>4</th>\n",
       "      <td>Pokemon Red/Pokemon Blue</td>\n",
       "      <td>GB</td>\n",
       "      <td>1996.0</td>\n",
       "      <td>Role-Playing</td>\n",
       "      <td>11.27</td>\n",
       "      <td>8.89</td>\n",
       "      <td>10.22</td>\n",
       "      <td>1.00</td>\n",
       "      <td>NaN</td>\n",
       "      <td>NaN</td>\n",
       "      <td>NaN</td>\n",
       "    </tr>\n",
       "  </tbody>\n",
       "</table>\n",
       "</div>"
      ],
      "text/plain": [
       "                       Name Platform  Year_of_Release         Genre  NA_sales  \\\n",
       "0                Wii Sports      Wii           2006.0        Sports     41.36   \n",
       "1         Super Mario Bros.      NES           1985.0      Platform     29.08   \n",
       "2            Mario Kart Wii      Wii           2008.0        Racing     15.68   \n",
       "3         Wii Sports Resort      Wii           2009.0        Sports     15.61   \n",
       "4  Pokemon Red/Pokemon Blue       GB           1996.0  Role-Playing     11.27   \n",
       "\n",
       "   EU_sales  JP_sales  Other_sales  Critic_Score User_Score Rating  \n",
       "0     28.96      3.77         8.45          76.0          8      E  \n",
       "1      3.58      6.81         0.77           NaN        NaN    NaN  \n",
       "2     12.76      3.79         3.29          82.0        8.3      E  \n",
       "3     10.93      3.28         2.95          80.0          8      E  \n",
       "4      8.89     10.22         1.00           NaN        NaN    NaN  "
      ]
     },
     "execution_count": 194,
     "metadata": {},
     "output_type": "execute_result"
    }
   ],
   "source": [
    "df.head()"
   ]
  },
  {
   "cell_type": "code",
   "execution_count": 195,
   "metadata": {},
   "outputs": [
    {
     "name": "stdout",
     "output_type": "stream",
     "text": [
      "<class 'pandas.core.frame.DataFrame'>\n",
      "RangeIndex: 16715 entries, 0 to 16714\n",
      "Data columns (total 11 columns):\n",
      " #   Column           Non-Null Count  Dtype  \n",
      "---  ------           --------------  -----  \n",
      " 0   Name             16713 non-null  object \n",
      " 1   Platform         16715 non-null  object \n",
      " 2   Year_of_Release  16446 non-null  float64\n",
      " 3   Genre            16713 non-null  object \n",
      " 4   NA_sales         16715 non-null  float64\n",
      " 5   EU_sales         16715 non-null  float64\n",
      " 6   JP_sales         16715 non-null  float64\n",
      " 7   Other_sales      16715 non-null  float64\n",
      " 8   Critic_Score     8137 non-null   float64\n",
      " 9   User_Score       10014 non-null  object \n",
      " 10  Rating           9949 non-null   object \n",
      "dtypes: float64(6), object(5)\n",
      "memory usage: 1.4+ MB\n"
     ]
    }
   ],
   "source": [
    "df.info()"
   ]
  },
  {
   "cell_type": "code",
   "execution_count": 196,
   "metadata": {},
   "outputs": [
    {
     "data": {
      "text/plain": [
       "(16715, 11)"
      ]
     },
     "execution_count": 196,
     "metadata": {},
     "output_type": "execute_result"
    }
   ],
   "source": [
    "df.shape"
   ]
  },
  {
   "cell_type": "markdown",
   "metadata": {},
   "source": [
    "### Kesimpulan dan Langkah Selanjutnya "
   ]
  },
  {
   "cell_type": "markdown",
   "metadata": {},
   "source": [
    "Terdapat 11 kolom dan 16715 dalam dataset yang kita miliki.\n",
    "\n",
    "Kita dapat melihat masalah pertama dengan gaya penulisan nama kolom, yaitu: beberapa nama ditulis dalam huruf besar, beberapa dalam huruf kecil.\n",
    "\n",
    "Terdapat pula jumlah nilai yang berbeda antar kolom. Hal ini mengindikasikan adanya nilai yang hilang pada beberapa kolom, seperti:\n",
    "* `name`\n",
    "* `year_of_release`\n",
    "* `genre`\n",
    "* `critic_score`\n",
    "* `user_score`\n",
    "* `rating`\n",
    "\n",
    "Selain masalah adanya nilai yang hilang, terdapat masalah dengan tipe data beberapa kolom, seperti:\n",
    "* kolom `year_of_release` memiliki tipe data *float*.\n",
    "* kolom `user_score` memiliki tipe data *object*.\n",
    "    \n",
    "\n",
    "Langkah yang akan kita lakukan pada pra-pemrosesan data:\n",
    "\n",
    "1. Mengganti nama kolom seluruhnya dengan menggunakan huruf kecil. \n",
    "\n",
    "2. Mengisi nilai yang hilang dan memeriksa duplikat. Kita perlu meneliti lebih lanjut, apakah nilai yang hilang pada dataset adalah karena kesalahan *input* data atau karena alasan lain, sehingga kita dapat memutuskan langkah yang tepat untuk mengatasinya. Mungkin saja kita perlu mengisi nilai yang hilang dengan nilai rata - rata atau median dari pengelompokkan data dengan kolom lain, atau data tersebut dapat kita eliminasi karena dinilai tidak berpengaruh terhadap penelitian kita.\n",
    "\n",
    "3. Tipe data yang bermasalah perlu diganti dengan yang sesuai. \n",
    "    * kolom `year_of_release` dengan tipe data *float* perlu diganti menjadi *integer*. Karena tidak terdapat informasi mengenai waktu dan tanggal, kita tidak perlu mengubahnya menjadi *datetime*. Seharusnya informasi mengenai tahun rilis dalam tipe *integer* sudah cukup efisien untuk analisis data.\n",
    "    * kolom `user_score` dengan tipe data *object* perlu diganti menjadi *float*. Informasi yang berkaitan dengan *score* atau penilaian akan lebih baik menggunakan tipe data *float* supaya nilainya tetap dapat diproses dengan akurat."
   ]
  },
  {
   "cell_type": "markdown",
   "metadata": {},
   "source": [
    "## Pra-Pemrosesan Data"
   ]
  },
  {
   "cell_type": "markdown",
   "metadata": {},
   "source": [
    "Pada tahap sebelumnya, kita sudah melihat bahwa terdapat beberapa masalah pada dataset yang kita miliki. Melalui tahap pra-pemrosesan data, kita akan coba mengatasi masalah - masalah tersebut."
   ]
  },
  {
   "cell_type": "markdown",
   "metadata": {},
   "source": [
    "### Gaya Penulisan Judul"
   ]
  },
  {
   "cell_type": "code",
   "execution_count": 197,
   "metadata": {},
   "outputs": [
    {
     "data": {
      "text/plain": [
       "Index(['Name', 'Platform', 'Year_of_Release', 'Genre', 'NA_sales', 'EU_sales',\n",
       "       'JP_sales', 'Other_sales', 'Critic_Score', 'User_Score', 'Rating'],\n",
       "      dtype='object')"
      ]
     },
     "execution_count": 197,
     "metadata": {},
     "output_type": "execute_result"
    }
   ],
   "source": [
    "df.columns"
   ]
  },
  {
   "cell_type": "markdown",
   "metadata": {},
   "source": [
    "Kita akan mengubah nama kolom sesuai dengan aturan gaya penulisan yang baik: **Semua karakter harus menggunakan huruf kecil**."
   ]
  },
  {
   "cell_type": "code",
   "execution_count": 198,
   "metadata": {},
   "outputs": [],
   "source": [
    "df.columns = df.columns.str.lower()"
   ]
  },
  {
   "cell_type": "code",
   "execution_count": 199,
   "metadata": {},
   "outputs": [
    {
     "data": {
      "text/plain": [
       "Index(['name', 'platform', 'year_of_release', 'genre', 'na_sales', 'eu_sales',\n",
       "       'jp_sales', 'other_sales', 'critic_score', 'user_score', 'rating'],\n",
       "      dtype='object')"
      ]
     },
     "execution_count": 199,
     "metadata": {},
     "output_type": "execute_result"
    }
   ],
   "source": [
    "df.columns"
   ]
  },
  {
   "cell_type": "markdown",
   "metadata": {},
   "source": [
    "Nama kolom sudah sesuai dengan aturan gaya penulisan yang baik."
   ]
  },
  {
   "cell_type": "markdown",
   "metadata": {},
   "source": [
    "### Nilai yang Hilang"
   ]
  },
  {
   "cell_type": "markdown",
   "metadata": {},
   "source": [
    "Kita memiliki nilai yang hilang dari beberapa kolom pada dataset, yaitu:\n",
    "* kolom `name`\n",
    "* kolom `year_of_release`\n",
    "* kolom `genre`\n",
    "* kolom `critic_score`\n",
    "* kolom `user_score`\n",
    "* kolom `rating`\n",
    "\n",
    "Kita akan mencoba melihat masing - masing kolom tersebut, dan menentukan bagaimana mengatasi masalah data yang hilang ini."
   ]
  },
  {
   "cell_type": "code",
   "execution_count": 200,
   "metadata": {},
   "outputs": [
    {
     "data": {
      "text/plain": [
       "name                  2\n",
       "platform              0\n",
       "year_of_release     269\n",
       "genre                 2\n",
       "na_sales              0\n",
       "eu_sales              0\n",
       "jp_sales              0\n",
       "other_sales           0\n",
       "critic_score       8578\n",
       "user_score         6701\n",
       "rating             6766\n",
       "dtype: int64"
      ]
     },
     "execution_count": 200,
     "metadata": {},
     "output_type": "execute_result"
    }
   ],
   "source": [
    "df.isna().sum()"
   ]
  },
  {
   "cell_type": "code",
   "execution_count": 201,
   "metadata": {},
   "outputs": [
    {
     "data": {
      "text/plain": [
       "name                0.011965\n",
       "platform            0.000000\n",
       "year_of_release     1.609333\n",
       "genre               0.011965\n",
       "na_sales            0.000000\n",
       "eu_sales            0.000000\n",
       "jp_sales            0.000000\n",
       "other_sales         0.000000\n",
       "critic_score       51.319174\n",
       "user_score         40.089740\n",
       "rating             40.478612\n",
       "dtype: float64"
      ]
     },
     "execution_count": 201,
     "metadata": {},
     "output_type": "execute_result"
    }
   ],
   "source": [
    "df.isna().sum() / len(df) * 100"
   ]
  },
  {
   "cell_type": "markdown",
   "metadata": {},
   "source": [
    "**Mengatasi nilai yang hilang pada kolom `name`**"
   ]
  },
  {
   "cell_type": "code",
   "execution_count": 202,
   "metadata": {},
   "outputs": [
    {
     "data": {
      "text/html": [
       "<div>\n",
       "<style scoped>\n",
       "    .dataframe tbody tr th:only-of-type {\n",
       "        vertical-align: middle;\n",
       "    }\n",
       "\n",
       "    .dataframe tbody tr th {\n",
       "        vertical-align: top;\n",
       "    }\n",
       "\n",
       "    .dataframe thead th {\n",
       "        text-align: right;\n",
       "    }\n",
       "</style>\n",
       "<table border=\"1\" class=\"dataframe\">\n",
       "  <thead>\n",
       "    <tr style=\"text-align: right;\">\n",
       "      <th></th>\n",
       "      <th>name</th>\n",
       "      <th>platform</th>\n",
       "      <th>year_of_release</th>\n",
       "      <th>genre</th>\n",
       "      <th>na_sales</th>\n",
       "      <th>eu_sales</th>\n",
       "      <th>jp_sales</th>\n",
       "      <th>other_sales</th>\n",
       "      <th>critic_score</th>\n",
       "      <th>user_score</th>\n",
       "      <th>rating</th>\n",
       "    </tr>\n",
       "  </thead>\n",
       "  <tbody>\n",
       "    <tr>\n",
       "      <th>659</th>\n",
       "      <td>NaN</td>\n",
       "      <td>GEN</td>\n",
       "      <td>1993.0</td>\n",
       "      <td>NaN</td>\n",
       "      <td>1.78</td>\n",
       "      <td>0.53</td>\n",
       "      <td>0.00</td>\n",
       "      <td>0.08</td>\n",
       "      <td>NaN</td>\n",
       "      <td>NaN</td>\n",
       "      <td>NaN</td>\n",
       "    </tr>\n",
       "    <tr>\n",
       "      <th>14244</th>\n",
       "      <td>NaN</td>\n",
       "      <td>GEN</td>\n",
       "      <td>1993.0</td>\n",
       "      <td>NaN</td>\n",
       "      <td>0.00</td>\n",
       "      <td>0.00</td>\n",
       "      <td>0.03</td>\n",
       "      <td>0.00</td>\n",
       "      <td>NaN</td>\n",
       "      <td>NaN</td>\n",
       "      <td>NaN</td>\n",
       "    </tr>\n",
       "  </tbody>\n",
       "</table>\n",
       "</div>"
      ],
      "text/plain": [
       "      name platform  year_of_release genre  na_sales  eu_sales  jp_sales  \\\n",
       "659    NaN      GEN           1993.0   NaN      1.78      0.53      0.00   \n",
       "14244  NaN      GEN           1993.0   NaN      0.00      0.00      0.03   \n",
       "\n",
       "       other_sales  critic_score user_score rating  \n",
       "659           0.08           NaN        NaN    NaN  \n",
       "14244         0.00           NaN        NaN    NaN  "
      ]
     },
     "execution_count": 202,
     "metadata": {},
     "output_type": "execute_result"
    }
   ],
   "source": [
    "df[df['name'].isna()]"
   ]
  },
  {
   "cell_type": "markdown",
   "metadata": {},
   "source": [
    "Sepertinya nilai yang hilang pada kolom ini simetris dengan kolom lainnya, seperti `genre`, `critic_score`, `user_score` dan `rating`. Mungkin informasi mengenai game ini tidak lengkap. Persentase data ini sangat kecil (sebesar 0.01%), jadi data yang bermasalah ini dapat kita hapus saja."
   ]
  },
  {
   "cell_type": "code",
   "execution_count": 203,
   "metadata": {},
   "outputs": [],
   "source": [
    "df=df.drop(df[df['name'].isna()].index)"
   ]
  },
  {
   "cell_type": "code",
   "execution_count": 204,
   "metadata": {},
   "outputs": [
    {
     "data": {
      "text/html": [
       "<div>\n",
       "<style scoped>\n",
       "    .dataframe tbody tr th:only-of-type {\n",
       "        vertical-align: middle;\n",
       "    }\n",
       "\n",
       "    .dataframe tbody tr th {\n",
       "        vertical-align: top;\n",
       "    }\n",
       "\n",
       "    .dataframe thead th {\n",
       "        text-align: right;\n",
       "    }\n",
       "</style>\n",
       "<table border=\"1\" class=\"dataframe\">\n",
       "  <thead>\n",
       "    <tr style=\"text-align: right;\">\n",
       "      <th></th>\n",
       "      <th>name</th>\n",
       "      <th>platform</th>\n",
       "      <th>year_of_release</th>\n",
       "      <th>genre</th>\n",
       "      <th>na_sales</th>\n",
       "      <th>eu_sales</th>\n",
       "      <th>jp_sales</th>\n",
       "      <th>other_sales</th>\n",
       "      <th>critic_score</th>\n",
       "      <th>user_score</th>\n",
       "      <th>rating</th>\n",
       "    </tr>\n",
       "  </thead>\n",
       "  <tbody>\n",
       "  </tbody>\n",
       "</table>\n",
       "</div>"
      ],
      "text/plain": [
       "Empty DataFrame\n",
       "Columns: [name, platform, year_of_release, genre, na_sales, eu_sales, jp_sales, other_sales, critic_score, user_score, rating]\n",
       "Index: []"
      ]
     },
     "execution_count": 204,
     "metadata": {},
     "output_type": "execute_result"
    }
   ],
   "source": [
    "df[df['name'].isna()]"
   ]
  },
  {
   "cell_type": "markdown",
   "metadata": {},
   "source": [
    "**Mengatasi nilai yang hilang pada kolom `year_of_release`**"
   ]
  },
  {
   "cell_type": "code",
   "execution_count": 205,
   "metadata": {},
   "outputs": [
    {
     "data": {
      "text/html": [
       "<div>\n",
       "<style scoped>\n",
       "    .dataframe tbody tr th:only-of-type {\n",
       "        vertical-align: middle;\n",
       "    }\n",
       "\n",
       "    .dataframe tbody tr th {\n",
       "        vertical-align: top;\n",
       "    }\n",
       "\n",
       "    .dataframe thead th {\n",
       "        text-align: right;\n",
       "    }\n",
       "</style>\n",
       "<table border=\"1\" class=\"dataframe\">\n",
       "  <thead>\n",
       "    <tr style=\"text-align: right;\">\n",
       "      <th></th>\n",
       "      <th>name</th>\n",
       "      <th>platform</th>\n",
       "      <th>year_of_release</th>\n",
       "      <th>genre</th>\n",
       "      <th>na_sales</th>\n",
       "      <th>eu_sales</th>\n",
       "      <th>jp_sales</th>\n",
       "      <th>other_sales</th>\n",
       "      <th>critic_score</th>\n",
       "      <th>user_score</th>\n",
       "      <th>rating</th>\n",
       "    </tr>\n",
       "  </thead>\n",
       "  <tbody>\n",
       "    <tr>\n",
       "      <th>183</th>\n",
       "      <td>Madden NFL 2004</td>\n",
       "      <td>PS2</td>\n",
       "      <td>NaN</td>\n",
       "      <td>Sports</td>\n",
       "      <td>4.26</td>\n",
       "      <td>0.26</td>\n",
       "      <td>0.01</td>\n",
       "      <td>0.71</td>\n",
       "      <td>94.0</td>\n",
       "      <td>8.5</td>\n",
       "      <td>E</td>\n",
       "    </tr>\n",
       "    <tr>\n",
       "      <th>377</th>\n",
       "      <td>FIFA Soccer 2004</td>\n",
       "      <td>PS2</td>\n",
       "      <td>NaN</td>\n",
       "      <td>Sports</td>\n",
       "      <td>0.59</td>\n",
       "      <td>2.36</td>\n",
       "      <td>0.04</td>\n",
       "      <td>0.51</td>\n",
       "      <td>84.0</td>\n",
       "      <td>6.4</td>\n",
       "      <td>E</td>\n",
       "    </tr>\n",
       "    <tr>\n",
       "      <th>456</th>\n",
       "      <td>LEGO Batman: The Videogame</td>\n",
       "      <td>Wii</td>\n",
       "      <td>NaN</td>\n",
       "      <td>Action</td>\n",
       "      <td>1.80</td>\n",
       "      <td>0.97</td>\n",
       "      <td>0.00</td>\n",
       "      <td>0.29</td>\n",
       "      <td>74.0</td>\n",
       "      <td>7.9</td>\n",
       "      <td>E10+</td>\n",
       "    </tr>\n",
       "    <tr>\n",
       "      <th>475</th>\n",
       "      <td>wwe Smackdown vs. Raw 2006</td>\n",
       "      <td>PS2</td>\n",
       "      <td>NaN</td>\n",
       "      <td>Fighting</td>\n",
       "      <td>1.57</td>\n",
       "      <td>1.02</td>\n",
       "      <td>0.00</td>\n",
       "      <td>0.41</td>\n",
       "      <td>NaN</td>\n",
       "      <td>NaN</td>\n",
       "      <td>NaN</td>\n",
       "    </tr>\n",
       "    <tr>\n",
       "      <th>609</th>\n",
       "      <td>Space Invaders</td>\n",
       "      <td>2600</td>\n",
       "      <td>NaN</td>\n",
       "      <td>Shooter</td>\n",
       "      <td>2.36</td>\n",
       "      <td>0.14</td>\n",
       "      <td>0.00</td>\n",
       "      <td>0.03</td>\n",
       "      <td>NaN</td>\n",
       "      <td>NaN</td>\n",
       "      <td>NaN</td>\n",
       "    </tr>\n",
       "    <tr>\n",
       "      <th>...</th>\n",
       "      <td>...</td>\n",
       "      <td>...</td>\n",
       "      <td>...</td>\n",
       "      <td>...</td>\n",
       "      <td>...</td>\n",
       "      <td>...</td>\n",
       "      <td>...</td>\n",
       "      <td>...</td>\n",
       "      <td>...</td>\n",
       "      <td>...</td>\n",
       "      <td>...</td>\n",
       "    </tr>\n",
       "    <tr>\n",
       "      <th>16373</th>\n",
       "      <td>PDC World Championship Darts 2008</td>\n",
       "      <td>PSP</td>\n",
       "      <td>NaN</td>\n",
       "      <td>Sports</td>\n",
       "      <td>0.01</td>\n",
       "      <td>0.00</td>\n",
       "      <td>0.00</td>\n",
       "      <td>0.00</td>\n",
       "      <td>43.0</td>\n",
       "      <td>tbd</td>\n",
       "      <td>E10+</td>\n",
       "    </tr>\n",
       "    <tr>\n",
       "      <th>16405</th>\n",
       "      <td>Freaky Flyers</td>\n",
       "      <td>GC</td>\n",
       "      <td>NaN</td>\n",
       "      <td>Racing</td>\n",
       "      <td>0.01</td>\n",
       "      <td>0.00</td>\n",
       "      <td>0.00</td>\n",
       "      <td>0.00</td>\n",
       "      <td>69.0</td>\n",
       "      <td>6.5</td>\n",
       "      <td>T</td>\n",
       "    </tr>\n",
       "    <tr>\n",
       "      <th>16448</th>\n",
       "      <td>Inversion</td>\n",
       "      <td>PC</td>\n",
       "      <td>NaN</td>\n",
       "      <td>Shooter</td>\n",
       "      <td>0.01</td>\n",
       "      <td>0.00</td>\n",
       "      <td>0.00</td>\n",
       "      <td>0.00</td>\n",
       "      <td>59.0</td>\n",
       "      <td>6.7</td>\n",
       "      <td>M</td>\n",
       "    </tr>\n",
       "    <tr>\n",
       "      <th>16458</th>\n",
       "      <td>Hakuouki: Shinsengumi Kitan</td>\n",
       "      <td>PS3</td>\n",
       "      <td>NaN</td>\n",
       "      <td>Adventure</td>\n",
       "      <td>0.01</td>\n",
       "      <td>0.00</td>\n",
       "      <td>0.00</td>\n",
       "      <td>0.00</td>\n",
       "      <td>NaN</td>\n",
       "      <td>NaN</td>\n",
       "      <td>NaN</td>\n",
       "    </tr>\n",
       "    <tr>\n",
       "      <th>16522</th>\n",
       "      <td>Virtua Quest</td>\n",
       "      <td>GC</td>\n",
       "      <td>NaN</td>\n",
       "      <td>Role-Playing</td>\n",
       "      <td>0.01</td>\n",
       "      <td>0.00</td>\n",
       "      <td>0.00</td>\n",
       "      <td>0.00</td>\n",
       "      <td>55.0</td>\n",
       "      <td>5.5</td>\n",
       "      <td>T</td>\n",
       "    </tr>\n",
       "  </tbody>\n",
       "</table>\n",
       "<p>269 rows × 11 columns</p>\n",
       "</div>"
      ],
      "text/plain": [
       "                                    name platform  year_of_release  \\\n",
       "183                      Madden NFL 2004      PS2              NaN   \n",
       "377                     FIFA Soccer 2004      PS2              NaN   \n",
       "456           LEGO Batman: The Videogame      Wii              NaN   \n",
       "475           wwe Smackdown vs. Raw 2006      PS2              NaN   \n",
       "609                       Space Invaders     2600              NaN   \n",
       "...                                  ...      ...              ...   \n",
       "16373  PDC World Championship Darts 2008      PSP              NaN   \n",
       "16405                      Freaky Flyers       GC              NaN   \n",
       "16448                          Inversion       PC              NaN   \n",
       "16458        Hakuouki: Shinsengumi Kitan      PS3              NaN   \n",
       "16522                       Virtua Quest       GC              NaN   \n",
       "\n",
       "              genre  na_sales  eu_sales  jp_sales  other_sales  critic_score  \\\n",
       "183          Sports      4.26      0.26      0.01         0.71          94.0   \n",
       "377          Sports      0.59      2.36      0.04         0.51          84.0   \n",
       "456          Action      1.80      0.97      0.00         0.29          74.0   \n",
       "475        Fighting      1.57      1.02      0.00         0.41           NaN   \n",
       "609         Shooter      2.36      0.14      0.00         0.03           NaN   \n",
       "...             ...       ...       ...       ...          ...           ...   \n",
       "16373        Sports      0.01      0.00      0.00         0.00          43.0   \n",
       "16405        Racing      0.01      0.00      0.00         0.00          69.0   \n",
       "16448       Shooter      0.01      0.00      0.00         0.00          59.0   \n",
       "16458     Adventure      0.01      0.00      0.00         0.00           NaN   \n",
       "16522  Role-Playing      0.01      0.00      0.00         0.00          55.0   \n",
       "\n",
       "      user_score rating  \n",
       "183          8.5      E  \n",
       "377          6.4      E  \n",
       "456          7.9   E10+  \n",
       "475          NaN    NaN  \n",
       "609          NaN    NaN  \n",
       "...          ...    ...  \n",
       "16373        tbd   E10+  \n",
       "16405        6.5      T  \n",
       "16448        6.7      M  \n",
       "16458        NaN    NaN  \n",
       "16522        5.5      T  \n",
       "\n",
       "[269 rows x 11 columns]"
      ]
     },
     "execution_count": 205,
     "metadata": {},
     "output_type": "execute_result"
    }
   ],
   "source": [
    "df[df['year_of_release'].isna()]"
   ]
  },
  {
   "cell_type": "markdown",
   "metadata": {},
   "source": [
    "Untuk mengisi nilai yang hilang pada kolom `year_of_release`, kita akan mencoba melakukan pengelompokkan dengan kolom lain, yaitu `platform` dan mengisinya dengan nilai median. Karena dapat kita asumsikan bahwa game di platform yang sama mungkin saja memiliki tahun rilis yang mungkin sama, meskipun *genre* game tersebut mungkin berbeda - beda."
   ]
  },
  {
   "cell_type": "code",
   "execution_count": 206,
   "metadata": {},
   "outputs": [
    {
     "data": {
      "text/html": [
       "<div>\n",
       "<style scoped>\n",
       "    .dataframe tbody tr th:only-of-type {\n",
       "        vertical-align: middle;\n",
       "    }\n",
       "\n",
       "    .dataframe tbody tr th {\n",
       "        vertical-align: top;\n",
       "    }\n",
       "\n",
       "    .dataframe thead th {\n",
       "        text-align: right;\n",
       "    }\n",
       "</style>\n",
       "<table border=\"1\" class=\"dataframe\">\n",
       "  <thead>\n",
       "    <tr style=\"text-align: right;\">\n",
       "      <th></th>\n",
       "      <th>year_of_release</th>\n",
       "    </tr>\n",
       "    <tr>\n",
       "      <th>platform</th>\n",
       "      <th></th>\n",
       "    </tr>\n",
       "  </thead>\n",
       "  <tbody>\n",
       "    <tr>\n",
       "      <th>2600</th>\n",
       "      <td>1982.137931</td>\n",
       "    </tr>\n",
       "    <tr>\n",
       "      <th>3DO</th>\n",
       "      <td>1994.666667</td>\n",
       "    </tr>\n",
       "    <tr>\n",
       "      <th>3DS</th>\n",
       "      <td>2013.126953</td>\n",
       "    </tr>\n",
       "    <tr>\n",
       "      <th>DC</th>\n",
       "      <td>1999.942308</td>\n",
       "    </tr>\n",
       "    <tr>\n",
       "      <th>DS</th>\n",
       "      <td>2008.185290</td>\n",
       "    </tr>\n",
       "    <tr>\n",
       "      <th>GB</th>\n",
       "      <td>1995.958763</td>\n",
       "    </tr>\n",
       "    <tr>\n",
       "      <th>GBA</th>\n",
       "      <td>2003.210851</td>\n",
       "    </tr>\n",
       "    <tr>\n",
       "      <th>GC</th>\n",
       "      <td>2003.400369</td>\n",
       "    </tr>\n",
       "    <tr>\n",
       "      <th>GEN</th>\n",
       "      <td>1993.037037</td>\n",
       "    </tr>\n",
       "    <tr>\n",
       "      <th>GG</th>\n",
       "      <td>1992.000000</td>\n",
       "    </tr>\n",
       "    <tr>\n",
       "      <th>N64</th>\n",
       "      <td>1998.531646</td>\n",
       "    </tr>\n",
       "    <tr>\n",
       "      <th>NES</th>\n",
       "      <td>1987.153061</td>\n",
       "    </tr>\n",
       "    <tr>\n",
       "      <th>NG</th>\n",
       "      <td>1994.500000</td>\n",
       "    </tr>\n",
       "    <tr>\n",
       "      <th>PC</th>\n",
       "      <td>2008.914316</td>\n",
       "    </tr>\n",
       "    <tr>\n",
       "      <th>PCFX</th>\n",
       "      <td>1996.000000</td>\n",
       "    </tr>\n",
       "    <tr>\n",
       "      <th>PS</th>\n",
       "      <td>1998.005882</td>\n",
       "    </tr>\n",
       "    <tr>\n",
       "      <th>PS2</th>\n",
       "      <td>2004.583921</td>\n",
       "    </tr>\n",
       "    <tr>\n",
       "      <th>PS3</th>\n",
       "      <td>2010.840735</td>\n",
       "    </tr>\n",
       "    <tr>\n",
       "      <th>PS4</th>\n",
       "      <td>2015.145408</td>\n",
       "    </tr>\n",
       "    <tr>\n",
       "      <th>PSP</th>\n",
       "      <td>2008.731769</td>\n",
       "    </tr>\n",
       "    <tr>\n",
       "      <th>PSV</th>\n",
       "      <td>2014.132867</td>\n",
       "    </tr>\n",
       "    <tr>\n",
       "      <th>SAT</th>\n",
       "      <td>1996.028902</td>\n",
       "    </tr>\n",
       "    <tr>\n",
       "      <th>SCD</th>\n",
       "      <td>1993.833333</td>\n",
       "    </tr>\n",
       "    <tr>\n",
       "      <th>SNES</th>\n",
       "      <td>1993.845188</td>\n",
       "    </tr>\n",
       "    <tr>\n",
       "      <th>TG16</th>\n",
       "      <td>1995.000000</td>\n",
       "    </tr>\n",
       "    <tr>\n",
       "      <th>WS</th>\n",
       "      <td>2000.000000</td>\n",
       "    </tr>\n",
       "    <tr>\n",
       "      <th>Wii</th>\n",
       "      <td>2008.966563</td>\n",
       "    </tr>\n",
       "    <tr>\n",
       "      <th>WiiU</th>\n",
       "      <td>2013.659864</td>\n",
       "    </tr>\n",
       "    <tr>\n",
       "      <th>X360</th>\n",
       "      <td>2009.880682</td>\n",
       "    </tr>\n",
       "    <tr>\n",
       "      <th>XB</th>\n",
       "      <td>2003.636364</td>\n",
       "    </tr>\n",
       "    <tr>\n",
       "      <th>XOne</th>\n",
       "      <td>2014.951417</td>\n",
       "    </tr>\n",
       "  </tbody>\n",
       "</table>\n",
       "</div>"
      ],
      "text/plain": [
       "          year_of_release\n",
       "platform                 \n",
       "2600          1982.137931\n",
       "3DO           1994.666667\n",
       "3DS           2013.126953\n",
       "DC            1999.942308\n",
       "DS            2008.185290\n",
       "GB            1995.958763\n",
       "GBA           2003.210851\n",
       "GC            2003.400369\n",
       "GEN           1993.037037\n",
       "GG            1992.000000\n",
       "N64           1998.531646\n",
       "NES           1987.153061\n",
       "NG            1994.500000\n",
       "PC            2008.914316\n",
       "PCFX          1996.000000\n",
       "PS            1998.005882\n",
       "PS2           2004.583921\n",
       "PS3           2010.840735\n",
       "PS4           2015.145408\n",
       "PSP           2008.731769\n",
       "PSV           2014.132867\n",
       "SAT           1996.028902\n",
       "SCD           1993.833333\n",
       "SNES          1993.845188\n",
       "TG16          1995.000000\n",
       "WS            2000.000000\n",
       "Wii           2008.966563\n",
       "WiiU          2013.659864\n",
       "X360          2009.880682\n",
       "XB            2003.636364\n",
       "XOne          2014.951417"
      ]
     },
     "execution_count": 206,
     "metadata": {},
     "output_type": "execute_result"
    }
   ],
   "source": [
    "year_pivot = df.pivot_table(values = 'year_of_release', index = 'platform')\n",
    "year_pivot"
   ]
  },
  {
   "cell_type": "code",
   "execution_count": 207,
   "metadata": {},
   "outputs": [
    {
     "data": {
      "text/html": [
       "<div>\n",
       "<style scoped>\n",
       "    .dataframe tbody tr th:only-of-type {\n",
       "        vertical-align: middle;\n",
       "    }\n",
       "\n",
       "    .dataframe tbody tr th {\n",
       "        vertical-align: top;\n",
       "    }\n",
       "\n",
       "    .dataframe thead th {\n",
       "        text-align: right;\n",
       "    }\n",
       "</style>\n",
       "<table border=\"1\" class=\"dataframe\">\n",
       "  <thead>\n",
       "    <tr style=\"text-align: right;\">\n",
       "      <th></th>\n",
       "      <th>name</th>\n",
       "      <th>platform</th>\n",
       "      <th>year_of_release</th>\n",
       "      <th>genre</th>\n",
       "      <th>na_sales</th>\n",
       "      <th>eu_sales</th>\n",
       "      <th>jp_sales</th>\n",
       "      <th>other_sales</th>\n",
       "      <th>critic_score</th>\n",
       "      <th>user_score</th>\n",
       "      <th>rating</th>\n",
       "    </tr>\n",
       "  </thead>\n",
       "  <tbody>\n",
       "    <tr>\n",
       "      <th>0</th>\n",
       "      <td>Wii Sports</td>\n",
       "      <td>Wii</td>\n",
       "      <td>2006.0</td>\n",
       "      <td>Sports</td>\n",
       "      <td>41.36</td>\n",
       "      <td>28.96</td>\n",
       "      <td>3.77</td>\n",
       "      <td>8.45</td>\n",
       "      <td>76.0</td>\n",
       "      <td>8</td>\n",
       "      <td>E</td>\n",
       "    </tr>\n",
       "    <tr>\n",
       "      <th>2</th>\n",
       "      <td>Mario Kart Wii</td>\n",
       "      <td>Wii</td>\n",
       "      <td>2008.0</td>\n",
       "      <td>Racing</td>\n",
       "      <td>15.68</td>\n",
       "      <td>12.76</td>\n",
       "      <td>3.79</td>\n",
       "      <td>3.29</td>\n",
       "      <td>82.0</td>\n",
       "      <td>8.3</td>\n",
       "      <td>E</td>\n",
       "    </tr>\n",
       "    <tr>\n",
       "      <th>3</th>\n",
       "      <td>Wii Sports Resort</td>\n",
       "      <td>Wii</td>\n",
       "      <td>2009.0</td>\n",
       "      <td>Sports</td>\n",
       "      <td>15.61</td>\n",
       "      <td>10.93</td>\n",
       "      <td>3.28</td>\n",
       "      <td>2.95</td>\n",
       "      <td>80.0</td>\n",
       "      <td>8</td>\n",
       "      <td>E</td>\n",
       "    </tr>\n",
       "    <tr>\n",
       "      <th>6</th>\n",
       "      <td>New Super Mario Bros.</td>\n",
       "      <td>DS</td>\n",
       "      <td>2006.0</td>\n",
       "      <td>Platform</td>\n",
       "      <td>11.28</td>\n",
       "      <td>9.14</td>\n",
       "      <td>6.50</td>\n",
       "      <td>2.88</td>\n",
       "      <td>89.0</td>\n",
       "      <td>8.5</td>\n",
       "      <td>E</td>\n",
       "    </tr>\n",
       "    <tr>\n",
       "      <th>7</th>\n",
       "      <td>Wii Play</td>\n",
       "      <td>Wii</td>\n",
       "      <td>2006.0</td>\n",
       "      <td>Misc</td>\n",
       "      <td>13.96</td>\n",
       "      <td>9.18</td>\n",
       "      <td>2.93</td>\n",
       "      <td>2.84</td>\n",
       "      <td>58.0</td>\n",
       "      <td>6.6</td>\n",
       "      <td>E</td>\n",
       "    </tr>\n",
       "    <tr>\n",
       "      <th>...</th>\n",
       "      <td>...</td>\n",
       "      <td>...</td>\n",
       "      <td>...</td>\n",
       "      <td>...</td>\n",
       "      <td>...</td>\n",
       "      <td>...</td>\n",
       "      <td>...</td>\n",
       "      <td>...</td>\n",
       "      <td>...</td>\n",
       "      <td>...</td>\n",
       "      <td>...</td>\n",
       "    </tr>\n",
       "    <tr>\n",
       "      <th>16695</th>\n",
       "      <td>Planet Monsters</td>\n",
       "      <td>GBA</td>\n",
       "      <td>2001.0</td>\n",
       "      <td>Action</td>\n",
       "      <td>0.01</td>\n",
       "      <td>0.00</td>\n",
       "      <td>0.00</td>\n",
       "      <td>0.00</td>\n",
       "      <td>67.0</td>\n",
       "      <td>tbd</td>\n",
       "      <td>E</td>\n",
       "    </tr>\n",
       "    <tr>\n",
       "      <th>16696</th>\n",
       "      <td>Breach</td>\n",
       "      <td>PC</td>\n",
       "      <td>2011.0</td>\n",
       "      <td>Shooter</td>\n",
       "      <td>0.01</td>\n",
       "      <td>0.00</td>\n",
       "      <td>0.00</td>\n",
       "      <td>0.00</td>\n",
       "      <td>61.0</td>\n",
       "      <td>5.8</td>\n",
       "      <td>T</td>\n",
       "    </tr>\n",
       "    <tr>\n",
       "      <th>16697</th>\n",
       "      <td>Bust-A-Move 3000</td>\n",
       "      <td>GC</td>\n",
       "      <td>2003.0</td>\n",
       "      <td>Puzzle</td>\n",
       "      <td>0.01</td>\n",
       "      <td>0.00</td>\n",
       "      <td>0.00</td>\n",
       "      <td>0.00</td>\n",
       "      <td>53.0</td>\n",
       "      <td>tbd</td>\n",
       "      <td>E</td>\n",
       "    </tr>\n",
       "    <tr>\n",
       "      <th>16698</th>\n",
       "      <td>Mega Brain Boost</td>\n",
       "      <td>DS</td>\n",
       "      <td>2008.0</td>\n",
       "      <td>Puzzle</td>\n",
       "      <td>0.01</td>\n",
       "      <td>0.00</td>\n",
       "      <td>0.00</td>\n",
       "      <td>0.00</td>\n",
       "      <td>48.0</td>\n",
       "      <td>tbd</td>\n",
       "      <td>E</td>\n",
       "    </tr>\n",
       "    <tr>\n",
       "      <th>16702</th>\n",
       "      <td>STORM: Frontline Nation</td>\n",
       "      <td>PC</td>\n",
       "      <td>2011.0</td>\n",
       "      <td>Strategy</td>\n",
       "      <td>0.00</td>\n",
       "      <td>0.01</td>\n",
       "      <td>0.00</td>\n",
       "      <td>0.00</td>\n",
       "      <td>60.0</td>\n",
       "      <td>7.2</td>\n",
       "      <td>E10+</td>\n",
       "    </tr>\n",
       "  </tbody>\n",
       "</table>\n",
       "<p>7878 rows × 11 columns</p>\n",
       "</div>"
      ],
      "text/plain": [
       "                          name platform  year_of_release     genre  na_sales  \\\n",
       "0                   Wii Sports      Wii           2006.0    Sports     41.36   \n",
       "2               Mario Kart Wii      Wii           2008.0    Racing     15.68   \n",
       "3            Wii Sports Resort      Wii           2009.0    Sports     15.61   \n",
       "6        New Super Mario Bros.       DS           2006.0  Platform     11.28   \n",
       "7                     Wii Play      Wii           2006.0      Misc     13.96   \n",
       "...                        ...      ...              ...       ...       ...   \n",
       "16695          Planet Monsters      GBA           2001.0    Action      0.01   \n",
       "16696                   Breach       PC           2011.0   Shooter      0.01   \n",
       "16697         Bust-A-Move 3000       GC           2003.0    Puzzle      0.01   \n",
       "16698         Mega Brain Boost       DS           2008.0    Puzzle      0.01   \n",
       "16702  STORM: Frontline Nation       PC           2011.0  Strategy      0.00   \n",
       "\n",
       "       eu_sales  jp_sales  other_sales  critic_score user_score rating  \n",
       "0         28.96      3.77         8.45          76.0          8      E  \n",
       "2         12.76      3.79         3.29          82.0        8.3      E  \n",
       "3         10.93      3.28         2.95          80.0          8      E  \n",
       "6          9.14      6.50         2.88          89.0        8.5      E  \n",
       "7          9.18      2.93         2.84          58.0        6.6      E  \n",
       "...         ...       ...          ...           ...        ...    ...  \n",
       "16695      0.00      0.00         0.00          67.0        tbd      E  \n",
       "16696      0.00      0.00         0.00          61.0        5.8      T  \n",
       "16697      0.00      0.00         0.00          53.0        tbd      E  \n",
       "16698      0.00      0.00         0.00          48.0        tbd      E  \n",
       "16702      0.01      0.00         0.00          60.0        7.2   E10+  \n",
       "\n",
       "[7878 rows x 11 columns]"
      ]
     },
     "execution_count": 207,
     "metadata": {},
     "output_type": "execute_result"
    }
   ],
   "source": [
    "df_wo_nan = df.dropna()\n",
    "df_wo_nan"
   ]
  },
  {
   "cell_type": "code",
   "execution_count": 208,
   "metadata": {},
   "outputs": [
    {
     "data": {
      "text/plain": [
       "platform\n",
       "3DS     2012.0\n",
       "DC      2000.0\n",
       "DS      2008.0\n",
       "GBA     2003.0\n",
       "GC      2003.0\n",
       "PC      2009.0\n",
       "PS      2000.0\n",
       "PS2     2004.0\n",
       "PS3     2010.0\n",
       "PS4     2015.0\n",
       "PSP     2007.0\n",
       "PSV     2013.0\n",
       "Wii     2008.0\n",
       "WiiU    2013.0\n",
       "X360    2009.0\n",
       "XB      2004.0\n",
       "XOne    2015.0\n",
       "Name: year_of_release, dtype: float64"
      ]
     },
     "execution_count": 208,
     "metadata": {},
     "output_type": "execute_result"
    }
   ],
   "source": [
    "median_year = df_wo_nan.groupby('platform')['year_of_release'].median()\n",
    "median_year"
   ]
  },
  {
   "cell_type": "code",
   "execution_count": 209,
   "metadata": {},
   "outputs": [
    {
     "data": {
      "text/plain": [
       "platform\n",
       "2600    1982.0\n",
       "3DO     1995.0\n",
       "3DS     2013.0\n",
       "DC      2000.0\n",
       "DS      2008.0\n",
       "GB      1997.0\n",
       "GBA     2003.0\n",
       "GC      2003.0\n",
       "GEN     1993.0\n",
       "GG      1992.0\n",
       "N64     1999.0\n",
       "NES     1986.5\n",
       "NG      1994.5\n",
       "PC      2010.0\n",
       "PCFX    1996.0\n",
       "PS      1998.0\n",
       "PS2     2005.0\n",
       "PS3     2011.0\n",
       "PS4     2015.0\n",
       "PSP     2009.0\n",
       "PSV     2014.0\n",
       "SAT     1996.0\n",
       "SCD     1994.0\n",
       "SNES    1994.0\n",
       "TG16    1995.0\n",
       "WS      2000.0\n",
       "Wii     2009.0\n",
       "WiiU    2013.0\n",
       "X360    2010.0\n",
       "XB      2004.0\n",
       "XOne    2015.0\n",
       "Name: year_of_release, dtype: float64"
      ]
     },
     "execution_count": 209,
     "metadata": {},
     "output_type": "execute_result"
    }
   ],
   "source": [
    "median_year_2 = df.groupby('platform')['year_of_release'].median()\n",
    "median_year_2"
   ]
  },
  {
   "cell_type": "code",
   "execution_count": 210,
   "metadata": {},
   "outputs": [],
   "source": [
    "def get_median_year_of_release(row):  \n",
    "    year_of_release= row['year_of_release']\n",
    "    platform = row['platform']\n",
    "    try:\n",
    "        return median_year[platform]\n",
    "    except:\n",
    "        return median_year_2[platform]"
   ]
  },
  {
   "cell_type": "code",
   "execution_count": 211,
   "metadata": {},
   "outputs": [],
   "source": [
    "df['median_year_of_release'] = df.apply(get_median_year_of_release, axis=1)"
   ]
  },
  {
   "cell_type": "code",
   "execution_count": 212,
   "metadata": {},
   "outputs": [
    {
     "data": {
      "text/html": [
       "<div>\n",
       "<style scoped>\n",
       "    .dataframe tbody tr th:only-of-type {\n",
       "        vertical-align: middle;\n",
       "    }\n",
       "\n",
       "    .dataframe tbody tr th {\n",
       "        vertical-align: top;\n",
       "    }\n",
       "\n",
       "    .dataframe thead th {\n",
       "        text-align: right;\n",
       "    }\n",
       "</style>\n",
       "<table border=\"1\" class=\"dataframe\">\n",
       "  <thead>\n",
       "    <tr style=\"text-align: right;\">\n",
       "      <th></th>\n",
       "      <th>name</th>\n",
       "      <th>platform</th>\n",
       "      <th>year_of_release</th>\n",
       "      <th>genre</th>\n",
       "      <th>na_sales</th>\n",
       "      <th>eu_sales</th>\n",
       "      <th>jp_sales</th>\n",
       "      <th>other_sales</th>\n",
       "      <th>critic_score</th>\n",
       "      <th>user_score</th>\n",
       "      <th>rating</th>\n",
       "      <th>median_year_of_release</th>\n",
       "    </tr>\n",
       "  </thead>\n",
       "  <tbody>\n",
       "    <tr>\n",
       "      <th>0</th>\n",
       "      <td>Wii Sports</td>\n",
       "      <td>Wii</td>\n",
       "      <td>2006.0</td>\n",
       "      <td>Sports</td>\n",
       "      <td>41.36</td>\n",
       "      <td>28.96</td>\n",
       "      <td>3.77</td>\n",
       "      <td>8.45</td>\n",
       "      <td>76.0</td>\n",
       "      <td>8</td>\n",
       "      <td>E</td>\n",
       "      <td>2008.0</td>\n",
       "    </tr>\n",
       "    <tr>\n",
       "      <th>1</th>\n",
       "      <td>Super Mario Bros.</td>\n",
       "      <td>NES</td>\n",
       "      <td>1985.0</td>\n",
       "      <td>Platform</td>\n",
       "      <td>29.08</td>\n",
       "      <td>3.58</td>\n",
       "      <td>6.81</td>\n",
       "      <td>0.77</td>\n",
       "      <td>NaN</td>\n",
       "      <td>NaN</td>\n",
       "      <td>NaN</td>\n",
       "      <td>1986.5</td>\n",
       "    </tr>\n",
       "    <tr>\n",
       "      <th>2</th>\n",
       "      <td>Mario Kart Wii</td>\n",
       "      <td>Wii</td>\n",
       "      <td>2008.0</td>\n",
       "      <td>Racing</td>\n",
       "      <td>15.68</td>\n",
       "      <td>12.76</td>\n",
       "      <td>3.79</td>\n",
       "      <td>3.29</td>\n",
       "      <td>82.0</td>\n",
       "      <td>8.3</td>\n",
       "      <td>E</td>\n",
       "      <td>2008.0</td>\n",
       "    </tr>\n",
       "    <tr>\n",
       "      <th>3</th>\n",
       "      <td>Wii Sports Resort</td>\n",
       "      <td>Wii</td>\n",
       "      <td>2009.0</td>\n",
       "      <td>Sports</td>\n",
       "      <td>15.61</td>\n",
       "      <td>10.93</td>\n",
       "      <td>3.28</td>\n",
       "      <td>2.95</td>\n",
       "      <td>80.0</td>\n",
       "      <td>8</td>\n",
       "      <td>E</td>\n",
       "      <td>2008.0</td>\n",
       "    </tr>\n",
       "    <tr>\n",
       "      <th>4</th>\n",
       "      <td>Pokemon Red/Pokemon Blue</td>\n",
       "      <td>GB</td>\n",
       "      <td>1996.0</td>\n",
       "      <td>Role-Playing</td>\n",
       "      <td>11.27</td>\n",
       "      <td>8.89</td>\n",
       "      <td>10.22</td>\n",
       "      <td>1.00</td>\n",
       "      <td>NaN</td>\n",
       "      <td>NaN</td>\n",
       "      <td>NaN</td>\n",
       "      <td>1997.0</td>\n",
       "    </tr>\n",
       "  </tbody>\n",
       "</table>\n",
       "</div>"
      ],
      "text/plain": [
       "                       name platform  year_of_release         genre  na_sales  \\\n",
       "0                Wii Sports      Wii           2006.0        Sports     41.36   \n",
       "1         Super Mario Bros.      NES           1985.0      Platform     29.08   \n",
       "2            Mario Kart Wii      Wii           2008.0        Racing     15.68   \n",
       "3         Wii Sports Resort      Wii           2009.0        Sports     15.61   \n",
       "4  Pokemon Red/Pokemon Blue       GB           1996.0  Role-Playing     11.27   \n",
       "\n",
       "   eu_sales  jp_sales  other_sales  critic_score user_score rating  \\\n",
       "0     28.96      3.77         8.45          76.0          8      E   \n",
       "1      3.58      6.81         0.77           NaN        NaN    NaN   \n",
       "2     12.76      3.79         3.29          82.0        8.3      E   \n",
       "3     10.93      3.28         2.95          80.0          8      E   \n",
       "4      8.89     10.22         1.00           NaN        NaN    NaN   \n",
       "\n",
       "   median_year_of_release  \n",
       "0                  2008.0  \n",
       "1                  1986.5  \n",
       "2                  2008.0  \n",
       "3                  2008.0  \n",
       "4                  1997.0  "
      ]
     },
     "execution_count": 212,
     "metadata": {},
     "output_type": "execute_result"
    }
   ],
   "source": [
    "df.head()"
   ]
  },
  {
   "cell_type": "code",
   "execution_count": 213,
   "metadata": {},
   "outputs": [],
   "source": [
    "df['year_of_release'] = df['year_of_release'].fillna(df['median_year_of_release'])"
   ]
  },
  {
   "cell_type": "code",
   "execution_count": 214,
   "metadata": {},
   "outputs": [
    {
     "data": {
      "text/html": [
       "<div>\n",
       "<style scoped>\n",
       "    .dataframe tbody tr th:only-of-type {\n",
       "        vertical-align: middle;\n",
       "    }\n",
       "\n",
       "    .dataframe tbody tr th {\n",
       "        vertical-align: top;\n",
       "    }\n",
       "\n",
       "    .dataframe thead th {\n",
       "        text-align: right;\n",
       "    }\n",
       "</style>\n",
       "<table border=\"1\" class=\"dataframe\">\n",
       "  <thead>\n",
       "    <tr style=\"text-align: right;\">\n",
       "      <th></th>\n",
       "      <th>name</th>\n",
       "      <th>platform</th>\n",
       "      <th>year_of_release</th>\n",
       "      <th>genre</th>\n",
       "      <th>na_sales</th>\n",
       "      <th>eu_sales</th>\n",
       "      <th>jp_sales</th>\n",
       "      <th>other_sales</th>\n",
       "      <th>critic_score</th>\n",
       "      <th>user_score</th>\n",
       "      <th>rating</th>\n",
       "      <th>median_year_of_release</th>\n",
       "    </tr>\n",
       "  </thead>\n",
       "  <tbody>\n",
       "    <tr>\n",
       "      <th>0</th>\n",
       "      <td>Wii Sports</td>\n",
       "      <td>Wii</td>\n",
       "      <td>2006.0</td>\n",
       "      <td>Sports</td>\n",
       "      <td>41.36</td>\n",
       "      <td>28.96</td>\n",
       "      <td>3.77</td>\n",
       "      <td>8.45</td>\n",
       "      <td>76.0</td>\n",
       "      <td>8</td>\n",
       "      <td>E</td>\n",
       "      <td>2008.0</td>\n",
       "    </tr>\n",
       "    <tr>\n",
       "      <th>1</th>\n",
       "      <td>Super Mario Bros.</td>\n",
       "      <td>NES</td>\n",
       "      <td>1985.0</td>\n",
       "      <td>Platform</td>\n",
       "      <td>29.08</td>\n",
       "      <td>3.58</td>\n",
       "      <td>6.81</td>\n",
       "      <td>0.77</td>\n",
       "      <td>NaN</td>\n",
       "      <td>NaN</td>\n",
       "      <td>NaN</td>\n",
       "      <td>1986.5</td>\n",
       "    </tr>\n",
       "    <tr>\n",
       "      <th>2</th>\n",
       "      <td>Mario Kart Wii</td>\n",
       "      <td>Wii</td>\n",
       "      <td>2008.0</td>\n",
       "      <td>Racing</td>\n",
       "      <td>15.68</td>\n",
       "      <td>12.76</td>\n",
       "      <td>3.79</td>\n",
       "      <td>3.29</td>\n",
       "      <td>82.0</td>\n",
       "      <td>8.3</td>\n",
       "      <td>E</td>\n",
       "      <td>2008.0</td>\n",
       "    </tr>\n",
       "    <tr>\n",
       "      <th>3</th>\n",
       "      <td>Wii Sports Resort</td>\n",
       "      <td>Wii</td>\n",
       "      <td>2009.0</td>\n",
       "      <td>Sports</td>\n",
       "      <td>15.61</td>\n",
       "      <td>10.93</td>\n",
       "      <td>3.28</td>\n",
       "      <td>2.95</td>\n",
       "      <td>80.0</td>\n",
       "      <td>8</td>\n",
       "      <td>E</td>\n",
       "      <td>2008.0</td>\n",
       "    </tr>\n",
       "    <tr>\n",
       "      <th>4</th>\n",
       "      <td>Pokemon Red/Pokemon Blue</td>\n",
       "      <td>GB</td>\n",
       "      <td>1996.0</td>\n",
       "      <td>Role-Playing</td>\n",
       "      <td>11.27</td>\n",
       "      <td>8.89</td>\n",
       "      <td>10.22</td>\n",
       "      <td>1.00</td>\n",
       "      <td>NaN</td>\n",
       "      <td>NaN</td>\n",
       "      <td>NaN</td>\n",
       "      <td>1997.0</td>\n",
       "    </tr>\n",
       "  </tbody>\n",
       "</table>\n",
       "</div>"
      ],
      "text/plain": [
       "                       name platform  year_of_release         genre  na_sales  \\\n",
       "0                Wii Sports      Wii           2006.0        Sports     41.36   \n",
       "1         Super Mario Bros.      NES           1985.0      Platform     29.08   \n",
       "2            Mario Kart Wii      Wii           2008.0        Racing     15.68   \n",
       "3         Wii Sports Resort      Wii           2009.0        Sports     15.61   \n",
       "4  Pokemon Red/Pokemon Blue       GB           1996.0  Role-Playing     11.27   \n",
       "\n",
       "   eu_sales  jp_sales  other_sales  critic_score user_score rating  \\\n",
       "0     28.96      3.77         8.45          76.0          8      E   \n",
       "1      3.58      6.81         0.77           NaN        NaN    NaN   \n",
       "2     12.76      3.79         3.29          82.0        8.3      E   \n",
       "3     10.93      3.28         2.95          80.0          8      E   \n",
       "4      8.89     10.22         1.00           NaN        NaN    NaN   \n",
       "\n",
       "   median_year_of_release  \n",
       "0                  2008.0  \n",
       "1                  1986.5  \n",
       "2                  2008.0  \n",
       "3                  2008.0  \n",
       "4                  1997.0  "
      ]
     },
     "execution_count": 214,
     "metadata": {},
     "output_type": "execute_result"
    }
   ],
   "source": [
    "df.head()"
   ]
  },
  {
   "cell_type": "code",
   "execution_count": 215,
   "metadata": {},
   "outputs": [
    {
     "data": {
      "text/html": [
       "<div>\n",
       "<style scoped>\n",
       "    .dataframe tbody tr th:only-of-type {\n",
       "        vertical-align: middle;\n",
       "    }\n",
       "\n",
       "    .dataframe tbody tr th {\n",
       "        vertical-align: top;\n",
       "    }\n",
       "\n",
       "    .dataframe thead th {\n",
       "        text-align: right;\n",
       "    }\n",
       "</style>\n",
       "<table border=\"1\" class=\"dataframe\">\n",
       "  <thead>\n",
       "    <tr style=\"text-align: right;\">\n",
       "      <th></th>\n",
       "      <th>name</th>\n",
       "      <th>platform</th>\n",
       "      <th>year_of_release</th>\n",
       "      <th>genre</th>\n",
       "      <th>na_sales</th>\n",
       "      <th>eu_sales</th>\n",
       "      <th>jp_sales</th>\n",
       "      <th>other_sales</th>\n",
       "      <th>critic_score</th>\n",
       "      <th>user_score</th>\n",
       "      <th>rating</th>\n",
       "      <th>median_year_of_release</th>\n",
       "    </tr>\n",
       "  </thead>\n",
       "  <tbody>\n",
       "  </tbody>\n",
       "</table>\n",
       "</div>"
      ],
      "text/plain": [
       "Empty DataFrame\n",
       "Columns: [name, platform, year_of_release, genre, na_sales, eu_sales, jp_sales, other_sales, critic_score, user_score, rating, median_year_of_release]\n",
       "Index: []"
      ]
     },
     "execution_count": 215,
     "metadata": {},
     "output_type": "execute_result"
    }
   ],
   "source": [
    "df[df['year_of_release'].isna()]"
   ]
  },
  {
   "cell_type": "markdown",
   "metadata": {},
   "source": [
    "Sekarang, semua nilai NaN di kolom `year_of_release` sudah terisi."
   ]
  },
  {
   "cell_type": "markdown",
   "metadata": {},
   "source": [
    "**Mengatasi nilai yang hilang pada kolom `critic_score`, `user_score` dan `rating`**"
   ]
  },
  {
   "cell_type": "markdown",
   "metadata": {},
   "source": [
    "Kolom `critic_score`, `user_score`, dan `rating` memiliki banyak sekali nilai yang hilang, jika dilihat, persentasenya sekitar 40 hingga 50%. Kita tidak bisa secara langsung mengisi nilai yang hilang tersebut dengan median atau rata - rata karena akan mempengaruhi distribusi datanya. Melihat jumlahnya yang sangat banyak, nilai yang hilang pada ketiga kolom tersebut mungkin saja dapat berupa informasi yang tidak lengkap dan bukan kesalahan *input* data.\n",
    "\n",
    "Kita juga tidak bisa langsung menghapus data tersebut, karena data - data tersebut akan berpengaruh terhadap tujuan penelitian, terutama data pada kolom `critic_score` dan `user_score`.\n",
    "\n",
    "Untuk saat ini, kita akan membiarkan kolom - kolom tersebut tetap bernilai null atau NaN."
   ]
  },
  {
   "cell_type": "markdown",
   "metadata": {},
   "source": [
    "### Mengatasi Duplikat"
   ]
  },
  {
   "cell_type": "code",
   "execution_count": 216,
   "metadata": {},
   "outputs": [
    {
     "data": {
      "text/plain": [
       "0"
      ]
     },
     "execution_count": 216,
     "metadata": {},
     "output_type": "execute_result"
    }
   ],
   "source": [
    "df.duplicated().sum()"
   ]
  },
  {
   "cell_type": "markdown",
   "metadata": {},
   "source": [
    "Kita tidak memiliki data yang terduplikasi pada dataset kita."
   ]
  },
  {
   "cell_type": "markdown",
   "metadata": {},
   "source": [
    "### Memperbaiki Tipe Data"
   ]
  },
  {
   "cell_type": "markdown",
   "metadata": {},
   "source": [
    "Setelah nilai yang hilang telah diperbaiki, kita masih memiliki beberapa kolom dengan tipe data yang salah, yaitu:\n",
    "* kolom `year_of_release` memiliki tipe data *float*.\n",
    "* kolom `user_score` memiliki tipe data *object*.\n",
    "\n",
    "Karena itu, kita akan memperbaiki tipe data tersebut mnejadi yang lebih sesuai."
   ]
  },
  {
   "cell_type": "code",
   "execution_count": 217,
   "metadata": {},
   "outputs": [],
   "source": [
    "df['year_of_release'] = df['year_of_release'].astype('int')"
   ]
  },
  {
   "cell_type": "code",
   "execution_count": 218,
   "metadata": {},
   "outputs": [
    {
     "data": {
      "text/plain": [
       "array(['8', nan, '8.3', '8.5', '6.6', '8.4', '8.6', '7.7', '6.3', '7.4',\n",
       "       '8.2', '9', '7.9', '8.1', '8.7', '7.1', '3.4', '5.3', '4.8', '3.2',\n",
       "       '8.9', '6.4', '7.8', '7.5', '2.6', '7.2', '9.2', '7', '7.3', '4.3',\n",
       "       '7.6', '5.7', '5', '9.1', '6.5', 'tbd', '8.8', '6.9', '9.4', '6.8',\n",
       "       '6.1', '6.7', '5.4', '4', '4.9', '4.5', '9.3', '6.2', '4.2', '6',\n",
       "       '3.7', '4.1', '5.8', '5.6', '5.5', '4.4', '4.6', '5.9', '3.9',\n",
       "       '3.1', '2.9', '5.2', '3.3', '4.7', '5.1', '3.5', '2.5', '1.9', '3',\n",
       "       '2.7', '2.2', '2', '9.5', '2.1', '3.6', '2.8', '1.8', '3.8', '0',\n",
       "       '1.6', '9.6', '2.4', '1.7', '1.1', '0.3', '1.5', '0.7', '1.2',\n",
       "       '2.3', '0.5', '1.3', '0.2', '0.6', '1.4', '0.9', '1', '9.7'],\n",
       "      dtype=object)"
      ]
     },
     "execution_count": 218,
     "metadata": {},
     "output_type": "execute_result"
    }
   ],
   "source": [
    "df['user_score'].unique()"
   ]
  },
  {
   "cell_type": "code",
   "execution_count": 219,
   "metadata": {},
   "outputs": [
    {
     "data": {
      "text/html": [
       "<div>\n",
       "<style scoped>\n",
       "    .dataframe tbody tr th:only-of-type {\n",
       "        vertical-align: middle;\n",
       "    }\n",
       "\n",
       "    .dataframe tbody tr th {\n",
       "        vertical-align: top;\n",
       "    }\n",
       "\n",
       "    .dataframe thead th {\n",
       "        text-align: right;\n",
       "    }\n",
       "</style>\n",
       "<table border=\"1\" class=\"dataframe\">\n",
       "  <thead>\n",
       "    <tr style=\"text-align: right;\">\n",
       "      <th></th>\n",
       "      <th>name</th>\n",
       "      <th>platform</th>\n",
       "      <th>year_of_release</th>\n",
       "      <th>genre</th>\n",
       "      <th>na_sales</th>\n",
       "      <th>eu_sales</th>\n",
       "      <th>jp_sales</th>\n",
       "      <th>other_sales</th>\n",
       "      <th>critic_score</th>\n",
       "      <th>user_score</th>\n",
       "      <th>rating</th>\n",
       "      <th>median_year_of_release</th>\n",
       "    </tr>\n",
       "  </thead>\n",
       "  <tbody>\n",
       "    <tr>\n",
       "      <th>119</th>\n",
       "      <td>Zumba Fitness</td>\n",
       "      <td>Wii</td>\n",
       "      <td>2010</td>\n",
       "      <td>Sports</td>\n",
       "      <td>3.45</td>\n",
       "      <td>2.59</td>\n",
       "      <td>0.0</td>\n",
       "      <td>0.66</td>\n",
       "      <td>NaN</td>\n",
       "      <td>tbd</td>\n",
       "      <td>E</td>\n",
       "      <td>2008.0</td>\n",
       "    </tr>\n",
       "    <tr>\n",
       "      <th>301</th>\n",
       "      <td>Namco Museum: 50th Anniversary</td>\n",
       "      <td>PS2</td>\n",
       "      <td>2005</td>\n",
       "      <td>Misc</td>\n",
       "      <td>2.08</td>\n",
       "      <td>1.35</td>\n",
       "      <td>0.0</td>\n",
       "      <td>0.54</td>\n",
       "      <td>61.0</td>\n",
       "      <td>tbd</td>\n",
       "      <td>E10+</td>\n",
       "      <td>2004.0</td>\n",
       "    </tr>\n",
       "    <tr>\n",
       "      <th>520</th>\n",
       "      <td>Zumba Fitness 2</td>\n",
       "      <td>Wii</td>\n",
       "      <td>2011</td>\n",
       "      <td>Sports</td>\n",
       "      <td>1.51</td>\n",
       "      <td>1.03</td>\n",
       "      <td>0.0</td>\n",
       "      <td>0.27</td>\n",
       "      <td>NaN</td>\n",
       "      <td>tbd</td>\n",
       "      <td>T</td>\n",
       "      <td>2008.0</td>\n",
       "    </tr>\n",
       "    <tr>\n",
       "      <th>645</th>\n",
       "      <td>uDraw Studio</td>\n",
       "      <td>Wii</td>\n",
       "      <td>2010</td>\n",
       "      <td>Misc</td>\n",
       "      <td>1.65</td>\n",
       "      <td>0.57</td>\n",
       "      <td>0.0</td>\n",
       "      <td>0.20</td>\n",
       "      <td>71.0</td>\n",
       "      <td>tbd</td>\n",
       "      <td>E</td>\n",
       "      <td>2008.0</td>\n",
       "    </tr>\n",
       "    <tr>\n",
       "      <th>657</th>\n",
       "      <td>Frogger's Adventures: Temple of the Frog</td>\n",
       "      <td>GBA</td>\n",
       "      <td>2003</td>\n",
       "      <td>Adventure</td>\n",
       "      <td>2.15</td>\n",
       "      <td>0.18</td>\n",
       "      <td>0.0</td>\n",
       "      <td>0.07</td>\n",
       "      <td>73.0</td>\n",
       "      <td>tbd</td>\n",
       "      <td>E</td>\n",
       "      <td>2003.0</td>\n",
       "    </tr>\n",
       "    <tr>\n",
       "      <th>...</th>\n",
       "      <td>...</td>\n",
       "      <td>...</td>\n",
       "      <td>...</td>\n",
       "      <td>...</td>\n",
       "      <td>...</td>\n",
       "      <td>...</td>\n",
       "      <td>...</td>\n",
       "      <td>...</td>\n",
       "      <td>...</td>\n",
       "      <td>...</td>\n",
       "      <td>...</td>\n",
       "      <td>...</td>\n",
       "    </tr>\n",
       "    <tr>\n",
       "      <th>16695</th>\n",
       "      <td>Planet Monsters</td>\n",
       "      <td>GBA</td>\n",
       "      <td>2001</td>\n",
       "      <td>Action</td>\n",
       "      <td>0.01</td>\n",
       "      <td>0.00</td>\n",
       "      <td>0.0</td>\n",
       "      <td>0.00</td>\n",
       "      <td>67.0</td>\n",
       "      <td>tbd</td>\n",
       "      <td>E</td>\n",
       "      <td>2003.0</td>\n",
       "    </tr>\n",
       "    <tr>\n",
       "      <th>16697</th>\n",
       "      <td>Bust-A-Move 3000</td>\n",
       "      <td>GC</td>\n",
       "      <td>2003</td>\n",
       "      <td>Puzzle</td>\n",
       "      <td>0.01</td>\n",
       "      <td>0.00</td>\n",
       "      <td>0.0</td>\n",
       "      <td>0.00</td>\n",
       "      <td>53.0</td>\n",
       "      <td>tbd</td>\n",
       "      <td>E</td>\n",
       "      <td>2003.0</td>\n",
       "    </tr>\n",
       "    <tr>\n",
       "      <th>16698</th>\n",
       "      <td>Mega Brain Boost</td>\n",
       "      <td>DS</td>\n",
       "      <td>2008</td>\n",
       "      <td>Puzzle</td>\n",
       "      <td>0.01</td>\n",
       "      <td>0.00</td>\n",
       "      <td>0.0</td>\n",
       "      <td>0.00</td>\n",
       "      <td>48.0</td>\n",
       "      <td>tbd</td>\n",
       "      <td>E</td>\n",
       "      <td>2008.0</td>\n",
       "    </tr>\n",
       "    <tr>\n",
       "      <th>16704</th>\n",
       "      <td>Plushees</td>\n",
       "      <td>DS</td>\n",
       "      <td>2008</td>\n",
       "      <td>Simulation</td>\n",
       "      <td>0.01</td>\n",
       "      <td>0.00</td>\n",
       "      <td>0.0</td>\n",
       "      <td>0.00</td>\n",
       "      <td>NaN</td>\n",
       "      <td>tbd</td>\n",
       "      <td>E</td>\n",
       "      <td>2008.0</td>\n",
       "    </tr>\n",
       "    <tr>\n",
       "      <th>16706</th>\n",
       "      <td>Men in Black II: Alien Escape</td>\n",
       "      <td>GC</td>\n",
       "      <td>2003</td>\n",
       "      <td>Shooter</td>\n",
       "      <td>0.01</td>\n",
       "      <td>0.00</td>\n",
       "      <td>0.0</td>\n",
       "      <td>0.00</td>\n",
       "      <td>NaN</td>\n",
       "      <td>tbd</td>\n",
       "      <td>T</td>\n",
       "      <td>2003.0</td>\n",
       "    </tr>\n",
       "  </tbody>\n",
       "</table>\n",
       "<p>2424 rows × 12 columns</p>\n",
       "</div>"
      ],
      "text/plain": [
       "                                           name platform  year_of_release  \\\n",
       "119                               Zumba Fitness      Wii             2010   \n",
       "301              Namco Museum: 50th Anniversary      PS2             2005   \n",
       "520                             Zumba Fitness 2      Wii             2011   \n",
       "645                                uDraw Studio      Wii             2010   \n",
       "657    Frogger's Adventures: Temple of the Frog      GBA             2003   \n",
       "...                                         ...      ...              ...   \n",
       "16695                           Planet Monsters      GBA             2001   \n",
       "16697                          Bust-A-Move 3000       GC             2003   \n",
       "16698                          Mega Brain Boost       DS             2008   \n",
       "16704                                  Plushees       DS             2008   \n",
       "16706             Men in Black II: Alien Escape       GC             2003   \n",
       "\n",
       "            genre  na_sales  eu_sales  jp_sales  other_sales  critic_score  \\\n",
       "119        Sports      3.45      2.59       0.0         0.66           NaN   \n",
       "301          Misc      2.08      1.35       0.0         0.54          61.0   \n",
       "520        Sports      1.51      1.03       0.0         0.27           NaN   \n",
       "645          Misc      1.65      0.57       0.0         0.20          71.0   \n",
       "657     Adventure      2.15      0.18       0.0         0.07          73.0   \n",
       "...           ...       ...       ...       ...          ...           ...   \n",
       "16695      Action      0.01      0.00       0.0         0.00          67.0   \n",
       "16697      Puzzle      0.01      0.00       0.0         0.00          53.0   \n",
       "16698      Puzzle      0.01      0.00       0.0         0.00          48.0   \n",
       "16704  Simulation      0.01      0.00       0.0         0.00           NaN   \n",
       "16706     Shooter      0.01      0.00       0.0         0.00           NaN   \n",
       "\n",
       "      user_score rating  median_year_of_release  \n",
       "119          tbd      E                  2008.0  \n",
       "301          tbd   E10+                  2004.0  \n",
       "520          tbd      T                  2008.0  \n",
       "645          tbd      E                  2008.0  \n",
       "657          tbd      E                  2003.0  \n",
       "...          ...    ...                     ...  \n",
       "16695        tbd      E                  2003.0  \n",
       "16697        tbd      E                  2003.0  \n",
       "16698        tbd      E                  2008.0  \n",
       "16704        tbd      E                  2008.0  \n",
       "16706        tbd      T                  2003.0  \n",
       "\n",
       "[2424 rows x 12 columns]"
      ]
     },
     "execution_count": 219,
     "metadata": {},
     "output_type": "execute_result"
    }
   ],
   "source": [
    "df[df['user_score'] == 'tbd']"
   ]
  },
  {
   "cell_type": "markdown",
   "metadata": {},
   "source": [
    "Pada kolom `user_score` kita temukan nilai 'tbd' (to be determined atau dalam Bahasa Indonesia, \"akan ditentukan\"). Di awal penelitian, kita sudah melihat tipe data kolom ini adalah *object* padahal seharusnya ia berisi data numerik. Dengan adanya nilai 'tbd' kita mengetahui bahwa tipe data *object* tersebut adalah karena terdapat nilai ini dalam kolom `user_score`.\n",
    "\n",
    "Asumsi awal munculnya nilai 'tbd' di kolom `user_score` mungkin saja karena game tersebut masih baru dirilis, sehingga belum ada *user* yang memberikan penilaian.\n",
    "\n",
    "Tetapi, setelah melihat beberapa data dengan nilai 'tbd', kelihatannya game - game tersebut bukan game baru, jadi mungkin dapat kita asumsikan sepertinya game tersebut tidak begitu laku atau tidak populer. Maka, data ini dapat kita abaikan.\n",
    "\n",
    "Namun, karena kita perlu mengganti tipe data di kolom `user_score`, kita perlu memperbaiki nilai 'tbd' supaya tidak terbaca sebagai *object*.\n",
    "\n",
    "Untuk tahap selanjutnya, berarti kita harus mengubah nilai 'tbd' terlebih dahulu menjadi NaN, sebelum memperbaiki tipe data kolom `user_score` menjadi *float*. Kita tidak mengubahnya menjadi nilai 0 (nol), karena datanya dapat menjadi tidak relevan. Mungkin game tersebut tidak populer, tapi bukan berarti penilaiannya 0 (nol) atau dalam arti game tersebut sangat buruk."
   ]
  },
  {
   "cell_type": "code",
   "execution_count": 220,
   "metadata": {},
   "outputs": [],
   "source": [
    "df['user_score'] = df['user_score'].replace('tbd', np.nan)"
   ]
  },
  {
   "cell_type": "code",
   "execution_count": 221,
   "metadata": {},
   "outputs": [],
   "source": [
    "df['user_score'] = df['user_score'].astype('float')"
   ]
  },
  {
   "cell_type": "code",
   "execution_count": 222,
   "metadata": {},
   "outputs": [
    {
     "data": {
      "text/plain": [
       "array([8. , nan, 8.3, 8.5, 6.6, 8.4, 8.6, 7.7, 6.3, 7.4, 8.2, 9. , 7.9,\n",
       "       8.1, 8.7, 7.1, 3.4, 5.3, 4.8, 3.2, 8.9, 6.4, 7.8, 7.5, 2.6, 7.2,\n",
       "       9.2, 7. , 7.3, 4.3, 7.6, 5.7, 5. , 9.1, 6.5, 8.8, 6.9, 9.4, 6.8,\n",
       "       6.1, 6.7, 5.4, 4. , 4.9, 4.5, 9.3, 6.2, 4.2, 6. , 3.7, 4.1, 5.8,\n",
       "       5.6, 5.5, 4.4, 4.6, 5.9, 3.9, 3.1, 2.9, 5.2, 3.3, 4.7, 5.1, 3.5,\n",
       "       2.5, 1.9, 3. , 2.7, 2.2, 2. , 9.5, 2.1, 3.6, 2.8, 1.8, 3.8, 0. ,\n",
       "       1.6, 9.6, 2.4, 1.7, 1.1, 0.3, 1.5, 0.7, 1.2, 2.3, 0.5, 1.3, 0.2,\n",
       "       0.6, 1.4, 0.9, 1. , 9.7])"
      ]
     },
     "execution_count": 222,
     "metadata": {},
     "output_type": "execute_result"
    }
   ],
   "source": [
    "df['user_score'].unique()"
   ]
  },
  {
   "cell_type": "code",
   "execution_count": 223,
   "metadata": {},
   "outputs": [
    {
     "data": {
      "text/html": [
       "<div>\n",
       "<style scoped>\n",
       "    .dataframe tbody tr th:only-of-type {\n",
       "        vertical-align: middle;\n",
       "    }\n",
       "\n",
       "    .dataframe tbody tr th {\n",
       "        vertical-align: top;\n",
       "    }\n",
       "\n",
       "    .dataframe thead th {\n",
       "        text-align: right;\n",
       "    }\n",
       "</style>\n",
       "<table border=\"1\" class=\"dataframe\">\n",
       "  <thead>\n",
       "    <tr style=\"text-align: right;\">\n",
       "      <th></th>\n",
       "      <th>name</th>\n",
       "      <th>platform</th>\n",
       "      <th>year_of_release</th>\n",
       "      <th>genre</th>\n",
       "      <th>na_sales</th>\n",
       "      <th>eu_sales</th>\n",
       "      <th>jp_sales</th>\n",
       "      <th>other_sales</th>\n",
       "      <th>critic_score</th>\n",
       "      <th>user_score</th>\n",
       "      <th>rating</th>\n",
       "      <th>median_year_of_release</th>\n",
       "    </tr>\n",
       "  </thead>\n",
       "  <tbody>\n",
       "    <tr>\n",
       "      <th>0</th>\n",
       "      <td>Wii Sports</td>\n",
       "      <td>Wii</td>\n",
       "      <td>2006</td>\n",
       "      <td>Sports</td>\n",
       "      <td>41.36</td>\n",
       "      <td>28.96</td>\n",
       "      <td>3.77</td>\n",
       "      <td>8.45</td>\n",
       "      <td>76.0</td>\n",
       "      <td>8.0</td>\n",
       "      <td>E</td>\n",
       "      <td>2008.0</td>\n",
       "    </tr>\n",
       "    <tr>\n",
       "      <th>1</th>\n",
       "      <td>Super Mario Bros.</td>\n",
       "      <td>NES</td>\n",
       "      <td>1985</td>\n",
       "      <td>Platform</td>\n",
       "      <td>29.08</td>\n",
       "      <td>3.58</td>\n",
       "      <td>6.81</td>\n",
       "      <td>0.77</td>\n",
       "      <td>NaN</td>\n",
       "      <td>NaN</td>\n",
       "      <td>NaN</td>\n",
       "      <td>1986.5</td>\n",
       "    </tr>\n",
       "    <tr>\n",
       "      <th>2</th>\n",
       "      <td>Mario Kart Wii</td>\n",
       "      <td>Wii</td>\n",
       "      <td>2008</td>\n",
       "      <td>Racing</td>\n",
       "      <td>15.68</td>\n",
       "      <td>12.76</td>\n",
       "      <td>3.79</td>\n",
       "      <td>3.29</td>\n",
       "      <td>82.0</td>\n",
       "      <td>8.3</td>\n",
       "      <td>E</td>\n",
       "      <td>2008.0</td>\n",
       "    </tr>\n",
       "    <tr>\n",
       "      <th>3</th>\n",
       "      <td>Wii Sports Resort</td>\n",
       "      <td>Wii</td>\n",
       "      <td>2009</td>\n",
       "      <td>Sports</td>\n",
       "      <td>15.61</td>\n",
       "      <td>10.93</td>\n",
       "      <td>3.28</td>\n",
       "      <td>2.95</td>\n",
       "      <td>80.0</td>\n",
       "      <td>8.0</td>\n",
       "      <td>E</td>\n",
       "      <td>2008.0</td>\n",
       "    </tr>\n",
       "    <tr>\n",
       "      <th>4</th>\n",
       "      <td>Pokemon Red/Pokemon Blue</td>\n",
       "      <td>GB</td>\n",
       "      <td>1996</td>\n",
       "      <td>Role-Playing</td>\n",
       "      <td>11.27</td>\n",
       "      <td>8.89</td>\n",
       "      <td>10.22</td>\n",
       "      <td>1.00</td>\n",
       "      <td>NaN</td>\n",
       "      <td>NaN</td>\n",
       "      <td>NaN</td>\n",
       "      <td>1997.0</td>\n",
       "    </tr>\n",
       "  </tbody>\n",
       "</table>\n",
       "</div>"
      ],
      "text/plain": [
       "                       name platform  year_of_release         genre  na_sales  \\\n",
       "0                Wii Sports      Wii             2006        Sports     41.36   \n",
       "1         Super Mario Bros.      NES             1985      Platform     29.08   \n",
       "2            Mario Kart Wii      Wii             2008        Racing     15.68   \n",
       "3         Wii Sports Resort      Wii             2009        Sports     15.61   \n",
       "4  Pokemon Red/Pokemon Blue       GB             1996  Role-Playing     11.27   \n",
       "\n",
       "   eu_sales  jp_sales  other_sales  critic_score  user_score rating  \\\n",
       "0     28.96      3.77         8.45          76.0         8.0      E   \n",
       "1      3.58      6.81         0.77           NaN         NaN    NaN   \n",
       "2     12.76      3.79         3.29          82.0         8.3      E   \n",
       "3     10.93      3.28         2.95          80.0         8.0      E   \n",
       "4      8.89     10.22         1.00           NaN         NaN    NaN   \n",
       "\n",
       "   median_year_of_release  \n",
       "0                  2008.0  \n",
       "1                  1986.5  \n",
       "2                  2008.0  \n",
       "3                  2008.0  \n",
       "4                  1997.0  "
      ]
     },
     "execution_count": 223,
     "metadata": {},
     "output_type": "execute_result"
    }
   ],
   "source": [
    "df.head()"
   ]
  },
  {
   "cell_type": "code",
   "execution_count": 224,
   "metadata": {},
   "outputs": [
    {
     "name": "stdout",
     "output_type": "stream",
     "text": [
      "<class 'pandas.core.frame.DataFrame'>\n",
      "Int64Index: 16713 entries, 0 to 16714\n",
      "Data columns (total 12 columns):\n",
      " #   Column                  Non-Null Count  Dtype  \n",
      "---  ------                  --------------  -----  \n",
      " 0   name                    16713 non-null  object \n",
      " 1   platform                16713 non-null  object \n",
      " 2   year_of_release         16713 non-null  int64  \n",
      " 3   genre                   16713 non-null  object \n",
      " 4   na_sales                16713 non-null  float64\n",
      " 5   eu_sales                16713 non-null  float64\n",
      " 6   jp_sales                16713 non-null  float64\n",
      " 7   other_sales             16713 non-null  float64\n",
      " 8   critic_score            8137 non-null   float64\n",
      " 9   user_score              7590 non-null   float64\n",
      " 10  rating                  9949 non-null   object \n",
      " 11  median_year_of_release  16713 non-null  float64\n",
      "dtypes: float64(7), int64(1), object(4)\n",
      "memory usage: 1.7+ MB\n"
     ]
    }
   ],
   "source": [
    "df.info()"
   ]
  },
  {
   "cell_type": "markdown",
   "metadata": {},
   "source": [
    "Semua kesalahan pada tipe data sudah diperbaiki.\n",
    "\n",
    "Saat ini, dataset kita memiliki 16713 baris dan 12 kolom."
   ]
  },
  {
   "cell_type": "markdown",
   "metadata": {},
   "source": [
    "### Menghitung Total Penjualan"
   ]
  },
  {
   "cell_type": "markdown",
   "metadata": {},
   "source": [
    "Untuk mempermudah analisis data kita selanjutnya, kita akan menghitung total penjualan setiap game yang berasal dari berbagai wilayah."
   ]
  },
  {
   "cell_type": "code",
   "execution_count": 225,
   "metadata": {},
   "outputs": [],
   "source": [
    "df['total_sales'] = df[['na_sales', 'eu_sales', 'jp_sales', 'other_sales']].sum(axis=1)"
   ]
  },
  {
   "cell_type": "code",
   "execution_count": 226,
   "metadata": {},
   "outputs": [
    {
     "data": {
      "text/html": [
       "<div>\n",
       "<style scoped>\n",
       "    .dataframe tbody tr th:only-of-type {\n",
       "        vertical-align: middle;\n",
       "    }\n",
       "\n",
       "    .dataframe tbody tr th {\n",
       "        vertical-align: top;\n",
       "    }\n",
       "\n",
       "    .dataframe thead th {\n",
       "        text-align: right;\n",
       "    }\n",
       "</style>\n",
       "<table border=\"1\" class=\"dataframe\">\n",
       "  <thead>\n",
       "    <tr style=\"text-align: right;\">\n",
       "      <th></th>\n",
       "      <th>name</th>\n",
       "      <th>platform</th>\n",
       "      <th>year_of_release</th>\n",
       "      <th>genre</th>\n",
       "      <th>na_sales</th>\n",
       "      <th>eu_sales</th>\n",
       "      <th>jp_sales</th>\n",
       "      <th>other_sales</th>\n",
       "      <th>critic_score</th>\n",
       "      <th>user_score</th>\n",
       "      <th>rating</th>\n",
       "      <th>median_year_of_release</th>\n",
       "      <th>total_sales</th>\n",
       "    </tr>\n",
       "  </thead>\n",
       "  <tbody>\n",
       "    <tr>\n",
       "      <th>0</th>\n",
       "      <td>Wii Sports</td>\n",
       "      <td>Wii</td>\n",
       "      <td>2006</td>\n",
       "      <td>Sports</td>\n",
       "      <td>41.36</td>\n",
       "      <td>28.96</td>\n",
       "      <td>3.77</td>\n",
       "      <td>8.45</td>\n",
       "      <td>76.0</td>\n",
       "      <td>8.0</td>\n",
       "      <td>E</td>\n",
       "      <td>2008.0</td>\n",
       "      <td>82.54</td>\n",
       "    </tr>\n",
       "    <tr>\n",
       "      <th>1</th>\n",
       "      <td>Super Mario Bros.</td>\n",
       "      <td>NES</td>\n",
       "      <td>1985</td>\n",
       "      <td>Platform</td>\n",
       "      <td>29.08</td>\n",
       "      <td>3.58</td>\n",
       "      <td>6.81</td>\n",
       "      <td>0.77</td>\n",
       "      <td>NaN</td>\n",
       "      <td>NaN</td>\n",
       "      <td>NaN</td>\n",
       "      <td>1986.5</td>\n",
       "      <td>40.24</td>\n",
       "    </tr>\n",
       "    <tr>\n",
       "      <th>2</th>\n",
       "      <td>Mario Kart Wii</td>\n",
       "      <td>Wii</td>\n",
       "      <td>2008</td>\n",
       "      <td>Racing</td>\n",
       "      <td>15.68</td>\n",
       "      <td>12.76</td>\n",
       "      <td>3.79</td>\n",
       "      <td>3.29</td>\n",
       "      <td>82.0</td>\n",
       "      <td>8.3</td>\n",
       "      <td>E</td>\n",
       "      <td>2008.0</td>\n",
       "      <td>35.52</td>\n",
       "    </tr>\n",
       "    <tr>\n",
       "      <th>3</th>\n",
       "      <td>Wii Sports Resort</td>\n",
       "      <td>Wii</td>\n",
       "      <td>2009</td>\n",
       "      <td>Sports</td>\n",
       "      <td>15.61</td>\n",
       "      <td>10.93</td>\n",
       "      <td>3.28</td>\n",
       "      <td>2.95</td>\n",
       "      <td>80.0</td>\n",
       "      <td>8.0</td>\n",
       "      <td>E</td>\n",
       "      <td>2008.0</td>\n",
       "      <td>32.77</td>\n",
       "    </tr>\n",
       "    <tr>\n",
       "      <th>4</th>\n",
       "      <td>Pokemon Red/Pokemon Blue</td>\n",
       "      <td>GB</td>\n",
       "      <td>1996</td>\n",
       "      <td>Role-Playing</td>\n",
       "      <td>11.27</td>\n",
       "      <td>8.89</td>\n",
       "      <td>10.22</td>\n",
       "      <td>1.00</td>\n",
       "      <td>NaN</td>\n",
       "      <td>NaN</td>\n",
       "      <td>NaN</td>\n",
       "      <td>1997.0</td>\n",
       "      <td>31.38</td>\n",
       "    </tr>\n",
       "  </tbody>\n",
       "</table>\n",
       "</div>"
      ],
      "text/plain": [
       "                       name platform  year_of_release         genre  na_sales  \\\n",
       "0                Wii Sports      Wii             2006        Sports     41.36   \n",
       "1         Super Mario Bros.      NES             1985      Platform     29.08   \n",
       "2            Mario Kart Wii      Wii             2008        Racing     15.68   \n",
       "3         Wii Sports Resort      Wii             2009        Sports     15.61   \n",
       "4  Pokemon Red/Pokemon Blue       GB             1996  Role-Playing     11.27   \n",
       "\n",
       "   eu_sales  jp_sales  other_sales  critic_score  user_score rating  \\\n",
       "0     28.96      3.77         8.45          76.0         8.0      E   \n",
       "1      3.58      6.81         0.77           NaN         NaN    NaN   \n",
       "2     12.76      3.79         3.29          82.0         8.3      E   \n",
       "3     10.93      3.28         2.95          80.0         8.0      E   \n",
       "4      8.89     10.22         1.00           NaN         NaN    NaN   \n",
       "\n",
       "   median_year_of_release  total_sales  \n",
       "0                  2008.0        82.54  \n",
       "1                  1986.5        40.24  \n",
       "2                  2008.0        35.52  \n",
       "3                  2008.0        32.77  \n",
       "4                  1997.0        31.38  "
      ]
     },
     "execution_count": 226,
     "metadata": {},
     "output_type": "execute_result"
    }
   ],
   "source": [
    "df.head()"
   ]
  },
  {
   "cell_type": "code",
   "execution_count": 227,
   "metadata": {},
   "outputs": [
    {
     "name": "stdout",
     "output_type": "stream",
     "text": [
      "<class 'pandas.core.frame.DataFrame'>\n",
      "Int64Index: 16713 entries, 0 to 16714\n",
      "Data columns (total 13 columns):\n",
      " #   Column                  Non-Null Count  Dtype  \n",
      "---  ------                  --------------  -----  \n",
      " 0   name                    16713 non-null  object \n",
      " 1   platform                16713 non-null  object \n",
      " 2   year_of_release         16713 non-null  int64  \n",
      " 3   genre                   16713 non-null  object \n",
      " 4   na_sales                16713 non-null  float64\n",
      " 5   eu_sales                16713 non-null  float64\n",
      " 6   jp_sales                16713 non-null  float64\n",
      " 7   other_sales             16713 non-null  float64\n",
      " 8   critic_score            8137 non-null   float64\n",
      " 9   user_score              7590 non-null   float64\n",
      " 10  rating                  9949 non-null   object \n",
      " 11  median_year_of_release  16713 non-null  float64\n",
      " 12  total_sales             16713 non-null  float64\n",
      "dtypes: float64(8), int64(1), object(4)\n",
      "memory usage: 1.8+ MB\n"
     ]
    }
   ],
   "source": [
    "df.info()"
   ]
  },
  {
   "cell_type": "markdown",
   "metadata": {},
   "source": [
    "### Kesimpulan dan Langkah Selanjutnya"
   ]
  },
  {
   "cell_type": "markdown",
   "metadata": {},
   "source": [
    "Kita telah memperbaiki masalah yang terdapat pada dataset kita dan dapat menarik kesimpulan:\n",
    "\n",
    "1. Gaya penulisan judul kolom pada dataset kita yang semula tidak mengikuti aturan, sudah diperbaiki sesuai dengan aturan gaya penulisan yang baik, yaitu: **Semua karakter harus menggunakan huruf kecil**.\n",
    "\n",
    "2. Kolom `name` memiliki nilai yang hilang dan sudah diperbaiki dengan menghapus datanya. Langkah ini diambil dengan mempertimbangkan persentase data yg hilang tersebut sangat kecil (0.01%) dan karena diasumsikan data tidak memiliki informasi yang lengkap.\n",
    "\n",
    "3. Kolom `genre` memiliki nilai yang hilang dengan persentase yang sama dengan kolom `name`. Setelah dilakukan pemeriksaan, nilai yang hilang pada kedua kolom ini simetris. Sehingga ketika data dengan nilai yang hilang pada kolom `name` dihapus, secara otomatis data pada kolom `genre` juga tereliminasi.\n",
    "\n",
    "4. Kolom `year_of_release` memiliki 2 masalah, yaitu adanya nilai yang hilang dan kesalahan pada tipe datanya. Data dengan nilai yang hilang telah diisi dengan median berdasarkan pengelompokkan dengan kolom `platform`, dengan asumsi bahwa game pada platform yang sama, mungkin memiliki tahun rilis yang hampir sama. Tipe datanya yang semula berupa *float* telah diperbaiki menjadi *integer*.\n",
    "\n",
    "5. Kolom `critic_score`, `user_score`, dan `rating` masing - masing memiliki nilai yang hilang dengan persentase yang sangat besar (antara 40% hingga 50%). Karena jumlah data yang hilang tersebut sangat banyak, dan kita tidak bisa mengisinya dengan sembarangan, karena dapat mempengaruhi distribusi datanya dan analisis data kita menjadi tidak akurat, maka, diputuskan untuk tidak mengisi nilai yang hilang tersebut dan membiarkan datanya apa adanya saja.\n",
    "\n",
    "6. Tipe data pada kolom `user_score` awalnya berupa *object*. Setelah diteliti, kemungkinan munculnya tipe data ini adalah karena terdapat nilai 'tbd' pada kolom tersebut. Maka, kita telah mengganti nilai 'tbd' dengan NaN, karena diasumsikan game dengan penilaian 'tbd' merupakan game yang tidak populer dan dapat diabaikan. Setelah mengubah nilai 'tbd', baru kita ubah tipe datanya menjadi *float*.\n",
    "\n",
    "7. Tidak ada data yang terduplikasi.\n",
    "\n",
    "8. Setelah memperbaiki masalah - masalah yang ada, maka dataset kita saat ini memiliki 16713 baris. Terdapat penambahan 2 kolom yaitu `median_year_of_release` dan `total_sales`, sehingga kolom yang kita miliki saat ini berjumlah 13 kolom."
   ]
  },
  {
   "cell_type": "markdown",
   "metadata": {},
   "source": [
    "## Analisa Data"
   ]
  },
  {
   "cell_type": "markdown",
   "metadata": {},
   "source": [
    "Setelah tahap pra-pemrosesan data selesai, kita siap untuk mulai menganalisis data yang kita miliki.\n",
    "\n",
    "Pertama, kita akan meninjau banyak game yang dirilis per tahunnya, kemudian melihat variasi penjualan setiap platform yang mempengaruhi popularitas platform tersebut. \n",
    "Selanjutnya, kita akan menentukan periode waktu pengambilan data, sehingga kita hanya akan bekerja dengan data dengan tahun - tahun yang relevan saja dan melihat bagaimana penjualan pada platform yang berpotensi menghasilkan keuntungan.\n",
    "Terakhir, kita juga akan meninjau bagaimana ulasan pengguna dan para profesional memengaruhi penjualan, serta mengamati distribusi umum game berdasarkan genre dan penjualannya."
   ]
  },
  {
   "cell_type": "markdown",
   "metadata": {},
   "source": [
    "### Game per Tahun"
   ]
  },
  {
   "cell_type": "code",
   "execution_count": 228,
   "metadata": {},
   "outputs": [
    {
     "data": {
      "text/html": [
       "<div>\n",
       "<style scoped>\n",
       "    .dataframe tbody tr th:only-of-type {\n",
       "        vertical-align: middle;\n",
       "    }\n",
       "\n",
       "    .dataframe tbody tr th {\n",
       "        vertical-align: top;\n",
       "    }\n",
       "\n",
       "    .dataframe thead th {\n",
       "        text-align: right;\n",
       "    }\n",
       "</style>\n",
       "<table border=\"1\" class=\"dataframe\">\n",
       "  <thead>\n",
       "    <tr style=\"text-align: right;\">\n",
       "      <th></th>\n",
       "      <th>year_of_release</th>\n",
       "      <th>name</th>\n",
       "    </tr>\n",
       "  </thead>\n",
       "  <tbody>\n",
       "    <tr>\n",
       "      <th>0</th>\n",
       "      <td>1980</td>\n",
       "      <td>9</td>\n",
       "    </tr>\n",
       "    <tr>\n",
       "      <th>1</th>\n",
       "      <td>1981</td>\n",
       "      <td>46</td>\n",
       "    </tr>\n",
       "    <tr>\n",
       "      <th>2</th>\n",
       "      <td>1982</td>\n",
       "      <td>53</td>\n",
       "    </tr>\n",
       "    <tr>\n",
       "      <th>3</th>\n",
       "      <td>1983</td>\n",
       "      <td>17</td>\n",
       "    </tr>\n",
       "    <tr>\n",
       "      <th>4</th>\n",
       "      <td>1984</td>\n",
       "      <td>14</td>\n",
       "    </tr>\n",
       "    <tr>\n",
       "      <th>5</th>\n",
       "      <td>1985</td>\n",
       "      <td>14</td>\n",
       "    </tr>\n",
       "    <tr>\n",
       "      <th>6</th>\n",
       "      <td>1986</td>\n",
       "      <td>21</td>\n",
       "    </tr>\n",
       "    <tr>\n",
       "      <th>7</th>\n",
       "      <td>1987</td>\n",
       "      <td>16</td>\n",
       "    </tr>\n",
       "    <tr>\n",
       "      <th>8</th>\n",
       "      <td>1988</td>\n",
       "      <td>15</td>\n",
       "    </tr>\n",
       "    <tr>\n",
       "      <th>9</th>\n",
       "      <td>1989</td>\n",
       "      <td>17</td>\n",
       "    </tr>\n",
       "    <tr>\n",
       "      <th>10</th>\n",
       "      <td>1990</td>\n",
       "      <td>16</td>\n",
       "    </tr>\n",
       "    <tr>\n",
       "      <th>11</th>\n",
       "      <td>1991</td>\n",
       "      <td>41</td>\n",
       "    </tr>\n",
       "    <tr>\n",
       "      <th>12</th>\n",
       "      <td>1992</td>\n",
       "      <td>43</td>\n",
       "    </tr>\n",
       "    <tr>\n",
       "      <th>13</th>\n",
       "      <td>1993</td>\n",
       "      <td>60</td>\n",
       "    </tr>\n",
       "    <tr>\n",
       "      <th>14</th>\n",
       "      <td>1994</td>\n",
       "      <td>121</td>\n",
       "    </tr>\n",
       "    <tr>\n",
       "      <th>15</th>\n",
       "      <td>1995</td>\n",
       "      <td>219</td>\n",
       "    </tr>\n",
       "    <tr>\n",
       "      <th>16</th>\n",
       "      <td>1996</td>\n",
       "      <td>263</td>\n",
       "    </tr>\n",
       "    <tr>\n",
       "      <th>17</th>\n",
       "      <td>1997</td>\n",
       "      <td>290</td>\n",
       "    </tr>\n",
       "    <tr>\n",
       "      <th>18</th>\n",
       "      <td>1998</td>\n",
       "      <td>379</td>\n",
       "    </tr>\n",
       "    <tr>\n",
       "      <th>19</th>\n",
       "      <td>1999</td>\n",
       "      <td>341</td>\n",
       "    </tr>\n",
       "    <tr>\n",
       "      <th>20</th>\n",
       "      <td>2000</td>\n",
       "      <td>357</td>\n",
       "    </tr>\n",
       "    <tr>\n",
       "      <th>21</th>\n",
       "      <td>2001</td>\n",
       "      <td>482</td>\n",
       "    </tr>\n",
       "    <tr>\n",
       "      <th>22</th>\n",
       "      <td>2002</td>\n",
       "      <td>829</td>\n",
       "    </tr>\n",
       "    <tr>\n",
       "      <th>23</th>\n",
       "      <td>2003</td>\n",
       "      <td>800</td>\n",
       "    </tr>\n",
       "    <tr>\n",
       "      <th>24</th>\n",
       "      <td>2004</td>\n",
       "      <td>817</td>\n",
       "    </tr>\n",
       "    <tr>\n",
       "      <th>25</th>\n",
       "      <td>2005</td>\n",
       "      <td>939</td>\n",
       "    </tr>\n",
       "    <tr>\n",
       "      <th>26</th>\n",
       "      <td>2006</td>\n",
       "      <td>1006</td>\n",
       "    </tr>\n",
       "    <tr>\n",
       "      <th>27</th>\n",
       "      <td>2007</td>\n",
       "      <td>1213</td>\n",
       "    </tr>\n",
       "    <tr>\n",
       "      <th>28</th>\n",
       "      <td>2008</td>\n",
       "      <td>1491</td>\n",
       "    </tr>\n",
       "    <tr>\n",
       "      <th>29</th>\n",
       "      <td>2009</td>\n",
       "      <td>1473</td>\n",
       "    </tr>\n",
       "    <tr>\n",
       "      <th>30</th>\n",
       "      <td>2010</td>\n",
       "      <td>1280</td>\n",
       "    </tr>\n",
       "    <tr>\n",
       "      <th>31</th>\n",
       "      <td>2011</td>\n",
       "      <td>1136</td>\n",
       "    </tr>\n",
       "    <tr>\n",
       "      <th>32</th>\n",
       "      <td>2012</td>\n",
       "      <td>661</td>\n",
       "    </tr>\n",
       "    <tr>\n",
       "      <th>33</th>\n",
       "      <td>2013</td>\n",
       "      <td>545</td>\n",
       "    </tr>\n",
       "    <tr>\n",
       "      <th>34</th>\n",
       "      <td>2014</td>\n",
       "      <td>581</td>\n",
       "    </tr>\n",
       "    <tr>\n",
       "      <th>35</th>\n",
       "      <td>2015</td>\n",
       "      <td>606</td>\n",
       "    </tr>\n",
       "    <tr>\n",
       "      <th>36</th>\n",
       "      <td>2016</td>\n",
       "      <td>502</td>\n",
       "    </tr>\n",
       "  </tbody>\n",
       "</table>\n",
       "</div>"
      ],
      "text/plain": [
       "    year_of_release  name\n",
       "0              1980     9\n",
       "1              1981    46\n",
       "2              1982    53\n",
       "3              1983    17\n",
       "4              1984    14\n",
       "5              1985    14\n",
       "6              1986    21\n",
       "7              1987    16\n",
       "8              1988    15\n",
       "9              1989    17\n",
       "10             1990    16\n",
       "11             1991    41\n",
       "12             1992    43\n",
       "13             1993    60\n",
       "14             1994   121\n",
       "15             1995   219\n",
       "16             1996   263\n",
       "17             1997   290\n",
       "18             1998   379\n",
       "19             1999   341\n",
       "20             2000   357\n",
       "21             2001   482\n",
       "22             2002   829\n",
       "23             2003   800\n",
       "24             2004   817\n",
       "25             2005   939\n",
       "26             2006  1006\n",
       "27             2007  1213\n",
       "28             2008  1491\n",
       "29             2009  1473\n",
       "30             2010  1280\n",
       "31             2011  1136\n",
       "32             2012   661\n",
       "33             2013   545\n",
       "34             2014   581\n",
       "35             2015   606\n",
       "36             2016   502"
      ]
     },
     "execution_count": 228,
     "metadata": {},
     "output_type": "execute_result"
    }
   ],
   "source": [
    "df_per_year = df.groupby(['year_of_release'])['name'].count().reset_index()\n",
    "df_per_year"
   ]
  },
  {
   "cell_type": "code",
   "execution_count": 229,
   "metadata": {},
   "outputs": [
    {
     "data": {
      "image/png": "[encoded data removed]",
      "text/plain": [
       "<Figure size 1440x504 with 1 Axes>"
      ]
     },
     "metadata": {
      "needs_background": "light"
     },
     "output_type": "display_data"
    }
   ],
   "source": [
    "ax = df_per_year.plot(kind='bar', x = 'year_of_release', y = 'name', figsize=(20, 7))\n",
    "plt.xticks(rotation = 45)\n",
    "\n",
    "for p in ax.patches:\n",
    "    ax.annotate(str(p.get_height()), (p.get_x(), p.get_height()) ,\\\n",
    "               ha='center', va='center',\n",
    "                                      xytext = (7, 10), textcoords = 'offset points',\n",
    "                                      size=10)\n",
    "plt.show()    "
   ]
  },
  {
   "cell_type": "markdown",
   "metadata": {},
   "source": [
    "Melihat grafik di atas, sepertinya setiap tahun pengembangan game semakin meningkat dan mencapai puncaknya di tahun 2008 dan 2009. Namun, setelah tahun 2009, terjadi penurunan setiap tahunnya hingga 2016. Mungkin saja beberapa platform berhenti mengembangkan game baru atau membatasi pengembangannya, sehingga game yang dirilis sejak tahun 2010 ke atas mengalami penurunan dan turun sangat signifikan di tahun 2012, dan setelah itu baru pengembangannya kembali stabil."
   ]
  },
  {
   "cell_type": "markdown",
   "metadata": {},
   "source": [
    "### Distribusi Total Penjualan Berdasarkan Data per Tahun dan Popularitas Game"
   ]
  },
  {
   "cell_type": "code",
   "execution_count": 230,
   "metadata": {},
   "outputs": [
    {
     "data": {
      "text/html": [
       "<div>\n",
       "<style scoped>\n",
       "    .dataframe tbody tr th:only-of-type {\n",
       "        vertical-align: middle;\n",
       "    }\n",
       "\n",
       "    .dataframe tbody tr th {\n",
       "        vertical-align: top;\n",
       "    }\n",
       "\n",
       "    .dataframe thead th {\n",
       "        text-align: right;\n",
       "    }\n",
       "</style>\n",
       "<table border=\"1\" class=\"dataframe\">\n",
       "  <thead>\n",
       "    <tr style=\"text-align: right;\">\n",
       "      <th></th>\n",
       "      <th>platform</th>\n",
       "      <th>total_sales</th>\n",
       "    </tr>\n",
       "  </thead>\n",
       "  <tbody>\n",
       "    <tr>\n",
       "      <th>0</th>\n",
       "      <td>PCFX</td>\n",
       "      <td>0.03</td>\n",
       "    </tr>\n",
       "    <tr>\n",
       "      <th>1</th>\n",
       "      <td>GG</td>\n",
       "      <td>0.04</td>\n",
       "    </tr>\n",
       "    <tr>\n",
       "      <th>2</th>\n",
       "      <td>3DO</td>\n",
       "      <td>0.10</td>\n",
       "    </tr>\n",
       "    <tr>\n",
       "      <th>3</th>\n",
       "      <td>TG16</td>\n",
       "      <td>0.16</td>\n",
       "    </tr>\n",
       "    <tr>\n",
       "      <th>4</th>\n",
       "      <td>WS</td>\n",
       "      <td>1.42</td>\n",
       "    </tr>\n",
       "    <tr>\n",
       "      <th>5</th>\n",
       "      <td>NG</td>\n",
       "      <td>1.44</td>\n",
       "    </tr>\n",
       "    <tr>\n",
       "      <th>6</th>\n",
       "      <td>SCD</td>\n",
       "      <td>1.86</td>\n",
       "    </tr>\n",
       "    <tr>\n",
       "      <th>7</th>\n",
       "      <td>DC</td>\n",
       "      <td>15.95</td>\n",
       "    </tr>\n",
       "    <tr>\n",
       "      <th>8</th>\n",
       "      <td>GEN</td>\n",
       "      <td>28.35</td>\n",
       "    </tr>\n",
       "    <tr>\n",
       "      <th>9</th>\n",
       "      <td>SAT</td>\n",
       "      <td>33.59</td>\n",
       "    </tr>\n",
       "    <tr>\n",
       "      <th>10</th>\n",
       "      <td>PSV</td>\n",
       "      <td>54.07</td>\n",
       "    </tr>\n",
       "    <tr>\n",
       "      <th>11</th>\n",
       "      <td>WiiU</td>\n",
       "      <td>82.19</td>\n",
       "    </tr>\n",
       "    <tr>\n",
       "      <th>12</th>\n",
       "      <td>2600</td>\n",
       "      <td>96.98</td>\n",
       "    </tr>\n",
       "    <tr>\n",
       "      <th>13</th>\n",
       "      <td>XOne</td>\n",
       "      <td>159.32</td>\n",
       "    </tr>\n",
       "    <tr>\n",
       "      <th>14</th>\n",
       "      <td>GC</td>\n",
       "      <td>198.93</td>\n",
       "    </tr>\n",
       "    <tr>\n",
       "      <th>15</th>\n",
       "      <td>SNES</td>\n",
       "      <td>200.04</td>\n",
       "    </tr>\n",
       "    <tr>\n",
       "      <th>16</th>\n",
       "      <td>N64</td>\n",
       "      <td>218.68</td>\n",
       "    </tr>\n",
       "    <tr>\n",
       "      <th>17</th>\n",
       "      <td>NES</td>\n",
       "      <td>251.05</td>\n",
       "    </tr>\n",
       "    <tr>\n",
       "      <th>18</th>\n",
       "      <td>GB</td>\n",
       "      <td>255.46</td>\n",
       "    </tr>\n",
       "    <tr>\n",
       "      <th>19</th>\n",
       "      <td>XB</td>\n",
       "      <td>257.74</td>\n",
       "    </tr>\n",
       "    <tr>\n",
       "      <th>20</th>\n",
       "      <td>3DS</td>\n",
       "      <td>259.00</td>\n",
       "    </tr>\n",
       "    <tr>\n",
       "      <th>21</th>\n",
       "      <td>PC</td>\n",
       "      <td>259.52</td>\n",
       "    </tr>\n",
       "    <tr>\n",
       "      <th>22</th>\n",
       "      <td>PSP</td>\n",
       "      <td>294.05</td>\n",
       "    </tr>\n",
       "    <tr>\n",
       "      <th>23</th>\n",
       "      <td>PS4</td>\n",
       "      <td>314.14</td>\n",
       "    </tr>\n",
       "    <tr>\n",
       "      <th>24</th>\n",
       "      <td>GBA</td>\n",
       "      <td>317.85</td>\n",
       "    </tr>\n",
       "    <tr>\n",
       "      <th>25</th>\n",
       "      <td>PS</td>\n",
       "      <td>730.86</td>\n",
       "    </tr>\n",
       "    <tr>\n",
       "      <th>26</th>\n",
       "      <td>DS</td>\n",
       "      <td>806.12</td>\n",
       "    </tr>\n",
       "    <tr>\n",
       "      <th>27</th>\n",
       "      <td>Wii</td>\n",
       "      <td>907.51</td>\n",
       "    </tr>\n",
       "    <tr>\n",
       "      <th>28</th>\n",
       "      <td>PS3</td>\n",
       "      <td>939.65</td>\n",
       "    </tr>\n",
       "    <tr>\n",
       "      <th>29</th>\n",
       "      <td>X360</td>\n",
       "      <td>971.42</td>\n",
       "    </tr>\n",
       "    <tr>\n",
       "      <th>30</th>\n",
       "      <td>PS2</td>\n",
       "      <td>1255.77</td>\n",
       "    </tr>\n",
       "  </tbody>\n",
       "</table>\n",
       "</div>"
      ],
      "text/plain": [
       "   platform  total_sales\n",
       "0      PCFX         0.03\n",
       "1        GG         0.04\n",
       "2       3DO         0.10\n",
       "3      TG16         0.16\n",
       "4        WS         1.42\n",
       "5        NG         1.44\n",
       "6       SCD         1.86\n",
       "7        DC        15.95\n",
       "8       GEN        28.35\n",
       "9       SAT        33.59\n",
       "10      PSV        54.07\n",
       "11     WiiU        82.19\n",
       "12     2600        96.98\n",
       "13     XOne       159.32\n",
       "14       GC       198.93\n",
       "15     SNES       200.04\n",
       "16      N64       218.68\n",
       "17      NES       251.05\n",
       "18       GB       255.46\n",
       "19       XB       257.74\n",
       "20      3DS       259.00\n",
       "21       PC       259.52\n",
       "22      PSP       294.05\n",
       "23      PS4       314.14\n",
       "24      GBA       317.85\n",
       "25       PS       730.86\n",
       "26       DS       806.12\n",
       "27      Wii       907.51\n",
       "28      PS3       939.65\n",
       "29     X360       971.42\n",
       "30      PS2      1255.77"
      ]
     },
     "execution_count": 230,
     "metadata": {},
     "output_type": "execute_result"
    }
   ],
   "source": [
    "top_sales = df.groupby(['platform'])['total_sales'].sum().sort_values().reset_index().round(2)\n",
    "top_sales"
   ]
  },
  {
   "cell_type": "code",
   "execution_count": 231,
   "metadata": {},
   "outputs": [
    {
     "data": {
      "text/html": [
       "<div>\n",
       "<style scoped>\n",
       "    .dataframe tbody tr th:only-of-type {\n",
       "        vertical-align: middle;\n",
       "    }\n",
       "\n",
       "    .dataframe tbody tr th {\n",
       "        vertical-align: top;\n",
       "    }\n",
       "\n",
       "    .dataframe thead th {\n",
       "        text-align: right;\n",
       "    }\n",
       "</style>\n",
       "<table border=\"1\" class=\"dataframe\">\n",
       "  <thead>\n",
       "    <tr style=\"text-align: right;\">\n",
       "      <th>platform</th>\n",
       "      <th>2600</th>\n",
       "      <th>3DO</th>\n",
       "      <th>3DS</th>\n",
       "      <th>DC</th>\n",
       "      <th>DS</th>\n",
       "      <th>GB</th>\n",
       "      <th>GBA</th>\n",
       "      <th>GC</th>\n",
       "      <th>GEN</th>\n",
       "      <th>GG</th>\n",
       "      <th>...</th>\n",
       "      <th>SAT</th>\n",
       "      <th>SCD</th>\n",
       "      <th>SNES</th>\n",
       "      <th>TG16</th>\n",
       "      <th>WS</th>\n",
       "      <th>Wii</th>\n",
       "      <th>WiiU</th>\n",
       "      <th>X360</th>\n",
       "      <th>XB</th>\n",
       "      <th>XOne</th>\n",
       "    </tr>\n",
       "    <tr>\n",
       "      <th>year_of_release</th>\n",
       "      <th></th>\n",
       "      <th></th>\n",
       "      <th></th>\n",
       "      <th></th>\n",
       "      <th></th>\n",
       "      <th></th>\n",
       "      <th></th>\n",
       "      <th></th>\n",
       "      <th></th>\n",
       "      <th></th>\n",
       "      <th></th>\n",
       "      <th></th>\n",
       "      <th></th>\n",
       "      <th></th>\n",
       "      <th></th>\n",
       "      <th></th>\n",
       "      <th></th>\n",
       "      <th></th>\n",
       "      <th></th>\n",
       "      <th></th>\n",
       "      <th></th>\n",
       "    </tr>\n",
       "  </thead>\n",
       "  <tbody>\n",
       "    <tr>\n",
       "      <th>1980</th>\n",
       "      <td>11</td>\n",
       "      <td>0</td>\n",
       "      <td>0</td>\n",
       "      <td>0</td>\n",
       "      <td>0</td>\n",
       "      <td>0</td>\n",
       "      <td>0</td>\n",
       "      <td>0</td>\n",
       "      <td>0</td>\n",
       "      <td>0</td>\n",
       "      <td>...</td>\n",
       "      <td>0</td>\n",
       "      <td>0</td>\n",
       "      <td>0</td>\n",
       "      <td>0</td>\n",
       "      <td>0</td>\n",
       "      <td>0</td>\n",
       "      <td>0</td>\n",
       "      <td>0</td>\n",
       "      <td>0</td>\n",
       "      <td>0</td>\n",
       "    </tr>\n",
       "    <tr>\n",
       "      <th>1981</th>\n",
       "      <td>35</td>\n",
       "      <td>0</td>\n",
       "      <td>0</td>\n",
       "      <td>0</td>\n",
       "      <td>0</td>\n",
       "      <td>0</td>\n",
       "      <td>0</td>\n",
       "      <td>0</td>\n",
       "      <td>0</td>\n",
       "      <td>0</td>\n",
       "      <td>...</td>\n",
       "      <td>0</td>\n",
       "      <td>0</td>\n",
       "      <td>0</td>\n",
       "      <td>0</td>\n",
       "      <td>0</td>\n",
       "      <td>0</td>\n",
       "      <td>0</td>\n",
       "      <td>0</td>\n",
       "      <td>0</td>\n",
       "      <td>0</td>\n",
       "    </tr>\n",
       "    <tr>\n",
       "      <th>1982</th>\n",
       "      <td>39</td>\n",
       "      <td>0</td>\n",
       "      <td>0</td>\n",
       "      <td>0</td>\n",
       "      <td>0</td>\n",
       "      <td>0</td>\n",
       "      <td>0</td>\n",
       "      <td>0</td>\n",
       "      <td>0</td>\n",
       "      <td>0</td>\n",
       "      <td>...</td>\n",
       "      <td>0</td>\n",
       "      <td>0</td>\n",
       "      <td>0</td>\n",
       "      <td>0</td>\n",
       "      <td>0</td>\n",
       "      <td>0</td>\n",
       "      <td>0</td>\n",
       "      <td>0</td>\n",
       "      <td>0</td>\n",
       "      <td>0</td>\n",
       "    </tr>\n",
       "    <tr>\n",
       "      <th>1983</th>\n",
       "      <td>5</td>\n",
       "      <td>0</td>\n",
       "      <td>0</td>\n",
       "      <td>0</td>\n",
       "      <td>0</td>\n",
       "      <td>0</td>\n",
       "      <td>0</td>\n",
       "      <td>0</td>\n",
       "      <td>0</td>\n",
       "      <td>0</td>\n",
       "      <td>...</td>\n",
       "      <td>0</td>\n",
       "      <td>0</td>\n",
       "      <td>0</td>\n",
       "      <td>0</td>\n",
       "      <td>0</td>\n",
       "      <td>0</td>\n",
       "      <td>0</td>\n",
       "      <td>0</td>\n",
       "      <td>0</td>\n",
       "      <td>0</td>\n",
       "    </tr>\n",
       "    <tr>\n",
       "      <th>1984</th>\n",
       "      <td>0</td>\n",
       "      <td>0</td>\n",
       "      <td>0</td>\n",
       "      <td>0</td>\n",
       "      <td>0</td>\n",
       "      <td>0</td>\n",
       "      <td>0</td>\n",
       "      <td>0</td>\n",
       "      <td>0</td>\n",
       "      <td>0</td>\n",
       "      <td>...</td>\n",
       "      <td>0</td>\n",
       "      <td>0</td>\n",
       "      <td>0</td>\n",
       "      <td>0</td>\n",
       "      <td>0</td>\n",
       "      <td>0</td>\n",
       "      <td>0</td>\n",
       "      <td>0</td>\n",
       "      <td>0</td>\n",
       "      <td>0</td>\n",
       "    </tr>\n",
       "  </tbody>\n",
       "</table>\n",
       "<p>5 rows × 31 columns</p>\n",
       "</div>"
      ],
      "text/plain": [
       "platform         2600  3DO  3DS  DC  DS  GB  GBA  GC  GEN  GG  ...  SAT  SCD  \\\n",
       "year_of_release                                                ...             \n",
       "1980               11    0    0   0   0   0    0   0    0   0  ...    0    0   \n",
       "1981               35    0    0   0   0   0    0   0    0   0  ...    0    0   \n",
       "1982               39    0    0   0   0   0    0   0    0   0  ...    0    0   \n",
       "1983                5    0    0   0   0   0    0   0    0   0  ...    0    0   \n",
       "1984                0    0    0   0   0   0    0   0    0   0  ...    0    0   \n",
       "\n",
       "platform         SNES  TG16  WS  Wii  WiiU  X360  XB  XOne  \n",
       "year_of_release                                             \n",
       "1980                0     0   0    0     0     0   0     0  \n",
       "1981                0     0   0    0     0     0   0     0  \n",
       "1982                0     0   0    0     0     0   0     0  \n",
       "1983                0     0   0    0     0     0   0     0  \n",
       "1984                0     0   0    0     0     0   0     0  \n",
       "\n",
       "[5 rows x 31 columns]"
      ]
     },
     "execution_count": 231,
     "metadata": {},
     "output_type": "execute_result"
    }
   ],
   "source": [
    "lifetime = df.pivot_table(values = 'total_sales', columns = 'platform', index = 'year_of_release', aggfunc = 'sum').fillna(0).astype('int')\n",
    "lifetime.head()"
   ]
  },
  {
   "cell_type": "code",
   "execution_count": 232,
   "metadata": {},
   "outputs": [
    {
     "data": {
      "text/plain": [
       "<AxesSubplot:xlabel='platform', ylabel='year_of_release'>"
      ]
     },
     "execution_count": 232,
     "metadata": {},
     "output_type": "execute_result"
    },
    {
     "data": {
      "image/png": "[encoded data removed]",
      "text/plain": [
       "<Figure size 1440x720 with 2 Axes>"
      ]
     },
     "metadata": {
      "needs_background": "light"
     },
     "output_type": "display_data"
    }
   ],
   "source": [
    "plt.figure(figsize = (20,10))\n",
    "sns.heatmap(data = lifetime, cmap='RdYlGn_r', xticklabels=lifetime.columns.values, yticklabels=lifetime.index.values)"
   ]
  },
  {
   "cell_type": "markdown",
   "metadata": {},
   "source": [
    "Melalui grafik dan tabel di atas, sepertinya umur sebuah platform biasanya berkisar di antara 10 tahun sejak pertama kali muncul hingga mulai menurun popularitasnya. Namun untuk platform PC, ternyata *lifetime*nya cukup panjang meskipun penjualan game.nya tidak begitu tinggi. Sedangkan untuk beberapa platform seperti PS2 dan Wii, mereka memiliki penjualan yang tinggi, namun umur popularitasnya tetap tidak lebih dari 10 tahun. Hal ini juga bisa dilihat pada platform DS, PS, PS3, dan X360.\n",
    "\n",
    "Bisa dikatakan, bahwa rata - rata umur platform yang populer adalah sekitar 10 tahun, dan sebaiknya jika ingin mengembangkan game di sebuah platform adalah dalam rentang ketika platform dirilis, hingga 5 tahun mendatang."
   ]
  },
  {
   "cell_type": "markdown",
   "metadata": {},
   "source": [
    "### Periode Waktu Pengambilan Data"
   ]
  },
  {
   "cell_type": "markdown",
   "metadata": {},
   "source": [
    "Berdasarkan data yang kita dapatkan sebelumnya, umur popularitas rata - rata sebuah platform adalah sekitar 10 tahun, dan biasanya mencapai popularitas tertinggi di sekitar 5 tahun pertama sejak muncul ke pasar. Jadi, jika kita mau membuat prediksi untuk tahun 2017, sebaiknya kita cukup mengambil data 5 tahun rilis terakhir saja, yaitu dari tahun 2012 hingga 2016. Untuk data dengan tahun rilis sebelum 2012 dapat kita abaikan."
   ]
  },
  {
   "cell_type": "code",
   "execution_count": 233,
   "metadata": {},
   "outputs": [
    {
     "data": {
      "text/html": [
       "<div>\n",
       "<style scoped>\n",
       "    .dataframe tbody tr th:only-of-type {\n",
       "        vertical-align: middle;\n",
       "    }\n",
       "\n",
       "    .dataframe tbody tr th {\n",
       "        vertical-align: top;\n",
       "    }\n",
       "\n",
       "    .dataframe thead th {\n",
       "        text-align: right;\n",
       "    }\n",
       "</style>\n",
       "<table border=\"1\" class=\"dataframe\">\n",
       "  <thead>\n",
       "    <tr style=\"text-align: right;\">\n",
       "      <th></th>\n",
       "      <th>name</th>\n",
       "      <th>platform</th>\n",
       "      <th>year_of_release</th>\n",
       "      <th>genre</th>\n",
       "      <th>na_sales</th>\n",
       "      <th>eu_sales</th>\n",
       "      <th>jp_sales</th>\n",
       "      <th>other_sales</th>\n",
       "      <th>critic_score</th>\n",
       "      <th>user_score</th>\n",
       "      <th>rating</th>\n",
       "      <th>median_year_of_release</th>\n",
       "      <th>total_sales</th>\n",
       "    </tr>\n",
       "  </thead>\n",
       "  <tbody>\n",
       "    <tr>\n",
       "      <th>0</th>\n",
       "      <td>Grand Theft Auto V</td>\n",
       "      <td>PS3</td>\n",
       "      <td>2013</td>\n",
       "      <td>Action</td>\n",
       "      <td>7.02</td>\n",
       "      <td>9.09</td>\n",
       "      <td>0.98</td>\n",
       "      <td>3.96</td>\n",
       "      <td>97.0</td>\n",
       "      <td>8.2</td>\n",
       "      <td>M</td>\n",
       "      <td>2010.0</td>\n",
       "      <td>21.05</td>\n",
       "    </tr>\n",
       "    <tr>\n",
       "      <th>1</th>\n",
       "      <td>Grand Theft Auto V</td>\n",
       "      <td>X360</td>\n",
       "      <td>2013</td>\n",
       "      <td>Action</td>\n",
       "      <td>9.66</td>\n",
       "      <td>5.14</td>\n",
       "      <td>0.06</td>\n",
       "      <td>1.41</td>\n",
       "      <td>97.0</td>\n",
       "      <td>8.1</td>\n",
       "      <td>M</td>\n",
       "      <td>2009.0</td>\n",
       "      <td>16.27</td>\n",
       "    </tr>\n",
       "    <tr>\n",
       "      <th>2</th>\n",
       "      <td>Call of Duty: Black Ops 3</td>\n",
       "      <td>PS4</td>\n",
       "      <td>2015</td>\n",
       "      <td>Shooter</td>\n",
       "      <td>6.03</td>\n",
       "      <td>5.86</td>\n",
       "      <td>0.36</td>\n",
       "      <td>2.38</td>\n",
       "      <td>NaN</td>\n",
       "      <td>NaN</td>\n",
       "      <td>NaN</td>\n",
       "      <td>2015.0</td>\n",
       "      <td>14.63</td>\n",
       "    </tr>\n",
       "    <tr>\n",
       "      <th>3</th>\n",
       "      <td>Pokemon X/Pokemon Y</td>\n",
       "      <td>3DS</td>\n",
       "      <td>2013</td>\n",
       "      <td>Role-Playing</td>\n",
       "      <td>5.28</td>\n",
       "      <td>4.19</td>\n",
       "      <td>4.35</td>\n",
       "      <td>0.78</td>\n",
       "      <td>NaN</td>\n",
       "      <td>NaN</td>\n",
       "      <td>NaN</td>\n",
       "      <td>2012.0</td>\n",
       "      <td>14.60</td>\n",
       "    </tr>\n",
       "    <tr>\n",
       "      <th>4</th>\n",
       "      <td>Call of Duty: Black Ops II</td>\n",
       "      <td>PS3</td>\n",
       "      <td>2012</td>\n",
       "      <td>Shooter</td>\n",
       "      <td>4.99</td>\n",
       "      <td>5.73</td>\n",
       "      <td>0.65</td>\n",
       "      <td>2.42</td>\n",
       "      <td>83.0</td>\n",
       "      <td>5.3</td>\n",
       "      <td>M</td>\n",
       "      <td>2010.0</td>\n",
       "      <td>13.79</td>\n",
       "    </tr>\n",
       "    <tr>\n",
       "      <th>...</th>\n",
       "      <td>...</td>\n",
       "      <td>...</td>\n",
       "      <td>...</td>\n",
       "      <td>...</td>\n",
       "      <td>...</td>\n",
       "      <td>...</td>\n",
       "      <td>...</td>\n",
       "      <td>...</td>\n",
       "      <td>...</td>\n",
       "      <td>...</td>\n",
       "      <td>...</td>\n",
       "      <td>...</td>\n",
       "      <td>...</td>\n",
       "    </tr>\n",
       "    <tr>\n",
       "      <th>2890</th>\n",
       "      <td>Strawberry Nauts</td>\n",
       "      <td>PSV</td>\n",
       "      <td>2016</td>\n",
       "      <td>Adventure</td>\n",
       "      <td>0.00</td>\n",
       "      <td>0.00</td>\n",
       "      <td>0.01</td>\n",
       "      <td>0.00</td>\n",
       "      <td>NaN</td>\n",
       "      <td>NaN</td>\n",
       "      <td>NaN</td>\n",
       "      <td>2013.0</td>\n",
       "      <td>0.01</td>\n",
       "    </tr>\n",
       "    <tr>\n",
       "      <th>2891</th>\n",
       "      <td>Aiyoku no Eustia</td>\n",
       "      <td>PSV</td>\n",
       "      <td>2014</td>\n",
       "      <td>Misc</td>\n",
       "      <td>0.00</td>\n",
       "      <td>0.00</td>\n",
       "      <td>0.01</td>\n",
       "      <td>0.00</td>\n",
       "      <td>NaN</td>\n",
       "      <td>NaN</td>\n",
       "      <td>NaN</td>\n",
       "      <td>2013.0</td>\n",
       "      <td>0.01</td>\n",
       "    </tr>\n",
       "    <tr>\n",
       "      <th>2892</th>\n",
       "      <td>Samurai Warriors: Sanada Maru</td>\n",
       "      <td>PS3</td>\n",
       "      <td>2016</td>\n",
       "      <td>Action</td>\n",
       "      <td>0.00</td>\n",
       "      <td>0.00</td>\n",
       "      <td>0.01</td>\n",
       "      <td>0.00</td>\n",
       "      <td>NaN</td>\n",
       "      <td>NaN</td>\n",
       "      <td>NaN</td>\n",
       "      <td>2010.0</td>\n",
       "      <td>0.01</td>\n",
       "    </tr>\n",
       "    <tr>\n",
       "      <th>2893</th>\n",
       "      <td>Haitaka no Psychedelica</td>\n",
       "      <td>PSV</td>\n",
       "      <td>2016</td>\n",
       "      <td>Adventure</td>\n",
       "      <td>0.00</td>\n",
       "      <td>0.00</td>\n",
       "      <td>0.01</td>\n",
       "      <td>0.00</td>\n",
       "      <td>NaN</td>\n",
       "      <td>NaN</td>\n",
       "      <td>NaN</td>\n",
       "      <td>2013.0</td>\n",
       "      <td>0.01</td>\n",
       "    </tr>\n",
       "    <tr>\n",
       "      <th>2894</th>\n",
       "      <td>Winning Post 8 2016</td>\n",
       "      <td>PSV</td>\n",
       "      <td>2016</td>\n",
       "      <td>Simulation</td>\n",
       "      <td>0.00</td>\n",
       "      <td>0.00</td>\n",
       "      <td>0.01</td>\n",
       "      <td>0.00</td>\n",
       "      <td>NaN</td>\n",
       "      <td>NaN</td>\n",
       "      <td>NaN</td>\n",
       "      <td>2013.0</td>\n",
       "      <td>0.01</td>\n",
       "    </tr>\n",
       "  </tbody>\n",
       "</table>\n",
       "<p>2895 rows × 13 columns</p>\n",
       "</div>"
      ],
      "text/plain": [
       "                               name platform  year_of_release         genre  \\\n",
       "0                Grand Theft Auto V      PS3             2013        Action   \n",
       "1                Grand Theft Auto V     X360             2013        Action   \n",
       "2         Call of Duty: Black Ops 3      PS4             2015       Shooter   \n",
       "3               Pokemon X/Pokemon Y      3DS             2013  Role-Playing   \n",
       "4        Call of Duty: Black Ops II      PS3             2012       Shooter   \n",
       "...                             ...      ...              ...           ...   \n",
       "2890               Strawberry Nauts      PSV             2016     Adventure   \n",
       "2891               Aiyoku no Eustia      PSV             2014          Misc   \n",
       "2892  Samurai Warriors: Sanada Maru      PS3             2016        Action   \n",
       "2893        Haitaka no Psychedelica      PSV             2016     Adventure   \n",
       "2894            Winning Post 8 2016      PSV             2016    Simulation   \n",
       "\n",
       "      na_sales  eu_sales  jp_sales  other_sales  critic_score  user_score  \\\n",
       "0         7.02      9.09      0.98         3.96          97.0         8.2   \n",
       "1         9.66      5.14      0.06         1.41          97.0         8.1   \n",
       "2         6.03      5.86      0.36         2.38           NaN         NaN   \n",
       "3         5.28      4.19      4.35         0.78           NaN         NaN   \n",
       "4         4.99      5.73      0.65         2.42          83.0         5.3   \n",
       "...        ...       ...       ...          ...           ...         ...   \n",
       "2890      0.00      0.00      0.01         0.00           NaN         NaN   \n",
       "2891      0.00      0.00      0.01         0.00           NaN         NaN   \n",
       "2892      0.00      0.00      0.01         0.00           NaN         NaN   \n",
       "2893      0.00      0.00      0.01         0.00           NaN         NaN   \n",
       "2894      0.00      0.00      0.01         0.00           NaN         NaN   \n",
       "\n",
       "     rating  median_year_of_release  total_sales  \n",
       "0         M                  2010.0        21.05  \n",
       "1         M                  2009.0        16.27  \n",
       "2       NaN                  2015.0        14.63  \n",
       "3       NaN                  2012.0        14.60  \n",
       "4         M                  2010.0        13.79  \n",
       "...     ...                     ...          ...  \n",
       "2890    NaN                  2013.0         0.01  \n",
       "2891    NaN                  2013.0         0.01  \n",
       "2892    NaN                  2010.0         0.01  \n",
       "2893    NaN                  2013.0         0.01  \n",
       "2894    NaN                  2013.0         0.01  \n",
       "\n",
       "[2895 rows x 13 columns]"
      ]
     },
     "execution_count": 233,
     "metadata": {},
     "output_type": "execute_result"
    }
   ],
   "source": [
    "new_df = df[df['year_of_release'] >= 2012].reset_index(drop=True)\n",
    "new_df"
   ]
  },
  {
   "cell_type": "markdown",
   "metadata": {},
   "source": [
    "Dataset baru memiliki 2895 baris dan 13 kolom. Kita akan menggunakan dataset baru ini untuk menganalisis data selanjutnya."
   ]
  },
  {
   "cell_type": "markdown",
   "metadata": {},
   "source": [
    "### Penjualan yang Berpotensi Memberikan Keuntungan"
   ]
  },
  {
   "cell_type": "code",
   "execution_count": 234,
   "metadata": {},
   "outputs": [],
   "source": [
    "new_top_sales = new_df.groupby(['platform'])['total_sales'].sum().sort_values().reset_index().round(2)"
   ]
  },
  {
   "cell_type": "code",
   "execution_count": 235,
   "metadata": {},
   "outputs": [
    {
     "data": {
      "image/png": "[encoded data removed]",
      "text/plain": [
       "<Figure size 1440x504 with 1 Axes>"
      ]
     },
     "metadata": {
      "needs_background": "light"
     },
     "output_type": "display_data"
    }
   ],
   "source": [
    "bx = new_top_sales.plot(kind='bar', x = 'platform', y = 'total_sales', figsize=(20, 7))\n",
    "plt.xticks(rotation = 45)\n",
    "\n",
    "for p in bx.patches:\n",
    "    bx.annotate(str(p.get_height()), (p.get_x(), p.get_height()) ,\\\n",
    "               ha='center', va='center',\n",
    "                                      xytext = (20, 10), textcoords = 'offset points',\n",
    "                                      size=10)\n",
    "plt.show()    "
   ]
  },
  {
   "cell_type": "markdown",
   "metadata": {},
   "source": [
    "Setelah kita membuat grafik penjualan dari dataset yang baru, dimana hanya berisi data dari tahun rilis 2012 hingga 2016, ternyata penjualan tertinggi adalah platform PS4, kemudian diikuti dengan PS3 dan X360. Hal ini cukup menarik, karena PS3 dan X360 pertama kali dirilis sekitar tahun 2005 - 2006, namun hingga tahun 2016, dimana sudah 'berumur' 10 tahun, penjualannya termasuk yang tertinggi.\n",
    "\n",
    "Xone dan 3DS yang baru dirilis sekitar tahun 2011 - 2013 juga memiliki penjualan yang cukup tinggi walaupun masih kalah dibandingkan PS3 dan X360. Hal ini mungkin terjadi karena masing - masing platform tersebut masih berumur pendek (sekitar 3-5 tahun), sehingga mungkin belum banyak pengembangan game pada platform ini, dan popularitasnya belum mencapai puncaknya.\n",
    "\n",
    "Jika hanya melihat dari angka penjualan, maka platform yang berpotensi untuk memberi keuntungan adalah 5 platform dengan penjualan tertinggi, yaitu PS4, PS3, X360, 3DS dan XOne.\n",
    "Namun jika kita juga mempertimbangkan umur popularitas sebuah platform, yang paling berpotensi tentu saja adalah PS4, karena platform ini belum lama dirilis dan masih berpotensi untuk menaikkan angka penjualan gamenya hingga beberapa tahun ke depan."
   ]
  },
  {
   "cell_type": "markdown",
   "metadata": {},
   "source": [
    "### Penjualan Global Game Berdasarkan Platform"
   ]
  },
  {
   "cell_type": "code",
   "execution_count": 236,
   "metadata": {},
   "outputs": [
    {
     "data": {
      "text/html": [
       "<div>\n",
       "<style scoped>\n",
       "    .dataframe tbody tr th:only-of-type {\n",
       "        vertical-align: middle;\n",
       "    }\n",
       "\n",
       "    .dataframe tbody tr th {\n",
       "        vertical-align: top;\n",
       "    }\n",
       "\n",
       "    .dataframe thead th {\n",
       "        text-align: right;\n",
       "    }\n",
       "</style>\n",
       "<table border=\"1\" class=\"dataframe\">\n",
       "  <thead>\n",
       "    <tr style=\"text-align: right;\">\n",
       "      <th></th>\n",
       "      <th>sum</th>\n",
       "      <th>mean</th>\n",
       "      <th>median</th>\n",
       "      <th>std</th>\n",
       "      <th>var</th>\n",
       "    </tr>\n",
       "    <tr>\n",
       "      <th>platform</th>\n",
       "      <th></th>\n",
       "      <th></th>\n",
       "      <th></th>\n",
       "      <th></th>\n",
       "      <th></th>\n",
       "    </tr>\n",
       "  </thead>\n",
       "  <tbody>\n",
       "    <tr>\n",
       "      <th>3DS</th>\n",
       "      <td>195.80</td>\n",
       "      <td>0.484653</td>\n",
       "      <td>0.11</td>\n",
       "      <td>1.374274</td>\n",
       "      <td>1.888630</td>\n",
       "    </tr>\n",
       "    <tr>\n",
       "      <th>DS</th>\n",
       "      <td>12.55</td>\n",
       "      <td>0.404839</td>\n",
       "      <td>0.05</td>\n",
       "      <td>1.439245</td>\n",
       "      <td>2.071426</td>\n",
       "    </tr>\n",
       "    <tr>\n",
       "      <th>PC</th>\n",
       "      <td>62.65</td>\n",
       "      <td>0.250600</td>\n",
       "      <td>0.08</td>\n",
       "      <td>0.494640</td>\n",
       "      <td>0.244669</td>\n",
       "    </tr>\n",
       "    <tr>\n",
       "      <th>PS3</th>\n",
       "      <td>288.79</td>\n",
       "      <td>0.585781</td>\n",
       "      <td>0.20</td>\n",
       "      <td>1.462855</td>\n",
       "      <td>2.139946</td>\n",
       "    </tr>\n",
       "    <tr>\n",
       "      <th>PS4</th>\n",
       "      <td>314.14</td>\n",
       "      <td>0.801378</td>\n",
       "      <td>0.20</td>\n",
       "      <td>1.609456</td>\n",
       "      <td>2.590350</td>\n",
       "    </tr>\n",
       "    <tr>\n",
       "      <th>PSP</th>\n",
       "      <td>11.19</td>\n",
       "      <td>0.064682</td>\n",
       "      <td>0.03</td>\n",
       "      <td>0.071296</td>\n",
       "      <td>0.005083</td>\n",
       "    </tr>\n",
       "    <tr>\n",
       "      <th>PSV</th>\n",
       "      <td>49.44</td>\n",
       "      <td>0.120000</td>\n",
       "      <td>0.05</td>\n",
       "      <td>0.202882</td>\n",
       "      <td>0.041161</td>\n",
       "    </tr>\n",
       "    <tr>\n",
       "      <th>Wii</th>\n",
       "      <td>35.37</td>\n",
       "      <td>0.655000</td>\n",
       "      <td>0.18</td>\n",
       "      <td>1.165447</td>\n",
       "      <td>1.358267</td>\n",
       "    </tr>\n",
       "    <tr>\n",
       "      <th>WiiU</th>\n",
       "      <td>82.19</td>\n",
       "      <td>0.559116</td>\n",
       "      <td>0.22</td>\n",
       "      <td>1.058836</td>\n",
       "      <td>1.121133</td>\n",
       "    </tr>\n",
       "    <tr>\n",
       "      <th>X360</th>\n",
       "      <td>236.54</td>\n",
       "      <td>0.810068</td>\n",
       "      <td>0.31</td>\n",
       "      <td>1.712069</td>\n",
       "      <td>2.931181</td>\n",
       "    </tr>\n",
       "    <tr>\n",
       "      <th>XOne</th>\n",
       "      <td>159.32</td>\n",
       "      <td>0.645020</td>\n",
       "      <td>0.22</td>\n",
       "      <td>1.036139</td>\n",
       "      <td>1.073584</td>\n",
       "    </tr>\n",
       "  </tbody>\n",
       "</table>\n",
       "</div>"
      ],
      "text/plain": [
       "             sum      mean  median       std       var\n",
       "platform                                              \n",
       "3DS       195.80  0.484653    0.11  1.374274  1.888630\n",
       "DS         12.55  0.404839    0.05  1.439245  2.071426\n",
       "PC         62.65  0.250600    0.08  0.494640  0.244669\n",
       "PS3       288.79  0.585781    0.20  1.462855  2.139946\n",
       "PS4       314.14  0.801378    0.20  1.609456  2.590350\n",
       "PSP        11.19  0.064682    0.03  0.071296  0.005083\n",
       "PSV        49.44  0.120000    0.05  0.202882  0.041161\n",
       "Wii        35.37  0.655000    0.18  1.165447  1.358267\n",
       "WiiU       82.19  0.559116    0.22  1.058836  1.121133\n",
       "X360      236.54  0.810068    0.31  1.712069  2.931181\n",
       "XOne      159.32  0.645020    0.22  1.036139  1.073584"
      ]
     },
     "execution_count": 236,
     "metadata": {},
     "output_type": "execute_result"
    }
   ],
   "source": [
    "agg_sales = new_df.groupby('platform')['total_sales'].agg(['sum', 'mean', 'median', 'std', 'var'])\n",
    "agg_sales"
   ]
  },
  {
   "cell_type": "code",
   "execution_count": 237,
   "metadata": {},
   "outputs": [
    {
     "data": {
      "text/plain": [
       "<AxesSubplot:xlabel='platform', ylabel='total_sales'>"
      ]
     },
     "execution_count": 237,
     "metadata": {},
     "output_type": "execute_result"
    },
    {
     "data": {
      "image/png": "[encoded data removed]",
      "text/plain": [
       "<Figure size 1080x504 with 1 Axes>"
      ]
     },
     "metadata": {
      "needs_background": "light"
     },
     "output_type": "display_data"
    }
   ],
   "source": [
    "plt.figure(figsize = (15, 7))\n",
    "sns.boxplot(data = new_df, x = 'platform', y = 'total_sales')"
   ]
  },
  {
   "cell_type": "code",
   "execution_count": 238,
   "metadata": {},
   "outputs": [
    {
     "data": {
      "text/plain": [
       "(0.0, 5.0)"
      ]
     },
     "execution_count": 238,
     "metadata": {},
     "output_type": "execute_result"
    },
    {
     "data": {
      "image/png": "[encoded data removed]",
      "text/plain": [
       "<Figure size 1080x504 with 1 Axes>"
      ]
     },
     "metadata": {
      "needs_background": "light"
     },
     "output_type": "display_data"
    }
   ],
   "source": [
    "plt.figure(figsize = (15, 7))\n",
    "sns.boxplot(data = new_df, x = 'platform', y = 'total_sales')\n",
    "plt.ylim(0, 5)"
   ]
  },
  {
   "cell_type": "markdown",
   "metadata": {},
   "source": [
    "Ternyata terdapat perbedaan yang sangat signifikan terhadap penjualan berbagai platform. Dari boxplot, kita dapat melihat banyak data outlier dimana artinya banyak game pada masing - masing platform yang memiliki penjualan sangat tinggi.\n",
    "\n",
    "Jika diperhatikan, game pada platform X360, PS4, PS3, XOne dan Wii memiliki rata - rata penjualan yang jauh lebih tinggi dibandingkan platform lainnya. Hal ini terlihat wajar, dimana 3 dari 5 platform dengan rata - rata penjualan tertinggi adalah platform yang telah dirilis sejak tahun 2005 - 2006, sehingga game pada platform - platform tersebut sudah lama beredar di pasaran dan pasti jumlah pengembangan game dan jumlah penggunanya pun sudah lebih banyak.\n",
    "\n",
    "Hal menarik yang dapat kita lihat adalah dari platform PS4 dan XOne, dimana mereka baru saja rilis di tahun 2013, namun rata - rata penjualannya cukup tinggi, mungkin meskipun baru berumur pendek, para pembuat game di platform PS4 dan XOne sudah banyak mengembangkan game untuk kedua platform ini."
   ]
  },
  {
   "cell_type": "markdown",
   "metadata": {},
   "source": [
    "### Korelasi Ulasan dengan Penjualan"
   ]
  },
  {
   "cell_type": "markdown",
   "metadata": {},
   "source": [
    "Kita akan melihat bagaimana ulasan pengguna dan para profesional dapat berpengaruh terhadap penjualan pada salah satu platform populer. Data yang akan kita gunakan adalah data dari platform PS4, dimana game pada platform ini memiliki angka penjualan tertinggi hingga tahun 2016. Kita akan mencoba membuat grafik untuk mevisualisasikan korelasi antara ulasan dengan penjualan."
   ]
  },
  {
   "cell_type": "code",
   "execution_count": 239,
   "metadata": {},
   "outputs": [
    {
     "data": {
      "text/html": [
       "<div>\n",
       "<style scoped>\n",
       "    .dataframe tbody tr th:only-of-type {\n",
       "        vertical-align: middle;\n",
       "    }\n",
       "\n",
       "    .dataframe tbody tr th {\n",
       "        vertical-align: top;\n",
       "    }\n",
       "\n",
       "    .dataframe thead th {\n",
       "        text-align: right;\n",
       "    }\n",
       "</style>\n",
       "<table border=\"1\" class=\"dataframe\">\n",
       "  <thead>\n",
       "    <tr style=\"text-align: right;\">\n",
       "      <th></th>\n",
       "      <th>total_sales</th>\n",
       "      <th>critic_score</th>\n",
       "      <th>user_score</th>\n",
       "    </tr>\n",
       "  </thead>\n",
       "  <tbody>\n",
       "    <tr>\n",
       "      <th>total_sales</th>\n",
       "      <td>1.000000</td>\n",
       "      <td>0.405895</td>\n",
       "      <td>-0.033625</td>\n",
       "    </tr>\n",
       "    <tr>\n",
       "      <th>critic_score</th>\n",
       "      <td>0.405895</td>\n",
       "      <td>1.000000</td>\n",
       "      <td>0.557654</td>\n",
       "    </tr>\n",
       "    <tr>\n",
       "      <th>user_score</th>\n",
       "      <td>-0.033625</td>\n",
       "      <td>0.557654</td>\n",
       "      <td>1.000000</td>\n",
       "    </tr>\n",
       "  </tbody>\n",
       "</table>\n",
       "</div>"
      ],
      "text/plain": [
       "              total_sales  critic_score  user_score\n",
       "total_sales      1.000000      0.405895   -0.033625\n",
       "critic_score     0.405895      1.000000    0.557654\n",
       "user_score      -0.033625      0.557654    1.000000"
      ]
     },
     "execution_count": 239,
     "metadata": {},
     "output_type": "execute_result"
    }
   ],
   "source": [
    "col = ['total_sales', 'critic_score', 'user_score']\n",
    "review = new_df.groupby(['platform', 'name'])[col].sum().query('platform == \"PS4\" & critic_score > 0 & user_score > 0').reset_index()\n",
    "review.corr()"
   ]
  },
  {
   "cell_type": "code",
   "execution_count": 240,
   "metadata": {},
   "outputs": [
    {
     "data": {
      "text/plain": [
       "<AxesSubplot:title={'center':'Correlation Between Critic Score and Total Sales'}, xlabel='critic_score', ylabel='total_sales'>"
      ]
     },
     "execution_count": 240,
     "metadata": {},
     "output_type": "execute_result"
    },
    {
     "data": {
      "image/png": "[encoded data removed]",
      "text/plain": [
       "<Figure size 720x360 with 1 Axes>"
      ]
     },
     "metadata": {
      "needs_background": "light"
     },
     "output_type": "display_data"
    }
   ],
   "source": [
    "plt.figure(figsize = (10,5))\n",
    "plt.title('Correlation Between Critic Score and Total Sales')\n",
    "sns.scatterplot(data = review, x = 'critic_score', y = 'total_sales')"
   ]
  },
  {
   "cell_type": "code",
   "execution_count": 241,
   "metadata": {},
   "outputs": [
    {
     "data": {
      "text/plain": [
       "<AxesSubplot:title={'center':'Correlation Between User Score and Total Sales'}, xlabel='user_score', ylabel='total_sales'>"
      ]
     },
     "execution_count": 241,
     "metadata": {},
     "output_type": "execute_result"
    },
    {
     "data": {
      "image/png": "[encoded data removed]",
      "text/plain": [
       "<Figure size 720x360 with 1 Axes>"
      ]
     },
     "metadata": {
      "needs_background": "light"
     },
     "output_type": "display_data"
    }
   ],
   "source": [
    "plt.figure(figsize = (10,5))\n",
    "plt.title('Correlation Between User Score and Total Sales')\n",
    "sns.scatterplot(data = review, x = 'user_score', y = 'total_sales')"
   ]
  },
  {
   "cell_type": "markdown",
   "metadata": {},
   "source": [
    "Melalui grafik di atas, kita dapat melihat bahwa ulasan dari pengguna dan profesional ternyata hanya memiliki pengaruh yang kecil terhadap penjualan sebuah game di platform PS4. Hal ini juga dapat terlihat pada tabel dimana korelasi negatif yang terjadi antara ulasan pengguna dan total penjualan menandakan adanya koneksi yang sangat lemah (dengan nilai -0.03). Begitu juga dengan korelasi antara ulasan profesional dan total penjualan menunjukkan adanya koneksi yang lemah (dengan nilai 0.4).\n",
    "Ini berarti semakin banyak ulasan pada sebuah game, tidak membuat penjualannya menjadi ikut meningkat.\n",
    "\n",
    "Sehingga, dapat kita simpulkan bahwa total penjualan game pada sebuah platform tidak terlalu dipengaruhi oleh ulasan, terutama ulasan pengguna.\n",
    "\n",
    "Untuk lebih mendukung kesimpulan kita, mari bandingkan platform lainnya yang sama - sama dirilis tahun 2013 seperti PS4, namun berbeda perusahaan pengembangnya, yaitu XOne."
   ]
  },
  {
   "cell_type": "code",
   "execution_count": 242,
   "metadata": {},
   "outputs": [
    {
     "data": {
      "text/html": [
       "<div>\n",
       "<style scoped>\n",
       "    .dataframe tbody tr th:only-of-type {\n",
       "        vertical-align: middle;\n",
       "    }\n",
       "\n",
       "    .dataframe tbody tr th {\n",
       "        vertical-align: top;\n",
       "    }\n",
       "\n",
       "    .dataframe thead th {\n",
       "        text-align: right;\n",
       "    }\n",
       "</style>\n",
       "<table border=\"1\" class=\"dataframe\">\n",
       "  <thead>\n",
       "    <tr style=\"text-align: right;\">\n",
       "      <th></th>\n",
       "      <th>total_sales</th>\n",
       "      <th>critic_score</th>\n",
       "      <th>user_score</th>\n",
       "    </tr>\n",
       "  </thead>\n",
       "  <tbody>\n",
       "    <tr>\n",
       "      <th>total_sales</th>\n",
       "      <td>1.000000</td>\n",
       "      <td>0.410422</td>\n",
       "      <td>-0.094003</td>\n",
       "    </tr>\n",
       "    <tr>\n",
       "      <th>critic_score</th>\n",
       "      <td>0.410422</td>\n",
       "      <td>1.000000</td>\n",
       "      <td>0.472462</td>\n",
       "    </tr>\n",
       "    <tr>\n",
       "      <th>user_score</th>\n",
       "      <td>-0.094003</td>\n",
       "      <td>0.472462</td>\n",
       "      <td>1.000000</td>\n",
       "    </tr>\n",
       "  </tbody>\n",
       "</table>\n",
       "</div>"
      ],
      "text/plain": [
       "              total_sales  critic_score  user_score\n",
       "total_sales      1.000000      0.410422   -0.094003\n",
       "critic_score     0.410422      1.000000    0.472462\n",
       "user_score      -0.094003      0.472462    1.000000"
      ]
     },
     "execution_count": 242,
     "metadata": {},
     "output_type": "execute_result"
    }
   ],
   "source": [
    "other_review = new_df.groupby(['platform', 'name'])[col].sum().query('platform == \"XOne\" & critic_score > 0 & user_score > 0').reset_index()\n",
    "other_review.corr()"
   ]
  },
  {
   "cell_type": "code",
   "execution_count": 243,
   "metadata": {},
   "outputs": [
    {
     "data": {
      "text/plain": [
       "<AxesSubplot:title={'center':'Correlation Between Critic Score and Total Sales'}, xlabel='critic_score', ylabel='total_sales'>"
      ]
     },
     "execution_count": 243,
     "metadata": {},
     "output_type": "execute_result"
    },
    {
     "data": {
      "image/png": "[encoded data removed]",
      "text/plain": [
       "<Figure size 360x144 with 1 Axes>"
      ]
     },
     "metadata": {
      "needs_background": "light"
     },
     "output_type": "display_data"
    }
   ],
   "source": [
    "plt.figure(figsize = (5,2))\n",
    "plt.title('Correlation Between Critic Score and Total Sales')\n",
    "sns.scatterplot(data = other_review, x = 'critic_score', y = 'total_sales')"
   ]
  },
  {
   "cell_type": "code",
   "execution_count": 244,
   "metadata": {},
   "outputs": [
    {
     "data": {
      "text/plain": [
       "<AxesSubplot:title={'center':'Correlation Between User Score and Total Sales'}, xlabel='user_score', ylabel='total_sales'>"
      ]
     },
     "execution_count": 244,
     "metadata": {},
     "output_type": "execute_result"
    },
    {
     "data": {
      "image/png": "[encoded data removed]",
      "text/plain": [
       "<Figure size 360x144 with 1 Axes>"
      ]
     },
     "metadata": {
      "needs_background": "light"
     },
     "output_type": "display_data"
    }
   ],
   "source": [
    "plt.figure(figsize = (5,2))\n",
    "plt.title('Correlation Between User Score and Total Sales')\n",
    "sns.scatterplot(data = other_review, x = 'user_score', y = 'total_sales')"
   ]
  },
  {
   "cell_type": "markdown",
   "metadata": {},
   "source": [
    "Ternyata, hasilnya hampir sama seperti penjualan game di platform PS4. Korelasi antara ulasan pengguna dan profesional memiliki koneksi yang lemah terhadap total penjualan.\n",
    "\n",
    "Jadi, dengan ini, kesimpulan kita bahwa sebuah ulasan hanya memiliki pengaruh yang kecil terhadap penjualan game di sebuah platform, dapat diterima."
   ]
  },
  {
   "cell_type": "markdown",
   "metadata": {},
   "source": [
    "### Distribusi Umum Game Berdasarkan Genre"
   ]
  },
  {
   "cell_type": "markdown",
   "metadata": {},
   "source": [
    "Kita akan coba melihat penjualan game yang paling menguntungkan dengan mengacu pada genre game tersebut."
   ]
  },
  {
   "cell_type": "code",
   "execution_count": 245,
   "metadata": {},
   "outputs": [
    {
     "data": {
      "text/html": [
       "<div>\n",
       "<style scoped>\n",
       "    .dataframe tbody tr th:only-of-type {\n",
       "        vertical-align: middle;\n",
       "    }\n",
       "\n",
       "    .dataframe tbody tr th {\n",
       "        vertical-align: top;\n",
       "    }\n",
       "\n",
       "    .dataframe thead th {\n",
       "        text-align: right;\n",
       "    }\n",
       "</style>\n",
       "<table border=\"1\" class=\"dataframe\">\n",
       "  <thead>\n",
       "    <tr style=\"text-align: right;\">\n",
       "      <th></th>\n",
       "      <th>sum</th>\n",
       "      <th>mean</th>\n",
       "      <th>median</th>\n",
       "      <th>std</th>\n",
       "      <th>var</th>\n",
       "    </tr>\n",
       "    <tr>\n",
       "      <th>genre</th>\n",
       "      <th></th>\n",
       "      <th></th>\n",
       "      <th></th>\n",
       "      <th></th>\n",
       "      <th></th>\n",
       "    </tr>\n",
       "  </thead>\n",
       "  <tbody>\n",
       "    <tr>\n",
       "      <th>Action</th>\n",
       "      <td>441.52</td>\n",
       "      <td>0.427829</td>\n",
       "      <td>0.120</td>\n",
       "      <td>1.165938</td>\n",
       "      <td>1.359413</td>\n",
       "    </tr>\n",
       "    <tr>\n",
       "      <th>Adventure</th>\n",
       "      <td>29.52</td>\n",
       "      <td>0.097426</td>\n",
       "      <td>0.030</td>\n",
       "      <td>0.207892</td>\n",
       "      <td>0.043219</td>\n",
       "    </tr>\n",
       "    <tr>\n",
       "      <th>Fighting</th>\n",
       "      <td>44.49</td>\n",
       "      <td>0.408165</td>\n",
       "      <td>0.130</td>\n",
       "      <td>0.910385</td>\n",
       "      <td>0.828800</td>\n",
       "    </tr>\n",
       "    <tr>\n",
       "      <th>Misc</th>\n",
       "      <td>85.04</td>\n",
       "      <td>0.442917</td>\n",
       "      <td>0.120</td>\n",
       "      <td>1.081047</td>\n",
       "      <td>1.168663</td>\n",
       "    </tr>\n",
       "    <tr>\n",
       "      <th>Platform</th>\n",
       "      <td>61.00</td>\n",
       "      <td>0.717647</td>\n",
       "      <td>0.210</td>\n",
       "      <td>1.364413</td>\n",
       "      <td>1.861623</td>\n",
       "    </tr>\n",
       "    <tr>\n",
       "      <th>Puzzle</th>\n",
       "      <td>4.89</td>\n",
       "      <td>0.174643</td>\n",
       "      <td>0.045</td>\n",
       "      <td>0.305438</td>\n",
       "      <td>0.093292</td>\n",
       "    </tr>\n",
       "    <tr>\n",
       "      <th>Racing</th>\n",
       "      <td>53.59</td>\n",
       "      <td>0.461983</td>\n",
       "      <td>0.135</td>\n",
       "      <td>0.885477</td>\n",
       "      <td>0.784070</td>\n",
       "    </tr>\n",
       "    <tr>\n",
       "      <th>Role-Playing</th>\n",
       "      <td>193.09</td>\n",
       "      <td>0.519059</td>\n",
       "      <td>0.140</td>\n",
       "      <td>1.312701</td>\n",
       "      <td>1.723184</td>\n",
       "    </tr>\n",
       "    <tr>\n",
       "      <th>Shooter</th>\n",
       "      <td>304.80</td>\n",
       "      <td>1.291525</td>\n",
       "      <td>0.435</td>\n",
       "      <td>2.248285</td>\n",
       "      <td>5.054783</td>\n",
       "    </tr>\n",
       "    <tr>\n",
       "      <th>Simulation</th>\n",
       "      <td>35.61</td>\n",
       "      <td>0.434268</td>\n",
       "      <td>0.120</td>\n",
       "      <td>1.229439</td>\n",
       "      <td>1.511521</td>\n",
       "    </tr>\n",
       "    <tr>\n",
       "      <th>Sports</th>\n",
       "      <td>181.09</td>\n",
       "      <td>0.673197</td>\n",
       "      <td>0.240</td>\n",
       "      <td>1.134960</td>\n",
       "      <td>1.288135</td>\n",
       "    </tr>\n",
       "    <tr>\n",
       "      <th>Strategy</th>\n",
       "      <td>13.34</td>\n",
       "      <td>0.187887</td>\n",
       "      <td>0.080</td>\n",
       "      <td>0.271976</td>\n",
       "      <td>0.073971</td>\n",
       "    </tr>\n",
       "  </tbody>\n",
       "</table>\n",
       "</div>"
      ],
      "text/plain": [
       "                 sum      mean  median       std       var\n",
       "genre                                                     \n",
       "Action        441.52  0.427829   0.120  1.165938  1.359413\n",
       "Adventure      29.52  0.097426   0.030  0.207892  0.043219\n",
       "Fighting       44.49  0.408165   0.130  0.910385  0.828800\n",
       "Misc           85.04  0.442917   0.120  1.081047  1.168663\n",
       "Platform       61.00  0.717647   0.210  1.364413  1.861623\n",
       "Puzzle          4.89  0.174643   0.045  0.305438  0.093292\n",
       "Racing         53.59  0.461983   0.135  0.885477  0.784070\n",
       "Role-Playing  193.09  0.519059   0.140  1.312701  1.723184\n",
       "Shooter       304.80  1.291525   0.435  2.248285  5.054783\n",
       "Simulation     35.61  0.434268   0.120  1.229439  1.511521\n",
       "Sports        181.09  0.673197   0.240  1.134960  1.288135\n",
       "Strategy       13.34  0.187887   0.080  0.271976  0.073971"
      ]
     },
     "execution_count": 245,
     "metadata": {},
     "output_type": "execute_result"
    }
   ],
   "source": [
    "agg_genre = new_df.groupby('genre')['total_sales'].agg(['sum', 'mean', 'median', 'std', 'var'])\n",
    "agg_genre"
   ]
  },
  {
   "cell_type": "code",
   "execution_count": 246,
   "metadata": {},
   "outputs": [
    {
     "data": {
      "text/plain": [
       "(0.0, 4.0)"
      ]
     },
     "execution_count": 246,
     "metadata": {},
     "output_type": "execute_result"
    },
    {
     "data": {
      "image/png": "[encoded data removed]",
      "text/plain": [
       "<Figure size 1080x504 with 1 Axes>"
      ]
     },
     "metadata": {
      "needs_background": "light"
     },
     "output_type": "display_data"
    }
   ],
   "source": [
    "plt.figure(figsize = (15, 7))\n",
    "sns.boxplot(data = new_df, x = 'genre', y = 'total_sales')\n",
    "plt.ylim(0,4)"
   ]
  },
  {
   "cell_type": "markdown",
   "metadata": {},
   "source": [
    "Melihat dari data di atas, sepertinya genre yang paling menguntungkan adalah **shooter**, karena memiliki nilai rata - rata penjualan yang lebih tinggi dibandingkan genre lainnya. Game dengan jenis **action** memang memiliki angka penjualan tertinggi, namun rata - rata penjualannya tidak sebaik genre **shooter**, bahkan berada di bawah genre lainnya. Sepertinya distribusi datanya tidak merata, mungkin game yang dijual hanya sedikit namun harganya sangat tinggi. Sedangkan genre yang paling tidak laku adalah **adventure** dan **puzzle**.\n",
    "\n",
    "Untuk pengembangan selanjutnya, kita bisa mengembangkan game dengan genre **shooter**. Meskipun genre **shooter** memiliki total penjualan yang lebih rendah dibandingkan dengan genre **action**, namun distribusi data yang lebih variatif dapat memperlihatkan peluang yang lebih besar dalam penjualan yang tinggi di tahun mendatang.\n",
    "Untuk pilihan lainnya, kita bisa juga mengembangkan genre **action**, **role-playing** dan **sports**. "
   ]
  },
  {
   "cell_type": "markdown",
   "metadata": {},
   "source": [
    "### Pemrofilan Pengguna untuk Masing-masing Wilayah"
   ]
  },
  {
   "cell_type": "markdown",
   "metadata": {},
   "source": [
    "Langkah berikutnya, kita akan mencoba melihat pemrofilan pengguna untuk masing - masing wilayah berdasarkan platform, genre dan rating."
   ]
  },
  {
   "cell_type": "markdown",
   "metadata": {},
   "source": [
    "#### Platform"
   ]
  },
  {
   "cell_type": "code",
   "execution_count": 247,
   "metadata": {},
   "outputs": [
    {
     "data": {
      "text/html": [
       "<div>\n",
       "<style scoped>\n",
       "    .dataframe tbody tr th:only-of-type {\n",
       "        vertical-align: middle;\n",
       "    }\n",
       "\n",
       "    .dataframe tbody tr th {\n",
       "        vertical-align: top;\n",
       "    }\n",
       "\n",
       "    .dataframe thead th {\n",
       "        text-align: right;\n",
       "    }\n",
       "</style>\n",
       "<table border=\"1\" class=\"dataframe\">\n",
       "  <thead>\n",
       "    <tr style=\"text-align: right;\">\n",
       "      <th></th>\n",
       "      <th>platform</th>\n",
       "      <th>na_sales</th>\n",
       "      <th>eu_sales</th>\n",
       "      <th>jp_sales</th>\n",
       "    </tr>\n",
       "  </thead>\n",
       "  <tbody>\n",
       "    <tr>\n",
       "      <th>0</th>\n",
       "      <td>3DS</td>\n",
       "      <td>56.15</td>\n",
       "      <td>42.85</td>\n",
       "      <td>87.84</td>\n",
       "    </tr>\n",
       "    <tr>\n",
       "      <th>1</th>\n",
       "      <td>DS</td>\n",
       "      <td>4.59</td>\n",
       "      <td>3.53</td>\n",
       "      <td>3.72</td>\n",
       "    </tr>\n",
       "    <tr>\n",
       "      <th>2</th>\n",
       "      <td>PC</td>\n",
       "      <td>19.12</td>\n",
       "      <td>37.76</td>\n",
       "      <td>0.00</td>\n",
       "    </tr>\n",
       "    <tr>\n",
       "      <th>3</th>\n",
       "      <td>PS3</td>\n",
       "      <td>103.38</td>\n",
       "      <td>106.86</td>\n",
       "      <td>35.29</td>\n",
       "    </tr>\n",
       "    <tr>\n",
       "      <th>4</th>\n",
       "      <td>PS4</td>\n",
       "      <td>108.74</td>\n",
       "      <td>141.09</td>\n",
       "      <td>15.96</td>\n",
       "    </tr>\n",
       "    <tr>\n",
       "      <th>5</th>\n",
       "      <td>PSP</td>\n",
       "      <td>0.13</td>\n",
       "      <td>0.42</td>\n",
       "      <td>10.47</td>\n",
       "    </tr>\n",
       "    <tr>\n",
       "      <th>6</th>\n",
       "      <td>PSV</td>\n",
       "      <td>11.09</td>\n",
       "      <td>11.41</td>\n",
       "      <td>21.11</td>\n",
       "    </tr>\n",
       "    <tr>\n",
       "      <th>7</th>\n",
       "      <td>Wii</td>\n",
       "      <td>17.45</td>\n",
       "      <td>11.92</td>\n",
       "      <td>3.39</td>\n",
       "    </tr>\n",
       "    <tr>\n",
       "      <th>8</th>\n",
       "      <td>WiiU</td>\n",
       "      <td>38.10</td>\n",
       "      <td>25.13</td>\n",
       "      <td>13.01</td>\n",
       "    </tr>\n",
       "    <tr>\n",
       "      <th>9</th>\n",
       "      <td>X360</td>\n",
       "      <td>140.05</td>\n",
       "      <td>74.52</td>\n",
       "      <td>1.57</td>\n",
       "    </tr>\n",
       "    <tr>\n",
       "      <th>10</th>\n",
       "      <td>XOne</td>\n",
       "      <td>93.12</td>\n",
       "      <td>51.59</td>\n",
       "      <td>0.34</td>\n",
       "    </tr>\n",
       "  </tbody>\n",
       "</table>\n",
       "</div>"
      ],
      "text/plain": [
       "   platform  na_sales  eu_sales  jp_sales\n",
       "0       3DS     56.15     42.85     87.84\n",
       "1        DS      4.59      3.53      3.72\n",
       "2        PC     19.12     37.76      0.00\n",
       "3       PS3    103.38    106.86     35.29\n",
       "4       PS4    108.74    141.09     15.96\n",
       "5       PSP      0.13      0.42     10.47\n",
       "6       PSV     11.09     11.41     21.11\n",
       "7       Wii     17.45     11.92      3.39\n",
       "8      WiiU     38.10     25.13     13.01\n",
       "9      X360    140.05     74.52      1.57\n",
       "10     XOne     93.12     51.59      0.34"
      ]
     },
     "execution_count": 247,
     "metadata": {},
     "output_type": "execute_result"
    }
   ],
   "source": [
    "cols = ['na_sales', 'eu_sales', 'jp_sales']\n",
    "\n",
    "top_platform = new_df.groupby('platform')[cols].sum().reset_index().round(2)\n",
    "top_platform"
   ]
  },
  {
   "cell_type": "code",
   "execution_count": 248,
   "metadata": {},
   "outputs": [
    {
     "data": {
      "image/png": "[encoded data removed]",
      "text/plain": [
       "<Figure size 432x288 with 1 Axes>"
      ]
     },
     "metadata": {
      "needs_background": "light"
     },
     "output_type": "display_data"
    }
   ],
   "source": [
    "ax_na = sns.barplot(data = top_platform.sort_values(by='na_sales'), x = 'platform', y = 'na_sales')\n",
    "\n",
    "for i, v in enumerate(top_platform.sort_values(by='na_sales')['na_sales']):\n",
    "    ax_na.annotate(str(v), xy=(i, v), ha='center', va='bottom')"
   ]
  },
  {
   "cell_type": "code",
   "execution_count": 249,
   "metadata": {},
   "outputs": [
    {
     "data": {
      "image/png": "[encoded data removed]",
      "text/plain": [
       "<Figure size 432x288 with 1 Axes>"
      ]
     },
     "metadata": {
      "needs_background": "light"
     },
     "output_type": "display_data"
    }
   ],
   "source": [
    "ax_eu = sns.barplot(data = top_platform.sort_values(by='eu_sales'), x = 'platform', y = 'eu_sales')\n",
    "\n",
    "for i, v in enumerate(top_platform.sort_values(by='eu_sales')['eu_sales']):\n",
    "    ax_eu.annotate(str(v), xy=(i, v), ha='center', va='bottom')"
   ]
  },
  {
   "cell_type": "code",
   "execution_count": 250,
   "metadata": {},
   "outputs": [
    {
     "data": {
      "image/png": "[encoded data removed]",
      "text/plain": [
       "<Figure size 432x288 with 1 Axes>"
      ]
     },
     "metadata": {
      "needs_background": "light"
     },
     "output_type": "display_data"
    }
   ],
   "source": [
    "ax_jp = sns.barplot(data = top_platform.sort_values(by='jp_sales'), x = 'platform', y = 'jp_sales')\n",
    "\n",
    "for i, v in enumerate(top_platform.sort_values(by='jp_sales')['jp_sales']):\n",
    "    ax_jp.annotate(str(v), xy=(i, v), ha='center', va='bottom')"
   ]
  },
  {
   "cell_type": "markdown",
   "metadata": {},
   "source": [
    "Ternyata, ketiga wilayah memiliki 5 platform teratas yang berbeda - beda.\n",
    "\n",
    "- Untuk wilayah NA, 5 platform teratas adalah : X360, PS4, PS3, XOne, dan 3DS.\n",
    "- Untuk wilayah EU, 5 platform teratas adalah : PS4, PS3, X360, XOne, dan 3DS.\n",
    "- Untuk wilayah JP, 5 platform teratas adalah : 3DS, PS3, PSV, PS4, dan WiiU.\n",
    "\n",
    "Platform 3DS, PS3 dan PS4 merupakan platform yang cukup populer untuk wilayah NA, EU dan JP.\n",
    "\n",
    "Jika kita ingin mengembangkan game baru di tahun mendatang, untuk wilayah NA, sebaiknya mengembangkan game pada platform X360 dan PS4. Sedangkan untuk wilayah EU, kita bisa mengembangkan game untuk platform PS3 dan PS4. Untuk wilayah JP, sebaiknya mengembangkan game untuk platform 3DS."
   ]
  },
  {
   "cell_type": "markdown",
   "metadata": {},
   "source": [
    "#### Genre"
   ]
  },
  {
   "cell_type": "code",
   "execution_count": 251,
   "metadata": {},
   "outputs": [
    {
     "data": {
      "text/html": [
       "<div>\n",
       "<style scoped>\n",
       "    .dataframe tbody tr th:only-of-type {\n",
       "        vertical-align: middle;\n",
       "    }\n",
       "\n",
       "    .dataframe tbody tr th {\n",
       "        vertical-align: top;\n",
       "    }\n",
       "\n",
       "    .dataframe thead th {\n",
       "        text-align: right;\n",
       "    }\n",
       "</style>\n",
       "<table border=\"1\" class=\"dataframe\">\n",
       "  <thead>\n",
       "    <tr style=\"text-align: right;\">\n",
       "      <th></th>\n",
       "      <th>genre</th>\n",
       "      <th>na_sales</th>\n",
       "      <th>eu_sales</th>\n",
       "      <th>jp_sales</th>\n",
       "    </tr>\n",
       "  </thead>\n",
       "  <tbody>\n",
       "    <tr>\n",
       "      <th>0</th>\n",
       "      <td>Action</td>\n",
       "      <td>178.02</td>\n",
       "      <td>159.53</td>\n",
       "      <td>52.80</td>\n",
       "    </tr>\n",
       "    <tr>\n",
       "      <th>1</th>\n",
       "      <td>Adventure</td>\n",
       "      <td>9.00</td>\n",
       "      <td>9.46</td>\n",
       "      <td>8.24</td>\n",
       "    </tr>\n",
       "    <tr>\n",
       "      <th>2</th>\n",
       "      <td>Fighting</td>\n",
       "      <td>19.79</td>\n",
       "      <td>10.79</td>\n",
       "      <td>9.44</td>\n",
       "    </tr>\n",
       "    <tr>\n",
       "      <th>3</th>\n",
       "      <td>Misc</td>\n",
       "      <td>38.19</td>\n",
       "      <td>26.32</td>\n",
       "      <td>12.86</td>\n",
       "    </tr>\n",
       "    <tr>\n",
       "      <th>4</th>\n",
       "      <td>Platform</td>\n",
       "      <td>25.38</td>\n",
       "      <td>21.41</td>\n",
       "      <td>8.63</td>\n",
       "    </tr>\n",
       "    <tr>\n",
       "      <th>5</th>\n",
       "      <td>Puzzle</td>\n",
       "      <td>1.13</td>\n",
       "      <td>1.40</td>\n",
       "      <td>2.14</td>\n",
       "    </tr>\n",
       "    <tr>\n",
       "      <th>6</th>\n",
       "      <td>Racing</td>\n",
       "      <td>17.30</td>\n",
       "      <td>27.29</td>\n",
       "      <td>2.50</td>\n",
       "    </tr>\n",
       "    <tr>\n",
       "      <th>7</th>\n",
       "      <td>Role-Playing</td>\n",
       "      <td>64.11</td>\n",
       "      <td>48.58</td>\n",
       "      <td>65.54</td>\n",
       "    </tr>\n",
       "    <tr>\n",
       "      <th>8</th>\n",
       "      <td>Shooter</td>\n",
       "      <td>144.81</td>\n",
       "      <td>113.49</td>\n",
       "      <td>9.23</td>\n",
       "    </tr>\n",
       "    <tr>\n",
       "      <th>9</th>\n",
       "      <td>Simulation</td>\n",
       "      <td>8.43</td>\n",
       "      <td>14.55</td>\n",
       "      <td>10.41</td>\n",
       "    </tr>\n",
       "    <tr>\n",
       "      <th>10</th>\n",
       "      <td>Sports</td>\n",
       "      <td>81.53</td>\n",
       "      <td>69.09</td>\n",
       "      <td>8.03</td>\n",
       "    </tr>\n",
       "    <tr>\n",
       "      <th>11</th>\n",
       "      <td>Strategy</td>\n",
       "      <td>4.23</td>\n",
       "      <td>5.17</td>\n",
       "      <td>2.88</td>\n",
       "    </tr>\n",
       "  </tbody>\n",
       "</table>\n",
       "</div>"
      ],
      "text/plain": [
       "           genre  na_sales  eu_sales  jp_sales\n",
       "0         Action    178.02    159.53     52.80\n",
       "1      Adventure      9.00      9.46      8.24\n",
       "2       Fighting     19.79     10.79      9.44\n",
       "3           Misc     38.19     26.32     12.86\n",
       "4       Platform     25.38     21.41      8.63\n",
       "5         Puzzle      1.13      1.40      2.14\n",
       "6         Racing     17.30     27.29      2.50\n",
       "7   Role-Playing     64.11     48.58     65.54\n",
       "8        Shooter    144.81    113.49      9.23\n",
       "9     Simulation      8.43     14.55     10.41\n",
       "10        Sports     81.53     69.09      8.03\n",
       "11      Strategy      4.23      5.17      2.88"
      ]
     },
     "execution_count": 251,
     "metadata": {},
     "output_type": "execute_result"
    }
   ],
   "source": [
    "top_genre = new_df.groupby('genre')[cols].sum().reset_index().round(2)\n",
    "top_genre"
   ]
  },
  {
   "cell_type": "code",
   "execution_count": 252,
   "metadata": {},
   "outputs": [
    {
     "data": {
      "image/png": "[encoded data removed]",
      "text/plain": [
       "<Figure size 1080x360 with 1 Axes>"
      ]
     },
     "metadata": {
      "needs_background": "light"
     },
     "output_type": "display_data"
    }
   ],
   "source": [
    "plt.figure(figsize = (15,5))\n",
    "plt.subplots_adjust(wspace=35)\n",
    "bx_na = sns.barplot(data = top_genre.sort_values(by='na_sales'), x = 'genre', y = 'na_sales')\n",
    "for i, v in enumerate(top_genre.sort_values(by='na_sales')['na_sales']):\n",
    "    bx_na.annotate(str(v), xy=(i, v), ha='center', va='bottom')"
   ]
  },
  {
   "cell_type": "code",
   "execution_count": 253,
   "metadata": {},
   "outputs": [
    {
     "data": {
      "image/png": "[encoded data removed]",
      "text/plain": [
       "<Figure size 1080x360 with 1 Axes>"
      ]
     },
     "metadata": {
      "needs_background": "light"
     },
     "output_type": "display_data"
    }
   ],
   "source": [
    "plt.figure(figsize = (15,5))\n",
    "plt.subplots_adjust(wspace=35)\n",
    "bx_eu = sns.barplot(data = top_genre.sort_values(by='eu_sales'), x = 'genre', y = 'eu_sales')\n",
    "for i, v in enumerate(top_genre.sort_values(by='eu_sales')['eu_sales']):\n",
    "    bx_eu.annotate(str(v), xy=(i, v), ha='center', va='bottom')"
   ]
  },
  {
   "cell_type": "code",
   "execution_count": 254,
   "metadata": {},
   "outputs": [
    {
     "data": {
      "image/png": "[encoded data removed]",
      "text/plain": [
       "<Figure size 1080x360 with 1 Axes>"
      ]
     },
     "metadata": {
      "needs_background": "light"
     },
     "output_type": "display_data"
    }
   ],
   "source": [
    "plt.figure(figsize = (15,5))\n",
    "plt.subplots_adjust(wspace=35)\n",
    "bx_jp = sns.barplot(data = top_genre.sort_values(by='jp_sales'), x = 'genre', y = 'jp_sales')\n",
    "for i, v in enumerate(top_genre.sort_values(by='jp_sales')['jp_sales']):\n",
    "    bx_jp.annotate(str(v), xy=(i, v), ha='center', va='bottom')"
   ]
  },
  {
   "cell_type": "markdown",
   "metadata": {},
   "source": [
    "- Untuk wilayah NA, 5 genre teratas adalah : **Action**, **Shooter**, **Sports**, **Role-Playing**, dan **Misc**\n",
    "- Untuk wilayah EU, 5 genre teratas adalah : **Action**, **Shooter**, **Sports**, **Role-Playing**, dan **Racing**\n",
    "- Untuk wilayah JP, 5 genre teratas adalah : **Role-Playing**, **Action**, **Misc**, **Simulation**, dan **Fighting**\n",
    "\n",
    "\n",
    "Genre yang paling populer di wilayah NA dan EU ternyata hampir sama, empat ranking teratas ditempati oleh game dengan genre **Action**, **Shooter**, **Sports** dan **Role-Playing**. Perbedaannya hanyalah di NA, genre **Misc** lebih populer dibandingkan **Racing**, sedangkan di wilayah EU terjadi sebaliknya.\n",
    "\n",
    "Untuk wilayah JP, justru genre **Role-Playing** adalah genre game yang paling populer, dibandingkan genre lainnya.\n",
    "\n",
    "Game dengan genre **Action** dan **Role-Playing** merupakan game yang populer di wilayah NA, EU, dan JP.\n",
    "Jadi, kita bisa mengembangkan kedua genre game tersebut untuk ketiga wilayah NA, EU, dan JP."
   ]
  },
  {
   "cell_type": "markdown",
   "metadata": {},
   "source": [
    "#### Rating"
   ]
  },
  {
   "cell_type": "code",
   "execution_count": 255,
   "metadata": {},
   "outputs": [
    {
     "data": {
      "text/plain": [
       "M       498\n",
       "T       414\n",
       "E       397\n",
       "E10+    308\n",
       "Name: rating, dtype: int64"
      ]
     },
     "execution_count": 255,
     "metadata": {},
     "output_type": "execute_result"
    }
   ],
   "source": [
    "new_df['rating'].value_counts()"
   ]
  },
  {
   "cell_type": "markdown",
   "metadata": {},
   "source": [
    "Disini kita memiliki 4 tipe rating ESRB, yaitu:\n",
    "\n",
    "- M adalah Mature 17+, yaitu game untuk yang berusia 17 tahun keatas.\n",
    "- T adalah Teen, yaitu game untuk remaja yang berusia 13 tahun keatas.\n",
    "- E adalah Everyone, yaitu game untuk semua umur.\n",
    "- E10+ adalah Everyone 10+, yaitu game untuk anak - anak yang berumur 10 tahun keatas."
   ]
  },
  {
   "cell_type": "code",
   "execution_count": 256,
   "metadata": {},
   "outputs": [
    {
     "data": {
      "text/html": [
       "<div>\n",
       "<style scoped>\n",
       "    .dataframe tbody tr th:only-of-type {\n",
       "        vertical-align: middle;\n",
       "    }\n",
       "\n",
       "    .dataframe tbody tr th {\n",
       "        vertical-align: top;\n",
       "    }\n",
       "\n",
       "    .dataframe thead th {\n",
       "        text-align: right;\n",
       "    }\n",
       "</style>\n",
       "<table border=\"1\" class=\"dataframe\">\n",
       "  <thead>\n",
       "    <tr style=\"text-align: right;\">\n",
       "      <th></th>\n",
       "      <th>rating</th>\n",
       "      <th>na_sales</th>\n",
       "      <th>eu_sales</th>\n",
       "      <th>jp_sales</th>\n",
       "    </tr>\n",
       "  </thead>\n",
       "  <tbody>\n",
       "    <tr>\n",
       "      <th>0</th>\n",
       "      <td>E</td>\n",
       "      <td>114.49</td>\n",
       "      <td>113.05</td>\n",
       "      <td>28.33</td>\n",
       "    </tr>\n",
       "    <tr>\n",
       "      <th>1</th>\n",
       "      <td>E10+</td>\n",
       "      <td>75.96</td>\n",
       "      <td>55.56</td>\n",
       "      <td>8.19</td>\n",
       "    </tr>\n",
       "    <tr>\n",
       "      <th>2</th>\n",
       "      <td>M</td>\n",
       "      <td>231.57</td>\n",
       "      <td>193.96</td>\n",
       "      <td>21.20</td>\n",
       "    </tr>\n",
       "    <tr>\n",
       "      <th>3</th>\n",
       "      <td>T</td>\n",
       "      <td>66.31</td>\n",
       "      <td>53.01</td>\n",
       "      <td>26.09</td>\n",
       "    </tr>\n",
       "  </tbody>\n",
       "</table>\n",
       "</div>"
      ],
      "text/plain": [
       "  rating  na_sales  eu_sales  jp_sales\n",
       "0      E    114.49    113.05     28.33\n",
       "1   E10+     75.96     55.56      8.19\n",
       "2      M    231.57    193.96     21.20\n",
       "3      T     66.31     53.01     26.09"
      ]
     },
     "execution_count": 256,
     "metadata": {},
     "output_type": "execute_result"
    }
   ],
   "source": [
    "rating_sales = new_df.groupby('rating')[cols].sum().reset_index().round(2)\n",
    "rating_sales"
   ]
  },
  {
   "cell_type": "code",
   "execution_count": 257,
   "metadata": {},
   "outputs": [
    {
     "data": {
      "image/png": "[encoded data removed]",
      "text/plain": [
       "<Figure size 576x360 with 1 Axes>"
      ]
     },
     "metadata": {
      "needs_background": "light"
     },
     "output_type": "display_data"
    }
   ],
   "source": [
    "plt.figure(figsize = (8,5))\n",
    "ax_rate_na = sns.barplot(data = rating_sales.sort_values(by='na_sales'), x = 'rating', y = 'na_sales')\n",
    "for i, v in enumerate(rating_sales.sort_values(by='na_sales')['na_sales']):\n",
    "    ax_rate_na.annotate(str(v), xy=(i, v), ha='center', va='bottom')"
   ]
  },
  {
   "cell_type": "code",
   "execution_count": 258,
   "metadata": {},
   "outputs": [
    {
     "data": {
      "image/png": "[encoded data removed]",
      "text/plain": [
       "<Figure size 576x360 with 1 Axes>"
      ]
     },
     "metadata": {
      "needs_background": "light"
     },
     "output_type": "display_data"
    }
   ],
   "source": [
    "plt.figure(figsize = (8,5))\n",
    "ax_rate_eu = sns.barplot(data = rating_sales.sort_values(by='eu_sales'), x = 'rating', y = 'eu_sales')\n",
    "for i, v in enumerate(rating_sales.sort_values(by='eu_sales')['eu_sales']):\n",
    "    ax_rate_eu.annotate(str(v), xy=(i, v), ha='center', va='bottom')"
   ]
  },
  {
   "cell_type": "code",
   "execution_count": 259,
   "metadata": {},
   "outputs": [
    {
     "data": {
      "image/png": "[encoded data removed]",
      "text/plain": [
       "<Figure size 576x360 with 1 Axes>"
      ]
     },
     "metadata": {
      "needs_background": "light"
     },
     "output_type": "display_data"
    }
   ],
   "source": [
    "plt.figure(figsize = (8,5))\n",
    "ax_rate_jp = sns.barplot(data = rating_sales.sort_values(by='jp_sales'), x = 'rating', y = 'jp_sales')\n",
    "for i, v in enumerate(rating_sales.sort_values(by='jp_sales')['jp_sales']):\n",
    "    ax_rate_jp.annotate(str(v), xy=(i, v), ha='center', va='bottom')"
   ]
  },
  {
   "cell_type": "markdown",
   "metadata": {},
   "source": [
    "Ternyata untuk wilayah NA dan EU, penjualan game dengan rating M atau *mature* menempati posisi tertinggi. Sedangkan untuk wilayah JP, didominasi oleh rating E atau *everyone*.\n",
    "\n",
    "Sehingga dapat dikatakan rating sebuah game cukup mempengaruhi penjualan game tersebut di suatu wilayah, karena masing - masing wilayah memiliki penjualan game tertinggi dengan rating yang berbeda.\n",
    "\n",
    "Untuk tahun depan, pengembangan game di wilayah NA dan EU, bisa kita fokuskan game - game dengan rating M, dan untuk wilayah JP, lebih baik kita fokuskan game dengan rating E dan T."
   ]
  },
  {
   "cell_type": "markdown",
   "metadata": {},
   "source": [
    "### Kesimpulan dan Langkah Selanjutnya"
   ]
  },
  {
   "cell_type": "markdown",
   "metadata": {},
   "source": [
    "Setelah kita mencoba menganalisa datanya, maka didapatkan kesimpulan, yaitu:\n",
    "\n",
    "1. Melalui grafik visualisasi mengenai penjualan game per tahun, kita dapat melihat setiap tahun pengembangan game semakin meningkat dan mencapai puncaknya di tahun 2008 dan 2009. Namun, game yang dirilis setelah tahun 2009 mengalami penurunan dan turun sangat signifikan di tahun 2012, dan setelah itu baru pengembangannya kembali stabil (tidak ada kenaikan atau penurunan drastis) hingga tahun 2016.\n",
    "\n",
    "2. Bisa dikatakan, bahwa rata - rata umur platform yang populer adalah sekitar 10 tahun sejak pertama kali muncul hingga mulai menurun popularitasnya, dan sebaiknya jika ingin mengembangkan game di sebuah platform adalah dalam rentang ketika platform dirilis, hingga 5 tahun mendatang. Hal ini dapat disimpulkan setelah melihat grafik visualisasi mengenai ditribusi total penjualan berdasarkan data per tahun dan popularitasnya.\n",
    "\n",
    "3. Dari kesimpulan sebelumnya, kita menentukan bahwa waktu pengambilan data yang relevan adalah data dari tahun 2012 hingga tahun 2016. Data dengan tahun sebelum 2012 tidak akan kita gunakan.\n",
    "\n",
    "4. Melihat dari penjualan game pada platform dari tahun 2012 hingga 2016, didapatkan kesimpulan bahwa untuk pengembangan selanjutnya, yang paling berpotensi menguntungkan adalah game untuk platform PS4. Karena mempertimbangkan rata - rata penjualan sebelumnya dan juga umur popularitas sebuah platform, PS4 belum lama dirilis dan masih berpotensi untuk menaikkan angka penjualan gamenya hingga beberapa tahun ke depan.\n",
    "\n",
    "5. Kita juga mencoba melihat korelasi antara ulasan pengguna dan profesional dengan penjualan sebuah game di platform populer, yaitu PS4. Didapatkan hasil bahwa korelasi antara keduanya merupakan korelasi yang lemah. Sehingga, dapat disimpulkan bahwa ulasan memiliki pengaruh yang sangat kecil terhadap total penjualan. Untuk mendukung pernyataan ini, kita juga mencoba melihat korelasi yang sama namun pada platform yang berbeda, yaitu XOne. Platform ini dipilih karena sama - sama rilis di tahun 2013 dan memiliki perusahaan pengembang yang berbeda. Hasilnya tetap sama, yaitu korelasi yang lemah antara ulasan dengan total penjualan.\n",
    "\n",
    "6. Selain dari total penjualan pada platform, kita juga mencoba melihat distribusi penjualan game berdasarkan genre. Hasilnya didapatkan kesimpulan bahwa genre yang berpotensi untuk dikembangkan adalah genre **Shooter**. Untuk genre **Action** juga memiliki potensi yang cukup tinggi, karena angka penjualannya tertinggi, namun sepertinya jumlah gamenya masih tidak terlalu banyak dan jumlah penggunanya belum sebanyak pengguna game genre **Shooter**.\n",
    "\n",
    "7. Kita mencoba melihat profil pengguna game berdasarkan platform, genre, dan rating untuk masing - masing wilayah NA, EU dan JP. Dari penelitian ini kita mendapatkan kesimpulan:\n",
    "    * Untuk wilayah NA:\n",
    "        * 5 platform teratas adalah : X360, PS4, PS3, XOne, dan 3DS.\n",
    "        * 5 genre teratas adalah : **Action**, **Shooter**, **Sports**, **Role-Playing**, dan **Misc**\n",
    "        * rating tertinggi adalah M (*mature*)\n",
    "    * Untuk wilayah EU:\n",
    "        * 5 platform teratas adalah : PS4, PS3, X360, XOne, dan 3DS.\n",
    "        * 5 genre teratas adalah : **Action**, **Shooter**, **Sports**, **Role-Playing**, dan **Racing**\n",
    "        * rating tertinggi adalah M (*mature)\n",
    "    * Untuk wilayah JP:\n",
    "        * 5 platform teratas adalah : 3DS, PS3, PSV, PS4, dan WiiU.\n",
    "        * 5 genre teratas adalah : **Role-Playing**, **Action**, **Misc**, **Simulation**, dan **Fighting**\n",
    "        * rating tertinggi adalah E (*everyone*)\n",
    "        \n",
    "Dengan melihat kesimpulan dari langkah - langkah yang sudah kita lakukan di atas, jika kita ingin mengembangkan game baru di tahun mendatang, maka:\n",
    "\n",
    "* Untuk wilayah NA, sebaiknya mengembangkan game pada platform X360 dan PS4 dengan genre **Action** dan **Shooter**.\n",
    "* Untuk wilayah EU, kita bisa mengembangkan game untuk platform PS3 dan PS4 dengan genre **Action** dan **Shooter**.\n",
    "* Untuk wilayah JP, sebaiknya mengembangkan game untuk platform 3DS dengan genre **Role-Playing**."
   ]
  },
  {
   "cell_type": "markdown",
   "metadata": {},
   "source": [
    "## Menguji Hipotesis"
   ]
  },
  {
   "cell_type": "markdown",
   "metadata": {},
   "source": [
    "Kita telah mencoba mempelajari profil pengguna game di masing - masing wilayah NA, EU, dan JP, dengan mengacu pada 5 platform teratas, 5 genre teratas dan rating di masing - masing wilayah tersebut.\n",
    "\n",
    "Selanjutnya, kita akan menguji hipotesis kita di awal, yaitu:\n",
    "\n",
    "1. Rata-rata rating pengguna platform Xbox One dan PC adalah sama.\n",
    "2. Rata-rata rating pengguna genre Action dan Sports berbeda."
   ]
  },
  {
   "cell_type": "markdown",
   "metadata": {},
   "source": [
    "**Menguji Hipotesis Pertama**"
   ]
  },
  {
   "cell_type": "markdown",
   "metadata": {},
   "source": [
    "Untuk hipotesis pertama, kita akan mencoba melakukan *ttest_ind(sample_1, sample_2)* dari paket modul *scipy.stats* dan bandingkan hasil nilai p dengan \"alpha\".\n",
    "Nilai \"alpha\" atau tingkat signifikansi yang dipilih adalah sebesar 5%. Angka ini dipilih karena mempertimbangkan tujuan pengujian hipotesis dan juga konteks pengujian yaitu untuk keperluan industri game yang tidak memerlukan tingkat signifikansi yang sangat rendah (seperti 0.001 atau bahkan 0.0001).\n",
    "Kita akan mengasumsikan bahwa terdapat kemungkinan sebesar 5% kesalahan dalam menolak H0.\n",
    "\n",
    "H0 : rata - rata rating pengguna platform Xbox One dan PC adalah sama.\n",
    "\n",
    "H1 : rata - rata rating pengguna platform Xbox One dan PC adalah berbeda. "
   ]
  },
  {
   "cell_type": "code",
   "execution_count": 260,
   "metadata": {},
   "outputs": [],
   "source": [
    "df_xone = new_df.loc[new_df['platform'] == 'XOne']\n",
    "df_pc = new_df.loc[new_df['platform'] == 'PC']"
   ]
  },
  {
   "cell_type": "code",
   "execution_count": 261,
   "metadata": {},
   "outputs": [],
   "source": [
    "sample_1 = df_xone.dropna()['user_score']\n",
    "sample_2 = df_pc.dropna()['user_score']"
   ]
  },
  {
   "cell_type": "code",
   "execution_count": 262,
   "metadata": {},
   "outputs": [
    {
     "data": {
      "text/plain": [
       "6.49308176100629"
      ]
     },
     "execution_count": 262,
     "metadata": {},
     "output_type": "execute_result"
    }
   ],
   "source": [
    "sample_1.mean()"
   ]
  },
  {
   "cell_type": "code",
   "execution_count": 263,
   "metadata": {},
   "outputs": [
    {
     "data": {
      "text/plain": [
       "6.358045977011493"
      ]
     },
     "execution_count": 263,
     "metadata": {},
     "output_type": "execute_result"
    }
   ],
   "source": [
    "sample_2.mean()"
   ]
  },
  {
   "cell_type": "code",
   "execution_count": 264,
   "metadata": {},
   "outputs": [
    {
     "data": {
      "text/plain": [
       "0.41668656393474524"
      ]
     },
     "execution_count": 264,
     "metadata": {},
     "output_type": "execute_result"
    }
   ],
   "source": [
    "alpha = 0.05\n",
    "result = st.ttest_ind(sample_1, sample_2, equal_var=False)\n",
    "result.pvalue"
   ]
  },
  {
   "cell_type": "code",
   "execution_count": 265,
   "metadata": {},
   "outputs": [
    {
     "name": "stdout",
     "output_type": "stream",
     "text": [
      "Kita gagal menolak null hipotesis\n"
     ]
    }
   ],
   "source": [
    "if (result.pvalue < alpha):\n",
    "    print('Tolak null hipotesis')\n",
    "else:\n",
    "    print('Kita gagal menolak null hipotesis')"
   ]
  },
  {
   "cell_type": "markdown",
   "metadata": {},
   "source": [
    "Setelah melakukan ttest_ind, hasil uji statistik menunjukkan bahwa p-value > alpha, dan hasil uji hipotesis menyatakan \"Kita gagal menolak null hipotesis,\" maka kita dapat menyimpulkan bahwa bukti yang ada tidak cukup kuat untuk menolak hipotesis nol (H0) pada tingkat signifikansi yang telah ditentukan (nilai alpha = 0.05).\n",
    "\n",
    "Sehingga bisa dikatakan bahwa tidak ada perbedaan antara rata - rata rating pengguna platform Xbox One dan PC.\n",
    "\n",
    "Maka dari itu, hipotesis pertama kita yang menyatakan bahwa rata - rata rating pengguna platform Xbox One dan PC adalah sama dapat diterima sepenuhnya."
   ]
  },
  {
   "cell_type": "markdown",
   "metadata": {},
   "source": [
    "**Menguji Hipotesis Kedua**"
   ]
  },
  {
   "cell_type": "markdown",
   "metadata": {},
   "source": [
    "Untuk hipotesis kedua, kita masih akan menggunakan *ttest_ind(sample_1, sample_2)* dari paket modul *scipy.stats* dan bandingkan hasil nilai p dengan \"alpha\".\n",
    "Nilai \"alpha\" yang akan kita gunakan sama seperti pada pengujian hipotesis pertama, yaitu 5%.\n",
    "\n",
    "H0 : Rata-rata rating pengguna genre **Action** dan **Sports** sama.\n",
    "\n",
    "H1 : Rata-rata rating pengguna genre **Action** dan **Sports** berbeda."
   ]
  },
  {
   "cell_type": "code",
   "execution_count": 266,
   "metadata": {},
   "outputs": [],
   "source": [
    "df_action = new_df.loc[new_df['genre'] == 'Action']\n",
    "df_sports = new_df.loc[new_df['genre'] == 'Sports']"
   ]
  },
  {
   "cell_type": "code",
   "execution_count": 267,
   "metadata": {},
   "outputs": [
    {
     "data": {
      "text/html": [
       "<div>\n",
       "<style scoped>\n",
       "    .dataframe tbody tr th:only-of-type {\n",
       "        vertical-align: middle;\n",
       "    }\n",
       "\n",
       "    .dataframe tbody tr th {\n",
       "        vertical-align: top;\n",
       "    }\n",
       "\n",
       "    .dataframe thead th {\n",
       "        text-align: right;\n",
       "    }\n",
       "</style>\n",
       "<table border=\"1\" class=\"dataframe\">\n",
       "  <thead>\n",
       "    <tr style=\"text-align: right;\">\n",
       "      <th></th>\n",
       "      <th>name</th>\n",
       "      <th>platform</th>\n",
       "      <th>year_of_release</th>\n",
       "      <th>genre</th>\n",
       "      <th>na_sales</th>\n",
       "      <th>eu_sales</th>\n",
       "      <th>jp_sales</th>\n",
       "      <th>other_sales</th>\n",
       "      <th>critic_score</th>\n",
       "      <th>user_score</th>\n",
       "      <th>rating</th>\n",
       "      <th>median_year_of_release</th>\n",
       "      <th>total_sales</th>\n",
       "    </tr>\n",
       "  </thead>\n",
       "  <tbody>\n",
       "    <tr>\n",
       "      <th>0</th>\n",
       "      <td>Grand Theft Auto V</td>\n",
       "      <td>PS3</td>\n",
       "      <td>2013</td>\n",
       "      <td>Action</td>\n",
       "      <td>7.02</td>\n",
       "      <td>9.09</td>\n",
       "      <td>0.98</td>\n",
       "      <td>3.96</td>\n",
       "      <td>97.0</td>\n",
       "      <td>8.2</td>\n",
       "      <td>M</td>\n",
       "      <td>2010.0</td>\n",
       "      <td>21.05</td>\n",
       "    </tr>\n",
       "    <tr>\n",
       "      <th>1</th>\n",
       "      <td>Grand Theft Auto V</td>\n",
       "      <td>X360</td>\n",
       "      <td>2013</td>\n",
       "      <td>Action</td>\n",
       "      <td>9.66</td>\n",
       "      <td>5.14</td>\n",
       "      <td>0.06</td>\n",
       "      <td>1.41</td>\n",
       "      <td>97.0</td>\n",
       "      <td>8.1</td>\n",
       "      <td>M</td>\n",
       "      <td>2009.0</td>\n",
       "      <td>16.27</td>\n",
       "    </tr>\n",
       "    <tr>\n",
       "      <th>6</th>\n",
       "      <td>Grand Theft Auto V</td>\n",
       "      <td>PS4</td>\n",
       "      <td>2014</td>\n",
       "      <td>Action</td>\n",
       "      <td>3.96</td>\n",
       "      <td>6.31</td>\n",
       "      <td>0.38</td>\n",
       "      <td>1.97</td>\n",
       "      <td>97.0</td>\n",
       "      <td>8.3</td>\n",
       "      <td>M</td>\n",
       "      <td>2015.0</td>\n",
       "      <td>12.62</td>\n",
       "    </tr>\n",
       "    <tr>\n",
       "      <th>15</th>\n",
       "      <td>FIFA Soccer 13</td>\n",
       "      <td>PS3</td>\n",
       "      <td>2012</td>\n",
       "      <td>Action</td>\n",
       "      <td>1.06</td>\n",
       "      <td>5.01</td>\n",
       "      <td>0.13</td>\n",
       "      <td>1.97</td>\n",
       "      <td>88.0</td>\n",
       "      <td>6.6</td>\n",
       "      <td>E</td>\n",
       "      <td>2010.0</td>\n",
       "      <td>8.17</td>\n",
       "    </tr>\n",
       "    <tr>\n",
       "      <th>27</th>\n",
       "      <td>Assassin's Creed III</td>\n",
       "      <td>PS3</td>\n",
       "      <td>2012</td>\n",
       "      <td>Action</td>\n",
       "      <td>2.64</td>\n",
       "      <td>2.52</td>\n",
       "      <td>0.16</td>\n",
       "      <td>1.12</td>\n",
       "      <td>85.0</td>\n",
       "      <td>6.9</td>\n",
       "      <td>M</td>\n",
       "      <td>2010.0</td>\n",
       "      <td>6.44</td>\n",
       "    </tr>\n",
       "    <tr>\n",
       "      <th>...</th>\n",
       "      <td>...</td>\n",
       "      <td>...</td>\n",
       "      <td>...</td>\n",
       "      <td>...</td>\n",
       "      <td>...</td>\n",
       "      <td>...</td>\n",
       "      <td>...</td>\n",
       "      <td>...</td>\n",
       "      <td>...</td>\n",
       "      <td>...</td>\n",
       "      <td>...</td>\n",
       "      <td>...</td>\n",
       "      <td>...</td>\n",
       "    </tr>\n",
       "    <tr>\n",
       "      <th>2884</th>\n",
       "      <td>Kyoukai no Shirayuki</td>\n",
       "      <td>PSV</td>\n",
       "      <td>2016</td>\n",
       "      <td>Action</td>\n",
       "      <td>0.00</td>\n",
       "      <td>0.00</td>\n",
       "      <td>0.01</td>\n",
       "      <td>0.00</td>\n",
       "      <td>NaN</td>\n",
       "      <td>NaN</td>\n",
       "      <td>NaN</td>\n",
       "      <td>2013.0</td>\n",
       "      <td>0.01</td>\n",
       "    </tr>\n",
       "    <tr>\n",
       "      <th>2887</th>\n",
       "      <td>Dynasty Warriors: Eiketsuden</td>\n",
       "      <td>PS3</td>\n",
       "      <td>2016</td>\n",
       "      <td>Action</td>\n",
       "      <td>0.00</td>\n",
       "      <td>0.00</td>\n",
       "      <td>0.01</td>\n",
       "      <td>0.00</td>\n",
       "      <td>NaN</td>\n",
       "      <td>NaN</td>\n",
       "      <td>NaN</td>\n",
       "      <td>2010.0</td>\n",
       "      <td>0.01</td>\n",
       "    </tr>\n",
       "    <tr>\n",
       "      <th>2888</th>\n",
       "      <td>Metal Gear Solid V: Ground Zeroes</td>\n",
       "      <td>PC</td>\n",
       "      <td>2014</td>\n",
       "      <td>Action</td>\n",
       "      <td>0.00</td>\n",
       "      <td>0.01</td>\n",
       "      <td>0.00</td>\n",
       "      <td>0.00</td>\n",
       "      <td>80.0</td>\n",
       "      <td>7.6</td>\n",
       "      <td>M</td>\n",
       "      <td>2009.0</td>\n",
       "      <td>0.01</td>\n",
       "    </tr>\n",
       "    <tr>\n",
       "      <th>2889</th>\n",
       "      <td>The Longest 5 Minutes</td>\n",
       "      <td>PSV</td>\n",
       "      <td>2016</td>\n",
       "      <td>Action</td>\n",
       "      <td>0.00</td>\n",
       "      <td>0.00</td>\n",
       "      <td>0.01</td>\n",
       "      <td>0.00</td>\n",
       "      <td>NaN</td>\n",
       "      <td>NaN</td>\n",
       "      <td>NaN</td>\n",
       "      <td>2013.0</td>\n",
       "      <td>0.01</td>\n",
       "    </tr>\n",
       "    <tr>\n",
       "      <th>2892</th>\n",
       "      <td>Samurai Warriors: Sanada Maru</td>\n",
       "      <td>PS3</td>\n",
       "      <td>2016</td>\n",
       "      <td>Action</td>\n",
       "      <td>0.00</td>\n",
       "      <td>0.00</td>\n",
       "      <td>0.01</td>\n",
       "      <td>0.00</td>\n",
       "      <td>NaN</td>\n",
       "      <td>NaN</td>\n",
       "      <td>NaN</td>\n",
       "      <td>2010.0</td>\n",
       "      <td>0.01</td>\n",
       "    </tr>\n",
       "  </tbody>\n",
       "</table>\n",
       "<p>1032 rows × 13 columns</p>\n",
       "</div>"
      ],
      "text/plain": [
       "                                   name platform  year_of_release   genre  \\\n",
       "0                    Grand Theft Auto V      PS3             2013  Action   \n",
       "1                    Grand Theft Auto V     X360             2013  Action   \n",
       "6                    Grand Theft Auto V      PS4             2014  Action   \n",
       "15                       FIFA Soccer 13      PS3             2012  Action   \n",
       "27                 Assassin's Creed III      PS3             2012  Action   \n",
       "...                                 ...      ...              ...     ...   \n",
       "2884               Kyoukai no Shirayuki      PSV             2016  Action   \n",
       "2887       Dynasty Warriors: Eiketsuden      PS3             2016  Action   \n",
       "2888  Metal Gear Solid V: Ground Zeroes       PC             2014  Action   \n",
       "2889              The Longest 5 Minutes      PSV             2016  Action   \n",
       "2892      Samurai Warriors: Sanada Maru      PS3             2016  Action   \n",
       "\n",
       "      na_sales  eu_sales  jp_sales  other_sales  critic_score  user_score  \\\n",
       "0         7.02      9.09      0.98         3.96          97.0         8.2   \n",
       "1         9.66      5.14      0.06         1.41          97.0         8.1   \n",
       "6         3.96      6.31      0.38         1.97          97.0         8.3   \n",
       "15        1.06      5.01      0.13         1.97          88.0         6.6   \n",
       "27        2.64      2.52      0.16         1.12          85.0         6.9   \n",
       "...        ...       ...       ...          ...           ...         ...   \n",
       "2884      0.00      0.00      0.01         0.00           NaN         NaN   \n",
       "2887      0.00      0.00      0.01         0.00           NaN         NaN   \n",
       "2888      0.00      0.01      0.00         0.00          80.0         7.6   \n",
       "2889      0.00      0.00      0.01         0.00           NaN         NaN   \n",
       "2892      0.00      0.00      0.01         0.00           NaN         NaN   \n",
       "\n",
       "     rating  median_year_of_release  total_sales  \n",
       "0         M                  2010.0        21.05  \n",
       "1         M                  2009.0        16.27  \n",
       "6         M                  2015.0        12.62  \n",
       "15        E                  2010.0         8.17  \n",
       "27        M                  2010.0         6.44  \n",
       "...     ...                     ...          ...  \n",
       "2884    NaN                  2013.0         0.01  \n",
       "2887    NaN                  2010.0         0.01  \n",
       "2888      M                  2009.0         0.01  \n",
       "2889    NaN                  2013.0         0.01  \n",
       "2892    NaN                  2010.0         0.01  \n",
       "\n",
       "[1032 rows x 13 columns]"
      ]
     },
     "execution_count": 267,
     "metadata": {},
     "output_type": "execute_result"
    }
   ],
   "source": [
    "df_action"
   ]
  },
  {
   "cell_type": "code",
   "execution_count": 268,
   "metadata": {},
   "outputs": [],
   "source": [
    "sample_3 = df_action.dropna()['user_score']\n",
    "sample_4 = df_sports.dropna()['user_score']"
   ]
  },
  {
   "cell_type": "code",
   "execution_count": 269,
   "metadata": {},
   "outputs": [
    {
     "data": {
      "text/plain": [
       "6.873995271867613"
      ]
     },
     "execution_count": 269,
     "metadata": {},
     "output_type": "execute_result"
    }
   ],
   "source": [
    "sample_3.mean()"
   ]
  },
  {
   "cell_type": "code",
   "execution_count": 270,
   "metadata": {},
   "outputs": [
    {
     "data": {
      "text/plain": [
       "5.8161764705882355"
      ]
     },
     "execution_count": 270,
     "metadata": {},
     "output_type": "execute_result"
    }
   ],
   "source": [
    "sample_4.mean()"
   ]
  },
  {
   "cell_type": "code",
   "execution_count": 271,
   "metadata": {},
   "outputs": [
    {
     "data": {
      "text/plain": [
       "4.880249484559985e-13"
      ]
     },
     "execution_count": 271,
     "metadata": {},
     "output_type": "execute_result"
    }
   ],
   "source": [
    "alpha = 0.05\n",
    "result = st.ttest_ind(sample_3, sample_4, equal_var=False)\n",
    "result.pvalue"
   ]
  },
  {
   "cell_type": "code",
   "execution_count": 272,
   "metadata": {},
   "outputs": [
    {
     "name": "stdout",
     "output_type": "stream",
     "text": [
      "Tolak null hipotesis\n"
     ]
    }
   ],
   "source": [
    "if (result.pvalue < alpha):\n",
    "    print('Tolak null hipotesis')\n",
    "else:\n",
    "    print('Kita gagal menolak null hipotesis')"
   ]
  },
  {
   "cell_type": "markdown",
   "metadata": {},
   "source": [
    "Setelah melakukan ttest_ind, hasil uji statistik menunjukkan bahwa p-value < alpha, dan hasil uji hipotesis menyatakan \"Tolak null hipotesis,\" maka kita dapat menyimpulkan bahwa ada bukti yang cukup kuat untuk menolak hipotesis nol (H0) dan menerima hipotesis alternatif (H1) pada tingkat signifikansi yang telah ditentukan (nilai alpha = 0.05).\n",
    "\n",
    "Sehingga bisa dikatakan bahwa ada perbedaan antara rata-rata rating pengguna genre **Action** dan **Sports**.\n",
    "\n",
    "Maka dari itu, hipotesis kedua kita yang menyatakan bahwa rata-rata rating pengguna genre Action dan Sports berbeda dapat diterima sepenuhnya."
   ]
  },
  {
   "cell_type": "markdown",
   "metadata": {},
   "source": [
    "## Kesimpulan Umum"
   ]
  },
  {
   "cell_type": "markdown",
   "metadata": {},
   "source": [
    "Kita telah mencoba untuk mengolah data dan membuktikan hipotesis kita dapat diterima atau tidak.\n",
    "\n",
    "Kumpulan data awal yang kita miliki terkait ulasan pengguna dan ahli game, genre, platform (misalnya Xbox atau PlayStation), dan data historis penjualan game selama tahun 2016 disimpan dalam *file* berikut: `/datasets/games.csv`.\n",
    "\n",
    "Dari tahap pra-pemrosesan data terhadap masing - masing tabel, kita mendapat kesimpulan, bahwa:\n",
    "\n",
    "1. Gaya penulisan judul kolom pada dataset kita yang semula tidak mengikuti aturan, sudah diperbaiki sesuai dengan aturan gaya penulisan yang baik, yaitu: **Semua karakter harus menggunakan huruf kecil**.\n",
    "\n",
    "2. Kolom `name` memiliki nilai yang hilang dan sudah diperbaiki dengan menghapus datanya. Langkah ini diambil dengan mempertimbangkan persentase data yg hilang tersebut sangat kecil (0.01%) dan karena diasumsikan data tidak memiliki informasi yang lengkap.\n",
    "\n",
    "3. Kolom `genre` memiliki nilai yang hilang dengan persentase yang sama dengan kolom `name`. Setelah dilakukan pemeriksaan, nilai yang hilang pada kedua kolom ini simetris. Sehingga ketika data dengan nilai yang hilang pada kolom `name` dihapus, secara otomatis data pada kolom `genre` juga tereliminasi.\n",
    "\n",
    "4. Kolom `year_of_release` memiliki 2 masalah, yaitu adanya nilai yang hilang dan kesalahan pada tipe datanya. Data dengan nilai yang hilang telah diisi dengan median berdasarkan pengelompokkan dengan kolom `platform`, dengan asumsi bahwa game pada platform yang sama, mungkin memiliki tahun rilis yang hampir sama. Tipe datanya yang semula berupa *float* telah diperbaiki menjadi *integer*.\n",
    "\n",
    "5. Kolom `critic_score`, `user_score`, dan `rating` masing - masing memiliki nilai yang hilang dengan persentase yang sangat besar (antara 40% hingga 50%). Karena jumlah data yang hilang tersebut sangat banyak, dan kita tidak bisa mengisinya dengan sembarangan, karena dapat mempengaruhi distribusi datanya dan analisis data kita menjadi tidak akurat, maka, diputuskan untuk tidak mengisi nilai yang hilang tersebut dan membiarkan datanya apa adanya saja.\n",
    "\n",
    "6. Tipe data pada kolom `user_score` awalnya berupa *object*. Setelah diteliti, kemungkinan munculnya tipe data ini adalah karena terdapat nilai 'tbd' pada kolom tersebut. Maka, kita telah mengganti nilai 'tbd' dengan NaN, karena diasumsikan game dengan penilaian 'tbd' merupakan game yang tidak populer dan dapat diabaikan. Setelah mengubah nilai 'tbd', baru kita ubah tipe datanya menjadi *float*.\n",
    "\n",
    "7. Tidak ada data yang terduplikasi.\n",
    "\n",
    "8. Setelah memperbaiki masalah - masalah yang ada dan melakukan penambahan 2 kolom yaitu `median_year_of_release` dan `total_sales`, maka dataset kita saat ini memiliki 16713 baris dan 13 kolom.\n",
    "\n",
    "Setelah selesai memperbaiki data yang bermasalah, kita mencoba menganalisa data dengan melakukan beberapa langkah, yaitu:\n",
    "\n",
    "1. Mempelajari distribusi penjualan game per tahun dan popularitasnya sebagai acuan untuk menentukan periode waktu pengambilan data yang lebih relevan.\n",
    "\n",
    "2. Setelah melakukan langkah pertama, didapatkan kesimpulan bahwa data yang relevan adalah data dengan tahun rilis 2012 hingga 2016, karena rata - rata umur popularitas sebuah platform adalah 5 - 10 tahun, dan melihat grafik data penjualan, tahun 2012 - 2016 terlihat lebih stabil dibandingkan tahun - tahun sebelumnya.\n",
    "\n",
    "3. Melihat dari penjualan game pada platform dari tahun 2012 hingga 2016, didapatkan kesimpulan bahwa untuk pengembangan selanjutnya, yang paling berpotensi menguntungkan adalah game untuk platform PS4. Karena mempertimbangkan rata - rata penjualan sebelumnya dan juga umur popularitas sebuah platform, PS4 belum lama dirilis dan masih berpotensi untuk menaikkan angka penjualan gamenya hingga beberapa tahun ke depan.\n",
    "\n",
    "4. Kita juga mencoba melihat korelasi antara ulasan pengguna dan profesional dengan penjualan sebuah game di platform populer, yaitu PS4. Didapatkan hasil bahwa korelasi antara keduanya merupakan korelasi yang lemah. Sehingga, dapat disimpulkan bahwa ulasan memiliki pengaruh yang sangat kecil terhadap total penjualan. Untuk mendukung pernyataan ini, kita juga mencoba melihat korelasi yang sama namun pada platform yang berbeda, yaitu XOne. Platform ini dipilih karena sama - sama rilis di tahun 2013 dan memiliki perusahaan pengembang yang berbeda. Hasilnya tetap sama, yaitu korelasi yang lemah antara ulasan dengan total penjualan.\n",
    "\n",
    "5. Selain dari total penjualan pada platform, kita juga mencoba melihat distribusi penjualan game berdasarkan genre. Hasilnya didapatkan kesimpulan bahwa genre yang berpotensi untuk dikembangkan adalah genre **Shooter**. Untuk genre **Action** juga memiliki potensi yang cukup tinggi, karena angka penjualannya tertinggi, namun sepertinya jumlah gamenya masih tidak terlalu banyak dan jumlah penggunanya belum sebanyak pengguna game genre **Shooter**.\n",
    "\n",
    "6. Kita mencoba melihat profil pengguna game berdasarkan platform, genre, dan rating untuk masing - masing wilayah NA, EU dan JP. Dari penelitian ini kita mendapatkan kesimpulan:\n",
    "    * Untuk wilayah NA:\n",
    "        * 5 platform teratas adalah : X360, PS4, PS3, XOne, dan 3DS.\n",
    "        * 5 genre teratas adalah : **Action**, **Shooter**, **Sports**, **Role-Playing**, dan **Misc**\n",
    "        * rating tertinggi adalah M (*mature*)\n",
    "    * Untuk wilayah EU:\n",
    "        * 5 platform teratas adalah : PS4, PS3, X360, XOne, dan 3DS.\n",
    "        * 5 genre teratas adalah : **Action**, **Shooter**, **Sports**, **Role-Playing**, dan **Racing**\n",
    "        * rating tertinggi adalah M (*mature)\n",
    "    * Untuk wilayah JP:\n",
    "        * 5 platform teratas adalah : 3DS, PS3, PSV, PS4, dan WiiU.\n",
    "        * 5 genre teratas adalah : **Role-Playing**, **Action**, **Misc**, **Simulation**, dan **Fighting**\n",
    "        * rating tertinggi adalah E (*everyone*)\n",
    "        \n",
    "Dengan melihat kesimpulan dari langkah - langkah yang sudah kita lakukan di atas, jika kita ingin mengembangkan game baru di tahun mendatang, maka:\n",
    "\n",
    "* Untuk wilayah NA, sebaiknya mengembangkan game pada platform X360 dan PS4 dengan genre **Action** dan **Shooter**.\n",
    "* Untuk wilayah EU, kita bisa mengembangkan game untuk platform PS3 dan PS4 dengan genre **Action** dan **Shooter**.\n",
    "* Untuk wilayah JP, sebaiknya mengembangkan game untuk platform 3DS dengan genre **Role-Playing**.\n",
    "\n",
    "Pada awal proyek, kita telah merumuskan hipotesis sebagai berikut:\n",
    "\n",
    "1. Rata-rata rating pengguna platform Xbox One dan PC adalah sama.\n",
    "2. Rata-rata rating pengguna genre Action dan Sports berbeda.\n",
    "\n",
    "Setelah menganalisis data dan melakukan uji hipotesis statistik dengan merumuskan hipotesis nol dan alternatif dan melakukan pengujian t-test, kita mendapatkan kesimpulan bahwa:\n",
    "\n",
    "1. Rata-rata rating pengguna platform Xbox One dan PC adalah sama.\n",
    "\n",
    "Hipotesis ini dapat diterima, karena tidak ada perbedaan yang signifikan antara rata - rata rating pengguna platform Xbox One dan PC. \n",
    "\n",
    "2. Rata-rata rating pengguna genre Action dan Sports berbeda.\n",
    "\n",
    "Hipotesis ini dapat diterima sepenuhnya, karena ada perbedaan antara rata-rata rating pengguna genre **Action** dan **Sports**\n",
    "\n",
    "Dengan demikian, kita sudah menguji hipotesis kita dan menarik kesimpulan. Kita dapat menentukan game yang berpotensial dengan mempelajari penjualan game berdasarkan platform dan genre yang populer dalam kurun waktu 5 tahun sejak game atau platform dirilis. Untuk tahun 2017, kita dapat mengembangkan game atau mempromosikan game dengan genre **Shooter** dan **Action** pada platform PS4 untuk wilayah NA dan EU, sedangkan untuk wilayah JP, kita bisa fokuskan pengembangan dan promosi game dengan genre **Role-Playing** pada platform 3DS.\n"
   ]
  }
 ],
 "metadata": {
  "kernelspec": {
   "display_name": "Python 3 (ipykernel)",
   "language": "python",
   "name": "python3"
  },
  "language_info": {
   "codemirror_mode": {
    "name": "ipython",
    "version": 3
   },
   "file_extension": ".py",
   "mimetype": "text/x-python",
   "name": "python",
   "nbconvert_exporter": "python",
   "pygments_lexer": "ipython3",
   "version": "3.9.5"
  },
  "toc": {
   "base_numbering": 1,
   "nav_menu": {},
   "number_sections": true,
   "sideBar": true,
   "skip_h1_title": true,
   "title_cell": "Table of Contents",
   "title_sidebar": "Contents",
   "toc_cell": false,
   "toc_position": {},
   "toc_section_display": true,
   "toc_window_display": true
  }
 },
 "nbformat": 4,
 "nbformat_minor": 2
}
